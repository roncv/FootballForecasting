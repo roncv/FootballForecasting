{
 "cells": [
  {
   "cell_type": "markdown",
   "id": "de265c57",
   "metadata": {
    "slideshow": {
     "slide_type": "slide"
    }
   },
   "source": [
    "# WDSS Football Forecasting Competition\n",
    "\n",
    "\n",
    "\n",
    "\n",
    "\n",
    "<img src=\"logo_subtitle.png\" width=500 />"
   ]
  },
  {
   "cell_type": "markdown",
   "id": "d22b4852",
   "metadata": {
    "slideshow": {
     "slide_type": "slide"
    }
   },
   "source": [
    "## Our Sponsor\n",
    "\n",
    "<img src=\"mustard-systems-logo.png\" width=500 />"
   ]
  },
  {
   "cell_type": "markdown",
   "id": "2ac5504d",
   "metadata": {
    "slideshow": {
     "slide_type": "slide"
    }
   },
   "source": [
    "## The Competition"
   ]
  },
  {
   "cell_type": "markdown",
   "id": "d0040431",
   "metadata": {
    "slideshow": {
     "slide_type": "fragment"
    }
   },
   "source": [
    "- Predicting the scores of football matches isn't a new idea \n"
   ]
  },
  {
   "cell_type": "markdown",
   "id": "5de9ed9c",
   "metadata": {
    "slideshow": {
     "slide_type": "fragment"
    }
   },
   "source": [
    "- People try their luck at bookies daily with nothing more than guesses, however at WDSS a more data-driven approach is preferred "
   ]
  },
  {
   "cell_type": "markdown",
   "id": "24d2f3bc",
   "metadata": {
    "slideshow": {
     "slide_type": "fragment"
    }
   },
   "source": [
    "- The competition aims to draw together the best implementations of these with hopes of finding the best model possible"
   ]
  },
  {
   "cell_type": "markdown",
   "id": "2432ab68",
   "metadata": {
    "slideshow": {
     "slide_type": "slide"
    }
   },
   "source": [
    "## The Format"
   ]
  },
  {
   "cell_type": "markdown",
   "id": "91fb6b15",
   "metadata": {
    "slideshow": {
     "slide_type": "fragment"
    }
   },
   "source": [
    "- Weekly predictions on the **scores** of each Premier League match\n"
   ]
  },
  {
   "cell_type": "markdown",
   "id": "2eaa0dda",
   "metadata": {
    "slideshow": {
     "slide_type": "fragment"
    }
   },
   "source": [
    "- Each week the predictions must be **ranked** from 1 to 10 in terms of confidence"
   ]
  },
  {
   "cell_type": "markdown",
   "id": "ca6131ac",
   "metadata": {
    "slideshow": {
     "slide_type": "fragment"
    }
   },
   "source": [
    "- Each contestor's predictions will be scored based on their weighted **mean squared error** and converted into points using a monotonously-decreasing rule "
   ]
  },
  {
   "cell_type": "markdown",
   "id": "b770449a",
   "metadata": {
    "slideshow": {
     "slide_type": "slide"
    }
   },
   "source": [
    "## The Rules"
   ]
  },
  {
   "cell_type": "markdown",
   "id": "b01e9c95",
   "metadata": {
    "slideshow": {
     "slide_type": "fragment"
    }
   },
   "source": [
    "- All weekly submissions must be accompanied by a model created in **Jupyter Notebooks (.ipynb file)** or **R Markdown notebooks (.Rmd)**"
   ]
  },
  {
   "cell_type": "markdown",
   "id": "4b99c212",
   "metadata": {
    "slideshow": {
     "slide_type": "fragment"
    }
   },
   "source": [
    "- Scores predicted must **match the output of your model** (we will check this and disqualify inconsistent submissions) \n",
    "\n"
   ]
  },
  {
   "cell_type": "markdown",
   "id": "8b266d16",
   "metadata": {
    "slideshow": {
     "slide_type": "fragment"
    }
   },
   "source": [
    "- Sources of data should be made clear within submissions"
   ]
  },
  {
   "cell_type": "markdown",
   "id": "9f7085a0",
   "metadata": {
    "slideshow": {
     "slide_type": "fragment"
    }
   },
   "source": [
    "- There will be some flexibility in what constitutes as a model, but please refer to today's demo model as a benchmark \n",
    "\n"
   ]
  },
  {
   "cell_type": "markdown",
   "id": "c1ada204",
   "metadata": {
    "slideshow": {
     "slide_type": "fragment"
    }
   },
   "source": [
    "- Have Fun! "
   ]
  },
  {
   "cell_type": "markdown",
   "id": "992f77a3",
   "metadata": {
    "slideshow": {
     "slide_type": "slide"
    },
    "tags": []
   },
   "source": [
    "## The Winner & Prize"
   ]
  },
  {
   "cell_type": "markdown",
   "id": "3e09d4d4",
   "metadata": {
    "slideshow": {
     "slide_type": "fragment"
    }
   },
   "source": [
    "- The competition will be split across Term 1 & 2 with a **prize pool of £600 and £700 respectively** for each iteration "
   ]
  },
  {
   "cell_type": "markdown",
   "id": "604cdb74",
   "metadata": {
    "slideshow": {
     "slide_type": "fragment"
    }
   },
   "source": [
    "- This prize pool will be split between the top competitors as ranked by the accuracy of their predictions \n"
   ]
  },
  {
   "cell_type": "markdown",
   "id": "03593fa5",
   "metadata": {
    "slideshow": {
     "slide_type": "fragment"
    }
   },
   "source": [
    "- Additionally, a £100 prize will be awarded for the model that displays the most **ingenuity**, **creativity**, and **good statistical practice** "
   ]
  },
  {
   "cell_type": "markdown",
   "id": "d93593a9",
   "metadata": {
    "slideshow": {
     "slide_type": "slide"
    }
   },
   "source": [
    "# Getting Started: lets build a demo model"
   ]
  },
  {
   "cell_type": "markdown",
   "id": "fedebaa2",
   "metadata": {
    "slideshow": {
     "slide_type": "fragment"
    }
   },
   "source": [
    "- Today we will guide you in building a **baseline model** for our upcoming Premier League forecasting competition"
   ]
  },
  {
   "cell_type": "markdown",
   "id": "b4cd9a4e",
   "metadata": {
    "slideshow": {
     "slide_type": "fragment"
    }
   },
   "source": [
    "- This model will NOT win the competition for you, but it will help point you in the right direction"
   ]
  },
  {
   "cell_type": "markdown",
   "id": "0f9490f7",
   "metadata": {
    "slideshow": {
     "slide_type": "slide"
    }
   },
   "source": [
    "## Start out with our imports"
   ]
  },
  {
   "cell_type": "code",
   "execution_count": 1,
   "id": "8c4aad19",
   "metadata": {
    "slideshow": {
     "slide_type": "fragment"
    }
   },
   "outputs": [],
   "source": [
    "# Dependencies\n",
    "from scipy.stats import poisson \n",
    "import numpy as np\n",
    "import matplotlib\n",
    "import matplotlib.pyplot as plt \n",
    "import seaborn as sns\n",
    "import pandas as pd\n",
    "import statsmodels.api as sm\n",
    "import statsmodels.formula.api as smf"
   ]
  },
  {
   "cell_type": "markdown",
   "id": "e48d8b5e",
   "metadata": {
    "slideshow": {
     "slide_type": "slide"
    }
   },
   "source": [
    "## Gathering our data"
   ]
  },
  {
   "cell_type": "code",
   "execution_count": 2,
   "id": "eb8a0d6f",
   "metadata": {
    "slideshow": {
     "slide_type": "fragment"
    }
   },
   "outputs": [],
   "source": [
    "# Function to retrieve EPL matches from any given year\n",
    "def get_premier_league_data(start_year):\n",
    "    season = str(start_year)[-2:] + str(start_year + 1)[-2:]\n",
    "    data = pd.read_csv(\"http://www.football-data.co.uk/mmz4281/\" + season + \"/E0.csv\") \n",
    "    return data"
   ]
  },
  {
   "cell_type": "code",
   "execution_count": 3,
   "id": "f59b0418",
   "metadata": {
    "slideshow": {
     "slide_type": "slide"
    }
   },
   "outputs": [
    {
     "data": {
      "text/html": [
       "<div>\n",
       "<style scoped>\n",
       "    .dataframe tbody tr th:only-of-type {\n",
       "        vertical-align: middle;\n",
       "    }\n",
       "\n",
       "    .dataframe tbody tr th {\n",
       "        vertical-align: top;\n",
       "    }\n",
       "\n",
       "    .dataframe thead th {\n",
       "        text-align: right;\n",
       "    }\n",
       "</style>\n",
       "<table border=\"1\" class=\"dataframe\">\n",
       "  <thead>\n",
       "    <tr style=\"text-align: right;\">\n",
       "      <th></th>\n",
       "      <th>Div</th>\n",
       "      <th>Date</th>\n",
       "      <th>HomeTeam</th>\n",
       "      <th>AwayTeam</th>\n",
       "      <th>FTHG</th>\n",
       "      <th>FTAG</th>\n",
       "      <th>FTR</th>\n",
       "      <th>HTHG</th>\n",
       "      <th>HTAG</th>\n",
       "      <th>HTR</th>\n",
       "      <th>...</th>\n",
       "      <th>BbAv&lt;2.5</th>\n",
       "      <th>BbAH</th>\n",
       "      <th>BbAHh</th>\n",
       "      <th>BbMxAHH</th>\n",
       "      <th>BbAvAHH</th>\n",
       "      <th>BbMxAHA</th>\n",
       "      <th>BbAvAHA</th>\n",
       "      <th>PSCH</th>\n",
       "      <th>PSCD</th>\n",
       "      <th>PSCA</th>\n",
       "    </tr>\n",
       "  </thead>\n",
       "  <tbody>\n",
       "    <tr>\n",
       "      <th>0</th>\n",
       "      <td>E0</td>\n",
       "      <td>10/08/2018</td>\n",
       "      <td>Man United</td>\n",
       "      <td>Leicester</td>\n",
       "      <td>2</td>\n",
       "      <td>1</td>\n",
       "      <td>H</td>\n",
       "      <td>1</td>\n",
       "      <td>0</td>\n",
       "      <td>H</td>\n",
       "      <td>...</td>\n",
       "      <td>1.79</td>\n",
       "      <td>17</td>\n",
       "      <td>-0.75</td>\n",
       "      <td>1.75</td>\n",
       "      <td>1.70</td>\n",
       "      <td>2.29</td>\n",
       "      <td>2.21</td>\n",
       "      <td>1.55</td>\n",
       "      <td>4.07</td>\n",
       "      <td>7.69</td>\n",
       "    </tr>\n",
       "    <tr>\n",
       "      <th>1</th>\n",
       "      <td>E0</td>\n",
       "      <td>11/08/2018</td>\n",
       "      <td>Bournemouth</td>\n",
       "      <td>Cardiff</td>\n",
       "      <td>2</td>\n",
       "      <td>0</td>\n",
       "      <td>H</td>\n",
       "      <td>1</td>\n",
       "      <td>0</td>\n",
       "      <td>H</td>\n",
       "      <td>...</td>\n",
       "      <td>1.83</td>\n",
       "      <td>20</td>\n",
       "      <td>-0.75</td>\n",
       "      <td>2.20</td>\n",
       "      <td>2.13</td>\n",
       "      <td>1.80</td>\n",
       "      <td>1.75</td>\n",
       "      <td>1.88</td>\n",
       "      <td>3.61</td>\n",
       "      <td>4.70</td>\n",
       "    </tr>\n",
       "    <tr>\n",
       "      <th>2</th>\n",
       "      <td>E0</td>\n",
       "      <td>11/08/2018</td>\n",
       "      <td>Fulham</td>\n",
       "      <td>Crystal Palace</td>\n",
       "      <td>0</td>\n",
       "      <td>2</td>\n",
       "      <td>A</td>\n",
       "      <td>0</td>\n",
       "      <td>1</td>\n",
       "      <td>A</td>\n",
       "      <td>...</td>\n",
       "      <td>1.87</td>\n",
       "      <td>22</td>\n",
       "      <td>-0.25</td>\n",
       "      <td>2.18</td>\n",
       "      <td>2.11</td>\n",
       "      <td>1.81</td>\n",
       "      <td>1.77</td>\n",
       "      <td>2.62</td>\n",
       "      <td>3.38</td>\n",
       "      <td>2.90</td>\n",
       "    </tr>\n",
       "    <tr>\n",
       "      <th>3</th>\n",
       "      <td>E0</td>\n",
       "      <td>11/08/2018</td>\n",
       "      <td>Huddersfield</td>\n",
       "      <td>Chelsea</td>\n",
       "      <td>0</td>\n",
       "      <td>3</td>\n",
       "      <td>A</td>\n",
       "      <td>0</td>\n",
       "      <td>2</td>\n",
       "      <td>A</td>\n",
       "      <td>...</td>\n",
       "      <td>1.84</td>\n",
       "      <td>23</td>\n",
       "      <td>1.00</td>\n",
       "      <td>1.84</td>\n",
       "      <td>1.80</td>\n",
       "      <td>2.13</td>\n",
       "      <td>2.06</td>\n",
       "      <td>7.24</td>\n",
       "      <td>3.95</td>\n",
       "      <td>1.58</td>\n",
       "    </tr>\n",
       "    <tr>\n",
       "      <th>4</th>\n",
       "      <td>E0</td>\n",
       "      <td>11/08/2018</td>\n",
       "      <td>Newcastle</td>\n",
       "      <td>Tottenham</td>\n",
       "      <td>1</td>\n",
       "      <td>2</td>\n",
       "      <td>A</td>\n",
       "      <td>1</td>\n",
       "      <td>2</td>\n",
       "      <td>A</td>\n",
       "      <td>...</td>\n",
       "      <td>1.81</td>\n",
       "      <td>20</td>\n",
       "      <td>0.25</td>\n",
       "      <td>2.20</td>\n",
       "      <td>2.12</td>\n",
       "      <td>1.80</td>\n",
       "      <td>1.76</td>\n",
       "      <td>4.74</td>\n",
       "      <td>3.53</td>\n",
       "      <td>1.89</td>\n",
       "    </tr>\n",
       "  </tbody>\n",
       "</table>\n",
       "<p>5 rows × 62 columns</p>\n",
       "</div>"
      ],
      "text/plain": [
       "  Div        Date      HomeTeam        AwayTeam  FTHG  FTAG FTR  HTHG  HTAG  \\\n",
       "0  E0  10/08/2018    Man United       Leicester     2     1   H     1     0   \n",
       "1  E0  11/08/2018   Bournemouth         Cardiff     2     0   H     1     0   \n",
       "2  E0  11/08/2018        Fulham  Crystal Palace     0     2   A     0     1   \n",
       "3  E0  11/08/2018  Huddersfield         Chelsea     0     3   A     0     2   \n",
       "4  E0  11/08/2018     Newcastle       Tottenham     1     2   A     1     2   \n",
       "\n",
       "  HTR  ... BbAv<2.5  BbAH  BbAHh  BbMxAHH  BbAvAHH  BbMxAHA  BbAvAHA  PSCH  \\\n",
       "0   H  ...     1.79    17  -0.75     1.75     1.70     2.29     2.21  1.55   \n",
       "1   H  ...     1.83    20  -0.75     2.20     2.13     1.80     1.75  1.88   \n",
       "2   A  ...     1.87    22  -0.25     2.18     2.11     1.81     1.77  2.62   \n",
       "3   A  ...     1.84    23   1.00     1.84     1.80     2.13     2.06  7.24   \n",
       "4   A  ...     1.81    20   0.25     2.20     2.12     1.80     1.76  4.74   \n",
       "\n",
       "   PSCD  PSCA  \n",
       "0  4.07  7.69  \n",
       "1  3.61  4.70  \n",
       "2  3.38  2.90  \n",
       "3  3.95  1.58  \n",
       "4  3.53  1.89  \n",
       "\n",
       "[5 rows x 62 columns]"
      ]
     },
     "execution_count": 3,
     "metadata": {},
     "output_type": "execute_result"
    }
   ],
   "source": [
    "# Get data from the 2018/2019 season\n",
    "data = get_premier_league_data(2018)\n",
    "data.head()"
   ]
  },
  {
   "cell_type": "markdown",
   "id": "1cfe9989",
   "metadata": {
    "slideshow": {
     "slide_type": "slide"
    }
   },
   "source": [
    "## Light cleaning"
   ]
  },
  {
   "cell_type": "code",
   "execution_count": 4,
   "id": "672f3b72",
   "metadata": {
    "slideshow": {
     "slide_type": "fragment"
    }
   },
   "outputs": [],
   "source": [
    "# Filtering columns of interest\n",
    "columns = [\"HomeTeam\", \"AwayTeam\", \"FTHG\", \"FTAG\", \"FTR\"]\n",
    "data = data[columns]\n",
    "\n",
    "# Renaming columns\n",
    "data = data.rename(\n",
    "    columns={\"FTHG\": \"HomeGoals\", \"FTAG\": \"AwayGoals\", \"FTR\": \"Result\"}\n",
    ")"
   ]
  },
  {
   "cell_type": "code",
   "execution_count": 5,
   "id": "596161f1",
   "metadata": {
    "slideshow": {
     "slide_type": "fragment"
    }
   },
   "outputs": [
    {
     "data": {
      "text/html": [
       "<div>\n",
       "<style scoped>\n",
       "    .dataframe tbody tr th:only-of-type {\n",
       "        vertical-align: middle;\n",
       "    }\n",
       "\n",
       "    .dataframe tbody tr th {\n",
       "        vertical-align: top;\n",
       "    }\n",
       "\n",
       "    .dataframe thead th {\n",
       "        text-align: right;\n",
       "    }\n",
       "</style>\n",
       "<table border=\"1\" class=\"dataframe\">\n",
       "  <thead>\n",
       "    <tr style=\"text-align: right;\">\n",
       "      <th></th>\n",
       "      <th>HomeTeam</th>\n",
       "      <th>AwayTeam</th>\n",
       "      <th>HomeGoals</th>\n",
       "      <th>AwayGoals</th>\n",
       "      <th>Result</th>\n",
       "    </tr>\n",
       "  </thead>\n",
       "  <tbody>\n",
       "    <tr>\n",
       "      <th>0</th>\n",
       "      <td>Man United</td>\n",
       "      <td>Leicester</td>\n",
       "      <td>2</td>\n",
       "      <td>1</td>\n",
       "      <td>H</td>\n",
       "    </tr>\n",
       "    <tr>\n",
       "      <th>1</th>\n",
       "      <td>Bournemouth</td>\n",
       "      <td>Cardiff</td>\n",
       "      <td>2</td>\n",
       "      <td>0</td>\n",
       "      <td>H</td>\n",
       "    </tr>\n",
       "    <tr>\n",
       "      <th>2</th>\n",
       "      <td>Fulham</td>\n",
       "      <td>Crystal Palace</td>\n",
       "      <td>0</td>\n",
       "      <td>2</td>\n",
       "      <td>A</td>\n",
       "    </tr>\n",
       "    <tr>\n",
       "      <th>3</th>\n",
       "      <td>Huddersfield</td>\n",
       "      <td>Chelsea</td>\n",
       "      <td>0</td>\n",
       "      <td>3</td>\n",
       "      <td>A</td>\n",
       "    </tr>\n",
       "    <tr>\n",
       "      <th>4</th>\n",
       "      <td>Newcastle</td>\n",
       "      <td>Tottenham</td>\n",
       "      <td>1</td>\n",
       "      <td>2</td>\n",
       "      <td>A</td>\n",
       "    </tr>\n",
       "    <tr>\n",
       "      <th>...</th>\n",
       "      <td>...</td>\n",
       "      <td>...</td>\n",
       "      <td>...</td>\n",
       "      <td>...</td>\n",
       "      <td>...</td>\n",
       "    </tr>\n",
       "    <tr>\n",
       "      <th>365</th>\n",
       "      <td>Wolves</td>\n",
       "      <td>Fulham</td>\n",
       "      <td>1</td>\n",
       "      <td>0</td>\n",
       "      <td>H</td>\n",
       "    </tr>\n",
       "    <tr>\n",
       "      <th>366</th>\n",
       "      <td>Arsenal</td>\n",
       "      <td>Brighton</td>\n",
       "      <td>1</td>\n",
       "      <td>1</td>\n",
       "      <td>D</td>\n",
       "    </tr>\n",
       "    <tr>\n",
       "      <th>367</th>\n",
       "      <td>Chelsea</td>\n",
       "      <td>Watford</td>\n",
       "      <td>3</td>\n",
       "      <td>0</td>\n",
       "      <td>H</td>\n",
       "    </tr>\n",
       "    <tr>\n",
       "      <th>368</th>\n",
       "      <td>Huddersfield</td>\n",
       "      <td>Man United</td>\n",
       "      <td>1</td>\n",
       "      <td>1</td>\n",
       "      <td>D</td>\n",
       "    </tr>\n",
       "    <tr>\n",
       "      <th>369</th>\n",
       "      <td>Man City</td>\n",
       "      <td>Leicester</td>\n",
       "      <td>1</td>\n",
       "      <td>0</td>\n",
       "      <td>H</td>\n",
       "    </tr>\n",
       "  </tbody>\n",
       "</table>\n",
       "<p>370 rows × 5 columns</p>\n",
       "</div>"
      ],
      "text/plain": [
       "         HomeTeam        AwayTeam  HomeGoals  AwayGoals Result\n",
       "0      Man United       Leicester          2          1      H\n",
       "1     Bournemouth         Cardiff          2          0      H\n",
       "2          Fulham  Crystal Palace          0          2      A\n",
       "3    Huddersfield         Chelsea          0          3      A\n",
       "4       Newcastle       Tottenham          1          2      A\n",
       "..            ...             ...        ...        ...    ...\n",
       "365        Wolves          Fulham          1          0      H\n",
       "366       Arsenal        Brighton          1          1      D\n",
       "367       Chelsea         Watford          3          0      H\n",
       "368  Huddersfield      Man United          1          1      D\n",
       "369      Man City       Leicester          1          0      H\n",
       "\n",
       "[370 rows x 5 columns]"
      ]
     },
     "execution_count": 5,
     "metadata": {},
     "output_type": "execute_result"
    }
   ],
   "source": [
    "# Remove final week of fixtures\n",
    "data[:-10]"
   ]
  },
  {
   "cell_type": "code",
   "execution_count": 6,
   "id": "e5401b93",
   "metadata": {
    "slideshow": {
     "slide_type": "fragment"
    }
   },
   "outputs": [
    {
     "data": {
      "text/html": [
       "<div>\n",
       "<style scoped>\n",
       "    .dataframe tbody tr th:only-of-type {\n",
       "        vertical-align: middle;\n",
       "    }\n",
       "\n",
       "    .dataframe tbody tr th {\n",
       "        vertical-align: top;\n",
       "    }\n",
       "\n",
       "    .dataframe thead th {\n",
       "        text-align: right;\n",
       "    }\n",
       "</style>\n",
       "<table border=\"1\" class=\"dataframe\">\n",
       "  <thead>\n",
       "    <tr style=\"text-align: right;\">\n",
       "      <th></th>\n",
       "      <th>HomeTeam</th>\n",
       "      <th>AwayTeam</th>\n",
       "      <th>HomeGoals</th>\n",
       "      <th>AwayGoals</th>\n",
       "      <th>Result</th>\n",
       "    </tr>\n",
       "  </thead>\n",
       "  <tbody>\n",
       "    <tr>\n",
       "      <th>0</th>\n",
       "      <td>Man United</td>\n",
       "      <td>Leicester</td>\n",
       "      <td>2</td>\n",
       "      <td>1</td>\n",
       "      <td>H</td>\n",
       "    </tr>\n",
       "    <tr>\n",
       "      <th>1</th>\n",
       "      <td>Bournemouth</td>\n",
       "      <td>Cardiff</td>\n",
       "      <td>2</td>\n",
       "      <td>0</td>\n",
       "      <td>H</td>\n",
       "    </tr>\n",
       "    <tr>\n",
       "      <th>2</th>\n",
       "      <td>Fulham</td>\n",
       "      <td>Crystal Palace</td>\n",
       "      <td>0</td>\n",
       "      <td>2</td>\n",
       "      <td>A</td>\n",
       "    </tr>\n",
       "    <tr>\n",
       "      <th>3</th>\n",
       "      <td>Huddersfield</td>\n",
       "      <td>Chelsea</td>\n",
       "      <td>0</td>\n",
       "      <td>3</td>\n",
       "      <td>A</td>\n",
       "    </tr>\n",
       "    <tr>\n",
       "      <th>4</th>\n",
       "      <td>Newcastle</td>\n",
       "      <td>Tottenham</td>\n",
       "      <td>1</td>\n",
       "      <td>2</td>\n",
       "      <td>A</td>\n",
       "    </tr>\n",
       "  </tbody>\n",
       "</table>\n",
       "</div>"
      ],
      "text/plain": [
       "       HomeTeam        AwayTeam  HomeGoals  AwayGoals Result\n",
       "0    Man United       Leicester          2          1      H\n",
       "1   Bournemouth         Cardiff          2          0      H\n",
       "2        Fulham  Crystal Palace          0          2      A\n",
       "3  Huddersfield         Chelsea          0          3      A\n",
       "4     Newcastle       Tottenham          1          2      A"
      ]
     },
     "execution_count": 6,
     "metadata": {},
     "output_type": "execute_result"
    }
   ],
   "source": [
    "data.head()"
   ]
  },
  {
   "cell_type": "markdown",
   "id": "918ce900",
   "metadata": {
    "slideshow": {
     "slide_type": "slide"
    }
   },
   "source": [
    "## Simple analysis: Home team advantage?\n"
   ]
  },
  {
   "cell_type": "code",
   "execution_count": 7,
   "id": "435b57f5",
   "metadata": {
    "slideshow": {
     "slide_type": "fragment"
    }
   },
   "outputs": [
    {
     "data": {
      "text/plain": [
       "HomeGoals    1.568421\n",
       "AwayGoals    1.252632\n",
       "dtype: float64"
      ]
     },
     "execution_count": 7,
     "metadata": {},
     "output_type": "execute_result"
    }
   ],
   "source": [
    "# Compute the average number of home and away goals \n",
    "data[['HomeGoals', 'AwayGoals']].mean()"
   ]
  },
  {
   "cell_type": "markdown",
   "id": "e6396f07",
   "metadata": {
    "slideshow": {
     "slide_type": "slide"
    }
   },
   "source": [
    "## Towards a match prediction model "
   ]
  },
  {
   "cell_type": "markdown",
   "id": "18568fc7",
   "metadata": {
    "slideshow": {
     "slide_type": "fragment"
    }
   },
   "source": [
    "- One way to predict the match score is to consider the number of goals scored by each team\n"
   ]
  },
  {
   "cell_type": "markdown",
   "id": "cb4b9907",
   "metadata": {
    "slideshow": {
     "slide_type": "fragment"
    }
   },
   "source": [
    "- We will denote the number of goals scored by a particular team in a match by $y_i$, where $i$ indicates the particular match\n"
   ]
  },
  {
   "cell_type": "markdown",
   "id": "4e624f99",
   "metadata": {
    "slideshow": {
     "slide_type": "fragment"
    }
   },
   "source": [
    "- Furthermore, we will use *regression analysis* to model $\\mathbb{E}[y_i | X_i]$ "
   ]
  },
  {
   "cell_type": "markdown",
   "id": "eb3d2583",
   "metadata": {
    "slideshow": {
     "slide_type": "slide"
    }
   },
   "source": [
    "## The Poisson distribution"
   ]
  },
  {
   "cell_type": "markdown",
   "id": "10d3afe6",
   "metadata": {
    "slideshow": {
     "slide_type": "fragment"
    }
   },
   "source": [
    "- The Poisson distribution is often used to model the probability distribution of *count events* (that is, the same event happening a specific number of times in a fixed time frame)\n"
   ]
  },
  {
   "cell_type": "markdown",
   "id": "74f6d43c",
   "metadata": {
    "slideshow": {
     "slide_type": "fragment"
    }
   },
   "source": [
    "- It is a *discrete* distribution parametarized by a mean constant rate of occurences $\\lambda$"
   ]
  },
  {
   "cell_type": "markdown",
   "id": "eb5c7870",
   "metadata": {
    "slideshow": {
     "slide_type": "fragment"
    }
   },
   "source": [
    "- It assumes that event occurances within the interval are *independent* of one another"
   ]
  },
  {
   "cell_type": "markdown",
   "id": "b90a3ab4",
   "metadata": {
    "slideshow": {
     "slide_type": "fragment"
    }
   },
   "source": [
    "- It can be especially useful to model the number of goals we expect a team to score"
   ]
  },
  {
   "cell_type": "markdown",
   "id": "8f630c07",
   "metadata": {
    "slideshow": {
     "slide_type": "slide"
    }
   },
   "source": [
    "## The Poisson distribution: an example"
   ]
  },
  {
   "cell_type": "code",
   "execution_count": 8,
   "id": "ca142a4d",
   "metadata": {
    "scrolled": false,
    "slideshow": {
     "slide_type": "fragment"
    }
   },
   "outputs": [
    {
     "data": {
      "image/png": "[encoded data removed]",
      "text/plain": [
       "<Figure size 432x288 with 1 Axes>"
      ]
     },
     "metadata": {
      "needs_background": "light"
     },
     "output_type": "display_data"
    }
   ],
   "source": [
    "# Here we simulate 1 million samples from a Poisson distribution with a mean of two\n",
    "x = np.random.poisson(2, 1000000)\n",
    "plt.hist(x, 14, density=True)\n",
    "plt.show()"
   ]
  },
  {
   "cell_type": "markdown",
   "id": "48c87944",
   "metadata": {
    "slideshow": {
     "slide_type": "slide"
    }
   },
   "source": [
    "## Formatting our data"
   ]
  },
  {
   "cell_type": "code",
   "execution_count": 9,
   "id": "10bca848",
   "metadata": {
    "slideshow": {
     "slide_type": "fragment"
    }
   },
   "outputs": [],
   "source": [
    "#### PREPARE THE DATASET ####\n",
    "\n",
    "# Separate home goals data\n",
    "home_goals = data[[\"HomeTeam\", \"AwayTeam\", \"HomeGoals\"]]\n",
    "home_goals = home_goals.assign(home=1)\n",
    "home_goals = home_goals.rename(\n",
    "    columns={\"HomeTeam\": \"team\",\n",
    "             \"AwayTeam\": \"opponent\", \n",
    "             \"HomeGoals\": \"goals\"}\n",
    ")\n",
    "\n",
    "# Separate away goals data \n",
    "away_goals = data[[\"AwayTeam\", \"HomeTeam\", \"AwayGoals\"]]\n",
    "away_goals = away_goals.assign(home=0)\n",
    "away_goals = away_goals.rename(\n",
    "    columns={\"AwayTeam\": \"team\",\n",
    "             \"HomeTeam\": \"opponent\", \n",
    "             \"AwayGoals\": \"goals\"}\n",
    ")"
   ]
  },
  {
   "cell_type": "code",
   "execution_count": 10,
   "id": "27b7c0cb",
   "metadata": {
    "slideshow": {
     "slide_type": "slide"
    }
   },
   "outputs": [
    {
     "data": {
      "text/html": [
       "<div>\n",
       "<style scoped>\n",
       "    .dataframe tbody tr th:only-of-type {\n",
       "        vertical-align: middle;\n",
       "    }\n",
       "\n",
       "    .dataframe tbody tr th {\n",
       "        vertical-align: top;\n",
       "    }\n",
       "\n",
       "    .dataframe thead th {\n",
       "        text-align: right;\n",
       "    }\n",
       "</style>\n",
       "<table border=\"1\" class=\"dataframe\">\n",
       "  <thead>\n",
       "    <tr style=\"text-align: right;\">\n",
       "      <th></th>\n",
       "      <th>team</th>\n",
       "      <th>opponent</th>\n",
       "      <th>goals</th>\n",
       "      <th>home</th>\n",
       "    </tr>\n",
       "  </thead>\n",
       "  <tbody>\n",
       "    <tr>\n",
       "      <th>0</th>\n",
       "      <td>Man United</td>\n",
       "      <td>Leicester</td>\n",
       "      <td>2</td>\n",
       "      <td>1</td>\n",
       "    </tr>\n",
       "    <tr>\n",
       "      <th>1</th>\n",
       "      <td>Bournemouth</td>\n",
       "      <td>Cardiff</td>\n",
       "      <td>2</td>\n",
       "      <td>1</td>\n",
       "    </tr>\n",
       "    <tr>\n",
       "      <th>2</th>\n",
       "      <td>Fulham</td>\n",
       "      <td>Crystal Palace</td>\n",
       "      <td>0</td>\n",
       "      <td>1</td>\n",
       "    </tr>\n",
       "    <tr>\n",
       "      <th>3</th>\n",
       "      <td>Huddersfield</td>\n",
       "      <td>Chelsea</td>\n",
       "      <td>0</td>\n",
       "      <td>1</td>\n",
       "    </tr>\n",
       "    <tr>\n",
       "      <th>4</th>\n",
       "      <td>Newcastle</td>\n",
       "      <td>Tottenham</td>\n",
       "      <td>1</td>\n",
       "      <td>1</td>\n",
       "    </tr>\n",
       "  </tbody>\n",
       "</table>\n",
       "</div>"
      ],
      "text/plain": [
       "           team        opponent  goals  home\n",
       "0    Man United       Leicester      2     1\n",
       "1   Bournemouth         Cardiff      2     1\n",
       "2        Fulham  Crystal Palace      0     1\n",
       "3  Huddersfield         Chelsea      0     1\n",
       "4     Newcastle       Tottenham      1     1"
      ]
     },
     "execution_count": 10,
     "metadata": {},
     "output_type": "execute_result"
    }
   ],
   "source": [
    "# Concatenating into training data \n",
    "training_data = pd.concat([home_goals, away_goals])\n",
    "training_data.head()"
   ]
  },
  {
   "cell_type": "markdown",
   "id": "9ef0c817",
   "metadata": {
    "slideshow": {
     "slide_type": "slide"
    }
   },
   "source": [
    "## The Poisson regression model"
   ]
  },
  {
   "cell_type": "markdown",
   "id": "26d2fac0",
   "metadata": {
    "slideshow": {
     "slide_type": "fragment"
    }
   },
   "source": [
    "- To predict the number of goals each team scores, we will fit the following model using match-level data\n"
   ]
  },
  {
   "cell_type": "markdown",
   "id": "87ee09b7",
   "metadata": {
    "slideshow": {
     "slide_type": "fragment"
    }
   },
   "source": [
    "$$y_i \\sim Poisson(\\lambda_i)$$\n",
    "\n",
    "\n",
    "$$\\ln (\\lambda_i) = X_i\\beta$$"
   ]
  },
  {
   "cell_type": "markdown",
   "id": "77eb8da6",
   "metadata": {
    "slideshow": {
     "slide_type": "fragment"
    }
   },
   "source": [
    "- Here, $\\lambda_i$ is the mean number goals scored by the home team in match $i$, which we aim to predict using variables $X_i$"
   ]
  },
  {
   "cell_type": "code",
   "execution_count": 11,
   "id": "590f8f66",
   "metadata": {
    "slideshow": {
     "slide_type": "slide"
    }
   },
   "outputs": [],
   "source": [
    "# Building the model\n",
    "# Poisson Regression: log-linear model\n",
    "poisson_model = smf.glm(\n",
    "    formula=\"goals ~ home + team + opponent\",\n",
    "    data=training_data,\n",
    "    family=sm.families.Poisson() \n",
    ").fit()"
   ]
  },
  {
   "cell_type": "code",
   "execution_count": 12,
   "id": "422b5962",
   "metadata": {
    "slideshow": {
     "slide_type": "fragment"
    }
   },
   "outputs": [
    {
     "data": {
      "text/html": [
       "<table class=\"simpletable\">\n",
       "<caption>Generalized Linear Model Regression Results</caption>\n",
       "<tr>\n",
       "  <th>Dep. Variable:</th>         <td>goals</td>      <th>  No. Observations:  </th>  <td>   760</td> \n",
       "</tr>\n",
       "<tr>\n",
       "  <th>Model:</th>                  <td>GLM</td>       <th>  Df Residuals:      </th>  <td>   720</td> \n",
       "</tr>\n",
       "<tr>\n",
       "  <th>Model Family:</th>         <td>Poisson</td>     <th>  Df Model:          </th>  <td>    39</td> \n",
       "</tr>\n",
       "<tr>\n",
       "  <th>Link Function:</th>          <td>log</td>       <th>  Scale:             </th> <td>  1.0000</td>\n",
       "</tr>\n",
       "<tr>\n",
       "  <th>Method:</th>                <td>IRLS</td>       <th>  Log-Likelihood:    </th> <td> -1065.1</td>\n",
       "</tr>\n",
       "<tr>\n",
       "  <th>Date:</th>            <td>Tue, 12 Oct 2021</td> <th>  Deviance:          </th> <td>  762.55</td>\n",
       "</tr>\n",
       "<tr>\n",
       "  <th>Time:</th>                <td>00:01:59</td>     <th>  Pearson chi2:      </th>  <td>  656.</td> \n",
       "</tr>\n",
       "<tr>\n",
       "  <th>No. Iterations:</th>          <td>5</td>        <th>                     </th>     <td> </td>   \n",
       "</tr>\n",
       "<tr>\n",
       "  <th>Covariance Type:</th>     <td>nonrobust</td>    <th>                     </th>     <td> </td>   \n",
       "</tr>\n",
       "</table>\n",
       "<table class=\"simpletable\">\n",
       "<tr>\n",
       "               <td></td>                 <th>coef</th>     <th>std err</th>      <th>z</th>      <th>P>|z|</th>  <th>[0.025</th>    <th>0.975]</th>  \n",
       "</tr>\n",
       "<tr>\n",
       "  <th>Intercept</th>                  <td>    0.5061</td> <td>    0.188</td> <td>    2.685</td> <td> 0.007</td> <td>    0.137</td> <td>    0.876</td>\n",
       "</tr>\n",
       "<tr>\n",
       "  <th>team[T.Bournemouth]</th>        <td>   -0.2470</td> <td>    0.178</td> <td>   -1.388</td> <td> 0.165</td> <td>   -0.596</td> <td>    0.102</td>\n",
       "</tr>\n",
       "<tr>\n",
       "  <th>team[T.Brighton]</th>           <td>   -0.7283</td> <td>    0.206</td> <td>   -3.538</td> <td> 0.000</td> <td>   -1.132</td> <td>   -0.325</td>\n",
       "</tr>\n",
       "<tr>\n",
       "  <th>team[T.Burnley]</th>            <td>   -0.4684</td> <td>    0.190</td> <td>   -2.468</td> <td> 0.014</td> <td>   -0.841</td> <td>   -0.096</td>\n",
       "</tr>\n",
       "<tr>\n",
       "  <th>team[T.Cardiff]</th>            <td>   -0.7485</td> <td>    0.208</td> <td>   -3.600</td> <td> 0.000</td> <td>   -1.156</td> <td>   -0.341</td>\n",
       "</tr>\n",
       "<tr>\n",
       "  <th>team[T.Chelsea]</th>            <td>   -0.1597</td> <td>    0.172</td> <td>   -0.927</td> <td> 0.354</td> <td>   -0.497</td> <td>    0.178</td>\n",
       "</tr>\n",
       "<tr>\n",
       "  <th>team[T.Crystal Palace]</th>     <td>   -0.3578</td> <td>    0.183</td> <td>   -1.957</td> <td> 0.050</td> <td>   -0.716</td> <td>    0.000</td>\n",
       "</tr>\n",
       "<tr>\n",
       "  <th>team[T.Everton]</th>            <td>   -0.3074</td> <td>    0.180</td> <td>   -1.710</td> <td> 0.087</td> <td>   -0.660</td> <td>    0.045</td>\n",
       "</tr>\n",
       "<tr>\n",
       "  <th>team[T.Fulham]</th>             <td>   -0.7366</td> <td>    0.208</td> <td>   -3.542</td> <td> 0.000</td> <td>   -1.144</td> <td>   -0.329</td>\n",
       "</tr>\n",
       "<tr>\n",
       "  <th>team[T.Huddersfield]</th>       <td>   -1.1778</td> <td>    0.243</td> <td>   -4.837</td> <td> 0.000</td> <td>   -1.655</td> <td>   -0.701</td>\n",
       "</tr>\n",
       "<tr>\n",
       "  <th>team[T.Leicester]</th>          <td>   -0.3627</td> <td>    0.183</td> <td>   -1.984</td> <td> 0.047</td> <td>   -0.721</td> <td>   -0.004</td>\n",
       "</tr>\n",
       "<tr>\n",
       "  <th>team[T.Liverpool]</th>          <td>    0.1698</td> <td>    0.158</td> <td>    1.074</td> <td> 0.283</td> <td>   -0.140</td> <td>    0.480</td>\n",
       "</tr>\n",
       "<tr>\n",
       "  <th>team[T.Man City]</th>           <td>    0.2362</td> <td>    0.156</td> <td>    1.515</td> <td> 0.130</td> <td>   -0.069</td> <td>    0.542</td>\n",
       "</tr>\n",
       "<tr>\n",
       "  <th>team[T.Man United]</th>         <td>   -0.1135</td> <td>    0.171</td> <td>   -0.664</td> <td> 0.507</td> <td>   -0.448</td> <td>    0.221</td>\n",
       "</tr>\n",
       "<tr>\n",
       "  <th>team[T.Newcastle]</th>          <td>   -0.5573</td> <td>    0.194</td> <td>   -2.874</td> <td> 0.004</td> <td>   -0.937</td> <td>   -0.177</td>\n",
       "</tr>\n",
       "<tr>\n",
       "  <th>team[T.Southampton]</th>        <td>   -0.4714</td> <td>    0.190</td> <td>   -2.483</td> <td> 0.013</td> <td>   -0.843</td> <td>   -0.099</td>\n",
       "</tr>\n",
       "<tr>\n",
       "  <th>team[T.Tottenham]</th>          <td>   -0.0980</td> <td>    0.169</td> <td>   -0.578</td> <td> 0.563</td> <td>   -0.430</td> <td>    0.234</td>\n",
       "</tr>\n",
       "<tr>\n",
       "  <th>team[T.Watford]</th>            <td>   -0.3324</td> <td>    0.182</td> <td>   -1.829</td> <td> 0.067</td> <td>   -0.689</td> <td>    0.024</td>\n",
       "</tr>\n",
       "<tr>\n",
       "  <th>team[T.West Ham]</th>           <td>   -0.3363</td> <td>    0.182</td> <td>   -1.850</td> <td> 0.064</td> <td>   -0.693</td> <td>    0.020</td>\n",
       "</tr>\n",
       "<tr>\n",
       "  <th>team[T.Wolves]</th>             <td>   -0.4465</td> <td>    0.187</td> <td>   -2.384</td> <td> 0.017</td> <td>   -0.814</td> <td>   -0.079</td>\n",
       "</tr>\n",
       "<tr>\n",
       "  <th>opponent[T.Bournemouth]</th>    <td>    0.3008</td> <td>    0.184</td> <td>    1.631</td> <td> 0.103</td> <td>   -0.061</td> <td>    0.662</td>\n",
       "</tr>\n",
       "<tr>\n",
       "  <th>opponent[T.Brighton]</th>       <td>    0.1253</td> <td>    0.191</td> <td>    0.657</td> <td> 0.511</td> <td>   -0.249</td> <td>    0.499</td>\n",
       "</tr>\n",
       "<tr>\n",
       "  <th>opponent[T.Burnley]</th>        <td>    0.2607</td> <td>    0.186</td> <td>    1.405</td> <td> 0.160</td> <td>   -0.103</td> <td>    0.624</td>\n",
       "</tr>\n",
       "<tr>\n",
       "  <th>opponent[T.Cardiff]</th>        <td>    0.2644</td> <td>    0.185</td> <td>    1.430</td> <td> 0.153</td> <td>   -0.098</td> <td>    0.627</td>\n",
       "</tr>\n",
       "<tr>\n",
       "  <th>opponent[T.Chelsea]</th>        <td>   -0.2790</td> <td>    0.213</td> <td>   -1.310</td> <td> 0.190</td> <td>   -0.697</td> <td>    0.139</td>\n",
       "</tr>\n",
       "<tr>\n",
       "  <th>opponent[T.Crystal Palace]</th> <td>    0.0167</td> <td>    0.196</td> <td>    0.085</td> <td> 0.932</td> <td>   -0.368</td> <td>    0.402</td>\n",
       "</tr>\n",
       "<tr>\n",
       "  <th>opponent[T.Everton]</th>        <td>   -0.1224</td> <td>    0.204</td> <td>   -0.601</td> <td> 0.548</td> <td>   -0.522</td> <td>    0.277</td>\n",
       "</tr>\n",
       "<tr>\n",
       "  <th>opponent[T.Fulham]</th>         <td>    0.4252</td> <td>    0.179</td> <td>    2.374</td> <td> 0.018</td> <td>    0.074</td> <td>    0.776</td>\n",
       "</tr>\n",
       "<tr>\n",
       "  <th>opponent[T.Huddersfield]</th>   <td>    0.3495</td> <td>    0.181</td> <td>    1.928</td> <td> 0.054</td> <td>   -0.006</td> <td>    0.705</td>\n",
       "</tr>\n",
       "<tr>\n",
       "  <th>opponent[T.Leicester]</th>      <td>   -0.0827</td> <td>    0.201</td> <td>   -0.410</td> <td> 0.681</td> <td>   -0.477</td> <td>    0.312</td>\n",
       "</tr>\n",
       "<tr>\n",
       "  <th>opponent[T.Liverpool]</th>      <td>   -0.8271</td> <td>    0.255</td> <td>   -3.239</td> <td> 0.001</td> <td>   -1.328</td> <td>   -0.327</td>\n",
       "</tr>\n",
       "<tr>\n",
       "  <th>opponent[T.Man City]</th>       <td>   -0.7766</td> <td>    0.252</td> <td>   -3.088</td> <td> 0.002</td> <td>   -1.270</td> <td>   -0.284</td>\n",
       "</tr>\n",
       "<tr>\n",
       "  <th>opponent[T.Man United]</th>     <td>    0.0493</td> <td>    0.196</td> <td>    0.252</td> <td> 0.801</td> <td>   -0.334</td> <td>    0.433</td>\n",
       "</tr>\n",
       "<tr>\n",
       "  <th>opponent[T.Newcastle]</th>      <td>   -0.0914</td> <td>    0.201</td> <td>   -0.454</td> <td> 0.650</td> <td>   -0.486</td> <td>    0.303</td>\n",
       "</tr>\n",
       "<tr>\n",
       "  <th>opponent[T.Southampton]</th>    <td>    0.2154</td> <td>    0.187</td> <td>    1.150</td> <td> 0.250</td> <td>   -0.152</td> <td>    0.583</td>\n",
       "</tr>\n",
       "<tr>\n",
       "  <th>opponent[T.Tottenham]</th>      <td>   -0.2751</td> <td>    0.213</td> <td>   -1.291</td> <td> 0.197</td> <td>   -0.693</td> <td>    0.142</td>\n",
       "</tr>\n",
       "<tr>\n",
       "  <th>opponent[T.Watford]</th>        <td>    0.1252</td> <td>    0.192</td> <td>    0.654</td> <td> 0.513</td> <td>   -0.250</td> <td>    0.501</td>\n",
       "</tr>\n",
       "<tr>\n",
       "  <th>opponent[T.West Ham]</th>       <td>    0.0548</td> <td>    0.195</td> <td>    0.281</td> <td> 0.778</td> <td>   -0.327</td> <td>    0.436</td>\n",
       "</tr>\n",
       "<tr>\n",
       "  <th>opponent[T.Wolves]</th>         <td>   -0.1292</td> <td>    0.204</td> <td>   -0.635</td> <td> 0.526</td> <td>   -0.528</td> <td>    0.270</td>\n",
       "</tr>\n",
       "<tr>\n",
       "  <th>home</th>                       <td>    0.2248</td> <td>    0.061</td> <td>    3.657</td> <td> 0.000</td> <td>    0.104</td> <td>    0.345</td>\n",
       "</tr>\n",
       "</table>"
      ],
      "text/plain": [
       "<class 'statsmodels.iolib.summary.Summary'>\n",
       "\"\"\"\n",
       "                 Generalized Linear Model Regression Results                  \n",
       "==============================================================================\n",
       "Dep. Variable:                  goals   No. Observations:                  760\n",
       "Model:                            GLM   Df Residuals:                      720\n",
       "Model Family:                 Poisson   Df Model:                           39\n",
       "Link Function:                    log   Scale:                          1.0000\n",
       "Method:                          IRLS   Log-Likelihood:                -1065.1\n",
       "Date:                Tue, 12 Oct 2021   Deviance:                       762.55\n",
       "Time:                        00:01:59   Pearson chi2:                     656.\n",
       "No. Iterations:                     5                                         \n",
       "Covariance Type:            nonrobust                                         \n",
       "==============================================================================================\n",
       "                                 coef    std err          z      P>|z|      [0.025      0.975]\n",
       "----------------------------------------------------------------------------------------------\n",
       "Intercept                      0.5061      0.188      2.685      0.007       0.137       0.876\n",
       "team[T.Bournemouth]           -0.2470      0.178     -1.388      0.165      -0.596       0.102\n",
       "team[T.Brighton]              -0.7283      0.206     -3.538      0.000      -1.132      -0.325\n",
       "team[T.Burnley]               -0.4684      0.190     -2.468      0.014      -0.841      -0.096\n",
       "team[T.Cardiff]               -0.7485      0.208     -3.600      0.000      -1.156      -0.341\n",
       "team[T.Chelsea]               -0.1597      0.172     -0.927      0.354      -0.497       0.178\n",
       "team[T.Crystal Palace]        -0.3578      0.183     -1.957      0.050      -0.716       0.000\n",
       "team[T.Everton]               -0.3074      0.180     -1.710      0.087      -0.660       0.045\n",
       "team[T.Fulham]                -0.7366      0.208     -3.542      0.000      -1.144      -0.329\n",
       "team[T.Huddersfield]          -1.1778      0.243     -4.837      0.000      -1.655      -0.701\n",
       "team[T.Leicester]             -0.3627      0.183     -1.984      0.047      -0.721      -0.004\n",
       "team[T.Liverpool]              0.1698      0.158      1.074      0.283      -0.140       0.480\n",
       "team[T.Man City]               0.2362      0.156      1.515      0.130      -0.069       0.542\n",
       "team[T.Man United]            -0.1135      0.171     -0.664      0.507      -0.448       0.221\n",
       "team[T.Newcastle]             -0.5573      0.194     -2.874      0.004      -0.937      -0.177\n",
       "team[T.Southampton]           -0.4714      0.190     -2.483      0.013      -0.843      -0.099\n",
       "team[T.Tottenham]             -0.0980      0.169     -0.578      0.563      -0.430       0.234\n",
       "team[T.Watford]               -0.3324      0.182     -1.829      0.067      -0.689       0.024\n",
       "team[T.West Ham]              -0.3363      0.182     -1.850      0.064      -0.693       0.020\n",
       "team[T.Wolves]                -0.4465      0.187     -2.384      0.017      -0.814      -0.079\n",
       "opponent[T.Bournemouth]        0.3008      0.184      1.631      0.103      -0.061       0.662\n",
       "opponent[T.Brighton]           0.1253      0.191      0.657      0.511      -0.249       0.499\n",
       "opponent[T.Burnley]            0.2607      0.186      1.405      0.160      -0.103       0.624\n",
       "opponent[T.Cardiff]            0.2644      0.185      1.430      0.153      -0.098       0.627\n",
       "opponent[T.Chelsea]           -0.2790      0.213     -1.310      0.190      -0.697       0.139\n",
       "opponent[T.Crystal Palace]     0.0167      0.196      0.085      0.932      -0.368       0.402\n",
       "opponent[T.Everton]           -0.1224      0.204     -0.601      0.548      -0.522       0.277\n",
       "opponent[T.Fulham]             0.4252      0.179      2.374      0.018       0.074       0.776\n",
       "opponent[T.Huddersfield]       0.3495      0.181      1.928      0.054      -0.006       0.705\n",
       "opponent[T.Leicester]         -0.0827      0.201     -0.410      0.681      -0.477       0.312\n",
       "opponent[T.Liverpool]         -0.8271      0.255     -3.239      0.001      -1.328      -0.327\n",
       "opponent[T.Man City]          -0.7766      0.252     -3.088      0.002      -1.270      -0.284\n",
       "opponent[T.Man United]         0.0493      0.196      0.252      0.801      -0.334       0.433\n",
       "opponent[T.Newcastle]         -0.0914      0.201     -0.454      0.650      -0.486       0.303\n",
       "opponent[T.Southampton]        0.2154      0.187      1.150      0.250      -0.152       0.583\n",
       "opponent[T.Tottenham]         -0.2751      0.213     -1.291      0.197      -0.693       0.142\n",
       "opponent[T.Watford]            0.1252      0.192      0.654      0.513      -0.250       0.501\n",
       "opponent[T.West Ham]           0.0548      0.195      0.281      0.778      -0.327       0.436\n",
       "opponent[T.Wolves]            -0.1292      0.204     -0.635      0.526      -0.528       0.270\n",
       "home                           0.2248      0.061      3.657      0.000       0.104       0.345\n",
       "==============================================================================================\n",
       "\"\"\""
      ]
     },
     "execution_count": 12,
     "metadata": {},
     "output_type": "execute_result"
    }
   ],
   "source": [
    "# Get a statistical summary of the poisson model\n",
    "poisson_model.summary()"
   ]
  },
  {
   "cell_type": "markdown",
   "id": "d8d158ef",
   "metadata": {
    "slideshow": {
     "slide_type": "slide"
    }
   },
   "source": [
    "## A note on dummies, coefficients, and interpretation"
   ]
  },
  {
   "cell_type": "markdown",
   "id": "ce457966",
   "metadata": {
    "slideshow": {
     "slide_type": "slide"
    }
   },
   "source": [
    "## Computing the expected goals for each team"
   ]
  },
  {
   "cell_type": "code",
   "execution_count": 13,
   "id": "33dff13b",
   "metadata": {
    "slideshow": {
     "slide_type": "fragment"
    }
   },
   "outputs": [],
   "source": [
    "# Create feature data for home and away team for the match\n",
    "def create_X(home_team, away_team):\n",
    "    X_home = pd.DataFrame(data={\"team\": home_team,\n",
    "                                \"opponent\": away_team,\n",
    "                                \"home\": 1\n",
    "                                }, index=[1])\n",
    "    \n",
    "    X_away = pd.DataFrame(data={\"team\": away_team,\n",
    "                                \"opponent\": home_team,\n",
    "                                \"home\": 0\n",
    "                                }, index=[1])\n",
    "    \n",
    "    # Creating DataFrame for away team features \n",
    "    return X_home, X_away"
   ]
  },
  {
   "cell_type": "code",
   "execution_count": 14,
   "id": "543f6bbd",
   "metadata": {
    "slideshow": {
     "slide_type": "fragment"
    }
   },
   "outputs": [],
   "source": [
    "def predict_avg_goals(X_home, X_away, model):\n",
    "    # Predict the mean number of goals for home team\n",
    "    home_goals_avg = model.predict(X_home) \n",
    "    \n",
    "    # Predict the mean number of goals for away team\n",
    "    away_goals_avg = model.predict(X_away) \n",
    "    \n",
    "    return home_goals_avg, away_goals_avg"
   ]
  },
  {
   "cell_type": "code",
   "execution_count": 15,
   "id": "efb1e112",
   "metadata": {
    "slideshow": {
     "slide_type": "slide"
    }
   },
   "outputs": [
    {
     "name": "stdout",
     "output_type": "stream",
     "text": [
      "Average Home Goals:  0.8143138874982507\n",
      "Average Away Goals:  1.589213139385842\n"
     ]
    }
   ],
   "source": [
    "# Predicting average goals for Chelsea Man City match\n",
    "X_home, X_away =  create_X('Chelsea', 'Man City')\n",
    "avg_goals = predict_avg_goals(X_home, X_away, poisson_model)\n",
    "print('Average Home Goals: ', avg_goals[0].values[0])\n",
    "\n",
    "# Fill in to print the average away goals\n",
    "print('Average Away Goals: ', avg_goals[1].values[0])"
   ]
  },
  {
   "cell_type": "markdown",
   "id": "ea9926a3",
   "metadata": {
    "slideshow": {
     "slide_type": "slide"
    }
   },
   "source": [
    "## Computing the distribution of match scores"
   ]
  },
  {
   "cell_type": "code",
   "execution_count": 16,
   "id": "bf47327b",
   "metadata": {
    "slideshow": {
     "slide_type": "fragment"
    }
   },
   "outputs": [],
   "source": [
    "# Funciton to forecast a given match\n",
    "# Probability Mass Function\n",
    "def predict_score_pmf(X_home, X_away, model, max_goals):\n",
    "    \n",
    "    # Predict the average number of goals for home  and away teams\n",
    "    avg_goals = predict_avg_goals(X_home, X_away, model)\n",
    "    home_goals_avg = avg_goals[0]\n",
    "    away_goals_avg = avg_goals[1]\n",
    "\n",
    "    # Compute marginal distribution for home goals\n",
    "    home_goals_pmf = [poisson.pmf(i, home_goals_avg)\n",
    "                      for i in range(0, max_goals + 1)]\n",
    "\n",
    "    # Compute marginal distribution for away goals \n",
    "    away_goals_pmf = [poisson.pmf(i, away_goals_avg)\n",
    "                      for i in range(0, max_goals + 1)]\n",
    "\n",
    "    # Compute joint distribution for match score as outer product\n",
    "    joint_pmf = np.outer(np.array(home_goals_pmf),\n",
    "                         np.array(away_goals_pmf))\n",
    "    \n",
    "    return joint_pmf"
   ]
  },
  {
   "cell_type": "code",
   "execution_count": 17,
   "id": "aaf59d16",
   "metadata": {
    "slideshow": {
     "slide_type": "slide"
    }
   },
   "outputs": [
    {
     "data": {
      "image/png": "[encoded data removed]",
      "text/plain": [
       "<Figure size 576x432 with 2 Axes>"
      ]
     },
     "metadata": {
      "needs_background": "light"
     },
     "output_type": "display_data"
    }
   ],
   "source": [
    "# Predicting distribution of match scores\n",
    "X_home, X_away =  create_X('Chelsea', 'Man City')\n",
    "score_pmf = predict_score_pmf(X_home, X_away, poisson_model, 8)\n",
    "score_pmf = score_pmf.round(3)\n",
    "\n",
    "# Visualizing distribution in a heatmap\n",
    "f, axs = plt.subplots(figsize=(8, 6))\n",
    "sns.heatmap(score_pmf, annot=True)\n",
    "axs.xaxis.tick_top() # x axis on top\n",
    "axs.xaxis.set_label_position('top')\n",
    "plt.title(\"Chelsea v.s Man City score forecast\", y=1.12)\n",
    "plt.xlabel(\"Man City goals\", labelpad=6)\n",
    "plt.ylabel(\"Chelsea goals\")\n",
    "plt.show()"
   ]
  },
  {
   "cell_type": "markdown",
   "id": "60556dbc",
   "metadata": {
    "slideshow": {
     "slide_type": "slide"
    }
   },
   "source": [
    "## Forecasting the distribution mode"
   ]
  },
  {
   "cell_type": "code",
   "execution_count": 18,
   "id": "a90959ac",
   "metadata": {
    "slideshow": {
     "slide_type": "fragment"
    }
   },
   "outputs": [],
   "source": [
    "def predict_score(X_home, X_away, model):\n",
    "    # Predicting distribution of match scores\n",
    "    score_pmf = predict_score_pmf(X_home, X_away, model,16)\n",
    "    score_pmf = score_pmf.round(3)\n",
    "    \n",
    "    # Computing distribution mode\n",
    "    home_goals_mode = np.argmax(score_pmf) // (17)\n",
    "    away_goals_mode = np.argmax(score_pmf) % (17)\n",
    "    score_pred = (home_goals_mode, away_goals_mode)\n",
    "    return score_pred"
   ]
  },
  {
   "cell_type": "code",
   "execution_count": 19,
   "id": "dd6f3700",
   "metadata": {
    "slideshow": {
     "slide_type": "fragment"
    }
   },
   "outputs": [
    {
     "name": "stdout",
     "output_type": "stream",
     "text": [
      "Score Forecast:  (0, 1)\n"
     ]
    }
   ],
   "source": [
    "# Predicting Chelsea Man City match score\n",
    "X_home, X_away =  create_X('Chelsea', 'Man City')\n",
    "score_pred =  predict_score(X_home, X_away, poisson_model)\n",
    "print('Score Forecast: ', score_pred)"
   ]
  },
  {
   "cell_type": "markdown",
   "id": "12465c91",
   "metadata": {
    "slideshow": {
     "slide_type": "slide"
    }
   },
   "source": [
    "## Validating our predictions ... how well did we do?"
   ]
  },
  {
   "cell_type": "markdown",
   "id": "7e3596cc",
   "metadata": {
    "slideshow": {
     "slide_type": "fragment"
    }
   },
   "source": [
    "- To find out how our model performed, it is important to devise some form of scoring metric\n"
   ]
  },
  {
   "cell_type": "markdown",
   "id": "422efcd8",
   "metadata": {
    "slideshow": {
     "slide_type": "fragment"
    }
   },
   "source": [
    "- In this workshop, we will use the mean squared error to asses this:\n",
    "$$\\text{MSE}(y, \\hat y) \\,=\\, \\frac{1}{N} \\sum_{i=1}^{N} (y_i - \\hat y_i)^2$$"
   ]
  },
  {
   "cell_type": "code",
   "execution_count": 20,
   "id": "daba49bb",
   "metadata": {
    "slideshow": {
     "slide_type": "fragment"
    }
   },
   "outputs": [],
   "source": [
    "def mse(y_true, ypred):\n",
    "    np.square(np.subtract(Y_true,Y_pred)).mean()"
   ]
  },
  {
   "cell_type": "code",
   "execution_count": 21,
   "id": "f4aa9719",
   "metadata": {
    "slideshow": {
     "slide_type": "fragment"
    }
   },
   "outputs": [],
   "source": [
    "def model_eval(X, model):\n",
    "    # Predicting distribution of match scores\n",
    "    #### LEFT AS AN EXERCISE ####\n",
    "    pass"
   ]
  },
  {
   "cell_type": "markdown",
   "id": "8e224e98",
   "metadata": {
    "slideshow": {
     "slide_type": "slide"
    }
   },
   "source": [
    "## Links to some data sources\n",
    "\n",
    "\n",
    "Future Fixtures CSV: https://fixturedownload.com/download/epl-2021-GMTStandardTime.csv\n",
    "\n",
    "\n",
    "Historical Standings: https://www.rotowire.com/soccer/league-table.php?season=2018"
   ]
  },
  {
   "cell_type": "markdown",
   "id": "362ba132",
   "metadata": {
    "slideshow": {
     "slide_type": "slide"
    }
   },
   "source": [
    "## Next Steps"
   ]
  },
  {
   "cell_type": "markdown",
   "id": "f6d2ea45",
   "metadata": {},
   "source": [
    "- Sign up and Participate in the competition!"
   ]
  },
  {
   "cell_type": "markdown",
   "id": "80a21263",
   "metadata": {
    "slideshow": {
     "slide_type": "fragment"
    }
   },
   "source": [
    "- Build on the benchmark\n"
   ]
  },
  {
   "cell_type": "markdown",
   "id": "bedd61c0",
   "metadata": {
    "slideshow": {
     "slide_type": "fragment"
    }
   },
   "source": [
    "- Additional regressors (betting odds?)"
   ]
  },
  {
   "cell_type": "markdown",
   "id": "3a408666",
   "metadata": {
    "slideshow": {
     "slide_type": "fragment"
    }
   },
   "source": [
    "- Alternative data sources (Twitter and NLP?)"
   ]
  },
  {
   "cell_type": "markdown",
   "id": "49308589",
   "metadata": {
    "slideshow": {
     "slide_type": "fragment"
    }
   },
   "source": [
    "- Cross-validation of predictions\n"
   ]
  },
  {
   "cell_type": "markdown",
   "id": "732f5bf5",
   "metadata": {
    "slideshow": {
     "slide_type": "fragment"
    }
   },
   "source": [
    "- Dixon-Coles model\n"
   ]
  },
  {
   "cell_type": "markdown",
   "id": "3daf2c7b",
   "metadata": {
    "slideshow": {
     "slide_type": "slide"
    }
   },
   "source": [
    "# How to sign up for the competition?"
   ]
  }
 ],
 "metadata": {
  "celltoolbar": "Slideshow",
  "kernelspec": {
   "display_name": "Python 3",
   "language": "python",
   "name": "python3"
  },
  "language_info": {
   "codemirror_mode": {
    "name": "ipython",
    "version": 3
   },
   "file_extension": ".py",
   "mimetype": "text/x-python",
   "name": "python",
   "nbconvert_exporter": "python",
   "pygments_lexer": "ipython3",
   "version": "3.8.8"
  }
 },
 "nbformat": 4,
 "nbformat_minor": 5
}
