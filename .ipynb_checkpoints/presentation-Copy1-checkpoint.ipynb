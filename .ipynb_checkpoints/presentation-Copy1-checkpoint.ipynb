{
 "cells": [
  {
   "cell_type": "markdown",
   "id": "de265c57",
   "metadata": {
    "slideshow": {
     "slide_type": "slide"
    }
   },
   "source": [
    "# WDSS Football Forecasting Competition\n",
    "\n",
    "\n",
    "\n",
    "\n",
    "\n",
    "<img src=\"logo_subtitle.png\" width=500 height=500 />"
   ]
  },
  {
   "cell_type": "markdown",
   "id": "d22b4852",
   "metadata": {
    "slideshow": {
     "slide_type": "slide"
    }
   },
   "source": [
    "## Our Sponsor\n",
    "\n",
    "<img src=\"mustard-systems-logo.png\" width=500 height=500 />"
   ]
  },
  {
   "cell_type": "markdown",
   "id": "f8e07eb8",
   "metadata": {
    "slideshow": {
     "slide_type": "slide"
    }
   },
   "source": [
    "## The Competition"
   ]
  },
  {
   "cell_type": "markdown",
   "id": "d0040431",
   "metadata": {
    "slideshow": {
     "slide_type": "fragment"
    }
   },
   "source": [
    "- Predicting the scores of football matches isn't a new idea \n"
   ]
  },
  {
   "cell_type": "markdown",
   "id": "0e7f107c",
   "metadata": {
    "slideshow": {
     "slide_type": "fragment"
    }
   },
   "source": [
    "- People try their luck at bookies daily with nothing more than guesses, however at WDSS a more data-driven approach is preferred "
   ]
  },
  {
   "cell_type": "markdown",
   "id": "aabf0efc",
   "metadata": {
    "slideshow": {
     "slide_type": "fragment"
    }
   },
   "source": [
    "- The competition aims to draw together the best implementations of these with hopes of finding the best model possible "
   ]
  },
  {
   "cell_type": "markdown",
   "id": "2432ab68",
   "metadata": {
    "slideshow": {
     "slide_type": "slide"
    }
   },
   "source": [
    "## The Format"
   ]
  },
  {
   "cell_type": "markdown",
   "id": "91fb6b15",
   "metadata": {
    "slideshow": {
     "slide_type": "fragment"
    }
   },
   "source": [
    "- Weekly predictions on the **scores** of each Premier League match\n"
   ]
  },
  {
   "cell_type": "markdown",
   "id": "08851aef",
   "metadata": {
    "slideshow": {
     "slide_type": "fragment"
    }
   },
   "source": [
    "- Each week the predictions must be **ranked** from 1 to 10 in terms of confidence"
   ]
  },
  {
   "cell_type": "markdown",
   "id": "0a121df2",
   "metadata": {
    "slideshow": {
     "slide_type": "fragment"
    }
   },
   "source": [
    "- Each contestor's predictions will be scored based on their weighted **mean squared error** and converted into points using a monotonously-decreasing rule "
   ]
  },
  {
   "cell_type": "markdown",
   "id": "b770449a",
   "metadata": {
    "slideshow": {
     "slide_type": "slide"
    }
   },
   "source": [
    "## The Rules"
   ]
  },
  {
   "cell_type": "markdown",
   "id": "b01e9c95",
   "metadata": {
    "slideshow": {
     "slide_type": "fragment"
    }
   },
   "source": [
    "- All weekly submissions must be accompanied by a model created in Python Jupyter Notebook (.ipynb file) or R Markdown notebooks (.Rmd) "
   ]
  },
  {
   "cell_type": "markdown",
   "id": "7eb7c1c0",
   "metadata": {
    "slideshow": {
     "slide_type": "fragment"
    }
   },
   "source": [
    "- Scores predicted must match the output of your model (we will check this and disqualify inconsistent submissions) \n",
    "\n"
   ]
  },
  {
   "cell_type": "markdown",
   "id": "552e36dc",
   "metadata": {
    "slideshow": {
     "slide_type": "fragment"
    }
   },
   "source": [
    "- There will be some flexibility in what constitutes as a model, but please refer to our demo model as a benchmark \n",
    "\n"
   ]
  },
  {
   "cell_type": "markdown",
   "id": "55c8a74b",
   "metadata": {
    "slideshow": {
     "slide_type": "fragment"
    }
   },
   "source": [
    "- Have Fun! "
   ]
  },
  {
   "cell_type": "markdown",
   "id": "992f77a3",
   "metadata": {
    "slideshow": {
     "slide_type": "slide"
    },
    "tags": []
   },
   "source": [
    "## The Winner & Prize"
   ]
  },
  {
   "cell_type": "markdown",
   "id": "3e09d4d4",
   "metadata": {
    "slideshow": {
     "slide_type": "fragment"
    }
   },
   "source": [
    "- The competition will be split across Term 1 & 2 with a prize pool of £700 for each iteration \n"
   ]
  },
  {
   "cell_type": "markdown",
   "id": "addebedb",
   "metadata": {
    "slideshow": {
     "slide_type": "fragment"
    }
   },
   "source": [
    "- This prize pool will be split between the top competitors as ranked by the accuracy of their predictions \n"
   ]
  },
  {
   "cell_type": "markdown",
   "id": "700327fb",
   "metadata": {
    "slideshow": {
     "slide_type": "fragment"
    }
   },
   "source": [
    "- Additionally, a £100 prize will be awarded for the model that displays the most ingenuity, creativity, and good statistical practice "
   ]
  },
  {
   "cell_type": "markdown",
   "id": "d93593a9",
   "metadata": {
    "slideshow": {
     "slide_type": "slide"
    }
   },
   "source": [
    "# Getting Started: lets build a demo model"
   ]
  },
  {
   "cell_type": "markdown",
   "id": "fedebaa2",
   "metadata": {
    "slideshow": {
     "slide_type": "fragment"
    }
   },
   "source": [
    "- Today we will guide you in building a baseline model for our upcoming Premier League forecasting competition "
   ]
  },
  {
   "cell_type": "markdown",
   "id": "1d5c45ef",
   "metadata": {
    "slideshow": {
     "slide_type": "fragment"
    }
   },
   "source": [
    "- This model will NOT win the competition for you, but it will help point you in the right direction"
   ]
  },
  {
   "cell_type": "markdown",
   "id": "e1c6c9d3",
   "metadata": {
    "slideshow": {
     "slide_type": "slide"
    }
   },
   "source": [
    "## Start out with our imports"
   ]
  },
  {
   "cell_type": "code",
   "execution_count": 1,
   "id": "8c4aad19",
   "metadata": {
    "slideshow": {
     "slide_type": "fragment"
    }
   },
   "outputs": [],
   "source": [
    "# Dependencies\n",
    "from scipy.stats import poisson, skellam\n",
    "import numpy as np\n",
    "import matplotlib\n",
    "import matplotlib.pyplot as plt\n",
    "from matplotlib.ticker import AutoMinorLocator\n",
    "import seaborn as sns\n",
    "import pandas as pd\n",
    "import statsmodels.api as sm\n",
    "import statsmodels.formula.api as smf"
   ]
  },
  {
   "cell_type": "markdown",
   "id": "e48d8b5e",
   "metadata": {
    "slideshow": {
     "slide_type": "slide"
    }
   },
   "source": [
    "## Gathering our data"
   ]
  },
  {
   "cell_type": "code",
   "execution_count": 2,
   "id": "eb8a0d6f",
   "metadata": {
    "slideshow": {
     "slide_type": "fragment"
    }
   },
   "outputs": [],
   "source": [
    "#### FUNCTION TO RETRIEVE PREMIER LEAGUE DATA ####\n",
    "def get_premier_league_data(start_year):\n",
    "    season = str(start_year)[-2:] + str(start_year + 1)[-2:]\n",
    "    data = pd.read_csv(\"http://www.football-data.co.uk/mmz4281/\" + season + \"/E0.csv\") \n",
    "    return data"
   ]
  },
  {
   "cell_type": "code",
   "execution_count": 3,
   "id": "f59b0418",
   "metadata": {
    "slideshow": {
     "slide_type": "slide"
    }
   },
   "outputs": [
    {
     "data": {
      "text/html": [
       "<div>\n",
       "<style scoped>\n",
       "    .dataframe tbody tr th:only-of-type {\n",
       "        vertical-align: middle;\n",
       "    }\n",
       "\n",
       "    .dataframe tbody tr th {\n",
       "        vertical-align: top;\n",
       "    }\n",
       "\n",
       "    .dataframe thead th {\n",
       "        text-align: right;\n",
       "    }\n",
       "</style>\n",
       "<table border=\"1\" class=\"dataframe\">\n",
       "  <thead>\n",
       "    <tr style=\"text-align: right;\">\n",
       "      <th></th>\n",
       "      <th>Div</th>\n",
       "      <th>Date</th>\n",
       "      <th>HomeTeam</th>\n",
       "      <th>AwayTeam</th>\n",
       "      <th>FTHG</th>\n",
       "      <th>FTAG</th>\n",
       "      <th>FTR</th>\n",
       "      <th>HTHG</th>\n",
       "      <th>HTAG</th>\n",
       "      <th>HTR</th>\n",
       "      <th>...</th>\n",
       "      <th>BbAv&lt;2.5</th>\n",
       "      <th>BbAH</th>\n",
       "      <th>BbAHh</th>\n",
       "      <th>BbMxAHH</th>\n",
       "      <th>BbAvAHH</th>\n",
       "      <th>BbMxAHA</th>\n",
       "      <th>BbAvAHA</th>\n",
       "      <th>PSCH</th>\n",
       "      <th>PSCD</th>\n",
       "      <th>PSCA</th>\n",
       "    </tr>\n",
       "  </thead>\n",
       "  <tbody>\n",
       "    <tr>\n",
       "      <th>0</th>\n",
       "      <td>E0</td>\n",
       "      <td>10/08/2018</td>\n",
       "      <td>Man United</td>\n",
       "      <td>Leicester</td>\n",
       "      <td>2</td>\n",
       "      <td>1</td>\n",
       "      <td>H</td>\n",
       "      <td>1</td>\n",
       "      <td>0</td>\n",
       "      <td>H</td>\n",
       "      <td>...</td>\n",
       "      <td>1.79</td>\n",
       "      <td>17</td>\n",
       "      <td>-0.75</td>\n",
       "      <td>1.75</td>\n",
       "      <td>1.70</td>\n",
       "      <td>2.29</td>\n",
       "      <td>2.21</td>\n",
       "      <td>1.55</td>\n",
       "      <td>4.07</td>\n",
       "      <td>7.69</td>\n",
       "    </tr>\n",
       "    <tr>\n",
       "      <th>1</th>\n",
       "      <td>E0</td>\n",
       "      <td>11/08/2018</td>\n",
       "      <td>Bournemouth</td>\n",
       "      <td>Cardiff</td>\n",
       "      <td>2</td>\n",
       "      <td>0</td>\n",
       "      <td>H</td>\n",
       "      <td>1</td>\n",
       "      <td>0</td>\n",
       "      <td>H</td>\n",
       "      <td>...</td>\n",
       "      <td>1.83</td>\n",
       "      <td>20</td>\n",
       "      <td>-0.75</td>\n",
       "      <td>2.20</td>\n",
       "      <td>2.13</td>\n",
       "      <td>1.80</td>\n",
       "      <td>1.75</td>\n",
       "      <td>1.88</td>\n",
       "      <td>3.61</td>\n",
       "      <td>4.70</td>\n",
       "    </tr>\n",
       "    <tr>\n",
       "      <th>2</th>\n",
       "      <td>E0</td>\n",
       "      <td>11/08/2018</td>\n",
       "      <td>Fulham</td>\n",
       "      <td>Crystal Palace</td>\n",
       "      <td>0</td>\n",
       "      <td>2</td>\n",
       "      <td>A</td>\n",
       "      <td>0</td>\n",
       "      <td>1</td>\n",
       "      <td>A</td>\n",
       "      <td>...</td>\n",
       "      <td>1.87</td>\n",
       "      <td>22</td>\n",
       "      <td>-0.25</td>\n",
       "      <td>2.18</td>\n",
       "      <td>2.11</td>\n",
       "      <td>1.81</td>\n",
       "      <td>1.77</td>\n",
       "      <td>2.62</td>\n",
       "      <td>3.38</td>\n",
       "      <td>2.90</td>\n",
       "    </tr>\n",
       "    <tr>\n",
       "      <th>3</th>\n",
       "      <td>E0</td>\n",
       "      <td>11/08/2018</td>\n",
       "      <td>Huddersfield</td>\n",
       "      <td>Chelsea</td>\n",
       "      <td>0</td>\n",
       "      <td>3</td>\n",
       "      <td>A</td>\n",
       "      <td>0</td>\n",
       "      <td>2</td>\n",
       "      <td>A</td>\n",
       "      <td>...</td>\n",
       "      <td>1.84</td>\n",
       "      <td>23</td>\n",
       "      <td>1.00</td>\n",
       "      <td>1.84</td>\n",
       "      <td>1.80</td>\n",
       "      <td>2.13</td>\n",
       "      <td>2.06</td>\n",
       "      <td>7.24</td>\n",
       "      <td>3.95</td>\n",
       "      <td>1.58</td>\n",
       "    </tr>\n",
       "    <tr>\n",
       "      <th>4</th>\n",
       "      <td>E0</td>\n",
       "      <td>11/08/2018</td>\n",
       "      <td>Newcastle</td>\n",
       "      <td>Tottenham</td>\n",
       "      <td>1</td>\n",
       "      <td>2</td>\n",
       "      <td>A</td>\n",
       "      <td>1</td>\n",
       "      <td>2</td>\n",
       "      <td>A</td>\n",
       "      <td>...</td>\n",
       "      <td>1.81</td>\n",
       "      <td>20</td>\n",
       "      <td>0.25</td>\n",
       "      <td>2.20</td>\n",
       "      <td>2.12</td>\n",
       "      <td>1.80</td>\n",
       "      <td>1.76</td>\n",
       "      <td>4.74</td>\n",
       "      <td>3.53</td>\n",
       "      <td>1.89</td>\n",
       "    </tr>\n",
       "  </tbody>\n",
       "</table>\n",
       "<p>5 rows × 62 columns</p>\n",
       "</div>"
      ],
      "text/plain": [
       "  Div        Date      HomeTeam        AwayTeam  FTHG  FTAG FTR  HTHG  HTAG  \\\n",
       "0  E0  10/08/2018    Man United       Leicester     2     1   H     1     0   \n",
       "1  E0  11/08/2018   Bournemouth         Cardiff     2     0   H     1     0   \n",
       "2  E0  11/08/2018        Fulham  Crystal Palace     0     2   A     0     1   \n",
       "3  E0  11/08/2018  Huddersfield         Chelsea     0     3   A     0     2   \n",
       "4  E0  11/08/2018     Newcastle       Tottenham     1     2   A     1     2   \n",
       "\n",
       "  HTR  ... BbAv<2.5  BbAH  BbAHh  BbMxAHH  BbAvAHH  BbMxAHA  BbAvAHA  PSCH  \\\n",
       "0   H  ...     1.79    17  -0.75     1.75     1.70     2.29     2.21  1.55   \n",
       "1   H  ...     1.83    20  -0.75     2.20     2.13     1.80     1.75  1.88   \n",
       "2   A  ...     1.87    22  -0.25     2.18     2.11     1.81     1.77  2.62   \n",
       "3   A  ...     1.84    23   1.00     1.84     1.80     2.13     2.06  7.24   \n",
       "4   A  ...     1.81    20   0.25     2.20     2.12     1.80     1.76  4.74   \n",
       "\n",
       "   PSCD  PSCA  \n",
       "0  4.07  7.69  \n",
       "1  3.61  4.70  \n",
       "2  3.38  2.90  \n",
       "3  3.95  1.58  \n",
       "4  3.53  1.89  \n",
       "\n",
       "[5 rows x 62 columns]"
      ]
     },
     "execution_count": 3,
     "metadata": {},
     "output_type": "execute_result"
    }
   ],
   "source": [
    "# Get data from the 2018/2019 season\n",
    "data = get_premier_league_data(2018)\n",
    "data.head()"
   ]
  },
  {
   "cell_type": "markdown",
   "id": "1cfe9989",
   "metadata": {
    "slideshow": {
     "slide_type": "slide"
    }
   },
   "source": [
    "## Light cleaning"
   ]
  },
  {
   "cell_type": "code",
   "execution_count": 4,
   "id": "672f3b72",
   "metadata": {
    "slideshow": {
     "slide_type": "fragment"
    }
   },
   "outputs": [],
   "source": [
    "# Filtering columns of interest\n",
    "columns = [\"HomeTeam\", \"AwayTeam\", \"FTHG\", \"FTAG\", \"FTR\"]\n",
    "data = data[columns]\n",
    "\n",
    "# Renaming columns\n",
    "data = data.rename(\n",
    "    columns={\"FTHG\": \"HomeGoals\", \"FTAG\": \"AwayGoals\", \"FTR\": \"Result\"}\n",
    ")"
   ]
  },
  {
   "cell_type": "code",
   "execution_count": 5,
   "id": "596161f1",
   "metadata": {
    "slideshow": {
     "slide_type": "fragment"
    }
   },
   "outputs": [],
   "source": [
    "# Remove final week of fixtures\n",
    "data = data[:-10]"
   ]
  },
  {
   "cell_type": "code",
   "execution_count": 6,
   "id": "80a56f86",
   "metadata": {
    "slideshow": {
     "slide_type": "fragment"
    }
   },
   "outputs": [
    {
     "data": {
      "text/html": [
       "<div>\n",
       "<style scoped>\n",
       "    .dataframe tbody tr th:only-of-type {\n",
       "        vertical-align: middle;\n",
       "    }\n",
       "\n",
       "    .dataframe tbody tr th {\n",
       "        vertical-align: top;\n",
       "    }\n",
       "\n",
       "    .dataframe thead th {\n",
       "        text-align: right;\n",
       "    }\n",
       "</style>\n",
       "<table border=\"1\" class=\"dataframe\">\n",
       "  <thead>\n",
       "    <tr style=\"text-align: right;\">\n",
       "      <th></th>\n",
       "      <th>HomeTeam</th>\n",
       "      <th>AwayTeam</th>\n",
       "      <th>HomeGoals</th>\n",
       "      <th>AwayGoals</th>\n",
       "      <th>Result</th>\n",
       "    </tr>\n",
       "  </thead>\n",
       "  <tbody>\n",
       "    <tr>\n",
       "      <th>0</th>\n",
       "      <td>Man United</td>\n",
       "      <td>Leicester</td>\n",
       "      <td>2</td>\n",
       "      <td>1</td>\n",
       "      <td>H</td>\n",
       "    </tr>\n",
       "    <tr>\n",
       "      <th>1</th>\n",
       "      <td>Bournemouth</td>\n",
       "      <td>Cardiff</td>\n",
       "      <td>2</td>\n",
       "      <td>0</td>\n",
       "      <td>H</td>\n",
       "    </tr>\n",
       "    <tr>\n",
       "      <th>2</th>\n",
       "      <td>Fulham</td>\n",
       "      <td>Crystal Palace</td>\n",
       "      <td>0</td>\n",
       "      <td>2</td>\n",
       "      <td>A</td>\n",
       "    </tr>\n",
       "    <tr>\n",
       "      <th>3</th>\n",
       "      <td>Huddersfield</td>\n",
       "      <td>Chelsea</td>\n",
       "      <td>0</td>\n",
       "      <td>3</td>\n",
       "      <td>A</td>\n",
       "    </tr>\n",
       "    <tr>\n",
       "      <th>4</th>\n",
       "      <td>Newcastle</td>\n",
       "      <td>Tottenham</td>\n",
       "      <td>1</td>\n",
       "      <td>2</td>\n",
       "      <td>A</td>\n",
       "    </tr>\n",
       "  </tbody>\n",
       "</table>\n",
       "</div>"
      ],
      "text/plain": [
       "       HomeTeam        AwayTeam  HomeGoals  AwayGoals Result\n",
       "0    Man United       Leicester          2          1      H\n",
       "1   Bournemouth         Cardiff          2          0      H\n",
       "2        Fulham  Crystal Palace          0          2      A\n",
       "3  Huddersfield         Chelsea          0          3      A\n",
       "4     Newcastle       Tottenham          1          2      A"
      ]
     },
     "execution_count": 6,
     "metadata": {},
     "output_type": "execute_result"
    }
   ],
   "source": [
    "data.head()"
   ]
  },
  {
   "cell_type": "markdown",
   "id": "918ce900",
   "metadata": {
    "slideshow": {
     "slide_type": "slide"
    }
   },
   "source": [
    "## Simple analysis: Home team advantage?\n"
   ]
  },
  {
   "cell_type": "code",
   "execution_count": 7,
   "id": "435b57f5",
   "metadata": {
    "slideshow": {
     "slide_type": "fragment"
    }
   },
   "outputs": [
    {
     "data": {
      "text/plain": [
       "HomeGoals    1.575676\n",
       "AwayGoals    1.224324\n",
       "dtype: float64"
      ]
     },
     "execution_count": 7,
     "metadata": {},
     "output_type": "execute_result"
    }
   ],
   "source": [
    "# Compute the average number of home and away goals\n",
    "data[[\"HomeGoals\", \"AwayGoals\"]].mean()"
   ]
  },
  {
   "cell_type": "markdown",
   "id": "e6396f07",
   "metadata": {
    "slideshow": {
     "slide_type": "slide"
    }
   },
   "source": [
    "## Towards a match prediction model "
   ]
  },
  {
   "cell_type": "markdown",
   "id": "18568fc7",
   "metadata": {
    "slideshow": {
     "slide_type": "fragment"
    }
   },
   "source": [
    "- One way to predict the match score is to consider the number of goals scored by each team\n"
   ]
  },
  {
   "cell_type": "markdown",
   "id": "aafc3278",
   "metadata": {
    "slideshow": {
     "slide_type": "fragment"
    }
   },
   "source": [
    "- We will denote the number of goals scored by a particular team in a match by $y_i$, where $i$ indicates the particular match\n"
   ]
  },
  {
   "cell_type": "markdown",
   "id": "849ce7ba",
   "metadata": {
    "slideshow": {
     "slide_type": "fragment"
    }
   },
   "source": [
    "- Furthermore, we will use *regression analysis* to model $\\mathbb{E}[y_i | X_i]$ "
   ]
  },
  {
   "cell_type": "markdown",
   "id": "eb3d2583",
   "metadata": {
    "slideshow": {
     "slide_type": "slide"
    }
   },
   "source": [
    "## The Poisson distribution"
   ]
  },
  {
   "cell_type": "markdown",
   "id": "10d3afe6",
   "metadata": {
    "slideshow": {
     "slide_type": "fragment"
    }
   },
   "source": [
    "- The Poisson distribution is often used to model the probability distribution of *count events* (that is, the same event happening a specific number of times in a fixed time frame)\n"
   ]
  },
  {
   "cell_type": "markdown",
   "id": "044772ef",
   "metadata": {
    "slideshow": {
     "slide_type": "fragment"
    }
   },
   "source": [
    "- It is a *discrete* distribution parametarized by a mean constant rate of occurences $\\lambda$"
   ]
  },
  {
   "cell_type": "markdown",
   "id": "f6d30dc5",
   "metadata": {
    "slideshow": {
     "slide_type": "fragment"
    }
   },
   "source": [
    "- It assumes that event occurances within the interval are *independent* of one another"
   ]
  },
  {
   "cell_type": "markdown",
   "id": "5b78faa9",
   "metadata": {
    "slideshow": {
     "slide_type": "fragment"
    }
   },
   "source": [
    "- It can be especially useful to model the number of goals we expect a team to score"
   ]
  },
  {
   "cell_type": "markdown",
   "id": "3160ed52",
   "metadata": {
    "slideshow": {
     "slide_type": "slide"
    }
   },
   "source": [
    "## The Poisson distribution: an example"
   ]
  },
  {
   "cell_type": "code",
   "execution_count": 8,
   "id": "ca142a4d",
   "metadata": {
    "scrolled": false,
    "slideshow": {
     "slide_type": "fragment"
    }
   },
   "outputs": [
    {
     "data": {
      "image/png": "[encoded data removed]",
      "text/plain": [
       "<Figure size 432x288 with 1 Axes>"
      ]
     },
     "metadata": {
      "needs_background": "light"
     },
     "output_type": "display_data"
    }
   ],
   "source": [
    "# Here we simulate 1 million samples from a Poisson distribution with a mean of two\n",
    "x = np.random.poisson(2, 1000000)\n",
    "plt.hist(x, 14, density=True)\n",
    "plt.show()"
   ]
  },
  {
   "cell_type": "markdown",
   "id": "8f2bde71",
   "metadata": {
    "slideshow": {
     "slide_type": "slide"
    }
   },
   "source": [
    "## Formatting our data"
   ]
  },
  {
   "cell_type": "code",
   "execution_count": 9,
   "id": "10bca848",
   "metadata": {
    "slideshow": {
     "slide_type": "fragment"
    }
   },
   "outputs": [],
   "source": [
    "#### PREPARE THE DATASET ####\n",
    "\n",
    "# Separate home goals data\n",
    "home_goals = data[[\"HomeTeam\", \"AwayTeam\", \"HomeGoals\"]]\n",
    "home_goals = home_goals.assign(home=1)\n",
    "home_goals = home_goals.rename(\n",
    "    columns={\"HomeTeam\": \"team\",\n",
    "             \"AwayTeam\": \"opponent\", \n",
    "             \"HomeGoals\": \"goals\"}\n",
    ")\n",
    "\n",
    "# Separate away goals data\n",
    "away_goals = data[[\"AwayTeam\", \"HomeTeam\", \"AwayGoals\"]]\n",
    "away_goals = away_goals.assign(home=0)\n",
    "away_goals = away_goals.rename(\n",
    "    columns={\"AwayTeam\": \"team\",\n",
    "             \"HomeTeam\": \"opponent\", \"AwayGoals\": \"goals\"}\n",
    ")"
   ]
  },
  {
   "cell_type": "code",
   "execution_count": 10,
   "id": "aa7e0758",
   "metadata": {
    "slideshow": {
     "slide_type": "slide"
    }
   },
   "outputs": [
    {
     "data": {
      "text/html": [
       "<div>\n",
       "<style scoped>\n",
       "    .dataframe tbody tr th:only-of-type {\n",
       "        vertical-align: middle;\n",
       "    }\n",
       "\n",
       "    .dataframe tbody tr th {\n",
       "        vertical-align: top;\n",
       "    }\n",
       "\n",
       "    .dataframe thead th {\n",
       "        text-align: right;\n",
       "    }\n",
       "</style>\n",
       "<table border=\"1\" class=\"dataframe\">\n",
       "  <thead>\n",
       "    <tr style=\"text-align: right;\">\n",
       "      <th></th>\n",
       "      <th>team</th>\n",
       "      <th>opponent</th>\n",
       "      <th>goals</th>\n",
       "      <th>home</th>\n",
       "    </tr>\n",
       "  </thead>\n",
       "  <tbody>\n",
       "    <tr>\n",
       "      <th>0</th>\n",
       "      <td>Man United</td>\n",
       "      <td>Leicester</td>\n",
       "      <td>2</td>\n",
       "      <td>1</td>\n",
       "    </tr>\n",
       "    <tr>\n",
       "      <th>1</th>\n",
       "      <td>Bournemouth</td>\n",
       "      <td>Cardiff</td>\n",
       "      <td>2</td>\n",
       "      <td>1</td>\n",
       "    </tr>\n",
       "    <tr>\n",
       "      <th>2</th>\n",
       "      <td>Fulham</td>\n",
       "      <td>Crystal Palace</td>\n",
       "      <td>0</td>\n",
       "      <td>1</td>\n",
       "    </tr>\n",
       "    <tr>\n",
       "      <th>3</th>\n",
       "      <td>Huddersfield</td>\n",
       "      <td>Chelsea</td>\n",
       "      <td>0</td>\n",
       "      <td>1</td>\n",
       "    </tr>\n",
       "    <tr>\n",
       "      <th>4</th>\n",
       "      <td>Newcastle</td>\n",
       "      <td>Tottenham</td>\n",
       "      <td>1</td>\n",
       "      <td>1</td>\n",
       "    </tr>\n",
       "  </tbody>\n",
       "</table>\n",
       "</div>"
      ],
      "text/plain": [
       "           team        opponent  goals  home\n",
       "0    Man United       Leicester      2     1\n",
       "1   Bournemouth         Cardiff      2     1\n",
       "2        Fulham  Crystal Palace      0     1\n",
       "3  Huddersfield         Chelsea      0     1\n",
       "4     Newcastle       Tottenham      1     1"
      ]
     },
     "execution_count": 10,
     "metadata": {},
     "output_type": "execute_result"
    }
   ],
   "source": [
    "training_data = pd.concat([home_goals, away_goals])\n",
    "training_data.head()"
   ]
  },
  {
   "cell_type": "markdown",
   "id": "dcb01dbb",
   "metadata": {
    "slideshow": {
     "slide_type": "slide"
    }
   },
   "source": [
    "## The Poisson regression model"
   ]
  },
  {
   "cell_type": "markdown",
   "id": "4d28610b",
   "metadata": {
    "slideshow": {
     "slide_type": "fragment"
    }
   },
   "source": [
    "- To predict the number of goals each team scores, we will fit the following model using match-level data\n"
   ]
  },
  {
   "cell_type": "markdown",
   "id": "5bdd2298",
   "metadata": {
    "slideshow": {
     "slide_type": "fragment"
    }
   },
   "source": [
    "$$y_i \\sim Poisson(\\lambda_i)$$\n",
    "\n",
    "\n",
    "$$\\ln (\\lambda_i) = X_i\\beta$$"
   ]
  },
  {
   "cell_type": "markdown",
   "id": "4e44f62a",
   "metadata": {
    "slideshow": {
     "slide_type": "fragment"
    }
   },
   "source": [
    "- Here, $\\lambda_i$ is the mean number goals scored by the home team in match $i$, which we aim to predict using variables $X_i$"
   ]
  },
  {
   "cell_type": "code",
   "execution_count": 12,
   "id": "590f8f66",
   "metadata": {
    "slideshow": {
     "slide_type": "slide"
    }
   },
   "outputs": [],
   "source": [
    "# Building the model\n",
    "# Poisson Regression: log-linear model\n",
    "poisson_model = smf.glm(\n",
    "    formula=\"goals ~ home + team + opponent\",\n",
    "    data=training_data,\n",
    "    family=sm.families.Poisson() \n",
    ").fit()"
   ]
  },
  {
   "cell_type": "code",
   "execution_count": 13,
   "id": "422b5962",
   "metadata": {
    "slideshow": {
     "slide_type": "fragment"
    }
   },
   "outputs": [
    {
     "data": {
      "text/html": [
       "<table class=\"simpletable\">\n",
       "<caption>Generalized Linear Model Regression Results</caption>\n",
       "<tr>\n",
       "  <th>Dep. Variable:</th>         <td>goals</td>      <th>  No. Observations:  </th>  <td>   740</td> \n",
       "</tr>\n",
       "<tr>\n",
       "  <th>Model:</th>                  <td>GLM</td>       <th>  Df Residuals:      </th>  <td>   700</td> \n",
       "</tr>\n",
       "<tr>\n",
       "  <th>Model Family:</th>         <td>Poisson</td>     <th>  Df Model:          </th>  <td>    39</td> \n",
       "</tr>\n",
       "<tr>\n",
       "  <th>Link Function:</th>          <td>log</td>       <th>  Scale:             </th> <td>  1.0000</td>\n",
       "</tr>\n",
       "<tr>\n",
       "  <th>Method:</th>                <td>IRLS</td>       <th>  Log-Likelihood:    </th> <td> -1030.1</td>\n",
       "</tr>\n",
       "<tr>\n",
       "  <th>Date:</th>            <td>Thu, 30 Sep 2021</td> <th>  Deviance:          </th> <td>  732.30</td>\n",
       "</tr>\n",
       "<tr>\n",
       "  <th>Time:</th>                <td>10:40:39</td>     <th>  Pearson chi2:      </th>  <td>  634.</td> \n",
       "</tr>\n",
       "<tr>\n",
       "  <th>No. Iterations:</th>          <td>5</td>        <th>                     </th>     <td> </td>   \n",
       "</tr>\n",
       "<tr>\n",
       "  <th>Covariance Type:</th>     <td>nonrobust</td>    <th>                     </th>     <td> </td>   \n",
       "</tr>\n",
       "</table>\n",
       "<table class=\"simpletable\">\n",
       "<tr>\n",
       "               <td></td>                 <th>coef</th>     <th>std err</th>      <th>z</th>      <th>P>|z|</th>  <th>[0.025</th>    <th>0.975]</th>  \n",
       "</tr>\n",
       "<tr>\n",
       "  <th>Intercept</th>                  <td>    0.4925</td> <td>    0.192</td> <td>    2.572</td> <td> 0.010</td> <td>    0.117</td> <td>    0.868</td>\n",
       "</tr>\n",
       "<tr>\n",
       "  <th>team[T.Bournemouth]</th>        <td>   -0.2703</td> <td>    0.183</td> <td>   -1.481</td> <td> 0.139</td> <td>   -0.628</td> <td>    0.087</td>\n",
       "</tr>\n",
       "<tr>\n",
       "  <th>team[T.Brighton]</th>           <td>   -0.7334</td> <td>    0.209</td> <td>   -3.503</td> <td> 0.000</td> <td>   -1.144</td> <td>   -0.323</td>\n",
       "</tr>\n",
       "<tr>\n",
       "  <th>team[T.Burnley]</th>            <td>   -0.4493</td> <td>    0.192</td> <td>   -2.334</td> <td> 0.020</td> <td>   -0.827</td> <td>   -0.072</td>\n",
       "</tr>\n",
       "<tr>\n",
       "  <th>team[T.Cardiff]</th>            <td>   -0.7702</td> <td>    0.214</td> <td>   -3.603</td> <td> 0.000</td> <td>   -1.189</td> <td>   -0.351</td>\n",
       "</tr>\n",
       "<tr>\n",
       "  <th>team[T.Chelsea]</th>            <td>   -0.1249</td> <td>    0.174</td> <td>   -0.718</td> <td> 0.473</td> <td>   -0.466</td> <td>    0.216</td>\n",
       "</tr>\n",
       "<tr>\n",
       "  <th>team[T.Crystal Palace]</th>     <td>   -0.4125</td> <td>    0.190</td> <td>   -2.169</td> <td> 0.030</td> <td>   -0.785</td> <td>   -0.040</td>\n",
       "</tr>\n",
       "<tr>\n",
       "  <th>team[T.Everton]</th>            <td>   -0.3165</td> <td>    0.183</td> <td>   -1.726</td> <td> 0.084</td> <td>   -0.676</td> <td>    0.043</td>\n",
       "</tr>\n",
       "<tr>\n",
       "  <th>team[T.Fulham]</th>             <td>   -0.6986</td> <td>    0.209</td> <td>   -3.335</td> <td> 0.001</td> <td>   -1.109</td> <td>   -0.288</td>\n",
       "</tr>\n",
       "<tr>\n",
       "  <th>team[T.Huddersfield]</th>       <td>   -1.1820</td> <td>    0.249</td> <td>   -4.744</td> <td> 0.000</td> <td>   -1.670</td> <td>   -0.694</td>\n",
       "</tr>\n",
       "<tr>\n",
       "  <th>team[T.Leicester]</th>          <td>   -0.3261</td> <td>    0.184</td> <td>   -1.768</td> <td> 0.077</td> <td>   -0.688</td> <td>    0.035</td>\n",
       "</tr>\n",
       "<tr>\n",
       "  <th>team[T.Liverpool]</th>          <td>    0.1849</td> <td>    0.161</td> <td>    1.149</td> <td> 0.251</td> <td>   -0.130</td> <td>    0.500</td>\n",
       "</tr>\n",
       "<tr>\n",
       "  <th>team[T.Man City]</th>           <td>    0.2291</td> <td>    0.159</td> <td>    1.438</td> <td> 0.150</td> <td>   -0.083</td> <td>    0.541</td>\n",
       "</tr>\n",
       "<tr>\n",
       "  <th>team[T.Man United]</th>         <td>   -0.0621</td> <td>    0.173</td> <td>   -0.360</td> <td> 0.719</td> <td>   -0.401</td> <td>    0.276</td>\n",
       "</tr>\n",
       "<tr>\n",
       "  <th>team[T.Newcastle]</th>          <td>   -0.6104</td> <td>    0.202</td> <td>   -3.024</td> <td> 0.002</td> <td>   -1.006</td> <td>   -0.215</td>\n",
       "</tr>\n",
       "<tr>\n",
       "  <th>team[T.Southampton]</th>        <td>   -0.4387</td> <td>    0.193</td> <td>   -2.275</td> <td> 0.023</td> <td>   -0.817</td> <td>   -0.061</td>\n",
       "</tr>\n",
       "<tr>\n",
       "  <th>team[T.Tottenham]</th>          <td>   -0.0917</td> <td>    0.173</td> <td>   -0.531</td> <td> 0.595</td> <td>   -0.430</td> <td>    0.247</td>\n",
       "</tr>\n",
       "<tr>\n",
       "  <th>team[T.Watford]</th>            <td>   -0.3106</td> <td>    0.185</td> <td>   -1.683</td> <td> 0.092</td> <td>   -0.672</td> <td>    0.051</td>\n",
       "</tr>\n",
       "<tr>\n",
       "  <th>team[T.West Ham]</th>           <td>   -0.3788</td> <td>    0.188</td> <td>   -2.017</td> <td> 0.044</td> <td>   -0.747</td> <td>   -0.011</td>\n",
       "</tr>\n",
       "<tr>\n",
       "  <th>team[T.Wolves]</th>             <td>   -0.4239</td> <td>    0.189</td> <td>   -2.244</td> <td> 0.025</td> <td>   -0.794</td> <td>   -0.054</td>\n",
       "</tr>\n",
       "<tr>\n",
       "  <th>opponent[T.Bournemouth]</th>    <td>    0.2458</td> <td>    0.189</td> <td>    1.303</td> <td> 0.192</td> <td>   -0.124</td> <td>    0.615</td>\n",
       "</tr>\n",
       "<tr>\n",
       "  <th>opponent[T.Brighton]</th>       <td>    0.0890</td> <td>    0.195</td> <td>    0.456</td> <td> 0.648</td> <td>   -0.293</td> <td>    0.471</td>\n",
       "</tr>\n",
       "<tr>\n",
       "  <th>opponent[T.Burnley]</th>        <td>    0.2413</td> <td>    0.188</td> <td>    1.282</td> <td> 0.200</td> <td>   -0.128</td> <td>    0.610</td>\n",
       "</tr>\n",
       "<tr>\n",
       "  <th>opponent[T.Cardiff]</th>        <td>    0.2950</td> <td>    0.186</td> <td>    1.585</td> <td> 0.113</td> <td>   -0.070</td> <td>    0.660</td>\n",
       "</tr>\n",
       "<tr>\n",
       "  <th>opponent[T.Chelsea]</th>        <td>   -0.2537</td> <td>    0.214</td> <td>   -1.185</td> <td> 0.236</td> <td>   -0.673</td> <td>    0.166</td>\n",
       "</tr>\n",
       "<tr>\n",
       "  <th>opponent[T.Crystal Palace]</th> <td>   -0.0269</td> <td>    0.200</td> <td>   -0.134</td> <td> 0.893</td> <td>   -0.420</td> <td>    0.366</td>\n",
       "</tr>\n",
       "<tr>\n",
       "  <th>opponent[T.Everton]</th>        <td>   -0.1366</td> <td>    0.207</td> <td>   -0.659</td> <td> 0.510</td> <td>   -0.543</td> <td>    0.269</td>\n",
       "</tr>\n",
       "<tr>\n",
       "  <th>opponent[T.Fulham]</th>         <td>    0.3861</td> <td>    0.182</td> <td>    2.121</td> <td> 0.034</td> <td>    0.029</td> <td>    0.743</td>\n",
       "</tr>\n",
       "<tr>\n",
       "  <th>opponent[T.Huddersfield]</th>   <td>    0.3551</td> <td>    0.183</td> <td>    1.941</td> <td> 0.052</td> <td>   -0.003</td> <td>    0.714</td>\n",
       "</tr>\n",
       "<tr>\n",
       "  <th>opponent[T.Leicester]</th>      <td>   -0.0595</td> <td>    0.202</td> <td>   -0.294</td> <td> 0.769</td> <td>   -0.456</td> <td>    0.337</td>\n",
       "</tr>\n",
       "<tr>\n",
       "  <th>opponent[T.Liverpool]</th>      <td>   -0.8112</td> <td>    0.256</td> <td>   -3.166</td> <td> 0.002</td> <td>   -1.313</td> <td>   -0.309</td>\n",
       "</tr>\n",
       "<tr>\n",
       "  <th>opponent[T.Man City]</th>       <td>   -0.8083</td> <td>    0.256</td> <td>   -3.154</td> <td> 0.002</td> <td>   -1.311</td> <td>   -0.306</td>\n",
       "</tr>\n",
       "<tr>\n",
       "  <th>opponent[T.Man United]</th>     <td>    0.0231</td> <td>    0.199</td> <td>    0.116</td> <td> 0.907</td> <td>   -0.366</td> <td>    0.412</td>\n",
       "</tr>\n",
       "<tr>\n",
       "  <th>opponent[T.Newcastle]</th>      <td>   -0.0802</td> <td>    0.202</td> <td>   -0.396</td> <td> 0.692</td> <td>   -0.477</td> <td>    0.317</td>\n",
       "</tr>\n",
       "<tr>\n",
       "  <th>opponent[T.Southampton]</th>    <td>    0.2043</td> <td>    0.189</td> <td>    1.080</td> <td> 0.280</td> <td>   -0.166</td> <td>    0.575</td>\n",
       "</tr>\n",
       "<tr>\n",
       "  <th>opponent[T.Tottenham]</th>      <td>   -0.3107</td> <td>    0.217</td> <td>   -1.430</td> <td> 0.153</td> <td>   -0.737</td> <td>    0.115</td>\n",
       "</tr>\n",
       "<tr>\n",
       "  <th>opponent[T.Watford]</th>        <td>    0.0711</td> <td>    0.196</td> <td>    0.363</td> <td> 0.716</td> <td>   -0.313</td> <td>    0.455</td>\n",
       "</tr>\n",
       "<tr>\n",
       "  <th>opponent[T.West Ham]</th>       <td>    0.0575</td> <td>    0.197</td> <td>    0.293</td> <td> 0.770</td> <td>   -0.328</td> <td>    0.443</td>\n",
       "</tr>\n",
       "<tr>\n",
       "  <th>opponent[T.Wolves]</th>         <td>   -0.1299</td> <td>    0.207</td> <td>   -0.627</td> <td> 0.531</td> <td>   -0.536</td> <td>    0.276</td>\n",
       "</tr>\n",
       "<tr>\n",
       "  <th>home</th>                       <td>    0.2526</td> <td>    0.063</td> <td>    4.031</td> <td> 0.000</td> <td>    0.130</td> <td>    0.375</td>\n",
       "</tr>\n",
       "</table>"
      ],
      "text/plain": [
       "<class 'statsmodels.iolib.summary.Summary'>\n",
       "\"\"\"\n",
       "                 Generalized Linear Model Regression Results                  \n",
       "==============================================================================\n",
       "Dep. Variable:                  goals   No. Observations:                  740\n",
       "Model:                            GLM   Df Residuals:                      700\n",
       "Model Family:                 Poisson   Df Model:                           39\n",
       "Link Function:                    log   Scale:                          1.0000\n",
       "Method:                          IRLS   Log-Likelihood:                -1030.1\n",
       "Date:                Thu, 30 Sep 2021   Deviance:                       732.30\n",
       "Time:                        10:40:39   Pearson chi2:                     634.\n",
       "No. Iterations:                     5                                         \n",
       "Covariance Type:            nonrobust                                         \n",
       "==============================================================================================\n",
       "                                 coef    std err          z      P>|z|      [0.025      0.975]\n",
       "----------------------------------------------------------------------------------------------\n",
       "Intercept                      0.4925      0.192      2.572      0.010       0.117       0.868\n",
       "team[T.Bournemouth]           -0.2703      0.183     -1.481      0.139      -0.628       0.087\n",
       "team[T.Brighton]              -0.7334      0.209     -3.503      0.000      -1.144      -0.323\n",
       "team[T.Burnley]               -0.4493      0.192     -2.334      0.020      -0.827      -0.072\n",
       "team[T.Cardiff]               -0.7702      0.214     -3.603      0.000      -1.189      -0.351\n",
       "team[T.Chelsea]               -0.1249      0.174     -0.718      0.473      -0.466       0.216\n",
       "team[T.Crystal Palace]        -0.4125      0.190     -2.169      0.030      -0.785      -0.040\n",
       "team[T.Everton]               -0.3165      0.183     -1.726      0.084      -0.676       0.043\n",
       "team[T.Fulham]                -0.6986      0.209     -3.335      0.001      -1.109      -0.288\n",
       "team[T.Huddersfield]          -1.1820      0.249     -4.744      0.000      -1.670      -0.694\n",
       "team[T.Leicester]             -0.3261      0.184     -1.768      0.077      -0.688       0.035\n",
       "team[T.Liverpool]              0.1849      0.161      1.149      0.251      -0.130       0.500\n",
       "team[T.Man City]               0.2291      0.159      1.438      0.150      -0.083       0.541\n",
       "team[T.Man United]            -0.0621      0.173     -0.360      0.719      -0.401       0.276\n",
       "team[T.Newcastle]             -0.6104      0.202     -3.024      0.002      -1.006      -0.215\n",
       "team[T.Southampton]           -0.4387      0.193     -2.275      0.023      -0.817      -0.061\n",
       "team[T.Tottenham]             -0.0917      0.173     -0.531      0.595      -0.430       0.247\n",
       "team[T.Watford]               -0.3106      0.185     -1.683      0.092      -0.672       0.051\n",
       "team[T.West Ham]              -0.3788      0.188     -2.017      0.044      -0.747      -0.011\n",
       "team[T.Wolves]                -0.4239      0.189     -2.244      0.025      -0.794      -0.054\n",
       "opponent[T.Bournemouth]        0.2458      0.189      1.303      0.192      -0.124       0.615\n",
       "opponent[T.Brighton]           0.0890      0.195      0.456      0.648      -0.293       0.471\n",
       "opponent[T.Burnley]            0.2413      0.188      1.282      0.200      -0.128       0.610\n",
       "opponent[T.Cardiff]            0.2950      0.186      1.585      0.113      -0.070       0.660\n",
       "opponent[T.Chelsea]           -0.2537      0.214     -1.185      0.236      -0.673       0.166\n",
       "opponent[T.Crystal Palace]    -0.0269      0.200     -0.134      0.893      -0.420       0.366\n",
       "opponent[T.Everton]           -0.1366      0.207     -0.659      0.510      -0.543       0.269\n",
       "opponent[T.Fulham]             0.3861      0.182      2.121      0.034       0.029       0.743\n",
       "opponent[T.Huddersfield]       0.3551      0.183      1.941      0.052      -0.003       0.714\n",
       "opponent[T.Leicester]         -0.0595      0.202     -0.294      0.769      -0.456       0.337\n",
       "opponent[T.Liverpool]         -0.8112      0.256     -3.166      0.002      -1.313      -0.309\n",
       "opponent[T.Man City]          -0.8083      0.256     -3.154      0.002      -1.311      -0.306\n",
       "opponent[T.Man United]         0.0231      0.199      0.116      0.907      -0.366       0.412\n",
       "opponent[T.Newcastle]         -0.0802      0.202     -0.396      0.692      -0.477       0.317\n",
       "opponent[T.Southampton]        0.2043      0.189      1.080      0.280      -0.166       0.575\n",
       "opponent[T.Tottenham]         -0.3107      0.217     -1.430      0.153      -0.737       0.115\n",
       "opponent[T.Watford]            0.0711      0.196      0.363      0.716      -0.313       0.455\n",
       "opponent[T.West Ham]           0.0575      0.197      0.293      0.770      -0.328       0.443\n",
       "opponent[T.Wolves]            -0.1299      0.207     -0.627      0.531      -0.536       0.276\n",
       "home                           0.2526      0.063      4.031      0.000       0.130       0.375\n",
       "==============================================================================================\n",
       "\"\"\""
      ]
     },
     "execution_count": 13,
     "metadata": {},
     "output_type": "execute_result"
    }
   ],
   "source": [
    "# Get a statistical summary of the poisson model\n",
    "poisson_model.summary()"
   ]
  },
  {
   "cell_type": "markdown",
   "id": "c344cb77",
   "metadata": {
    "slideshow": {
     "slide_type": "slide"
    }
   },
   "source": [
    "## A note on dummies, coefficients, and interpretation"
   ]
  },
  {
   "cell_type": "markdown",
   "id": "ce457966",
   "metadata": {
    "slideshow": {
     "slide_type": "slide"
    }
   },
   "source": [
    "## Computing the expected goals for each team"
   ]
  },
  {
   "cell_type": "code",
   "execution_count": 14,
   "id": "a9f00fad",
   "metadata": {
    "slideshow": {
     "slide_type": "fragment"
    }
   },
   "outputs": [],
   "source": [
    "# Create feature data for home and away team for the match\n",
    "def create_X(home_team, away_team):\n",
    "    X_home = pd.DataFrame(data={\"team\": home_team,\n",
    "                                \"opponent\": away_team,\n",
    "                                \"home\": 1\n",
    "                                }, index=[1])\n",
    "    \n",
    "    # Creating DataFrame for away team features\n",
    "    X_away = pd.DataFrame(data={\"team\": away_team,\n",
    "                                \"opponent\": home_team,\n",
    "                                \"home\": 0\n",
    "                                }, index=[1])\n",
    "    return X_home, X_away"
   ]
  },
  {
   "cell_type": "code",
   "execution_count": 15,
   "id": "e58da4ac",
   "metadata": {
    "slideshow": {
     "slide_type": "fragment"
    }
   },
   "outputs": [],
   "source": [
    "def predict_avg_goals(X_home, X_away, model):\n",
    "    # Predict the mean number of goals for home team\n",
    "    home_goals_avg = model.predict(X_home) \n",
    "    \n",
    "    # Predict the mean number of goals for away team\n",
    "    away_goals_avg = model.predict(X_away) \n",
    "    \n",
    "    return home_goals_avg, away_goals_avg"
   ]
  },
  {
   "cell_type": "code",
   "execution_count": 16,
   "id": "8b06a1d6",
   "metadata": {
    "slideshow": {
     "slide_type": "slide"
    }
   },
   "outputs": [
    {
     "name": "stdout",
     "output_type": "stream",
     "text": [
      "Expected Home Goals:  0.8286416403375738\n",
      "Expected Away Goals:  1.596649000341837\n"
     ]
    }
   ],
   "source": [
    "# Predicting expected goals for Chelsea Man City match\n",
    "X_home, X_away =  create_X('Chelsea', 'Man City')\n",
    "expected_goals = predict_avg_goals(X_home, X_away, poisson_model)\n",
    "print('Expected Home Goals: ', expected_goals[0].values[0])\n",
    "print('Expected Away Goals: ', expected_goals[1].values[0])"
   ]
  },
  {
   "cell_type": "markdown",
   "id": "ce8a7ede",
   "metadata": {
    "slideshow": {
     "slide_type": "slide"
    }
   },
   "source": [
    "## Computing the distribution of match scores"
   ]
  },
  {
   "cell_type": "code",
   "execution_count": 17,
   "id": "bf47327b",
   "metadata": {
    "slideshow": {
     "slide_type": "fragment"
    }
   },
   "outputs": [],
   "source": [
    "#### MATCH SCORE FORECASTING FUNCTION ####\n",
    "def predict_score_pmf(X_home, X_away, model, max_goals):\n",
    "    # Predict the average number of goals for home  and away teams\n",
    "    expected_goals = predict_avg_goals(X_home, X_away, model)\n",
    "    home_goals_avg = expected_goals[0]\n",
    "    away_goals_avg = expected_goals[1]\n",
    "\n",
    "    # Compute marginal distribution for home goals\n",
    "    home_goals_pmf = [poisson.pmf(i, home_goals_avg)\n",
    "                      for i in range(0, max_goals + 1)]\n",
    "\n",
    "    # Compute marginal distribution for away goals\n",
    "    away_goals_pmf = [poisson.pmf(i, away_goals_avg)\n",
    "                      for i in range(0, max_goals + 1)]\n",
    "\n",
    "    # Compute joint distribution for match score as outer product\n",
    "    joint_pmf = np.outer(np.array(home_goals_pmf),\n",
    "                         np.array(away_goals_pmf))\n",
    "    \n",
    "    return joint_pmf"
   ]
  },
  {
   "cell_type": "code",
   "execution_count": 18,
   "id": "49dd6d1c",
   "metadata": {
    "slideshow": {
     "slide_type": "slide"
    }
   },
   "outputs": [
    {
     "data": {
      "image/png": "[encoded data removed]",
      "text/plain": [
       "<Figure size 576x432 with 2 Axes>"
      ]
     },
     "metadata": {
      "needs_background": "light"
     },
     "output_type": "display_data"
    }
   ],
   "source": [
    "# Predicting distribution of match scores\n",
    "X_home, X_away =  create_X('Chelsea', 'Man City')\n",
    "score_pmf = predict_score_pmf(X_home, X_away, poisson_model, 8)\n",
    "score_pmf = score_pmf.round(3)\n",
    "\n",
    "# Visualizing distribution in a heatmap\n",
    "f, axs = plt.subplots(figsize=(8, 6))\n",
    "sns.heatmap(score_pmf, annot=True)\n",
    "plt.title(\"Chelsea v.s Man City score forecast\")\n",
    "plt.xlabel(\"Man City goals\")\n",
    "plt.ylabel(\"Chelsea goals\")\n",
    "plt.show()"
   ]
  },
  {
   "cell_type": "markdown",
   "id": "b5d74df6",
   "metadata": {
    "slideshow": {
     "slide_type": "slide"
    }
   },
   "source": [
    "## Forecasting the distribution mode"
   ]
  },
  {
   "cell_type": "code",
   "execution_count": 19,
   "id": "446f9558",
   "metadata": {
    "slideshow": {
     "slide_type": "fragment"
    }
   },
   "outputs": [],
   "source": [
    "def predict_score(X_home, X_away, model):\n",
    "    # Predicting distribution of match scores\n",
    "    score_pmf = predict_score_pmf(X_home, X_away, model,16)\n",
    "    score_pmf = score_pmf.round(3)\n",
    "    \n",
    "    # Computing distribution mode\n",
    "    home_goals_mode = np.argmax(score_pmf) // (17)\n",
    "    away_goals_mode = np.argmax(score_pmf) % (17)\n",
    "    score_pred = (home_goals_mode, away_goals_mode)\n",
    "    return score_pred"
   ]
  },
  {
   "cell_type": "code",
   "execution_count": 20,
   "id": "5157ea79",
   "metadata": {
    "slideshow": {
     "slide_type": "fragment"
    }
   },
   "outputs": [
    {
     "name": "stdout",
     "output_type": "stream",
     "text": [
      "Score Forecast:  (0, 1)\n"
     ]
    }
   ],
   "source": [
    "# Predicting Chelsea Man City match score\n",
    "X_home, X_away =  create_X('Chelsea', 'Man City')\n",
    "score_pred =  predict_score(X_home, X_away, poisson_model)\n",
    "print('Score Forecast: ', score_pred)"
   ]
  },
  {
   "cell_type": "markdown",
   "id": "68b2526b",
   "metadata": {
    "slideshow": {
     "slide_type": "slide"
    }
   },
   "source": [
    "## Validating our predictions ... how well did we do?"
   ]
  },
  {
   "cell_type": "markdown",
   "id": "08cbf98f",
   "metadata": {
    "slideshow": {
     "slide_type": "fragment"
    }
   },
   "source": [
    "- To find out how our model performed, it is important to devise some form of scoring metric\n"
   ]
  },
  {
   "cell_type": "markdown",
   "id": "991d26b6",
   "metadata": {
    "slideshow": {
     "slide_type": "fragment"
    }
   },
   "source": [
    "- In this workshop, we will use the mean squared error to asses this:\n",
    "$$\\text{MSE}(y, \\hat y) \\,=\\, \\frac{1}{N} \\sum_{i=1}^{N} (y_i - \\hat y_i)^2$$"
   ]
  },
  {
   "cell_type": "code",
   "execution_count": 21,
   "id": "a7c4914e",
   "metadata": {
    "slideshow": {
     "slide_type": "fragment"
    }
   },
   "outputs": [],
   "source": [
    "def mse(y_true, ypred):\n",
    "    np.square(np.subtract(Y_true,Y_pred)).mean()"
   ]
  },
  {
   "cell_type": "code",
   "execution_count": null,
   "id": "632c6e20",
   "metadata": {
    "slideshow": {
     "slide_type": "fragment"
    }
   },
   "outputs": [],
   "source": [
    "def model_eval(X, model):\n",
    "    # Predicting distribution of match scores\n",
    "    #### LEFT AS AN EXERCISE ####"
   ]
  },
  {
   "cell_type": "markdown",
   "id": "8e224e98",
   "metadata": {
    "slideshow": {
     "slide_type": "slide"
    }
   },
   "source": [
    "## Links to data sources\n",
    "\n",
    "https://www.rotowire.com//soccer/tables/standings.php?league=EPL&length=total&season=2019\n",
    "\n",
    "https://www.rotowire.com/soccer/league-table.php?season=2018"
   ]
  },
  {
   "cell_type": "markdown",
   "id": "362ba132",
   "metadata": {
    "slideshow": {
     "slide_type": "slide"
    }
   },
   "source": [
    "## Next Steps"
   ]
  },
  {
   "cell_type": "markdown",
   "id": "80a21263",
   "metadata": {
    "slideshow": {
     "slide_type": "slide"
    }
   },
   "source": [
    "- Build on the benchmark\n"
   ]
  },
  {
   "cell_type": "markdown",
   "id": "5eee50d5",
   "metadata": {},
   "source": [
    "- Cross-validation\n"
   ]
  },
  {
   "cell_type": "markdown",
   "id": "aa48fdfd",
   "metadata": {},
   "source": [
    "- Dixon-Coles model\n"
   ]
  },
  {
   "cell_type": "markdown",
   "id": "f0a9c2f4",
   "metadata": {},
   "source": [
    "- Additional regressors (betting odds?)\n"
   ]
  },
  {
   "cell_type": "markdown",
   "id": "6e8b978b",
   "metadata": {},
   "source": [
    "- Alternative data sources (Twitter and NLP?)\n"
   ]
  },
  {
   "cell_type": "markdown",
   "id": "dfc5996e",
   "metadata": {},
   "source": [
    "- Participate in the competition."
   ]
  }
 ],
 "metadata": {
  "celltoolbar": "Slideshow",
  "kernelspec": {
   "display_name": "Python 3",
   "language": "python",
   "name": "python3"
  },
  "language_info": {
   "codemirror_mode": {
    "name": "ipython",
    "version": 3
   },
   "file_extension": ".py",
   "mimetype": "text/x-python",
   "name": "python",
   "nbconvert_exporter": "python",
   "pygments_lexer": "ipython3",
   "version": "3.8.10"
  }
 },
 "nbformat": 4,
 "nbformat_minor": 5
}
