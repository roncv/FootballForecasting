{
 "cells": [
  {
   "cell_type": "markdown",
   "id": "791bc75e-4a0c-4211-a419-f99b3f33d1af",
   "metadata": {},
   "source": [
    "# Football Forecasting - WDSS Demo"
   ]
  },
  {
   "cell_type": "markdown",
   "id": "24342237-4010-48c9-993f-21915ab56599",
   "metadata": {},
   "source": [
    "Instert image here."
   ]
  },
  {
   "cell_type": "markdown",
   "id": "0e883cbb-986a-41ce-84a5-625293627b71",
   "metadata": {},
   "source": [
    "Here we provide a baseline model for our upcoming Premier League forecasting competition."
   ]
  },
  {
   "cell_type": "markdown",
   "id": "9f0d8cac-3d2e-48fc-861f-55cc0cb65d84",
   "metadata": {},
   "source": [
    "https://dashee87.github.io/football/python/predicting-football-results-with-statistical-modelling/   - Main Inspiration\n",
    "\n",
    "https://en.wikipedia.org/wiki/Skellam_distribution   - Skellam Distribution Wiki\n",
    "\n",
    "https://docs.scipy.org/doc/scipy/reference/generated/scipy.stats.skellam.html  - scipy.skellam\n",
    "\n",
    "https://dashee87.github.io/football/python/predicting-football-results-with-statistical-modelling-dixon-coles-and-time-weighting/    - Dixon Coles model\n",
    "\n",
    "https://www.imperial.ac.uk/media/imperial-college/faculty-of-engineering/computing/public/1718-ug-projects/Corentin-Herbinet-Using-Machine-Learning-techniques-to-predict-the-outcome-of-profressional-football-matches.pdf - ML Paper\n",
    "\n",
    "https://www.youtube.com/watch?v=CF8arYimMbk&ab_channel=WarwickDataScienceSociety - Tim's Video (R)"
   ]
  },
  {
   "cell_type": "code",
   "execution_count": 180,
   "id": "3605d79d-fbc8-4602-9112-f5152a71338d",
   "metadata": {},
   "outputs": [],
   "source": [
    "# Import some modules\n",
    "from scipy.stats import poisson, skellam\n",
    "import numpy as np\n",
    "import matplotlib\n",
    "import matplotlib.pyplot as plt\n",
    "import pandas as pd\n",
    "from matplotlib.ticker import AutoMinorLocator"
   ]
  },
  {
   "cell_type": "code",
   "execution_count": 3,
   "id": "fe6a537b-7ae5-481e-8939-0678b7b94eef",
   "metadata": {},
   "outputs": [],
   "source": [
    "# Fix Comments\n",
    "from scipy.optimize import minimize\n",
    "import seaborn as sns\n",
    "\n",
    "# Importing the tools required for the Poisson regression model\n",
    "import statsmodels.api as sm\n",
    "import statsmodels.formula.api as smf"
   ]
  },
  {
   "cell_type": "markdown",
   "id": "cf08bfb6-8cf8-4dc4-9543-dd4a0bd972e9",
   "metadata": {},
   "source": [
    "### Poisson Distribution"
   ]
  },
  {
   "cell_type": "markdown",
   "id": "986f7c82-d758-4d9e-959f-bf4db1536d48",
   "metadata": {},
   "source": [
    "#### $ P(x) = \\frac{e^{-\\lambda}\\lambda^{x}}{x!}, \\lambda > 0 $"
   ]
  },
  {
   "cell_type": "code",
   "execution_count": 4,
   "id": "7cf1571e-cff6-4320-856e-434814e5c2bb",
   "metadata": {},
   "outputs": [
    {
     "data": {
      "text/plain": [
       "1.29415"
      ]
     },
     "execution_count": 4,
     "metadata": {},
     "output_type": "execute_result"
    }
   ],
   "source": [
    "# Have an avg incidence of 1.3 per event. Size is the number of event scales.\n",
    "x_rvs = pd.Series(poisson.rvs(1.3, size=100000, random_state=2))\n",
    "x_rvs.mean()"
   ]
  },
  {
   "cell_type": "code",
   "execution_count": 5,
   "id": "83a4fc0c-0292-4676-ae42-9bd4d2aad6ec",
   "metadata": {},
   "outputs": [
    {
     "data": {
      "text/plain": [
       "{0: 27583, 1: 35414, 2: 22723, 3: 9948, 4: 3236, 5: 855, 6: 201, 7: 34, 8: 6}"
      ]
     },
     "execution_count": 5,
     "metadata": {},
     "output_type": "execute_result"
    }
   ],
   "source": [
    "data = x_rvs.value_counts().sort_index().to_dict()\n",
    "data"
   ]
  },
  {
   "cell_type": "code",
   "execution_count": 6,
   "id": "0f9ede21-3198-409c-bd21-1a4e168d4b4c",
   "metadata": {},
   "outputs": [
    {
     "data": {
      "image/png": "[encoded data removed]",
      "text/plain": [
       "<Figure size 1152x432 with 1 Axes>"
      ]
     },
     "metadata": {
      "needs_background": "light"
     },
     "output_type": "display_data"
    }
   ],
   "source": [
    "fig, ax = plt.subplots(figsize=(16, 6))\n",
    "ax.bar(range(len(data)), list(data.values()))\n",
    "plt.xticks(range(len(data)), list(data.keys()))\n",
    "plt.show()"
   ]
  },
  {
   "cell_type": "code",
   "execution_count": 7,
   "id": "dd1d0f6c-d179-454f-8073-b15ed577cbd8",
   "metadata": {},
   "outputs": [
    {
     "data": {
      "text/plain": [
       "0.30119421191220214"
      ]
     },
     "execution_count": 7,
     "metadata": {},
     "output_type": "execute_result"
    }
   ],
   "source": [
    "def poisson_pmf(k, lam):\n",
    "    return (lam ** k * np.exp(-lam)) / np.math.factorial(k)\n",
    "poisson_pmf(0, 1.2)"
   ]
  },
  {
   "cell_type": "code",
   "execution_count": 8,
   "id": "966103e6-99d5-484c-8bbb-58c72aac847a",
   "metadata": {},
   "outputs": [
    {
     "data": {
      "text/plain": [
       "0.30119421191220214"
      ]
     },
     "execution_count": 8,
     "metadata": {},
     "output_type": "execute_result"
    }
   ],
   "source": [
    "poisson.pmf(0, 1.2)"
   ]
  },
  {
   "cell_type": "code",
   "execution_count": 9,
   "id": "79042b86-efba-4835-bf4a-097bb93a800a",
   "metadata": {},
   "outputs": [
    {
     "data": {
      "text/plain": [
       "1.0954451150103321"
      ]
     },
     "execution_count": 9,
     "metadata": {},
     "output_type": "execute_result"
    }
   ],
   "source": [
    "poisson.std(1.2)"
   ]
  },
  {
   "cell_type": "code",
   "execution_count": 10,
   "id": "0ccd3d3c-eed5-4ee9-8eb8-fd7f14516052",
   "metadata": {},
   "outputs": [
    {
     "name": "stdout",
     "output_type": "stream",
     "text": [
      "12\n"
     ]
    }
   ],
   "source": [
    "season = 1819\n",
    "name = {season: \"epl_\"+str(season)}\n",
    "name[season] = 10\n",
    "\n",
    "globals()[\"epl_\"+str(season)] = 10\n",
    "x = globals()[\"epl_\"+str(season)]\n",
    "print(x+2)"
   ]
  },
  {
   "cell_type": "markdown",
   "id": "d5f68316-0e6b-4f2b-9a69-f98a62ab536f",
   "metadata": {},
   "source": [
    "### Forecasting the Premier League"
   ]
  },
  {
   "cell_type": "markdown",
   "id": "61fe0eea-29f2-448b-9f17-83dbf8f6067e",
   "metadata": {},
   "source": [
    "#### Data"
   ]
  },
  {
   "cell_type": "code",
   "execution_count": 286,
   "id": "3c17aa42-41ae-46e1-bf5c-b4865b357b2d",
   "metadata": {},
   "outputs": [],
   "source": [
    "# Define a function to quickly get data from any given EPL season.\n",
    "# Current GW fixtures are only added after the GW has finished.\n",
    "\n",
    "def get_epl_data(season):\n",
    "    \"\"\"\n",
    "    Takes in season formatted as YYYY (last 2 digits of Y1 and Y2 - no spaces or slashes)\n",
    "    \"\"\"\n",
    "    \n",
    "    x = pd.read_csv(\"http://www.football-data.co.uk/mmz4281/\" + str(season) + \"/E0.csv\")\n",
    "    x = x[['HomeTeam','AwayTeam','FTHG','FTAG', 'FTR']]\n",
    "    x = x.rename(columns={'FTHG': 'HomeGoals', 'FTAG': 'AwayGoals', 'FTR':'Result'})\n",
    "    globals()[\"epl_\"+str(season)] = x\n",
    "    \n",
    "    return globals()[\"epl_\"+str(season)]"
   ]
  },
  {
   "cell_type": "code",
   "execution_count": 15,
   "id": "082be8e4-7b7e-45ad-83e5-ab98a51bf159",
   "metadata": {},
   "outputs": [
    {
     "data": {
      "text/plain": [
       "Index(['Div', 'Date', 'HomeTeam', 'AwayTeam', 'FTHG', 'FTAG', 'FTR', 'HTHG',\n",
       "       'HTAG', 'HTR', 'Referee', 'HS', 'AS', 'HST', 'AST', 'HF', 'AF', 'HC',\n",
       "       'AC', 'HY', 'AY', 'HR', 'AR', 'B365H', 'B365D', 'B365A', 'BWH', 'BWD',\n",
       "       'BWA', 'IWH', 'IWD', 'IWA', 'LBH', 'LBD', 'LBA', 'PSH', 'PSD', 'PSA',\n",
       "       'WHH', 'WHD', 'WHA', 'VCH', 'VCD', 'VCA', 'Bb1X2', 'BbMxH', 'BbAvH',\n",
       "       'BbMxD', 'BbAvD', 'BbMxA', 'BbAvA', 'BbOU', 'BbMx>2.5', 'BbAv>2.5',\n",
       "       'BbMx<2.5', 'BbAv<2.5', 'BbAH', 'BbAHh', 'BbMxAHH', 'BbAvAHH',\n",
       "       'BbMxAHA', 'BbAvAHA', 'PSCH', 'PSCD', 'PSCA'],\n",
       "      dtype='object')"
      ]
     },
     "execution_count": 15,
     "metadata": {},
     "output_type": "execute_result"
    }
   ],
   "source": [
    "epl_1718 = pd.read_csv(\"http://www.football-data.co.uk/mmz4281/1718/E0.csv\")\n",
    "epl_1718.columns"
   ]
  },
  {
   "cell_type": "markdown",
   "id": "fdb8d0d2-20c4-4f0e-ada7-193aad650cb3",
   "metadata": {},
   "source": [
    "#### Add link to column names descriptiions."
   ]
  },
  {
   "cell_type": "code",
   "execution_count": 16,
   "id": "3972dee8-de93-4c29-8907-bc30ee791c13",
   "metadata": {},
   "outputs": [
    {
     "data": {
      "text/html": [
       "<div>\n",
       "<style scoped>\n",
       "    .dataframe tbody tr th:only-of-type {\n",
       "        vertical-align: middle;\n",
       "    }\n",
       "\n",
       "    .dataframe tbody tr th {\n",
       "        vertical-align: top;\n",
       "    }\n",
       "\n",
       "    .dataframe thead th {\n",
       "        text-align: right;\n",
       "    }\n",
       "</style>\n",
       "<table border=\"1\" class=\"dataframe\">\n",
       "  <thead>\n",
       "    <tr style=\"text-align: right;\">\n",
       "      <th></th>\n",
       "      <th>HomeTeam</th>\n",
       "      <th>AwayTeam</th>\n",
       "      <th>HomeGoals</th>\n",
       "      <th>AwayGoals</th>\n",
       "      <th>Result</th>\n",
       "    </tr>\n",
       "  </thead>\n",
       "  <tbody>\n",
       "    <tr>\n",
       "      <th>0</th>\n",
       "      <td>Arsenal</td>\n",
       "      <td>Leicester</td>\n",
       "      <td>4</td>\n",
       "      <td>3</td>\n",
       "      <td>H</td>\n",
       "    </tr>\n",
       "    <tr>\n",
       "      <th>1</th>\n",
       "      <td>Brighton</td>\n",
       "      <td>Man City</td>\n",
       "      <td>0</td>\n",
       "      <td>2</td>\n",
       "      <td>A</td>\n",
       "    </tr>\n",
       "    <tr>\n",
       "      <th>2</th>\n",
       "      <td>Chelsea</td>\n",
       "      <td>Burnley</td>\n",
       "      <td>2</td>\n",
       "      <td>3</td>\n",
       "      <td>A</td>\n",
       "    </tr>\n",
       "    <tr>\n",
       "      <th>3</th>\n",
       "      <td>Crystal Palace</td>\n",
       "      <td>Huddersfield</td>\n",
       "      <td>0</td>\n",
       "      <td>3</td>\n",
       "      <td>A</td>\n",
       "    </tr>\n",
       "    <tr>\n",
       "      <th>4</th>\n",
       "      <td>Everton</td>\n",
       "      <td>Stoke</td>\n",
       "      <td>1</td>\n",
       "      <td>0</td>\n",
       "      <td>H</td>\n",
       "    </tr>\n",
       "  </tbody>\n",
       "</table>\n",
       "</div>"
      ],
      "text/plain": [
       "         HomeTeam      AwayTeam  HomeGoals  AwayGoals Result\n",
       "0         Arsenal     Leicester          4          3      H\n",
       "1        Brighton      Man City          0          2      A\n",
       "2         Chelsea       Burnley          2          3      A\n",
       "3  Crystal Palace  Huddersfield          0          3      A\n",
       "4         Everton         Stoke          1          0      H"
      ]
     },
     "execution_count": 16,
     "metadata": {},
     "output_type": "execute_result"
    }
   ],
   "source": [
    "epl_1718 = pd.read_csv(\"http://www.football-data.co.uk/mmz4281/1718/E0.csv\")\n",
    "epl_1718 = epl_1718[['HomeTeam','AwayTeam','FTHG','FTAG', 'FTR']]\n",
    "epl_1718 = epl_1718.rename(columns={'FTHG': 'HomeGoals', 'FTAG': 'AwayGoals', 'FTR':'Result'})\n",
    "epl_1718.head()"
   ]
  },
  {
   "cell_type": "code",
   "execution_count": 234,
   "id": "0885de18-c846-49f0-94f5-4b3343dd31d3",
   "metadata": {},
   "outputs": [
    {
     "data": {
      "text/html": [
       "<div>\n",
       "<style scoped>\n",
       "    .dataframe tbody tr th:only-of-type {\n",
       "        vertical-align: middle;\n",
       "    }\n",
       "\n",
       "    .dataframe tbody tr th {\n",
       "        vertical-align: top;\n",
       "    }\n",
       "\n",
       "    .dataframe thead th {\n",
       "        text-align: right;\n",
       "    }\n",
       "</style>\n",
       "<table border=\"1\" class=\"dataframe\">\n",
       "  <thead>\n",
       "    <tr style=\"text-align: right;\">\n",
       "      <th></th>\n",
       "      <th>HomeTeam</th>\n",
       "      <th>AwayTeam</th>\n",
       "      <th>HomeGoals</th>\n",
       "      <th>AwayGoals</th>\n",
       "      <th>Result</th>\n",
       "    </tr>\n",
       "  </thead>\n",
       "  <tbody>\n",
       "    <tr>\n",
       "      <th>0</th>\n",
       "      <td>Burnley</td>\n",
       "      <td>Swansea</td>\n",
       "      <td>0</td>\n",
       "      <td>1</td>\n",
       "      <td>A</td>\n",
       "    </tr>\n",
       "    <tr>\n",
       "      <th>1</th>\n",
       "      <td>Crystal Palace</td>\n",
       "      <td>West Brom</td>\n",
       "      <td>0</td>\n",
       "      <td>1</td>\n",
       "      <td>A</td>\n",
       "    </tr>\n",
       "    <tr>\n",
       "      <th>2</th>\n",
       "      <td>Everton</td>\n",
       "      <td>Tottenham</td>\n",
       "      <td>1</td>\n",
       "      <td>1</td>\n",
       "      <td>D</td>\n",
       "    </tr>\n",
       "    <tr>\n",
       "      <th>3</th>\n",
       "      <td>Hull</td>\n",
       "      <td>Leicester</td>\n",
       "      <td>2</td>\n",
       "      <td>1</td>\n",
       "      <td>H</td>\n",
       "    </tr>\n",
       "    <tr>\n",
       "      <th>4</th>\n",
       "      <td>Man City</td>\n",
       "      <td>Sunderland</td>\n",
       "      <td>2</td>\n",
       "      <td>1</td>\n",
       "      <td>H</td>\n",
       "    </tr>\n",
       "  </tbody>\n",
       "</table>\n",
       "</div>"
      ],
      "text/plain": [
       "         HomeTeam    AwayTeam  HomeGoals  AwayGoals Result\n",
       "0         Burnley     Swansea          0          1      A\n",
       "1  Crystal Palace   West Brom          0          1      A\n",
       "2         Everton   Tottenham          1          1      D\n",
       "3            Hull   Leicester          2          1      H\n",
       "4        Man City  Sunderland          2          1      H"
      ]
     },
     "execution_count": 234,
     "metadata": {},
     "output_type": "execute_result"
    }
   ],
   "source": [
    "epl_1617 = pd.read_csv(\"http://www.football-data.co.uk/mmz4281/1617/E0.csv\")\n",
    "epl_1617 = epl_1617[['HomeTeam','AwayTeam','FTHG','FTAG', 'FTR']]\n",
    "epl_1617 = epl_1617.rename(columns={'FTHG': 'HomeGoals', 'FTAG': 'AwayGoals', 'FTR':'Result'})\n",
    "epl_1617.head()"
   ]
  },
  {
   "cell_type": "markdown",
   "id": "0a547001-6016-4023-9f32-7909896156c3",
   "metadata": {},
   "source": [
    "#### Model"
   ]
  },
  {
   "cell_type": "code",
   "execution_count": 236,
   "id": "b18531f4-60ed-4662-ae68-f43372fc4dfa",
   "metadata": {},
   "outputs": [
    {
     "data": {
      "text/plain": [
       "HomeGoals    1.591892\n",
       "AwayGoals    1.183784\n",
       "dtype: float64"
      ]
     },
     "execution_count": 236,
     "metadata": {},
     "output_type": "execute_result"
    }
   ],
   "source": [
    "# EPL data and the Home advantage\n",
    "epl_1617 = epl_1617[:-10]\n",
    "epl_1617.mean()"
   ]
  },
  {
   "cell_type": "code",
   "execution_count": 19,
   "id": "04e2ac29-f9dd-4be6-ae1b-f8fe0426a3c6",
   "metadata": {},
   "outputs": [
    {
     "data": {
      "text/plain": [
       "0.2480937681071708"
      ]
     },
     "execution_count": 19,
     "metadata": {},
     "output_type": "execute_result"
    }
   ],
   "source": [
    "# probability of draw between home and away team\n",
    "skellam.pmf(0.0,  epl_1617.mean()[0],  epl_1617.mean()[1])"
   ]
  },
  {
   "cell_type": "code",
   "execution_count": 20,
   "id": "18ee3ce0-406e-4e27-9898-dbf2be8d5677",
   "metadata": {},
   "outputs": [
    {
     "data": {
      "text/plain": [
       "0.22706765807563964"
      ]
     },
     "execution_count": 20,
     "metadata": {},
     "output_type": "execute_result"
    }
   ],
   "source": [
    "# probability of home team winning by one goal\n",
    "skellam.pmf(1,  epl_1617.mean()[0],  epl_1617.mean()[1])"
   ]
  },
  {
   "cell_type": "code",
   "execution_count": 320,
   "id": "1c4caeb8-df3f-491e-82db-ebf582e0e344",
   "metadata": {},
   "outputs": [],
   "source": [
    "# Prepare the data\n",
    "goal_model_data = pd.concat([epl_1617[['HomeTeam','AwayTeam','HomeGoals']].assign(home=1).rename(\n",
    "            columns={'HomeTeam':'team', 'AwayTeam':'opponent','HomeGoals':'goals'}),\n",
    "           epl_1617[['AwayTeam','HomeTeam','AwayGoals']].assign(home=0).rename(\n",
    "            columns={'AwayTeam':'team', 'HomeTeam':'opponent','AwayGoals':'goals'})])"
   ]
  },
  {
   "cell_type": "code",
   "execution_count": 321,
   "id": "46d4f08a-975e-4069-973c-c9757f5fa1e7",
   "metadata": {},
   "outputs": [],
   "source": [
    "# Building the model\n",
    "# Poisson Regression: log-linear model\n",
    "poisson_model = smf.glm(formula=\"goals ~ home + team + opponent\", data=goal_model_data, \n",
    "                        family=sm.families.Poisson()).fit()"
   ]
  },
  {
   "cell_type": "code",
   "execution_count": 322,
   "id": "a07646a0-7462-4ba6-a027-68da338ffa16",
   "metadata": {
    "tags": []
   },
   "outputs": [
    {
     "data": {
      "text/html": [
       "<table class=\"simpletable\">\n",
       "<caption>Generalized Linear Model Regression Results</caption>\n",
       "<tr>\n",
       "  <th>Dep. Variable:</th>         <td>goals</td>      <th>  No. Observations:  </th>  <td>   760</td> \n",
       "</tr>\n",
       "<tr>\n",
       "  <th>Model:</th>                  <td>GLM</td>       <th>  Df Residuals:      </th>  <td>   720</td> \n",
       "</tr>\n",
       "<tr>\n",
       "  <th>Model Family:</th>         <td>Poisson</td>     <th>  Df Model:          </th>  <td>    39</td> \n",
       "</tr>\n",
       "<tr>\n",
       "  <th>Link Function:</th>          <td>log</td>       <th>  Scale:             </th> <td>  1.0000</td>\n",
       "</tr>\n",
       "<tr>\n",
       "  <th>Method:</th>                <td>IRLS</td>       <th>  Log-Likelihood:    </th> <td> -1072.1</td>\n",
       "</tr>\n",
       "<tr>\n",
       "  <th>Date:</th>            <td>Sat, 25 Sep 2021</td> <th>  Deviance:          </th> <td>  794.94</td>\n",
       "</tr>\n",
       "<tr>\n",
       "  <th>Time:</th>                <td>18:55:41</td>     <th>  Pearson chi2:      </th>  <td>  678.</td> \n",
       "</tr>\n",
       "<tr>\n",
       "  <th>No. Iterations:</th>          <td>5</td>        <th>                     </th>     <td> </td>   \n",
       "</tr>\n",
       "<tr>\n",
       "  <th>Covariance Type:</th>     <td>nonrobust</td>    <th>                     </th>     <td> </td>   \n",
       "</tr>\n",
       "</table>\n",
       "<table class=\"simpletable\">\n",
       "<tr>\n",
       "               <td></td>                 <th>coef</th>     <th>std err</th>      <th>z</th>      <th>P>|z|</th>  <th>[0.025</th>    <th>0.975]</th>  \n",
       "</tr>\n",
       "<tr>\n",
       "  <th>Intercept</th>                  <td>    0.3830</td> <td>    0.195</td> <td>    1.964</td> <td> 0.050</td> <td>    0.001</td> <td>    0.765</td>\n",
       "</tr>\n",
       "<tr>\n",
       "  <th>team[T.Bournemouth]</th>        <td>   -0.3144</td> <td>    0.177</td> <td>   -1.778</td> <td> 0.075</td> <td>   -0.661</td> <td>    0.032</td>\n",
       "</tr>\n",
       "<tr>\n",
       "  <th>team[T.Burnley]</th>            <td>   -0.6711</td> <td>    0.197</td> <td>   -3.410</td> <td> 0.001</td> <td>   -1.057</td> <td>   -0.285</td>\n",
       "</tr>\n",
       "<tr>\n",
       "  <th>team[T.Chelsea]</th>            <td>    0.0881</td> <td>    0.158</td> <td>    0.559</td> <td> 0.576</td> <td>   -0.221</td> <td>    0.397</td>\n",
       "</tr>\n",
       "<tr>\n",
       "  <th>team[T.Crystal Palace]</th>     <td>   -0.4141</td> <td>    0.182</td> <td>   -2.276</td> <td> 0.023</td> <td>   -0.771</td> <td>   -0.058</td>\n",
       "</tr>\n",
       "<tr>\n",
       "  <th>team[T.Everton]</th>            <td>   -0.2173</td> <td>    0.171</td> <td>   -1.272</td> <td> 0.203</td> <td>   -0.552</td> <td>    0.118</td>\n",
       "</tr>\n",
       "<tr>\n",
       "  <th>team[T.Hull]</th>               <td>   -0.6991</td> <td>    0.200</td> <td>   -3.489</td> <td> 0.000</td> <td>   -1.092</td> <td>   -0.306</td>\n",
       "</tr>\n",
       "<tr>\n",
       "  <th>team[T.Leicester]</th>          <td>   -0.4551</td> <td>    0.184</td> <td>   -2.470</td> <td> 0.013</td> <td>   -0.816</td> <td>   -0.094</td>\n",
       "</tr>\n",
       "<tr>\n",
       "  <th>team[T.Liverpool]</th>          <td>    0.0109</td> <td>    0.161</td> <td>    0.068</td> <td> 0.946</td> <td>   -0.304</td> <td>    0.326</td>\n",
       "</tr>\n",
       "<tr>\n",
       "  <th>team[T.Man City]</th>           <td>    0.0333</td> <td>    0.160</td> <td>    0.208</td> <td> 0.835</td> <td>   -0.280</td> <td>    0.347</td>\n",
       "</tr>\n",
       "<tr>\n",
       "  <th>team[T.Man United]</th>         <td>   -0.3705</td> <td>    0.178</td> <td>   -2.085</td> <td> 0.037</td> <td>   -0.719</td> <td>   -0.022</td>\n",
       "</tr>\n",
       "<tr>\n",
       "  <th>team[T.Middlesbrough]</th>      <td>   -1.0414</td> <td>    0.224</td> <td>   -4.652</td> <td> 0.000</td> <td>   -1.480</td> <td>   -0.603</td>\n",
       "</tr>\n",
       "<tr>\n",
       "  <th>team[T.Southampton]</th>        <td>   -0.6279</td> <td>    0.194</td> <td>   -3.244</td> <td> 0.001</td> <td>   -1.007</td> <td>   -0.249</td>\n",
       "</tr>\n",
       "<tr>\n",
       "  <th>team[T.Stoke]</th>              <td>   -0.6200</td> <td>    0.194</td> <td>   -3.203</td> <td> 0.001</td> <td>   -0.999</td> <td>   -0.241</td>\n",
       "</tr>\n",
       "<tr>\n",
       "  <th>team[T.Sunderland]</th>         <td>   -0.9542</td> <td>    0.218</td> <td>   -4.375</td> <td> 0.000</td> <td>   -1.382</td> <td>   -0.527</td>\n",
       "</tr>\n",
       "<tr>\n",
       "  <th>team[T.Swansea]</th>            <td>   -0.5128</td> <td>    0.188</td> <td>   -2.728</td> <td> 0.006</td> <td>   -0.881</td> <td>   -0.144</td>\n",
       "</tr>\n",
       "<tr>\n",
       "  <th>team[T.Tottenham]</th>          <td>    0.0928</td> <td>    0.157</td> <td>    0.590</td> <td> 0.555</td> <td>   -0.215</td> <td>    0.401</td>\n",
       "</tr>\n",
       "<tr>\n",
       "  <th>team[T.Watford]</th>            <td>   -0.6329</td> <td>    0.195</td> <td>   -3.243</td> <td> 0.001</td> <td>   -1.015</td> <td>   -0.250</td>\n",
       "</tr>\n",
       "<tr>\n",
       "  <th>team[T.West Brom]</th>          <td>   -0.5772</td> <td>    0.191</td> <td>   -3.028</td> <td> 0.002</td> <td>   -0.951</td> <td>   -0.204</td>\n",
       "</tr>\n",
       "<tr>\n",
       "  <th>team[T.West Ham]</th>           <td>   -0.4752</td> <td>    0.185</td> <td>   -2.563</td> <td> 0.010</td> <td>   -0.839</td> <td>   -0.112</td>\n",
       "</tr>\n",
       "<tr>\n",
       "  <th>opponent[T.Bournemouth]</th>    <td>    0.3998</td> <td>    0.194</td> <td>    2.057</td> <td> 0.040</td> <td>    0.019</td> <td>    0.781</td>\n",
       "</tr>\n",
       "<tr>\n",
       "  <th>opponent[T.Burnley]</th>        <td>    0.1859</td> <td>    0.203</td> <td>    0.918</td> <td> 0.359</td> <td>   -0.211</td> <td>    0.583</td>\n",
       "</tr>\n",
       "<tr>\n",
       "  <th>opponent[T.Chelsea]</th>        <td>   -0.2805</td> <td>    0.231</td> <td>   -1.216</td> <td> 0.224</td> <td>   -0.733</td> <td>    0.172</td>\n",
       "</tr>\n",
       "<tr>\n",
       "  <th>opponent[T.Crystal Palace]</th> <td>    0.3330</td> <td>    0.197</td> <td>    1.692</td> <td> 0.091</td> <td>   -0.053</td> <td>    0.719</td>\n",
       "</tr>\n",
       "<tr>\n",
       "  <th>opponent[T.Everton]</th>        <td>   -0.0150</td> <td>    0.214</td> <td>   -0.070</td> <td> 0.944</td> <td>   -0.434</td> <td>    0.403</td>\n",
       "</tr>\n",
       "<tr>\n",
       "  <th>opponent[T.Hull]</th>           <td>    0.5595</td> <td>    0.188</td> <td>    2.976</td> <td> 0.003</td> <td>    0.191</td> <td>    0.928</td>\n",
       "</tr>\n",
       "<tr>\n",
       "  <th>opponent[T.Leicester]</th>      <td>    0.3310</td> <td>    0.197</td> <td>    1.682</td> <td> 0.093</td> <td>   -0.055</td> <td>    0.717</td>\n",
       "</tr>\n",
       "<tr>\n",
       "  <th>opponent[T.Liverpool]</th>      <td>   -0.0457</td> <td>    0.216</td> <td>   -0.211</td> <td> 0.833</td> <td>   -0.469</td> <td>    0.378</td>\n",
       "</tr>\n",
       "<tr>\n",
       "  <th>opponent[T.Man City]</th>       <td>   -0.1180</td> <td>    0.220</td> <td>   -0.536</td> <td> 0.592</td> <td>   -0.550</td> <td>    0.314</td>\n",
       "</tr>\n",
       "<tr>\n",
       "  <th>opponent[T.Man United]</th>     <td>   -0.4406</td> <td>    0.239</td> <td>   -1.840</td> <td> 0.066</td> <td>   -0.910</td> <td>    0.029</td>\n",
       "</tr>\n",
       "<tr>\n",
       "  <th>opponent[T.Middlesbrough]</th>  <td>    0.1371</td> <td>    0.204</td> <td>    0.671</td> <td> 0.502</td> <td>   -0.263</td> <td>    0.537</td>\n",
       "</tr>\n",
       "<tr>\n",
       "  <th>opponent[T.Southampton]</th>    <td>    0.0515</td> <td>    0.209</td> <td>    0.246</td> <td> 0.805</td> <td>   -0.358</td> <td>    0.461</td>\n",
       "</tr>\n",
       "<tr>\n",
       "  <th>opponent[T.Stoke]</th>          <td>    0.2059</td> <td>    0.202</td> <td>    1.021</td> <td> 0.307</td> <td>   -0.189</td> <td>    0.601</td>\n",
       "</tr>\n",
       "<tr>\n",
       "  <th>opponent[T.Sunderland]</th>     <td>    0.4033</td> <td>    0.193</td> <td>    2.088</td> <td> 0.037</td> <td>    0.025</td> <td>    0.782</td>\n",
       "</tr>\n",
       "<tr>\n",
       "  <th>opponent[T.Swansea]</th>        <td>    0.4336</td> <td>    0.193</td> <td>    2.250</td> <td> 0.024</td> <td>    0.056</td> <td>    0.811</td>\n",
       "</tr>\n",
       "<tr>\n",
       "  <th>opponent[T.Tottenham]</th>      <td>   -0.5185</td> <td>    0.248</td> <td>   -2.093</td> <td> 0.036</td> <td>   -1.004</td> <td>   -0.033</td>\n",
       "</tr>\n",
       "<tr>\n",
       "  <th>opponent[T.Watford]</th>        <td>    0.3996</td> <td>    0.194</td> <td>    2.062</td> <td> 0.039</td> <td>    0.020</td> <td>    0.779</td>\n",
       "</tr>\n",
       "<tr>\n",
       "  <th>opponent[T.West Brom]</th>      <td>    0.1142</td> <td>    0.206</td> <td>    0.554</td> <td> 0.580</td> <td>   -0.290</td> <td>    0.518</td>\n",
       "</tr>\n",
       "<tr>\n",
       "  <th>opponent[T.West Ham]</th>       <td>    0.3458</td> <td>    0.196</td> <td>    1.763</td> <td> 0.078</td> <td>   -0.039</td> <td>    0.730</td>\n",
       "</tr>\n",
       "<tr>\n",
       "  <th>home</th>                       <td>    0.2838</td> <td>    0.062</td> <td>    4.583</td> <td> 0.000</td> <td>    0.162</td> <td>    0.405</td>\n",
       "</tr>\n",
       "</table>"
      ],
      "text/plain": [
       "<class 'statsmodels.iolib.summary.Summary'>\n",
       "\"\"\"\n",
       "                 Generalized Linear Model Regression Results                  \n",
       "==============================================================================\n",
       "Dep. Variable:                  goals   No. Observations:                  760\n",
       "Model:                            GLM   Df Residuals:                      720\n",
       "Model Family:                 Poisson   Df Model:                           39\n",
       "Link Function:                    log   Scale:                          1.0000\n",
       "Method:                          IRLS   Log-Likelihood:                -1072.1\n",
       "Date:                Sat, 25 Sep 2021   Deviance:                       794.94\n",
       "Time:                        18:55:41   Pearson chi2:                     678.\n",
       "No. Iterations:                     5                                         \n",
       "Covariance Type:            nonrobust                                         \n",
       "==============================================================================================\n",
       "                                 coef    std err          z      P>|z|      [0.025      0.975]\n",
       "----------------------------------------------------------------------------------------------\n",
       "Intercept                      0.3830      0.195      1.964      0.050       0.001       0.765\n",
       "team[T.Bournemouth]           -0.3144      0.177     -1.778      0.075      -0.661       0.032\n",
       "team[T.Burnley]               -0.6711      0.197     -3.410      0.001      -1.057      -0.285\n",
       "team[T.Chelsea]                0.0881      0.158      0.559      0.576      -0.221       0.397\n",
       "team[T.Crystal Palace]        -0.4141      0.182     -2.276      0.023      -0.771      -0.058\n",
       "team[T.Everton]               -0.2173      0.171     -1.272      0.203      -0.552       0.118\n",
       "team[T.Hull]                  -0.6991      0.200     -3.489      0.000      -1.092      -0.306\n",
       "team[T.Leicester]             -0.4551      0.184     -2.470      0.013      -0.816      -0.094\n",
       "team[T.Liverpool]              0.0109      0.161      0.068      0.946      -0.304       0.326\n",
       "team[T.Man City]               0.0333      0.160      0.208      0.835      -0.280       0.347\n",
       "team[T.Man United]            -0.3705      0.178     -2.085      0.037      -0.719      -0.022\n",
       "team[T.Middlesbrough]         -1.0414      0.224     -4.652      0.000      -1.480      -0.603\n",
       "team[T.Southampton]           -0.6279      0.194     -3.244      0.001      -1.007      -0.249\n",
       "team[T.Stoke]                 -0.6200      0.194     -3.203      0.001      -0.999      -0.241\n",
       "team[T.Sunderland]            -0.9542      0.218     -4.375      0.000      -1.382      -0.527\n",
       "team[T.Swansea]               -0.5128      0.188     -2.728      0.006      -0.881      -0.144\n",
       "team[T.Tottenham]              0.0928      0.157      0.590      0.555      -0.215       0.401\n",
       "team[T.Watford]               -0.6329      0.195     -3.243      0.001      -1.015      -0.250\n",
       "team[T.West Brom]             -0.5772      0.191     -3.028      0.002      -0.951      -0.204\n",
       "team[T.West Ham]              -0.4752      0.185     -2.563      0.010      -0.839      -0.112\n",
       "opponent[T.Bournemouth]        0.3998      0.194      2.057      0.040       0.019       0.781\n",
       "opponent[T.Burnley]            0.1859      0.203      0.918      0.359      -0.211       0.583\n",
       "opponent[T.Chelsea]           -0.2805      0.231     -1.216      0.224      -0.733       0.172\n",
       "opponent[T.Crystal Palace]     0.3330      0.197      1.692      0.091      -0.053       0.719\n",
       "opponent[T.Everton]           -0.0150      0.214     -0.070      0.944      -0.434       0.403\n",
       "opponent[T.Hull]               0.5595      0.188      2.976      0.003       0.191       0.928\n",
       "opponent[T.Leicester]          0.3310      0.197      1.682      0.093      -0.055       0.717\n",
       "opponent[T.Liverpool]         -0.0457      0.216     -0.211      0.833      -0.469       0.378\n",
       "opponent[T.Man City]          -0.1180      0.220     -0.536      0.592      -0.550       0.314\n",
       "opponent[T.Man United]        -0.4406      0.239     -1.840      0.066      -0.910       0.029\n",
       "opponent[T.Middlesbrough]      0.1371      0.204      0.671      0.502      -0.263       0.537\n",
       "opponent[T.Southampton]        0.0515      0.209      0.246      0.805      -0.358       0.461\n",
       "opponent[T.Stoke]              0.2059      0.202      1.021      0.307      -0.189       0.601\n",
       "opponent[T.Sunderland]         0.4033      0.193      2.088      0.037       0.025       0.782\n",
       "opponent[T.Swansea]            0.4336      0.193      2.250      0.024       0.056       0.811\n",
       "opponent[T.Tottenham]         -0.5185      0.248     -2.093      0.036      -1.004      -0.033\n",
       "opponent[T.Watford]            0.3996      0.194      2.062      0.039       0.020       0.779\n",
       "opponent[T.West Brom]          0.1142      0.206      0.554      0.580      -0.290       0.518\n",
       "opponent[T.West Ham]           0.3458      0.196      1.763      0.078      -0.039       0.730\n",
       "home                           0.2838      0.062      4.583      0.000       0.162       0.405\n",
       "==============================================================================================\n",
       "\"\"\""
      ]
     },
     "execution_count": 322,
     "metadata": {},
     "output_type": "execute_result"
    }
   ],
   "source": [
    "poisson_model.summary()"
   ]
  },
  {
   "cell_type": "code",
   "execution_count": 24,
   "id": "10a3a469-973d-46e6-8caf-5b119f8f429a",
   "metadata": {
    "tags": []
   },
   "outputs": [
    {
     "data": {
      "text/plain": [
       "1    3.061662\n",
       "dtype: float64"
      ]
     },
     "execution_count": 24,
     "metadata": {},
     "output_type": "execute_result"
    }
   ],
   "source": [
    "poisson_model.predict(pd.DataFrame(data={'team': 'Chelsea', 'opponent': 'Sunderland',\n",
    "                                       'home':1},index=[1]))"
   ]
  },
  {
   "cell_type": "code",
   "execution_count": 25,
   "id": "03e87b64-ee65-4a30-aa1b-38782ebee757",
   "metadata": {},
   "outputs": [
    {
     "data": {
      "text/plain": [
       "1    0.409373\n",
       "dtype: float64"
      ]
     },
     "execution_count": 25,
     "metadata": {},
     "output_type": "execute_result"
    }
   ],
   "source": [
    "poisson_model.predict(pd.DataFrame(data={'team': 'Sunderland', 'opponent': 'Chelsea',\n",
    "                                       'home':0},index=[1]))"
   ]
  },
  {
   "cell_type": "code",
   "execution_count": 323,
   "id": "750e1741-5240-4d03-bc11-6561c5932e63",
   "metadata": {},
   "outputs": [
    {
     "data": {
      "text/plain": [
       "array([[2.70313770e-02, 1.15330642e-02, 2.46031805e-03, 3.49902091e-04,\n",
       "        3.73218434e-05, 3.18470802e-06, 2.26461777e-07, 1.38029976e-08,\n",
       "        7.36139232e-10],\n",
       "       [8.60706689e-02, 3.67224559e-02, 7.83390430e-03, 1.11412404e-03,\n",
       "        1.18836566e-04, 1.01404361e-05, 7.21077460e-07, 4.39501559e-08,\n",
       "        2.34394260e-09],\n",
       "       [1.37028906e-01, 5.84640276e-02, 1.24719762e-02, 1.77374245e-03,\n",
       "        1.89193891e-04, 1.61440927e-05, 1.14799219e-06, 6.99708956e-08,\n",
       "        3.73167648e-09],\n",
       "       [1.45438017e-01, 6.20518144e-02, 1.32373493e-02, 1.88259245e-03,\n",
       "        2.00804232e-04, 1.71348141e-05, 1.21844151e-06, 7.42648292e-08,\n",
       "        3.96067985e-09],\n",
       "       [1.15772380e-01, 4.93948308e-02, 1.05372685e-02, 1.49859173e-03,\n",
       "        1.59845303e-04, 1.36397501e-05, 9.69910596e-07, 5.91167028e-08,\n",
       "        3.15280243e-09],\n",
       "       [7.37262197e-02, 3.14556386e-02, 6.71034810e-03, 9.54333864e-04,\n",
       "        1.01792758e-04, 8.68607187e-06, 6.17658906e-07, 3.76467255e-08,\n",
       "        2.00776907e-09],\n",
       "       [3.91253039e-02, 1.66929950e-02, 3.56107244e-03, 5.06449437e-04,\n",
       "        5.40197589e-05, 4.60955686e-06, 3.27781521e-07, 1.99785040e-08,\n",
       "        1.06549034e-09],\n",
       "       [1.77969956e-02, 7.59317191e-03, 1.61983126e-03, 2.30369543e-04,\n",
       "        2.45720624e-05, 2.09675721e-06, 1.49098555e-07, 9.08765716e-09,\n",
       "        4.84661461e-10],\n",
       "       [7.08343176e-03, 3.02217949e-03, 6.44713550e-04, 9.16900233e-05,\n",
       "        9.77999497e-06, 8.34536175e-07, 5.93431310e-08, 3.61700372e-09,\n",
       "        1.92901457e-10]])"
      ]
     },
     "execution_count": 323,
     "metadata": {},
     "output_type": "execute_result"
    }
   ],
   "source": [
    "def simulate_match(foot_model, homeTeam, awayTeam, max_goals=8):\n",
    "    home_goals_avg = foot_model.predict(pd.DataFrame(data={'team': homeTeam, \n",
    "                                                            'opponent': awayTeam,'home':1},\n",
    "                                                      index=[1])).values[0]\n",
    "    away_goals_avg = foot_model.predict(pd.DataFrame(data={'team': awayTeam, \n",
    "                                                            'opponent': homeTeam,'home':0},\n",
    "                                                      index=[1])).values[0]\n",
    "    team_pred = [[poisson.pmf(i, team_avg) for i in range(0, max_goals+1)] for team_avg in [home_goals_avg, away_goals_avg]]\n",
    "    return(np.outer(np.array(team_pred[0]), np.array(team_pred[1])))\n",
    "\n",
    "\n",
    "simulate_match(poisson_model, 'Chelsea', 'Sunderland')"
   ]
  },
  {
   "cell_type": "code",
   "execution_count": 344,
   "id": "00c01338-7cf9-43ff-ad53-1f73f1b64e40",
   "metadata": {},
   "outputs": [
    {
     "name": "stdout",
     "output_type": "stream",
     "text": [
      "Chelsea: 2\n",
      "Liverpool: 1\n",
      "2\n",
      "1\n"
     ]
    }
   ],
   "source": [
    "def simulate_match_output(homeTeam, awayTeam, max_goals=8, foot_model=poisson_model):\n",
    "    # Predict avg goals\n",
    "    home_goals_avg = foot_model.predict(pd.DataFrame(data={'team': homeTeam, \n",
    "                                                            'opponent': awayTeam,'home':1},\n",
    "                                                      index=[1])).values[0]\n",
    "    away_goals_avg = foot_model.predict(pd.DataFrame(data={'team': awayTeam, \n",
    "                                                            'opponent': homeTeam,'home':0},\n",
    "                                                      index=[1])).values[0]\n",
    "    \n",
    "    team_pred = [[poisson.pmf(i, team_avg) for i in range(0, max_goals+1)] for team_avg in [home_goals_avg, away_goals_avg]]\n",
    "    distribution = np.outer(np.array(team_pred[0]), np.array(team_pred[1])) # *multiply distributions together\n",
    "    \n",
    "    # Get most likely score\n",
    "    global h, a\n",
    "    h = np.argmax(distribution)//(max_goals + 1) \n",
    "    a = np.argmax(distribution)%(max_goals + 1) \n",
    "    output = homeTeam + \": \" + str(h) + \"\\n\" + awayTeam + \": \" + str(a)\n",
    "    \n",
    "    return print(output)\n",
    "    return(h, a)\n",
    "\n",
    "simulate_match_clean('Chelsea', 'Liverpool')\n",
    "print(h)\n",
    "print(a)"
   ]
  },
  {
   "cell_type": "code",
   "execution_count": 345,
   "id": "bd4f3e4a-82ae-4521-9f34-22d48d77123f",
   "metadata": {},
   "outputs": [
    {
     "data": {
      "text/plain": [
       "(2, 1)"
      ]
     },
     "execution_count": 345,
     "metadata": {},
     "output_type": "execute_result"
    }
   ],
   "source": [
    "def simulate_match_clean(homeTeam, awayTeam, max_goals=8, foot_model=poisson_model):\n",
    "    # Predict avg goals\n",
    "    home_goals_avg = foot_model.predict(pd.DataFrame(data={'team': homeTeam, \n",
    "                                                            'opponent': awayTeam,'home':1},\n",
    "                                                      index=[1])).values[0]\n",
    "    away_goals_avg = foot_model.predict(pd.DataFrame(data={'team': awayTeam, \n",
    "                                                            'opponent': homeTeam,'home':0},\n",
    "                                                      index=[1])).values[0]\n",
    "    \n",
    "    team_pred = [[poisson.pmf(i, team_avg) for i in range(0, max_goals+1)] for team_avg in [home_goals_avg, away_goals_avg]]\n",
    "    distribution = np.outer(np.array(team_pred[0]), np.array(team_pred[1])) # *multiply distributions together\n",
    "    \n",
    "    # Get most likely score\n",
    "    global h, a\n",
    "    h = np.argmax(distribution)//(max_goals + 1) \n",
    "    a = np.argmax(distribution)%(max_goals + 1) \n",
    "    \n",
    "    return(h, a)\n",
    "\n",
    "simulate_match_clean('Chelsea', 'Liverpool')"
   ]
  },
  {
   "cell_type": "code",
   "execution_count": 333,
   "id": "22a7280e-d5d3-4041-b94f-760bf55b1504",
   "metadata": {},
   "outputs": [
    {
     "data": {
      "text/plain": [
       "numpy.int64"
      ]
     },
     "execution_count": 333,
     "metadata": {},
     "output_type": "execute_result"
    }
   ],
   "source": [
    "type(h)"
   ]
  },
  {
   "cell_type": "code",
   "execution_count": 287,
   "id": "176465d4-13d7-4c50-b03f-a4945d0f49c5",
   "metadata": {},
   "outputs": [
    {
     "data": {
      "text/html": [
       "<div>\n",
       "<style scoped>\n",
       "    .dataframe tbody tr th:only-of-type {\n",
       "        vertical-align: middle;\n",
       "    }\n",
       "\n",
       "    .dataframe tbody tr th {\n",
       "        vertical-align: top;\n",
       "    }\n",
       "\n",
       "    .dataframe thead th {\n",
       "        text-align: right;\n",
       "    }\n",
       "</style>\n",
       "<table border=\"1\" class=\"dataframe\">\n",
       "  <thead>\n",
       "    <tr style=\"text-align: right;\">\n",
       "      <th></th>\n",
       "      <th>HomeTeam</th>\n",
       "      <th>AwayTeam</th>\n",
       "      <th>HomeGoals</th>\n",
       "      <th>AwayGoals</th>\n",
       "      <th>Result</th>\n",
       "    </tr>\n",
       "  </thead>\n",
       "  <tbody>\n",
       "    <tr>\n",
       "      <th>0</th>\n",
       "      <td>Man United</td>\n",
       "      <td>Leicester</td>\n",
       "      <td>2</td>\n",
       "      <td>1</td>\n",
       "      <td>H</td>\n",
       "    </tr>\n",
       "    <tr>\n",
       "      <th>1</th>\n",
       "      <td>Bournemouth</td>\n",
       "      <td>Cardiff</td>\n",
       "      <td>2</td>\n",
       "      <td>0</td>\n",
       "      <td>H</td>\n",
       "    </tr>\n",
       "    <tr>\n",
       "      <th>2</th>\n",
       "      <td>Fulham</td>\n",
       "      <td>Crystal Palace</td>\n",
       "      <td>0</td>\n",
       "      <td>2</td>\n",
       "      <td>A</td>\n",
       "    </tr>\n",
       "    <tr>\n",
       "      <th>3</th>\n",
       "      <td>Huddersfield</td>\n",
       "      <td>Chelsea</td>\n",
       "      <td>0</td>\n",
       "      <td>3</td>\n",
       "      <td>A</td>\n",
       "    </tr>\n",
       "    <tr>\n",
       "      <th>4</th>\n",
       "      <td>Newcastle</td>\n",
       "      <td>Tottenham</td>\n",
       "      <td>1</td>\n",
       "      <td>2</td>\n",
       "      <td>A</td>\n",
       "    </tr>\n",
       "    <tr>\n",
       "      <th>...</th>\n",
       "      <td>...</td>\n",
       "      <td>...</td>\n",
       "      <td>...</td>\n",
       "      <td>...</td>\n",
       "      <td>...</td>\n",
       "    </tr>\n",
       "    <tr>\n",
       "      <th>375</th>\n",
       "      <td>Liverpool</td>\n",
       "      <td>Wolves</td>\n",
       "      <td>2</td>\n",
       "      <td>0</td>\n",
       "      <td>H</td>\n",
       "    </tr>\n",
       "    <tr>\n",
       "      <th>376</th>\n",
       "      <td>Man United</td>\n",
       "      <td>Cardiff</td>\n",
       "      <td>0</td>\n",
       "      <td>2</td>\n",
       "      <td>A</td>\n",
       "    </tr>\n",
       "    <tr>\n",
       "      <th>377</th>\n",
       "      <td>Southampton</td>\n",
       "      <td>Huddersfield</td>\n",
       "      <td>1</td>\n",
       "      <td>1</td>\n",
       "      <td>D</td>\n",
       "    </tr>\n",
       "    <tr>\n",
       "      <th>378</th>\n",
       "      <td>Tottenham</td>\n",
       "      <td>Everton</td>\n",
       "      <td>2</td>\n",
       "      <td>2</td>\n",
       "      <td>D</td>\n",
       "    </tr>\n",
       "    <tr>\n",
       "      <th>379</th>\n",
       "      <td>Watford</td>\n",
       "      <td>West Ham</td>\n",
       "      <td>1</td>\n",
       "      <td>4</td>\n",
       "      <td>A</td>\n",
       "    </tr>\n",
       "  </tbody>\n",
       "</table>\n",
       "<p>380 rows × 5 columns</p>\n",
       "</div>"
      ],
      "text/plain": [
       "         HomeTeam        AwayTeam  HomeGoals  AwayGoals Result\n",
       "0      Man United       Leicester          2          1      H\n",
       "1     Bournemouth         Cardiff          2          0      H\n",
       "2          Fulham  Crystal Palace          0          2      A\n",
       "3    Huddersfield         Chelsea          0          3      A\n",
       "4       Newcastle       Tottenham          1          2      A\n",
       "..            ...             ...        ...        ...    ...\n",
       "375     Liverpool          Wolves          2          0      H\n",
       "376    Man United         Cardiff          0          2      A\n",
       "377   Southampton    Huddersfield          1          1      D\n",
       "378     Tottenham         Everton          2          2      D\n",
       "379       Watford        West Ham          1          4      A\n",
       "\n",
       "[380 rows x 5 columns]"
      ]
     },
     "execution_count": 287,
     "metadata": {},
     "output_type": "execute_result"
    }
   ],
   "source": [
    "get_epl_data(1819)"
   ]
  },
  {
   "cell_type": "code",
   "execution_count": 295,
   "id": "a62ee409-a13c-4571-aa7c-0efb62d80b4c",
   "metadata": {},
   "outputs": [
    {
     "data": {
      "text/html": [
       "<div>\n",
       "<style scoped>\n",
       "    .dataframe tbody tr th:only-of-type {\n",
       "        vertical-align: middle;\n",
       "    }\n",
       "\n",
       "    .dataframe tbody tr th {\n",
       "        vertical-align: top;\n",
       "    }\n",
       "\n",
       "    .dataframe thead th {\n",
       "        text-align: right;\n",
       "    }\n",
       "</style>\n",
       "<table border=\"1\" class=\"dataframe\">\n",
       "  <thead>\n",
       "    <tr style=\"text-align: right;\">\n",
       "      <th></th>\n",
       "      <th>HomeTeam</th>\n",
       "      <th>AwayTeam</th>\n",
       "      <th>HomeGoals</th>\n",
       "      <th>AwayGoals</th>\n",
       "      <th>Result</th>\n",
       "      <th>HomePred</th>\n",
       "    </tr>\n",
       "  </thead>\n",
       "  <tbody>\n",
       "    <tr>\n",
       "      <th>0</th>\n",
       "      <td>Man United</td>\n",
       "      <td>Leicester</td>\n",
       "      <td>2</td>\n",
       "      <td>1</td>\n",
       "      <td>H</td>\n",
       "      <td>0.0</td>\n",
       "    </tr>\n",
       "    <tr>\n",
       "      <th>1</th>\n",
       "      <td>Bournemouth</td>\n",
       "      <td>Cardiff</td>\n",
       "      <td>2</td>\n",
       "      <td>0</td>\n",
       "      <td>H</td>\n",
       "      <td>0.0</td>\n",
       "    </tr>\n",
       "    <tr>\n",
       "      <th>2</th>\n",
       "      <td>Fulham</td>\n",
       "      <td>Crystal Palace</td>\n",
       "      <td>0</td>\n",
       "      <td>2</td>\n",
       "      <td>A</td>\n",
       "      <td>0.0</td>\n",
       "    </tr>\n",
       "    <tr>\n",
       "      <th>3</th>\n",
       "      <td>Huddersfield</td>\n",
       "      <td>Chelsea</td>\n",
       "      <td>0</td>\n",
       "      <td>3</td>\n",
       "      <td>A</td>\n",
       "      <td>0.0</td>\n",
       "    </tr>\n",
       "    <tr>\n",
       "      <th>4</th>\n",
       "      <td>Newcastle</td>\n",
       "      <td>Tottenham</td>\n",
       "      <td>1</td>\n",
       "      <td>2</td>\n",
       "      <td>A</td>\n",
       "      <td>0.0</td>\n",
       "    </tr>\n",
       "    <tr>\n",
       "      <th>...</th>\n",
       "      <td>...</td>\n",
       "      <td>...</td>\n",
       "      <td>...</td>\n",
       "      <td>...</td>\n",
       "      <td>...</td>\n",
       "      <td>...</td>\n",
       "    </tr>\n",
       "    <tr>\n",
       "      <th>375</th>\n",
       "      <td>Liverpool</td>\n",
       "      <td>Wolves</td>\n",
       "      <td>2</td>\n",
       "      <td>0</td>\n",
       "      <td>H</td>\n",
       "      <td>0.0</td>\n",
       "    </tr>\n",
       "    <tr>\n",
       "      <th>376</th>\n",
       "      <td>Man United</td>\n",
       "      <td>Cardiff</td>\n",
       "      <td>0</td>\n",
       "      <td>2</td>\n",
       "      <td>A</td>\n",
       "      <td>0.0</td>\n",
       "    </tr>\n",
       "    <tr>\n",
       "      <th>377</th>\n",
       "      <td>Southampton</td>\n",
       "      <td>Huddersfield</td>\n",
       "      <td>1</td>\n",
       "      <td>1</td>\n",
       "      <td>D</td>\n",
       "      <td>0.0</td>\n",
       "    </tr>\n",
       "    <tr>\n",
       "      <th>378</th>\n",
       "      <td>Tottenham</td>\n",
       "      <td>Everton</td>\n",
       "      <td>2</td>\n",
       "      <td>2</td>\n",
       "      <td>D</td>\n",
       "      <td>0.0</td>\n",
       "    </tr>\n",
       "    <tr>\n",
       "      <th>379</th>\n",
       "      <td>Watford</td>\n",
       "      <td>West Ham</td>\n",
       "      <td>1</td>\n",
       "      <td>4</td>\n",
       "      <td>A</td>\n",
       "      <td>0.0</td>\n",
       "    </tr>\n",
       "  </tbody>\n",
       "</table>\n",
       "<p>380 rows × 6 columns</p>\n",
       "</div>"
      ],
      "text/plain": [
       "         HomeTeam        AwayTeam  HomeGoals  AwayGoals Result  HomePred\n",
       "0      Man United       Leicester          2          1      H       0.0\n",
       "1     Bournemouth         Cardiff          2          0      H       0.0\n",
       "2          Fulham  Crystal Palace          0          2      A       0.0\n",
       "3    Huddersfield         Chelsea          0          3      A       0.0\n",
       "4       Newcastle       Tottenham          1          2      A       0.0\n",
       "..            ...             ...        ...        ...    ...       ...\n",
       "375     Liverpool          Wolves          2          0      H       0.0\n",
       "376    Man United         Cardiff          0          2      A       0.0\n",
       "377   Southampton    Huddersfield          1          1      D       0.0\n",
       "378     Tottenham         Everton          2          2      D       0.0\n",
       "379       Watford        West Ham          1          4      A       0.0\n",
       "\n",
       "[380 rows x 6 columns]"
      ]
     },
     "execution_count": 295,
     "metadata": {},
     "output_type": "execute_result"
    }
   ],
   "source": [
    "epl_1819['HomeTeam'][2]\n",
    "pandas_test = epl_1819\n",
    "\n",
    "pandas_test['HomePred'] = np.zeros(len(pandas_test))\n",
    "\n",
    "pandas_test"
   ]
  },
  {
   "cell_type": "code",
   "execution_count": 338,
   "id": "639c1952-12c1-4691-b9b2-2a187ea57992",
   "metadata": {},
   "outputs": [
    {
     "data": {
      "text/html": [
       "<div>\n",
       "<style scoped>\n",
       "    .dataframe tbody tr th:only-of-type {\n",
       "        vertical-align: middle;\n",
       "    }\n",
       "\n",
       "    .dataframe tbody tr th {\n",
       "        vertical-align: top;\n",
       "    }\n",
       "\n",
       "    .dataframe thead th {\n",
       "        text-align: right;\n",
       "    }\n",
       "</style>\n",
       "<table border=\"1\" class=\"dataframe\">\n",
       "  <thead>\n",
       "    <tr style=\"text-align: right;\">\n",
       "      <th></th>\n",
       "      <th>HomeTeam</th>\n",
       "      <th>AwayTeam</th>\n",
       "      <th>HomeGoals</th>\n",
       "      <th>AwayGoals</th>\n",
       "      <th>Result</th>\n",
       "    </tr>\n",
       "  </thead>\n",
       "  <tbody>\n",
       "    <tr>\n",
       "      <th>0</th>\n",
       "      <td>Burnley</td>\n",
       "      <td>Swansea</td>\n",
       "      <td>0</td>\n",
       "      <td>1</td>\n",
       "      <td>A</td>\n",
       "    </tr>\n",
       "    <tr>\n",
       "      <th>1</th>\n",
       "      <td>Crystal Palace</td>\n",
       "      <td>West Brom</td>\n",
       "      <td>0</td>\n",
       "      <td>1</td>\n",
       "      <td>A</td>\n",
       "    </tr>\n",
       "    <tr>\n",
       "      <th>2</th>\n",
       "      <td>Everton</td>\n",
       "      <td>Tottenham</td>\n",
       "      <td>1</td>\n",
       "      <td>1</td>\n",
       "      <td>D</td>\n",
       "    </tr>\n",
       "    <tr>\n",
       "      <th>3</th>\n",
       "      <td>Hull</td>\n",
       "      <td>Leicester</td>\n",
       "      <td>2</td>\n",
       "      <td>1</td>\n",
       "      <td>H</td>\n",
       "    </tr>\n",
       "    <tr>\n",
       "      <th>4</th>\n",
       "      <td>Man City</td>\n",
       "      <td>Sunderland</td>\n",
       "      <td>2</td>\n",
       "      <td>1</td>\n",
       "      <td>H</td>\n",
       "    </tr>\n",
       "    <tr>\n",
       "      <th>...</th>\n",
       "      <td>...</td>\n",
       "      <td>...</td>\n",
       "      <td>...</td>\n",
       "      <td>...</td>\n",
       "      <td>...</td>\n",
       "    </tr>\n",
       "    <tr>\n",
       "      <th>375</th>\n",
       "      <td>Liverpool</td>\n",
       "      <td>Middlesbrough</td>\n",
       "      <td>3</td>\n",
       "      <td>0</td>\n",
       "      <td>H</td>\n",
       "    </tr>\n",
       "    <tr>\n",
       "      <th>376</th>\n",
       "      <td>Man United</td>\n",
       "      <td>Crystal Palace</td>\n",
       "      <td>2</td>\n",
       "      <td>0</td>\n",
       "      <td>H</td>\n",
       "    </tr>\n",
       "    <tr>\n",
       "      <th>377</th>\n",
       "      <td>Southampton</td>\n",
       "      <td>Stoke</td>\n",
       "      <td>0</td>\n",
       "      <td>1</td>\n",
       "      <td>A</td>\n",
       "    </tr>\n",
       "    <tr>\n",
       "      <th>378</th>\n",
       "      <td>Swansea</td>\n",
       "      <td>West Brom</td>\n",
       "      <td>2</td>\n",
       "      <td>1</td>\n",
       "      <td>H</td>\n",
       "    </tr>\n",
       "    <tr>\n",
       "      <th>379</th>\n",
       "      <td>Watford</td>\n",
       "      <td>Man City</td>\n",
       "      <td>0</td>\n",
       "      <td>5</td>\n",
       "      <td>A</td>\n",
       "    </tr>\n",
       "  </tbody>\n",
       "</table>\n",
       "<p>380 rows × 5 columns</p>\n",
       "</div>"
      ],
      "text/plain": [
       "           HomeTeam        AwayTeam  HomeGoals  AwayGoals Result\n",
       "0           Burnley         Swansea          0          1      A\n",
       "1    Crystal Palace       West Brom          0          1      A\n",
       "2           Everton       Tottenham          1          1      D\n",
       "3              Hull       Leicester          2          1      H\n",
       "4          Man City      Sunderland          2          1      H\n",
       "..              ...             ...        ...        ...    ...\n",
       "375       Liverpool   Middlesbrough          3          0      H\n",
       "376      Man United  Crystal Palace          2          0      H\n",
       "377     Southampton           Stoke          0          1      A\n",
       "378         Swansea       West Brom          2          1      H\n",
       "379         Watford        Man City          0          5      A\n",
       "\n",
       "[380 rows x 5 columns]"
      ]
     },
     "execution_count": 338,
     "metadata": {},
     "output_type": "execute_result"
    }
   ],
   "source": [
    "get_epl_data(1617)"
   ]
  },
  {
   "cell_type": "code",
   "execution_count": 349,
   "id": "88a2d969-ad30-4803-80c6-e27b4566b522",
   "metadata": {},
   "outputs": [
    {
     "data": {
      "text/html": [
       "<div>\n",
       "<style scoped>\n",
       "    .dataframe tbody tr th:only-of-type {\n",
       "        vertical-align: middle;\n",
       "    }\n",
       "\n",
       "    .dataframe tbody tr th {\n",
       "        vertical-align: top;\n",
       "    }\n",
       "\n",
       "    .dataframe thead th {\n",
       "        text-align: right;\n",
       "    }\n",
       "</style>\n",
       "<table border=\"1\" class=\"dataframe\">\n",
       "  <thead>\n",
       "    <tr style=\"text-align: right;\">\n",
       "      <th></th>\n",
       "      <th>HomeTeam</th>\n",
       "      <th>AwayTeam</th>\n",
       "      <th>HomeGoals</th>\n",
       "      <th>AwayGoals</th>\n",
       "      <th>Result</th>\n",
       "      <th>HomePred</th>\n",
       "      <th>AwayPred</th>\n",
       "    </tr>\n",
       "  </thead>\n",
       "  <tbody>\n",
       "    <tr>\n",
       "      <th>0</th>\n",
       "      <td>Burnley</td>\n",
       "      <td>Swansea</td>\n",
       "      <td>0</td>\n",
       "      <td>1</td>\n",
       "      <td>A</td>\n",
       "      <td>1</td>\n",
       "      <td>1</td>\n",
       "    </tr>\n",
       "    <tr>\n",
       "      <th>1</th>\n",
       "      <td>Crystal Palace</td>\n",
       "      <td>West Brom</td>\n",
       "      <td>0</td>\n",
       "      <td>1</td>\n",
       "      <td>A</td>\n",
       "      <td>1</td>\n",
       "      <td>1</td>\n",
       "    </tr>\n",
       "    <tr>\n",
       "      <th>2</th>\n",
       "      <td>Everton</td>\n",
       "      <td>Tottenham</td>\n",
       "      <td>1</td>\n",
       "      <td>1</td>\n",
       "      <td>D</td>\n",
       "      <td>0</td>\n",
       "      <td>1</td>\n",
       "    </tr>\n",
       "    <tr>\n",
       "      <th>3</th>\n",
       "      <td>Hull</td>\n",
       "      <td>Leicester</td>\n",
       "      <td>2</td>\n",
       "      <td>1</td>\n",
       "      <td>H</td>\n",
       "      <td>1</td>\n",
       "      <td>1</td>\n",
       "    </tr>\n",
       "    <tr>\n",
       "      <th>4</th>\n",
       "      <td>Man City</td>\n",
       "      <td>Sunderland</td>\n",
       "      <td>2</td>\n",
       "      <td>1</td>\n",
       "      <td>H</td>\n",
       "      <td>3</td>\n",
       "      <td>0</td>\n",
       "    </tr>\n",
       "    <tr>\n",
       "      <th>...</th>\n",
       "      <td>...</td>\n",
       "      <td>...</td>\n",
       "      <td>...</td>\n",
       "      <td>...</td>\n",
       "      <td>...</td>\n",
       "      <td>...</td>\n",
       "      <td>...</td>\n",
       "    </tr>\n",
       "    <tr>\n",
       "      <th>375</th>\n",
       "      <td>Liverpool</td>\n",
       "      <td>Middlesbrough</td>\n",
       "      <td>3</td>\n",
       "      <td>0</td>\n",
       "      <td>H</td>\n",
       "      <td>2</td>\n",
       "      <td>0</td>\n",
       "    </tr>\n",
       "    <tr>\n",
       "      <th>376</th>\n",
       "      <td>Man United</td>\n",
       "      <td>Crystal Palace</td>\n",
       "      <td>2</td>\n",
       "      <td>0</td>\n",
       "      <td>H</td>\n",
       "      <td>1</td>\n",
       "      <td>0</td>\n",
       "    </tr>\n",
       "    <tr>\n",
       "      <th>377</th>\n",
       "      <td>Southampton</td>\n",
       "      <td>Stoke</td>\n",
       "      <td>0</td>\n",
       "      <td>1</td>\n",
       "      <td>A</td>\n",
       "      <td>1</td>\n",
       "      <td>0</td>\n",
       "    </tr>\n",
       "    <tr>\n",
       "      <th>378</th>\n",
       "      <td>Swansea</td>\n",
       "      <td>West Brom</td>\n",
       "      <td>2</td>\n",
       "      <td>1</td>\n",
       "      <td>H</td>\n",
       "      <td>1</td>\n",
       "      <td>1</td>\n",
       "    </tr>\n",
       "    <tr>\n",
       "      <th>379</th>\n",
       "      <td>Watford</td>\n",
       "      <td>Man City</td>\n",
       "      <td>0</td>\n",
       "      <td>5</td>\n",
       "      <td>A</td>\n",
       "      <td>0</td>\n",
       "      <td>2</td>\n",
       "    </tr>\n",
       "  </tbody>\n",
       "</table>\n",
       "<p>380 rows × 7 columns</p>\n",
       "</div>"
      ],
      "text/plain": [
       "           HomeTeam        AwayTeam  HomeGoals  AwayGoals Result  HomePred  \\\n",
       "0           Burnley         Swansea          0          1      A         1   \n",
       "1    Crystal Palace       West Brom          0          1      A         1   \n",
       "2           Everton       Tottenham          1          1      D         0   \n",
       "3              Hull       Leicester          2          1      H         1   \n",
       "4          Man City      Sunderland          2          1      H         3   \n",
       "..              ...             ...        ...        ...    ...       ...   \n",
       "375       Liverpool   Middlesbrough          3          0      H         2   \n",
       "376      Man United  Crystal Palace          2          0      H         1   \n",
       "377     Southampton           Stoke          0          1      A         1   \n",
       "378         Swansea       West Brom          2          1      H         1   \n",
       "379         Watford        Man City          0          5      A         0   \n",
       "\n",
       "     AwayPred  \n",
       "0           1  \n",
       "1           1  \n",
       "2           1  \n",
       "3           1  \n",
       "4           0  \n",
       "..        ...  \n",
       "375         0  \n",
       "376         0  \n",
       "377         0  \n",
       "378         1  \n",
       "379         2  \n",
       "\n",
       "[380 rows x 7 columns]"
      ]
     },
     "execution_count": 349,
     "metadata": {},
     "output_type": "execute_result"
    }
   ],
   "source": [
    "   \n",
    "def simulate_test(x):\n",
    "    global data\n",
    "    data = x\n",
    "    \n",
    "    data['HomePred'] = [0] * len(data)\n",
    "    data['AwayPred'] = [0] * len(data)\n",
    "    \n",
    "    for i in range(len(data)):\n",
    "        homeTeam = data['HomeTeam'][i]\n",
    "        awayTeam = data['AwayTeam'][i]\n",
    "        \n",
    "        simulate_match_clean(homeTeam, awayTeam)\n",
    "        data.loc[i, 'HomePred'] = int(h)\n",
    "        data.loc[i, 'AwayPred'] = int(a)\n",
    "    \n",
    "    data = pd.DataFrame.from_dict(data)\n",
    "        \n",
    "    return(data)\n",
    "\n",
    "simulate_test(epl_1617)"
   ]
  },
  {
   "cell_type": "code",
   "execution_count": 453,
   "id": "a363bf97-33be-4902-a9a9-34156f625950",
   "metadata": {},
   "outputs": [
    {
     "data": {
      "text/html": [
       "<div>\n",
       "<style scoped>\n",
       "    .dataframe tbody tr th:only-of-type {\n",
       "        vertical-align: middle;\n",
       "    }\n",
       "\n",
       "    .dataframe tbody tr th {\n",
       "        vertical-align: top;\n",
       "    }\n",
       "\n",
       "    .dataframe thead th {\n",
       "        text-align: right;\n",
       "    }\n",
       "</style>\n",
       "<table border=\"1\" class=\"dataframe\">\n",
       "  <thead>\n",
       "    <tr style=\"text-align: right;\">\n",
       "      <th></th>\n",
       "      <th>HomeTeam</th>\n",
       "      <th>AwayTeam</th>\n",
       "      <th>HomeGoals</th>\n",
       "      <th>AwayGoals</th>\n",
       "      <th>Result</th>\n",
       "      <th>HomePred</th>\n",
       "      <th>AwayPred</th>\n",
       "      <th>ResultPred</th>\n",
       "    </tr>\n",
       "  </thead>\n",
       "  <tbody>\n",
       "    <tr>\n",
       "      <th>0</th>\n",
       "      <td>Burnley</td>\n",
       "      <td>Swansea</td>\n",
       "      <td>0</td>\n",
       "      <td>1</td>\n",
       "      <td>A</td>\n",
       "      <td>1</td>\n",
       "      <td>1</td>\n",
       "      <td>D</td>\n",
       "    </tr>\n",
       "    <tr>\n",
       "      <th>1</th>\n",
       "      <td>Crystal Palace</td>\n",
       "      <td>West Brom</td>\n",
       "      <td>0</td>\n",
       "      <td>1</td>\n",
       "      <td>A</td>\n",
       "      <td>1</td>\n",
       "      <td>1</td>\n",
       "      <td>D</td>\n",
       "    </tr>\n",
       "    <tr>\n",
       "      <th>2</th>\n",
       "      <td>Everton</td>\n",
       "      <td>Tottenham</td>\n",
       "      <td>1</td>\n",
       "      <td>1</td>\n",
       "      <td>D</td>\n",
       "      <td>0</td>\n",
       "      <td>1</td>\n",
       "      <td>A</td>\n",
       "    </tr>\n",
       "    <tr>\n",
       "      <th>3</th>\n",
       "      <td>Hull</td>\n",
       "      <td>Leicester</td>\n",
       "      <td>2</td>\n",
       "      <td>1</td>\n",
       "      <td>H</td>\n",
       "      <td>1</td>\n",
       "      <td>1</td>\n",
       "      <td>D</td>\n",
       "    </tr>\n",
       "    <tr>\n",
       "      <th>4</th>\n",
       "      <td>Man City</td>\n",
       "      <td>Sunderland</td>\n",
       "      <td>2</td>\n",
       "      <td>1</td>\n",
       "      <td>H</td>\n",
       "      <td>3</td>\n",
       "      <td>0</td>\n",
       "      <td>H</td>\n",
       "    </tr>\n",
       "    <tr>\n",
       "      <th>...</th>\n",
       "      <td>...</td>\n",
       "      <td>...</td>\n",
       "      <td>...</td>\n",
       "      <td>...</td>\n",
       "      <td>...</td>\n",
       "      <td>...</td>\n",
       "      <td>...</td>\n",
       "      <td>...</td>\n",
       "    </tr>\n",
       "    <tr>\n",
       "      <th>375</th>\n",
       "      <td>Liverpool</td>\n",
       "      <td>Middlesbrough</td>\n",
       "      <td>3</td>\n",
       "      <td>0</td>\n",
       "      <td>H</td>\n",
       "      <td>2</td>\n",
       "      <td>0</td>\n",
       "      <td>H</td>\n",
       "    </tr>\n",
       "    <tr>\n",
       "      <th>376</th>\n",
       "      <td>Man United</td>\n",
       "      <td>Crystal Palace</td>\n",
       "      <td>2</td>\n",
       "      <td>0</td>\n",
       "      <td>H</td>\n",
       "      <td>1</td>\n",
       "      <td>0</td>\n",
       "      <td>D</td>\n",
       "    </tr>\n",
       "    <tr>\n",
       "      <th>377</th>\n",
       "      <td>Southampton</td>\n",
       "      <td>Stoke</td>\n",
       "      <td>0</td>\n",
       "      <td>1</td>\n",
       "      <td>A</td>\n",
       "      <td>1</td>\n",
       "      <td>0</td>\n",
       "      <td>D</td>\n",
       "    </tr>\n",
       "    <tr>\n",
       "      <th>378</th>\n",
       "      <td>Swansea</td>\n",
       "      <td>West Brom</td>\n",
       "      <td>2</td>\n",
       "      <td>1</td>\n",
       "      <td>H</td>\n",
       "      <td>1</td>\n",
       "      <td>1</td>\n",
       "      <td>D</td>\n",
       "    </tr>\n",
       "    <tr>\n",
       "      <th>379</th>\n",
       "      <td>Watford</td>\n",
       "      <td>Man City</td>\n",
       "      <td>0</td>\n",
       "      <td>5</td>\n",
       "      <td>A</td>\n",
       "      <td>0</td>\n",
       "      <td>2</td>\n",
       "      <td>A</td>\n",
       "    </tr>\n",
       "  </tbody>\n",
       "</table>\n",
       "<p>380 rows × 8 columns</p>\n",
       "</div>"
      ],
      "text/plain": [
       "           HomeTeam        AwayTeam  HomeGoals  AwayGoals Result  HomePred  \\\n",
       "0           Burnley         Swansea          0          1      A         1   \n",
       "1    Crystal Palace       West Brom          0          1      A         1   \n",
       "2           Everton       Tottenham          1          1      D         0   \n",
       "3              Hull       Leicester          2          1      H         1   \n",
       "4          Man City      Sunderland          2          1      H         3   \n",
       "..              ...             ...        ...        ...    ...       ...   \n",
       "375       Liverpool   Middlesbrough          3          0      H         2   \n",
       "376      Man United  Crystal Palace          2          0      H         1   \n",
       "377     Southampton           Stoke          0          1      A         1   \n",
       "378         Swansea       West Brom          2          1      H         1   \n",
       "379         Watford        Man City          0          5      A         0   \n",
       "\n",
       "     AwayPred ResultPred  \n",
       "0           1          D  \n",
       "1           1          D  \n",
       "2           1          A  \n",
       "3           1          D  \n",
       "4           0          H  \n",
       "..        ...        ...  \n",
       "375         0          H  \n",
       "376         0          D  \n",
       "377         0          D  \n",
       "378         1          D  \n",
       "379         2          A  \n",
       "\n",
       "[380 rows x 8 columns]"
      ]
     },
     "execution_count": 453,
     "metadata": {},
     "output_type": "execute_result"
    }
   ],
   "source": [
    "data_post = data\n",
    "\n",
    "\n",
    "ResultPred = []\n",
    "for i in data_post['HomePred']:\n",
    "    if i > data_post['AwayPred'][i]:\n",
    "        ResultPred.append('H')\n",
    "    elif i == data_post['AwayPred'][i]:\n",
    "        ResultPred.append('D')\n",
    "    else:\n",
    "        ResultPred.append('A')\n",
    "        \n",
    "        \n",
    "data_post = pd.concat([data_post, pd.Series(ResultPred)], axis=1).rename({0: 'ResultPred'}, axis =1)\n",
    "\n",
    "    \n",
    "data_post"
   ]
  },
  {
   "cell_type": "code",
   "execution_count": 454,
   "id": "651b6150-4796-4099-9124-0ecd5f22aa16",
   "metadata": {},
   "outputs": [
    {
     "data": {
      "text/html": [
       "<div>\n",
       "<style scoped>\n",
       "    .dataframe tbody tr th:only-of-type {\n",
       "        vertical-align: middle;\n",
       "    }\n",
       "\n",
       "    .dataframe tbody tr th {\n",
       "        vertical-align: top;\n",
       "    }\n",
       "\n",
       "    .dataframe thead th {\n",
       "        text-align: right;\n",
       "    }\n",
       "</style>\n",
       "<table border=\"1\" class=\"dataframe\">\n",
       "  <thead>\n",
       "    <tr style=\"text-align: right;\">\n",
       "      <th></th>\n",
       "      <th>HomeTeam</th>\n",
       "      <th>AwayTeam</th>\n",
       "      <th>HomeGoals</th>\n",
       "      <th>AwayGoals</th>\n",
       "      <th>Result</th>\n",
       "      <th>HomePred</th>\n",
       "      <th>AwayPred</th>\n",
       "      <th>ResultPred</th>\n",
       "      <th>correctFTR</th>\n",
       "    </tr>\n",
       "  </thead>\n",
       "  <tbody>\n",
       "    <tr>\n",
       "      <th>0</th>\n",
       "      <td>Burnley</td>\n",
       "      <td>Swansea</td>\n",
       "      <td>0</td>\n",
       "      <td>1</td>\n",
       "      <td>A</td>\n",
       "      <td>1</td>\n",
       "      <td>1</td>\n",
       "      <td>D</td>\n",
       "      <td>False</td>\n",
       "    </tr>\n",
       "    <tr>\n",
       "      <th>1</th>\n",
       "      <td>Crystal Palace</td>\n",
       "      <td>West Brom</td>\n",
       "      <td>0</td>\n",
       "      <td>1</td>\n",
       "      <td>A</td>\n",
       "      <td>1</td>\n",
       "      <td>1</td>\n",
       "      <td>D</td>\n",
       "      <td>False</td>\n",
       "    </tr>\n",
       "    <tr>\n",
       "      <th>2</th>\n",
       "      <td>Everton</td>\n",
       "      <td>Tottenham</td>\n",
       "      <td>1</td>\n",
       "      <td>1</td>\n",
       "      <td>D</td>\n",
       "      <td>0</td>\n",
       "      <td>1</td>\n",
       "      <td>A</td>\n",
       "      <td>False</td>\n",
       "    </tr>\n",
       "    <tr>\n",
       "      <th>3</th>\n",
       "      <td>Hull</td>\n",
       "      <td>Leicester</td>\n",
       "      <td>2</td>\n",
       "      <td>1</td>\n",
       "      <td>H</td>\n",
       "      <td>1</td>\n",
       "      <td>1</td>\n",
       "      <td>D</td>\n",
       "      <td>False</td>\n",
       "    </tr>\n",
       "    <tr>\n",
       "      <th>4</th>\n",
       "      <td>Man City</td>\n",
       "      <td>Sunderland</td>\n",
       "      <td>2</td>\n",
       "      <td>1</td>\n",
       "      <td>H</td>\n",
       "      <td>3</td>\n",
       "      <td>0</td>\n",
       "      <td>H</td>\n",
       "      <td>True</td>\n",
       "    </tr>\n",
       "    <tr>\n",
       "      <th>...</th>\n",
       "      <td>...</td>\n",
       "      <td>...</td>\n",
       "      <td>...</td>\n",
       "      <td>...</td>\n",
       "      <td>...</td>\n",
       "      <td>...</td>\n",
       "      <td>...</td>\n",
       "      <td>...</td>\n",
       "      <td>...</td>\n",
       "    </tr>\n",
       "    <tr>\n",
       "      <th>375</th>\n",
       "      <td>Liverpool</td>\n",
       "      <td>Middlesbrough</td>\n",
       "      <td>3</td>\n",
       "      <td>0</td>\n",
       "      <td>H</td>\n",
       "      <td>2</td>\n",
       "      <td>0</td>\n",
       "      <td>H</td>\n",
       "      <td>True</td>\n",
       "    </tr>\n",
       "    <tr>\n",
       "      <th>376</th>\n",
       "      <td>Man United</td>\n",
       "      <td>Crystal Palace</td>\n",
       "      <td>2</td>\n",
       "      <td>0</td>\n",
       "      <td>H</td>\n",
       "      <td>1</td>\n",
       "      <td>0</td>\n",
       "      <td>D</td>\n",
       "      <td>False</td>\n",
       "    </tr>\n",
       "    <tr>\n",
       "      <th>377</th>\n",
       "      <td>Southampton</td>\n",
       "      <td>Stoke</td>\n",
       "      <td>0</td>\n",
       "      <td>1</td>\n",
       "      <td>A</td>\n",
       "      <td>1</td>\n",
       "      <td>0</td>\n",
       "      <td>D</td>\n",
       "      <td>False</td>\n",
       "    </tr>\n",
       "    <tr>\n",
       "      <th>378</th>\n",
       "      <td>Swansea</td>\n",
       "      <td>West Brom</td>\n",
       "      <td>2</td>\n",
       "      <td>1</td>\n",
       "      <td>H</td>\n",
       "      <td>1</td>\n",
       "      <td>1</td>\n",
       "      <td>D</td>\n",
       "      <td>False</td>\n",
       "    </tr>\n",
       "    <tr>\n",
       "      <th>379</th>\n",
       "      <td>Watford</td>\n",
       "      <td>Man City</td>\n",
       "      <td>0</td>\n",
       "      <td>5</td>\n",
       "      <td>A</td>\n",
       "      <td>0</td>\n",
       "      <td>2</td>\n",
       "      <td>A</td>\n",
       "      <td>True</td>\n",
       "    </tr>\n",
       "  </tbody>\n",
       "</table>\n",
       "<p>380 rows × 9 columns</p>\n",
       "</div>"
      ],
      "text/plain": [
       "           HomeTeam        AwayTeam  HomeGoals  AwayGoals Result  HomePred  \\\n",
       "0           Burnley         Swansea          0          1      A         1   \n",
       "1    Crystal Palace       West Brom          0          1      A         1   \n",
       "2           Everton       Tottenham          1          1      D         0   \n",
       "3              Hull       Leicester          2          1      H         1   \n",
       "4          Man City      Sunderland          2          1      H         3   \n",
       "..              ...             ...        ...        ...    ...       ...   \n",
       "375       Liverpool   Middlesbrough          3          0      H         2   \n",
       "376      Man United  Crystal Palace          2          0      H         1   \n",
       "377     Southampton           Stoke          0          1      A         1   \n",
       "378         Swansea       West Brom          2          1      H         1   \n",
       "379         Watford        Man City          0          5      A         0   \n",
       "\n",
       "     AwayPred ResultPred  correctFTR  \n",
       "0           1          D       False  \n",
       "1           1          D       False  \n",
       "2           1          A       False  \n",
       "3           1          D       False  \n",
       "4           0          H        True  \n",
       "..        ...        ...         ...  \n",
       "375         0          H        True  \n",
       "376         0          D       False  \n",
       "377         0          D       False  \n",
       "378         1          D       False  \n",
       "379         2          A        True  \n",
       "\n",
       "[380 rows x 9 columns]"
      ]
     },
     "execution_count": 454,
     "metadata": {},
     "output_type": "execute_result"
    }
   ],
   "source": [
    "correctFTR = []\n",
    "\n",
    "for i in range(len(data_post)):\n",
    "    if data_post['ResultPred'][i] is str(data_post['Result'][i]):\n",
    "        correctFTR.append(True)\n",
    "    else:\n",
    "        correctFTR.append(False)\n",
    "        \n",
    "data_post = pd.concat([data_post, pd.Series(correctFTR)], axis=1).rename({0: 'correctFTR'}, axis =1)\n",
    "\n",
    "data_post"
   ]
  },
  {
   "cell_type": "code",
   "execution_count": 455,
   "id": "7ad8e07a-6d7d-410a-bd48-ddc9273babfc",
   "metadata": {},
   "outputs": [
    {
     "data": {
      "text/plain": [
       "False    209\n",
       "True     171\n",
       "Name: correctFTR, dtype: int64"
      ]
     },
     "execution_count": 455,
     "metadata": {},
     "output_type": "execute_result"
    }
   ],
   "source": [
    "# Total correct final outcomes\n",
    "data_post['correctFTR'].value_counts()"
   ]
  },
  {
   "cell_type": "code",
   "execution_count": 456,
   "id": "9a333c37-9e9c-4f61-85d4-6a76b115f1f0",
   "metadata": {},
   "outputs": [
    {
     "data": {
      "text/plain": [
       "D    212\n",
       "H     94\n",
       "A     74\n",
       "Name: ResultPred, dtype: int64"
      ]
     },
     "execution_count": 456,
     "metadata": {},
     "output_type": "execute_result"
    }
   ],
   "source": [
    "# Make-up of outcome predictions\n",
    "data_post['ResultPred'].value_counts()"
   ]
  },
  {
   "cell_type": "code",
   "execution_count": 457,
   "id": "ff45217c-dfc7-4b45-908a-f937339d94ae",
   "metadata": {},
   "outputs": [
    {
     "data": {
      "text/plain": [
       "D    162\n",
       "A     25\n",
       "H     22\n",
       "Name: ResultPred, dtype: int64"
      ]
     },
     "execution_count": 457,
     "metadata": {},
     "output_type": "execute_result"
    }
   ],
   "source": [
    "# Most common incorrect predictions (Draws seem prety common here?!)\n",
    "data_post2 = data_post[data_post['correctFTR'] == False]\n",
    "data_post2['ResultPred'].value_counts()"
   ]
  },
  {
   "cell_type": "code",
   "execution_count": 458,
   "id": "3bd837a1-b583-4960-8f98-f1aa80bb3e0a",
   "metadata": {},
   "outputs": [
    {
     "name": "stdout",
     "output_type": "stream",
     "text": [
      "0.45\n"
     ]
    }
   ],
   "source": [
    "# Quick accuracy rate for outcomes\n",
    "accuracy_o = data_post['correctFTR'].value_counts()[1] / 380\n",
    "print(accuracy_o)"
   ]
  },
  {
   "cell_type": "code",
   "execution_count": 459,
   "id": "ade12ded-8eb4-4a39-bb65-362e9946b394",
   "metadata": {},
   "outputs": [
    {
     "data": {
      "text/html": [
       "<div>\n",
       "<style scoped>\n",
       "    .dataframe tbody tr th:only-of-type {\n",
       "        vertical-align: middle;\n",
       "    }\n",
       "\n",
       "    .dataframe tbody tr th {\n",
       "        vertical-align: top;\n",
       "    }\n",
       "\n",
       "    .dataframe thead th {\n",
       "        text-align: right;\n",
       "    }\n",
       "</style>\n",
       "<table border=\"1\" class=\"dataframe\">\n",
       "  <thead>\n",
       "    <tr style=\"text-align: right;\">\n",
       "      <th></th>\n",
       "      <th>HomeTeam</th>\n",
       "      <th>AwayTeam</th>\n",
       "      <th>HomeGoals</th>\n",
       "      <th>AwayGoals</th>\n",
       "      <th>Result</th>\n",
       "      <th>HomePred</th>\n",
       "      <th>AwayPred</th>\n",
       "      <th>ResultPred</th>\n",
       "      <th>correctFTR</th>\n",
       "      <th>correctScore</th>\n",
       "    </tr>\n",
       "  </thead>\n",
       "  <tbody>\n",
       "    <tr>\n",
       "      <th>0</th>\n",
       "      <td>Burnley</td>\n",
       "      <td>Swansea</td>\n",
       "      <td>0</td>\n",
       "      <td>1</td>\n",
       "      <td>A</td>\n",
       "      <td>1</td>\n",
       "      <td>1</td>\n",
       "      <td>D</td>\n",
       "      <td>False</td>\n",
       "      <td>Away</td>\n",
       "    </tr>\n",
       "    <tr>\n",
       "      <th>1</th>\n",
       "      <td>Crystal Palace</td>\n",
       "      <td>West Brom</td>\n",
       "      <td>0</td>\n",
       "      <td>1</td>\n",
       "      <td>A</td>\n",
       "      <td>1</td>\n",
       "      <td>1</td>\n",
       "      <td>D</td>\n",
       "      <td>False</td>\n",
       "      <td>Away</td>\n",
       "    </tr>\n",
       "    <tr>\n",
       "      <th>2</th>\n",
       "      <td>Everton</td>\n",
       "      <td>Tottenham</td>\n",
       "      <td>1</td>\n",
       "      <td>1</td>\n",
       "      <td>D</td>\n",
       "      <td>0</td>\n",
       "      <td>1</td>\n",
       "      <td>A</td>\n",
       "      <td>False</td>\n",
       "      <td>Away</td>\n",
       "    </tr>\n",
       "    <tr>\n",
       "      <th>3</th>\n",
       "      <td>Hull</td>\n",
       "      <td>Leicester</td>\n",
       "      <td>2</td>\n",
       "      <td>1</td>\n",
       "      <td>H</td>\n",
       "      <td>1</td>\n",
       "      <td>1</td>\n",
       "      <td>D</td>\n",
       "      <td>False</td>\n",
       "      <td>Away</td>\n",
       "    </tr>\n",
       "    <tr>\n",
       "      <th>4</th>\n",
       "      <td>Man City</td>\n",
       "      <td>Sunderland</td>\n",
       "      <td>2</td>\n",
       "      <td>1</td>\n",
       "      <td>H</td>\n",
       "      <td>3</td>\n",
       "      <td>0</td>\n",
       "      <td>H</td>\n",
       "      <td>True</td>\n",
       "      <td>False</td>\n",
       "    </tr>\n",
       "    <tr>\n",
       "      <th>...</th>\n",
       "      <td>...</td>\n",
       "      <td>...</td>\n",
       "      <td>...</td>\n",
       "      <td>...</td>\n",
       "      <td>...</td>\n",
       "      <td>...</td>\n",
       "      <td>...</td>\n",
       "      <td>...</td>\n",
       "      <td>...</td>\n",
       "      <td>...</td>\n",
       "    </tr>\n",
       "    <tr>\n",
       "      <th>375</th>\n",
       "      <td>Liverpool</td>\n",
       "      <td>Middlesbrough</td>\n",
       "      <td>3</td>\n",
       "      <td>0</td>\n",
       "      <td>H</td>\n",
       "      <td>2</td>\n",
       "      <td>0</td>\n",
       "      <td>H</td>\n",
       "      <td>True</td>\n",
       "      <td>Away</td>\n",
       "    </tr>\n",
       "    <tr>\n",
       "      <th>376</th>\n",
       "      <td>Man United</td>\n",
       "      <td>Crystal Palace</td>\n",
       "      <td>2</td>\n",
       "      <td>0</td>\n",
       "      <td>H</td>\n",
       "      <td>1</td>\n",
       "      <td>0</td>\n",
       "      <td>D</td>\n",
       "      <td>False</td>\n",
       "      <td>Away</td>\n",
       "    </tr>\n",
       "    <tr>\n",
       "      <th>377</th>\n",
       "      <td>Southampton</td>\n",
       "      <td>Stoke</td>\n",
       "      <td>0</td>\n",
       "      <td>1</td>\n",
       "      <td>A</td>\n",
       "      <td>1</td>\n",
       "      <td>0</td>\n",
       "      <td>D</td>\n",
       "      <td>False</td>\n",
       "      <td>False</td>\n",
       "    </tr>\n",
       "    <tr>\n",
       "      <th>378</th>\n",
       "      <td>Swansea</td>\n",
       "      <td>West Brom</td>\n",
       "      <td>2</td>\n",
       "      <td>1</td>\n",
       "      <td>H</td>\n",
       "      <td>1</td>\n",
       "      <td>1</td>\n",
       "      <td>D</td>\n",
       "      <td>False</td>\n",
       "      <td>Away</td>\n",
       "    </tr>\n",
       "    <tr>\n",
       "      <th>379</th>\n",
       "      <td>Watford</td>\n",
       "      <td>Man City</td>\n",
       "      <td>0</td>\n",
       "      <td>5</td>\n",
       "      <td>A</td>\n",
       "      <td>0</td>\n",
       "      <td>2</td>\n",
       "      <td>A</td>\n",
       "      <td>True</td>\n",
       "      <td>Home</td>\n",
       "    </tr>\n",
       "  </tbody>\n",
       "</table>\n",
       "<p>380 rows × 10 columns</p>\n",
       "</div>"
      ],
      "text/plain": [
       "           HomeTeam        AwayTeam  HomeGoals  AwayGoals Result  HomePred  \\\n",
       "0           Burnley         Swansea          0          1      A         1   \n",
       "1    Crystal Palace       West Brom          0          1      A         1   \n",
       "2           Everton       Tottenham          1          1      D         0   \n",
       "3              Hull       Leicester          2          1      H         1   \n",
       "4          Man City      Sunderland          2          1      H         3   \n",
       "..              ...             ...        ...        ...    ...       ...   \n",
       "375       Liverpool   Middlesbrough          3          0      H         2   \n",
       "376      Man United  Crystal Palace          2          0      H         1   \n",
       "377     Southampton           Stoke          0          1      A         1   \n",
       "378         Swansea       West Brom          2          1      H         1   \n",
       "379         Watford        Man City          0          5      A         0   \n",
       "\n",
       "     AwayPred ResultPred  correctFTR correctScore  \n",
       "0           1          D       False         Away  \n",
       "1           1          D       False         Away  \n",
       "2           1          A       False         Away  \n",
       "3           1          D       False         Away  \n",
       "4           0          H        True        False  \n",
       "..        ...        ...         ...          ...  \n",
       "375         0          H        True         Away  \n",
       "376         0          D       False         Away  \n",
       "377         0          D       False        False  \n",
       "378         1          D       False         Away  \n",
       "379         2          A        True         Home  \n",
       "\n",
       "[380 rows x 10 columns]"
      ]
     },
     "execution_count": 459,
     "metadata": {},
     "output_type": "execute_result"
    }
   ],
   "source": [
    "correctScore = []\n",
    "\n",
    "for i in range(len(data_post)):\n",
    "    if data_post['HomeGoals'][i] == data_post['HomePred'][i] and data_post['AwayGoals'][i] == data_post['AwayPred'][i]:\n",
    "        correctScore.append(True)\n",
    "    elif data_post['HomeGoals'][i] == data_post['HomePred'][i]:\n",
    "        correctScore.append('Home')\n",
    "    elif data_post['AwayGoals'][i] == data_post['AwayPred'][i]:\n",
    "        correctScore.append('Away')\n",
    "    else:\n",
    "        correctScore.append(False)\n",
    "        \n",
    "data_post = pd.concat([data_post, pd.Series(correctScore)], axis=1).rename({0: 'correctScore'}, axis =1)\n",
    "data_post"
   ]
  },
  {
   "cell_type": "code",
   "execution_count": 460,
   "id": "7aaa5ef3-c5f0-4fdf-9055-a26bafacf73d",
   "metadata": {},
   "outputs": [
    {
     "data": {
      "text/plain": [
       "False    144\n",
       "Away     107\n",
       "Home      85\n",
       "True      44\n",
       "Name: correctScore, dtype: int64"
      ]
     },
     "execution_count": 460,
     "metadata": {},
     "output_type": "execute_result"
    }
   ],
   "source": [
    "# Total correct final outcomes\n",
    "data_post['correctScore'].value_counts()"
   ]
  },
  {
   "cell_type": "code",
   "execution_count": 465,
   "id": "09060580-055c-4334-81a1-b423bbc47db2",
   "metadata": {},
   "outputs": [
    {
     "data": {
      "text/plain": [
       "236"
      ]
     },
     "execution_count": 465,
     "metadata": {},
     "output_type": "execute_result"
    }
   ],
   "source": [
    "# At least one correct prediction\n",
    "sum(data_post['correctScore'].value_counts()[-3:])"
   ]
  },
  {
   "cell_type": "code",
   "execution_count": 443,
   "id": "5249edaa-e522-4a15-a92c-75f3aec6f028",
   "metadata": {},
   "outputs": [
    {
     "data": {
      "text/html": [
       "<div>\n",
       "<style scoped>\n",
       "    .dataframe tbody tr th:only-of-type {\n",
       "        vertical-align: middle;\n",
       "    }\n",
       "\n",
       "    .dataframe tbody tr th {\n",
       "        vertical-align: top;\n",
       "    }\n",
       "\n",
       "    .dataframe thead th {\n",
       "        text-align: right;\n",
       "    }\n",
       "</style>\n",
       "<table border=\"1\" class=\"dataframe\">\n",
       "  <thead>\n",
       "    <tr style=\"text-align: right;\">\n",
       "      <th></th>\n",
       "      <th>HomeTeam</th>\n",
       "      <th>AwayTeam</th>\n",
       "      <th>HomeGoals</th>\n",
       "      <th>AwayGoals</th>\n",
       "      <th>Result</th>\n",
       "      <th>HomePred</th>\n",
       "      <th>AwayPred</th>\n",
       "      <th>ResultPred</th>\n",
       "    </tr>\n",
       "    <tr>\n",
       "      <th>correctFTR</th>\n",
       "      <th></th>\n",
       "      <th></th>\n",
       "      <th></th>\n",
       "      <th></th>\n",
       "      <th></th>\n",
       "      <th></th>\n",
       "      <th></th>\n",
       "      <th></th>\n",
       "    </tr>\n",
       "  </thead>\n",
       "  <tbody>\n",
       "    <tr>\n",
       "      <th>False</th>\n",
       "      <td>209</td>\n",
       "      <td>209</td>\n",
       "      <td>209</td>\n",
       "      <td>209</td>\n",
       "      <td>209</td>\n",
       "      <td>209</td>\n",
       "      <td>209</td>\n",
       "      <td>209</td>\n",
       "    </tr>\n",
       "    <tr>\n",
       "      <th>True</th>\n",
       "      <td>171</td>\n",
       "      <td>171</td>\n",
       "      <td>171</td>\n",
       "      <td>171</td>\n",
       "      <td>171</td>\n",
       "      <td>171</td>\n",
       "      <td>171</td>\n",
       "      <td>171</td>\n",
       "    </tr>\n",
       "  </tbody>\n",
       "</table>\n",
       "</div>"
      ],
      "text/plain": [
       "            HomeTeam  AwayTeam  HomeGoals  AwayGoals  Result  HomePred  \\\n",
       "correctFTR                                                               \n",
       "False            209       209        209        209     209       209   \n",
       "True             171       171        171        171     171       171   \n",
       "\n",
       "            AwayPred  ResultPred  \n",
       "correctFTR                        \n",
       "False            209         209  \n",
       "True             171         171  "
      ]
     },
     "execution_count": 443,
     "metadata": {},
     "output_type": "execute_result"
    }
   ],
   "source": [
    "data_post.groupby(by=['correctFTR']).count()"
   ]
  },
  {
   "cell_type": "code",
   "execution_count": null,
   "id": "67d9758b-99e1-4dac-b42c-c6ea3dc288e5",
   "metadata": {},
   "outputs": [],
   "source": []
  },
  {
   "cell_type": "code",
   "execution_count": 395,
   "id": "0a3d7053-788e-4cba-b47c-d02cf415d7d2",
   "metadata": {},
   "outputs": [
    {
     "data": {
      "text/plain": [
       "'A'"
      ]
     },
     "execution_count": 395,
     "metadata": {},
     "output_type": "execute_result"
    }
   ],
   "source": [
    "data_post['Result'][1]"
   ]
  },
  {
   "cell_type": "code",
   "execution_count": 393,
   "id": "0dc2b86c-89a3-41e8-932d-ab2508a2cdfe",
   "metadata": {},
   "outputs": [
    {
     "data": {
      "text/plain": [
       "'D'"
      ]
     },
     "execution_count": 393,
     "metadata": {},
     "output_type": "execute_result"
    }
   ],
   "source": [
    "data_post['ResultPred'][1]"
   ]
  },
  {
   "cell_type": "code",
   "execution_count": null,
   "id": "7d2804ca-8431-4f48-a763-8109f9209978",
   "metadata": {},
   "outputs": [],
   "source": [
    "def simulate_matches(data):\n",
    "    "
   ]
  },
  {
   "cell_type": "code",
   "execution_count": 267,
   "id": "bdd75127-6887-40c7-99c6-526efbfa8c90",
   "metadata": {},
   "outputs": [
    {
     "name": "stdout",
     "output_type": "stream",
     "text": [
      "2\n"
     ]
    }
   ],
   "source": [
    "test1 = print(2)"
   ]
  },
  {
   "cell_type": "code",
   "execution_count": 268,
   "id": "beb01956-317d-4158-9ca4-4d477db8a3d6",
   "metadata": {},
   "outputs": [],
   "source": [
    "test1"
   ]
  },
  {
   "cell_type": "code",
   "execution_count": 128,
   "id": "61dd0787-9ad7-4a8b-b9db-c07ce0dd19ae",
   "metadata": {},
   "outputs": [],
   "source": [
    "chelsea_sunderland = simulate_match(poisson_model, 'Chelsea', 'Sunderland', max_goals=8)"
   ]
  },
  {
   "cell_type": "code",
   "execution_count": 466,
   "id": "5ff7d5b2-bc60-44d7-b591-f3dc13103086",
   "metadata": {},
   "outputs": [
    {
     "name": "stderr",
     "output_type": "stream",
     "text": [
      "<ipython-input-466-d4bd384230ae>:18: UserWarning: FixedFormatter should only be used together with FixedLocator\n",
      "  ax.set_xticklabels(goals, fontsize=5)\n"
     ]
    },
    {
     "data": {
      "image/png": "[encoded data removed]",
      "text/plain": [
       "<Figure size 1200x1200 with 1 Axes>"
      ]
     },
     "metadata": {
      "needs_background": "light"
     },
     "output_type": "display_data"
    }
   ],
   "source": [
    "# *Match the plotting functions to the max goals\n",
    "\n",
    "# Axes labels\n",
    "goals = [0, 1, 2, 3, 4, 5, 6, 7, 8]\n",
    "\n",
    "# Plot figure\n",
    "fig, ax = plt.subplots(figsize=(3, 3), dpi=400)\n",
    "fig.tight_layout()\n",
    "im = ax.imshow(chelsea_sunderland, cmap=\"winter\")\n",
    "\n",
    "\n",
    "\n",
    "# Set ticks and paremeters\n",
    "ax.set_yticks(np.arange(len(goals)))\n",
    "ax.set_yticklabels(goals, fontsize=5)\n",
    "\n",
    "ax.xaxis.tick_top()\n",
    "ax.set_xticklabels(goals, fontsize=5)\n",
    "ax.set_xticks(np.arange(len(goals)))\n",
    "\n",
    "ax.tick_params(axis='both', which='major', length=2, pad=1.5)\n",
    "\n",
    "ax.set_ylabel('Home Goals', fontsize=6) # axes label (y)\n",
    "ax.set_xlabel('Away Goals', fontsize=6)\n",
    "ax.xaxis.set_label_position('top')\n",
    "\n",
    "# * Set this to the Home vs Away teams\n",
    "ax.set_title('Chelsea vs Sunderland Forecast',fontsize=7, y=1.1)\n",
    "\n",
    "\n",
    "# *rename this variable\n",
    "# Rounding probabilites to add to the plot\n",
    "rounded = chelsea_sunderland.tolist()\n",
    "rounded3 = []\n",
    "for z in rounded:\n",
    "    rounded2 = [round(x, 3) for x in z]\n",
    "    rounded3.append(rounded2)\n",
    "    \n",
    "rounded3 = np.array(rounded3)\n",
    "\n",
    "for i in range(len(goals)):\n",
    "    for j in range(len(goals)):\n",
    "        text = ax.text(j, i, rounded3[i, j],\n",
    "                       ha=\"center\", va=\"center\", color=\"black\", fontsize=3,\n",
    "                       fontfamily='monospace')\n",
    "        \n",
    "# Add grid\n",
    "ax.minorticks_on()\n",
    "ax.xaxis.set_minor_locator(AutoMinorLocator(2))\n",
    "ax.yaxis.set_minor_locator(AutoMinorLocator(2))\n",
    "ax.tick_params(axis='both', which='minor', color='w', length=0)\n",
    "ax.grid(which=\"minor\", color=\"b\", linestyle='-', linewidth=0.6)        \n",
    "\n",
    "\n",
    "\n",
    "plt.show()"
   ]
  },
  {
   "cell_type": "code",
   "execution_count": 210,
   "id": "4ceee411-f07c-4d94-a6e7-68a18b4e1e2b",
   "metadata": {},
   "outputs": [
    {
     "name": "stdout",
     "output_type": "stream",
     "text": [
      "3\n",
      "[]\n"
     ]
    }
   ],
   "source": [
    "# Trying to get out the score in an easy to read format\n",
    "output_testing = chelsea_sunderland.tolist()\n",
    "\n",
    "max_value = max(output_testing)\n",
    "max_idx = output_testing.index(max_value)\n",
    "print(max_idx)\n",
    "\n",
    "def findItem(theList, item):\n",
    "    return [(i, theList[i].index(item)) for i in range(len(theList)) if item in theList[i]]\n",
    "\n",
    "print(findItem(output_testing, max_value))"
   ]
  },
  {
   "cell_type": "code",
   "execution_count": 211,
   "id": "11ca654b-97ed-4aa9-badd-f6dcc62faf53",
   "metadata": {
    "tags": []
   },
   "outputs": [
    {
     "name": "stdout",
     "output_type": "stream",
     "text": [
      "3\n",
      "[]\n"
     ]
    }
   ],
   "source": [
    "# Trying to get out the score in an easy to read format\n",
    "output_testing = chelsea_sunderland.tolist()\n",
    "\n",
    "max_value = max(output_testing)\n",
    "max_idx = output_testing.index(max_value)\n",
    "print(max_idx)\n",
    "\n",
    "def deep_index(lst, w):\n",
    "    return [(i, sub.index(w)) for (i, sub) in enumerate(lst) if w in sub]\n",
    "\n",
    "print(deep_index(output_testing, max_value))"
   ]
  },
  {
   "cell_type": "code",
   "execution_count": 225,
   "id": "f656e9de-0d6b-466c-a7c4-8e602807d7df",
   "metadata": {},
   "outputs": [
    {
     "name": "stdout",
     "output_type": "stream",
     "text": [
      "3\n",
      "0\n"
     ]
    }
   ],
   "source": [
    "# Getting home and away goals\n",
    "x = chelsea_sunderland\n",
    "\n",
    "# Replace 9 with variable from max number of goals (in function)\n",
    "\n",
    "h = np.argmax(x)//9 \n",
    "a = np.argmax(x)%9\n",
    "print(h)\n",
    "print(p)"
   ]
  },
  {
   "cell_type": "code",
   "execution_count": 219,
   "id": "1c469228-4b52-4457-9e2b-95943de4ca7e",
   "metadata": {},
   "outputs": [
    {
     "data": {
      "text/plain": [
       "(array([0], dtype=int64),)"
      ]
     },
     "execution_count": 219,
     "metadata": {},
     "output_type": "execute_result"
    }
   ],
   "source": [
    "np.where(np.argmax(x))"
   ]
  },
  {
   "cell_type": "code",
   "execution_count": 28,
   "id": "5b40861a-1520-4f34-8f55-0e3e9c77b342",
   "metadata": {},
   "outputs": [
    {
     "data": {
      "text/plain": [
       "0.8885986612364134"
      ]
     },
     "execution_count": 28,
     "metadata": {},
     "output_type": "execute_result"
    }
   ],
   "source": [
    "chel_sun = simulate_match(poisson_model, \"Chelsea\", \"Sunderland\", max_goals=10)\n",
    "# chelsea win\n",
    "np.sum(np.tril(chel_sun, -1))"
   ]
  },
  {
   "cell_type": "code",
   "execution_count": 29,
   "id": "df753edb-3d7a-40a6-9f76-8f4b6c99edf9",
   "metadata": {},
   "outputs": [
    {
     "data": {
      "text/plain": [
       "0.08409349268649594"
      ]
     },
     "execution_count": 29,
     "metadata": {},
     "output_type": "execute_result"
    }
   ],
   "source": [
    "np.sum(np.diag(chel_sun))"
   ]
  },
  {
   "cell_type": "code",
   "execution_count": 30,
   "id": "d9217486-7f52-472e-8469-3b027dad84e4",
   "metadata": {},
   "outputs": [
    {
     "data": {
      "text/plain": [
       "0.026961819942853054"
      ]
     },
     "execution_count": 30,
     "metadata": {},
     "output_type": "execute_result"
    }
   ],
   "source": [
    "np.sum(np.triu(chel_sun, 1))"
   ]
  },
  {
   "cell_type": "markdown",
   "id": "5a0f358d-ebde-4b17-ab8f-3fc48b31310b",
   "metadata": {},
   "source": [
    "Adapt final model function to output the ten matches in question with a specific input? Maybe have a dictionary and then convert?\n",
    "\n",
    "Train and testing - Refine model using some sort of RMSD to assess the quality of the predictions? Maybe use Patriciios model? That way people can also be introduced to the scoring methods.\n",
    "\n",
    "Add odds into the mix? Try and dd xG into the mix.\n",
    "\n",
    "Find some intersting football-specific stats - Also skim through Soccermatics\n",
    "\n",
    "Explain the statistics behind some of the code. Also really break down and understand stats-models properly.\n",
    "\n",
    "Automatically add the new 10 fixtures into the function - mabe from a list to start with, but maybe try and find dataset.\n",
    "Then also create the pipeline allowing for probabilities to be calculated as well as the plots - a mass 5 x 2 plot space\n",
    "\n",
    "OUTPUT\n",
    "Match score\n",
    "Home and Away names\n",
    "probability of most likely score\n",
    "\n",
    "then rank the outputs based on that confidence\n",
    "\n",
    "\n",
    "concatenate multiple years of data?\n"
   ]
  },
  {
   "cell_type": "markdown",
   "id": "43e6230e-6aca-4d60-a723-ac41bad04011",
   "metadata": {},
   "source": [
    "### Functions\n",
    "\n",
    "#### Data\n",
    "\n",
    "Find a new dataset wit xG included.\n",
    "\n",
    "Make a funciton to prepare the data for the model. Then Make one to concatenate the date - dictionary with names and syntax for the loop?\n",
    "\n",
    "Look through data and tweak model using existing features.\n",
    "\n",
    "#### Plotting\n",
    "\n",
    "A large detailed plot function\n",
    "\n",
    "A multiplot for the weeks ggames.\n",
    "\n",
    "\n",
    "#### Validation\n",
    "\n",
    "Build function to run prediction model through a years worth of fiixtures. Find a way to score the results. Also count number of correct results predicted.\n",
    "Keep the output very simple to make quick analysis easy.\n",
    "-This needs to implement the scoring code simplifier I made earlier.\n",
    "\n",
    "\n",
    "#### Finalisation\n",
    "\n",
    "Clean up the notebook and add comments.\n",
    "\n",
    "Add explanatory text to the notebook. Also set up styling before commiting. \n",
    "-Efficient Market Hypothesis - Betting\n",
    "\n",
    "Add images and unify colour palette (WDSS colours) - Stretch: WDSS cmap? linear segmented colormaps\n",
    "\n",
    "\n",
    "\n",
    "how does the model perform across seasons"
   ]
  }
 ],
 "metadata": {
  "kernelspec": {
   "display_name": "Python 3",
   "language": "python",
   "name": "python3"
  },
  "language_info": {
   "codemirror_mode": {
    "name": "ipython",
    "version": 3
   },
   "file_extension": ".py",
   "mimetype": "text/x-python",
   "name": "python",
   "nbconvert_exporter": "python",
   "pygments_lexer": "ipython3",
   "version": "3.8.8"
  }
 },
 "nbformat": 4,
 "nbformat_minor": 5
}
