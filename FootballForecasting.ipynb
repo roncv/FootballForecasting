{
 "cells": [
  {
   "cell_type": "markdown",
   "id": "791bc75e-4a0c-4211-a419-f99b3f33d1af",
   "metadata": {},
   "source": [
    "# Football Forecasting - WDSS Demo"
   ]
  },
  {
   "cell_type": "markdown",
   "id": "24342237-4010-48c9-993f-21915ab56599",
   "metadata": {},
   "source": [
    "Instert image here."
   ]
  },
  {
   "cell_type": "markdown",
   "id": "0e883cbb-986a-41ce-84a5-625293627b71",
   "metadata": {},
   "source": [
    "Here we provide a baseline model for our upcoming Premier League forecasting competition."
   ]
  },
  {
   "cell_type": "markdown",
   "id": "9f0d8cac-3d2e-48fc-861f-55cc0cb65d84",
   "metadata": {},
   "source": [
    "https://dashee87.github.io/football/python/predicting-football-results-with-statistical-modelling/   - Main Inspiration\n",
    "\n",
    "https://en.wikipedia.org/wiki/Skellam_distribution   - Skellam Distribution Wiki\n",
    "\n",
    "https://docs.scipy.org/doc/scipy/reference/generated/scipy.stats.skellam.html  - scipy.skellam\n",
    "\n",
    "https://dashee87.github.io/football/python/predicting-football-results-with-statistical-modelling-dixon-coles-and-time-weighting/    - Dixon Coles model\n",
    "\n",
    "https://www.imperial.ac.uk/media/imperial-college/faculty-of-engineering/computing/public/1718-ug-projects/Corentin-Herbinet-Using-Machine-Learning-techniques-to-predict-the-outcome-of-profressional-football-matches.pdf - ML Paper\n",
    "\n",
    "https://www.youtube.com/watch?v=CF8arYimMbk&ab_channel=WarwickDataScienceSociety - Tim's Video (R)"
   ]
  },
  {
   "cell_type": "code",
   "execution_count": 1,
   "id": "3605d79d-fbc8-4602-9112-f5152a71338d",
   "metadata": {},
   "outputs": [],
   "source": [
    "# Import some modules\n",
    "from scipy.stats import poisson, skellam\n",
    "import numpy as np\n",
    "import matplotlib.pyplot as plt\n",
    "import pandas as pd"
   ]
  },
  {
   "cell_type": "code",
   "execution_count": 32,
   "id": "fe6a537b-7ae5-481e-8939-0678b7b94eef",
   "metadata": {},
   "outputs": [],
   "source": [
    "# Fix Comments\n",
    "from scipy.optimize import minimize\n",
    "import seaborn as sns\n",
    "\n",
    "# Importing the tools required for the Poisson regression model\n",
    "import statsmodels.api as sm\n",
    "import statsmodels.formula.api as smf"
   ]
  },
  {
   "cell_type": "markdown",
   "id": "cf08bfb6-8cf8-4dc4-9543-dd4a0bd972e9",
   "metadata": {},
   "source": [
    "#### Poisson Distribution"
   ]
  },
  {
   "cell_type": "code",
   "execution_count": 10,
   "id": "7cf1571e-cff6-4320-856e-434814e5c2bb",
   "metadata": {},
   "outputs": [
    {
     "data": {
      "text/plain": [
       "1.29415"
      ]
     },
     "execution_count": 10,
     "metadata": {},
     "output_type": "execute_result"
    }
   ],
   "source": [
    "# Have an avg incidence of 1.3 per event. Size is the number of event scales.\n",
    "x_rvs = pd.Series(poisson.rvs(1.3, size=100000, random_state=2))\n",
    "x_rvs.mean()"
   ]
  },
  {
   "cell_type": "code",
   "execution_count": 11,
   "id": "83a4fc0c-0292-4676-ae42-9bd4d2aad6ec",
   "metadata": {},
   "outputs": [
    {
     "data": {
      "text/plain": [
       "{0: 27583, 1: 35414, 2: 22723, 3: 9948, 4: 3236, 5: 855, 6: 201, 7: 34, 8: 6}"
      ]
     },
     "execution_count": 11,
     "metadata": {},
     "output_type": "execute_result"
    }
   ],
   "source": [
    "data = x_rvs.value_counts().sort_index().to_dict()\n",
    "data"
   ]
  },
  {
   "cell_type": "code",
   "execution_count": 15,
   "id": "0f9ede21-3198-409c-bd21-1a4e168d4b4c",
   "metadata": {},
   "outputs": [
    {
     "data": {
      "image/png": "[encoded data removed]",
      "text/plain": [
       "<Figure size 1152x432 with 1 Axes>"
      ]
     },
     "metadata": {
      "needs_background": "light"
     },
     "output_type": "display_data"
    }
   ],
   "source": [
    "fig, ax = plt.subplots(figsize=(16, 6))\n",
    "ax.bar(range(len(data)), list(data.values()))\n",
    "plt.xticks(range(len(data)), list(data.keys()))\n",
    "plt.show()"
   ]
  },
  {
   "cell_type": "code",
   "execution_count": 16,
   "id": "dd1d0f6c-d179-454f-8073-b15ed577cbd8",
   "metadata": {},
   "outputs": [
    {
     "data": {
      "text/plain": [
       "0.30119421191220214"
      ]
     },
     "execution_count": 16,
     "metadata": {},
     "output_type": "execute_result"
    }
   ],
   "source": [
    "def poisson_pmf(k, lam):\n",
    "    return (lam ** k * np.exp(-lam)) / np.math.factorial(k)\n",
    "poisson_pmf(0, 1.2)"
   ]
  },
  {
   "cell_type": "code",
   "execution_count": 18,
   "id": "966103e6-99d5-484c-8bbb-58c72aac847a",
   "metadata": {},
   "outputs": [
    {
     "data": {
      "text/plain": [
       "0.30119421191220214"
      ]
     },
     "execution_count": 18,
     "metadata": {},
     "output_type": "execute_result"
    }
   ],
   "source": [
    "poisson.pmf(0, 1.2)"
   ]
  },
  {
   "cell_type": "code",
   "execution_count": 20,
   "id": "79042b86-efba-4835-bf4a-097bb93a800a",
   "metadata": {},
   "outputs": [
    {
     "data": {
      "text/plain": [
       "1.0954451150103321"
      ]
     },
     "execution_count": 20,
     "metadata": {},
     "output_type": "execute_result"
    }
   ],
   "source": [
    "poisson.std(1.2)"
   ]
  },
  {
   "cell_type": "code",
   "execution_count": 88,
   "id": "0ccd3d3c-eed5-4ee9-8eb8-fd7f14516052",
   "metadata": {},
   "outputs": [
    {
     "name": "stdout",
     "output_type": "stream",
     "text": [
      "12\n"
     ]
    }
   ],
   "source": [
    "season = 1819\n",
    "name = {season: \"epl_\"+str(season)}\n",
    "name[season] = 10\n",
    "\n",
    "globals()[\"epl_\"+str(season)] = 10\n",
    "x = globals()[\"epl_\"+str(season)]\n",
    "print(x+2)"
   ]
  },
  {
   "cell_type": "markdown",
   "id": "d5f68316-0e6b-4f2b-9a69-f98a62ab536f",
   "metadata": {},
   "source": [
    "#### Trying Out David Sheehan"
   ]
  },
  {
   "cell_type": "code",
   "execution_count": 123,
   "id": "3c17aa42-41ae-46e1-bf5c-b4865b357b2d",
   "metadata": {},
   "outputs": [],
   "source": [
    "# Define a function to quickly get data from any given EPL season.\n",
    "# Current GW fixtures are only added after the GW has finished.\n",
    "\n",
    "def get_epl_data(season):\n",
    "    \"\"\"\n",
    "    Takes in season formatted as YYYY (last 2 digits of Y1 and Y2 - no spaces or slashes)\n",
    "    \"\"\"\n",
    "    \n",
    "    x = pd.read_csv(\"http://www.football-data.co.uk/mmz4281/\" + str(season) + \"/E0.csv\")\n",
    "    x = x[['HomeTeam','AwayTeam','FTHG','FTAG', 'FTR']]\n",
    "    x = x.rename(columns={'FTHG': 'HomeGoals', 'FTAG': 'AwayGoals', 'FTR':'Result'})\n",
    "    globals()[\"epl_\"+str(season)] = x\n",
    "    \n",
    "    return globals()[\"epl_\"+str(season)]"
   ]
  },
  {
   "cell_type": "code",
   "execution_count": 84,
   "id": "082be8e4-7b7e-45ad-83e5-ab98a51bf159",
   "metadata": {},
   "outputs": [
    {
     "data": {
      "text/plain": [
       "Index(['Div', 'Date', 'HomeTeam', 'AwayTeam', 'FTHG', 'FTAG', 'FTR', 'HTHG',\n",
       "       'HTAG', 'HTR', 'Referee', 'HS', 'AS', 'HST', 'AST', 'HF', 'AF', 'HC',\n",
       "       'AC', 'HY', 'AY', 'HR', 'AR', 'B365H', 'B365D', 'B365A', 'BWH', 'BWD',\n",
       "       'BWA', 'IWH', 'IWD', 'IWA', 'LBH', 'LBD', 'LBA', 'PSH', 'PSD', 'PSA',\n",
       "       'WHH', 'WHD', 'WHA', 'VCH', 'VCD', 'VCA', 'Bb1X2', 'BbMxH', 'BbAvH',\n",
       "       'BbMxD', 'BbAvD', 'BbMxA', 'BbAvA', 'BbOU', 'BbMx>2.5', 'BbAv>2.5',\n",
       "       'BbMx<2.5', 'BbAv<2.5', 'BbAH', 'BbAHh', 'BbMxAHH', 'BbAvAHH',\n",
       "       'BbMxAHA', 'BbAvAHA', 'PSCH', 'PSCD', 'PSCA'],\n",
       "      dtype='object')"
      ]
     },
     "execution_count": 84,
     "metadata": {},
     "output_type": "execute_result"
    }
   ],
   "source": [
    "epl_1718 = pd.read_csv(\"http://www.football-data.co.uk/mmz4281/1718/E0.csv\")\n",
    "epl_1718.colum"
   ]
  },
  {
   "cell_type": "markdown",
   "id": "fdb8d0d2-20c4-4f0e-ada7-193aad650cb3",
   "metadata": {},
   "source": [
    "#### Add link to column names descriptiions."
   ]
  },
  {
   "cell_type": "code",
   "execution_count": 45,
   "id": "3972dee8-de93-4c29-8907-bc30ee791c13",
   "metadata": {},
   "outputs": [
    {
     "data": {
      "text/html": [
       "<div>\n",
       "<style scoped>\n",
       "    .dataframe tbody tr th:only-of-type {\n",
       "        vertical-align: middle;\n",
       "    }\n",
       "\n",
       "    .dataframe tbody tr th {\n",
       "        vertical-align: top;\n",
       "    }\n",
       "\n",
       "    .dataframe thead th {\n",
       "        text-align: right;\n",
       "    }\n",
       "</style>\n",
       "<table border=\"1\" class=\"dataframe\">\n",
       "  <thead>\n",
       "    <tr style=\"text-align: right;\">\n",
       "      <th></th>\n",
       "      <th>HomeTeam</th>\n",
       "      <th>AwayTeam</th>\n",
       "      <th>HomeGoals</th>\n",
       "      <th>AwayGoals</th>\n",
       "      <th>Result</th>\n",
       "    </tr>\n",
       "  </thead>\n",
       "  <tbody>\n",
       "    <tr>\n",
       "      <th>0</th>\n",
       "      <td>Arsenal</td>\n",
       "      <td>Leicester</td>\n",
       "      <td>4</td>\n",
       "      <td>3</td>\n",
       "      <td>H</td>\n",
       "    </tr>\n",
       "    <tr>\n",
       "      <th>1</th>\n",
       "      <td>Brighton</td>\n",
       "      <td>Man City</td>\n",
       "      <td>0</td>\n",
       "      <td>2</td>\n",
       "      <td>A</td>\n",
       "    </tr>\n",
       "    <tr>\n",
       "      <th>2</th>\n",
       "      <td>Chelsea</td>\n",
       "      <td>Burnley</td>\n",
       "      <td>2</td>\n",
       "      <td>3</td>\n",
       "      <td>A</td>\n",
       "    </tr>\n",
       "    <tr>\n",
       "      <th>3</th>\n",
       "      <td>Crystal Palace</td>\n",
       "      <td>Huddersfield</td>\n",
       "      <td>0</td>\n",
       "      <td>3</td>\n",
       "      <td>A</td>\n",
       "    </tr>\n",
       "    <tr>\n",
       "      <th>4</th>\n",
       "      <td>Everton</td>\n",
       "      <td>Stoke</td>\n",
       "      <td>1</td>\n",
       "      <td>0</td>\n",
       "      <td>H</td>\n",
       "    </tr>\n",
       "  </tbody>\n",
       "</table>\n",
       "</div>"
      ],
      "text/plain": [
       "         HomeTeam      AwayTeam  HomeGoals  AwayGoals Result\n",
       "0         Arsenal     Leicester          4          3      H\n",
       "1        Brighton      Man City          0          2      A\n",
       "2         Chelsea       Burnley          2          3      A\n",
       "3  Crystal Palace  Huddersfield          0          3      A\n",
       "4         Everton         Stoke          1          0      H"
      ]
     },
     "execution_count": 45,
     "metadata": {},
     "output_type": "execute_result"
    }
   ],
   "source": [
    "epl_1718 = pd.read_csv(\"http://www.football-data.co.uk/mmz4281/1718/E0.csv\")\n",
    "epl_1718 = epl_1718[['HomeTeam','AwayTeam','FTHG','FTAG', 'FTR']]\n",
    "epl_1718 = epl_1718.rename(columns={'FTHG': 'HomeGoals', 'FTAG': 'AwayGoals', 'FTR':'Result'})\n",
    "epl_1718.head()"
   ]
  },
  {
   "cell_type": "code",
   "execution_count": 50,
   "id": "0885de18-c846-49f0-94f5-4b3343dd31d3",
   "metadata": {},
   "outputs": [
    {
     "data": {
      "text/html": [
       "<div>\n",
       "<style scoped>\n",
       "    .dataframe tbody tr th:only-of-type {\n",
       "        vertical-align: middle;\n",
       "    }\n",
       "\n",
       "    .dataframe tbody tr th {\n",
       "        vertical-align: top;\n",
       "    }\n",
       "\n",
       "    .dataframe thead th {\n",
       "        text-align: right;\n",
       "    }\n",
       "</style>\n",
       "<table border=\"1\" class=\"dataframe\">\n",
       "  <thead>\n",
       "    <tr style=\"text-align: right;\">\n",
       "      <th></th>\n",
       "      <th>HomeTeam</th>\n",
       "      <th>AwayTeam</th>\n",
       "      <th>HomeGoals</th>\n",
       "      <th>AwayGoals</th>\n",
       "      <th>Result</th>\n",
       "    </tr>\n",
       "  </thead>\n",
       "  <tbody>\n",
       "    <tr>\n",
       "      <th>0</th>\n",
       "      <td>Burnley</td>\n",
       "      <td>Swansea</td>\n",
       "      <td>0</td>\n",
       "      <td>1</td>\n",
       "      <td>A</td>\n",
       "    </tr>\n",
       "    <tr>\n",
       "      <th>1</th>\n",
       "      <td>Crystal Palace</td>\n",
       "      <td>West Brom</td>\n",
       "      <td>0</td>\n",
       "      <td>1</td>\n",
       "      <td>A</td>\n",
       "    </tr>\n",
       "    <tr>\n",
       "      <th>2</th>\n",
       "      <td>Everton</td>\n",
       "      <td>Tottenham</td>\n",
       "      <td>1</td>\n",
       "      <td>1</td>\n",
       "      <td>D</td>\n",
       "    </tr>\n",
       "    <tr>\n",
       "      <th>3</th>\n",
       "      <td>Hull</td>\n",
       "      <td>Leicester</td>\n",
       "      <td>2</td>\n",
       "      <td>1</td>\n",
       "      <td>H</td>\n",
       "    </tr>\n",
       "    <tr>\n",
       "      <th>4</th>\n",
       "      <td>Man City</td>\n",
       "      <td>Sunderland</td>\n",
       "      <td>2</td>\n",
       "      <td>1</td>\n",
       "      <td>H</td>\n",
       "    </tr>\n",
       "  </tbody>\n",
       "</table>\n",
       "</div>"
      ],
      "text/plain": [
       "         HomeTeam    AwayTeam  HomeGoals  AwayGoals Result\n",
       "0         Burnley     Swansea          0          1      A\n",
       "1  Crystal Palace   West Brom          0          1      A\n",
       "2         Everton   Tottenham          1          1      D\n",
       "3            Hull   Leicester          2          1      H\n",
       "4        Man City  Sunderland          2          1      H"
      ]
     },
     "execution_count": 50,
     "metadata": {},
     "output_type": "execute_result"
    }
   ],
   "source": [
    "epl_1617 = pd.read_csv(\"http://www.football-data.co.uk/mmz4281/1617/E0.csv\")\n",
    "epl_1617 = epl_1617[['HomeTeam','AwayTeam','FTHG','FTAG', 'FTR']]\n",
    "epl_1617 = epl_1617.rename(columns={'FTHG': 'HomeGoals', 'FTAG': 'AwayGoals', 'FTR':'Result'})\n",
    "epl_1617.head()"
   ]
  },
  {
   "cell_type": "markdown",
   "id": "0a547001-6016-4023-9f32-7909896156c3",
   "metadata": {},
   "source": [
    "### Poisson Distribution"
   ]
  },
  {
   "cell_type": "markdown",
   "id": "711a1011-4787-4797-9b89-717feac768c4",
   "metadata": {},
   "source": [
    "#### $ P(x) = \\frac{e^{-\\lambda}\\lambda^{x}}{x!}, \\lambda > 0 $"
   ]
  },
  {
   "cell_type": "code",
   "execution_count": 46,
   "id": "b18531f4-60ed-4662-ae68-f43372fc4dfa",
   "metadata": {},
   "outputs": [
    {
     "data": {
      "text/plain": [
       "HomeGoals    1.591892\n",
       "AwayGoals    1.183784\n",
       "dtype: float64"
      ]
     },
     "execution_count": 46,
     "metadata": {},
     "output_type": "execute_result"
    }
   ],
   "source": [
    "epl_1617 = epl_1617[:-10]\n",
    "epl_1617.mean()"
   ]
  },
  {
   "cell_type": "code",
   "execution_count": 30,
   "id": "04e2ac29-f9dd-4be6-ae1b-f8fe0426a3c6",
   "metadata": {},
   "outputs": [
    {
     "data": {
      "text/plain": [
       "0.2480937681071708"
      ]
     },
     "execution_count": 30,
     "metadata": {},
     "output_type": "execute_result"
    }
   ],
   "source": [
    "# probability of draw between home and away team\n",
    "skellam.pmf(0.0,  epl_1617.mean()[0],  epl_1617.mean()[1])"
   ]
  },
  {
   "cell_type": "code",
   "execution_count": 31,
   "id": "18ee3ce0-406e-4e27-9898-dbf2be8d5677",
   "metadata": {},
   "outputs": [
    {
     "data": {
      "text/plain": [
       "0.22706765807563964"
      ]
     },
     "execution_count": 31,
     "metadata": {},
     "output_type": "execute_result"
    }
   ],
   "source": [
    "# probability of home team winning by one goal\n",
    "skellam.pmf(1,  epl_1617.mean()[0],  epl_1617.mean()[1])"
   ]
  },
  {
   "cell_type": "code",
   "execution_count": 33,
   "id": "1c4caeb8-df3f-491e-82db-ebf582e0e344",
   "metadata": {},
   "outputs": [],
   "source": [
    "goal_model_data = pd.concat([epl_1617[['HomeTeam','AwayTeam','HomeGoals']].assign(home=1).rename(\n",
    "            columns={'HomeTeam':'team', 'AwayTeam':'opponent','HomeGoals':'goals'}),\n",
    "           epl_1617[['AwayTeam','HomeTeam','AwayGoals']].assign(home=0).rename(\n",
    "            columns={'AwayTeam':'team', 'HomeTeam':'opponent','AwayGoals':'goals'})])"
   ]
  },
  {
   "cell_type": "code",
   "execution_count": 34,
   "id": "46d4f08a-975e-4069-973c-c9757f5fa1e7",
   "metadata": {},
   "outputs": [],
   "source": [
    "poisson_model = smf.glm(formula=\"goals ~ home + team + opponent\", data=goal_model_data, \n",
    "                        family=sm.families.Poisson()).fit()"
   ]
  },
  {
   "cell_type": "code",
   "execution_count": 35,
   "id": "a07646a0-7462-4ba6-a027-68da338ffa16",
   "metadata": {
    "collapsed": true,
    "jupyter": {
     "outputs_hidden": true
    },
    "tags": []
   },
   "outputs": [
    {
     "data": {
      "text/html": [
       "<table class=\"simpletable\">\n",
       "<caption>Generalized Linear Model Regression Results</caption>\n",
       "<tr>\n",
       "  <th>Dep. Variable:</th>         <td>goals</td>      <th>  No. Observations:  </th>  <td>   740</td> \n",
       "</tr>\n",
       "<tr>\n",
       "  <th>Model:</th>                  <td>GLM</td>       <th>  Df Residuals:      </th>  <td>   700</td> \n",
       "</tr>\n",
       "<tr>\n",
       "  <th>Model Family:</th>         <td>Poisson</td>     <th>  Df Model:          </th>  <td>    39</td> \n",
       "</tr>\n",
       "<tr>\n",
       "  <th>Link Function:</th>          <td>log</td>       <th>  Scale:             </th> <td>  1.0000</td>\n",
       "</tr>\n",
       "<tr>\n",
       "  <th>Method:</th>                <td>IRLS</td>       <th>  Log-Likelihood:    </th> <td> -1042.4</td>\n",
       "</tr>\n",
       "<tr>\n",
       "  <th>Date:</th>            <td>Sat, 18 Sep 2021</td> <th>  Deviance:          </th> <td>  776.11</td>\n",
       "</tr>\n",
       "<tr>\n",
       "  <th>Time:</th>                <td>21:03:32</td>     <th>  Pearson chi2:      </th>  <td>  659.</td> \n",
       "</tr>\n",
       "<tr>\n",
       "  <th>No. Iterations:</th>          <td>5</td>        <th>                     </th>     <td> </td>   \n",
       "</tr>\n",
       "<tr>\n",
       "  <th>Covariance Type:</th>     <td>nonrobust</td>    <th>                     </th>     <td> </td>   \n",
       "</tr>\n",
       "</table>\n",
       "<table class=\"simpletable\">\n",
       "<tr>\n",
       "               <td></td>                 <th>coef</th>     <th>std err</th>      <th>z</th>      <th>P>|z|</th>  <th>[0.025</th>    <th>0.975]</th>  \n",
       "</tr>\n",
       "<tr>\n",
       "  <th>Intercept</th>                  <td>    0.3725</td> <td>    0.198</td> <td>    1.880</td> <td> 0.060</td> <td>   -0.016</td> <td>    0.761</td>\n",
       "</tr>\n",
       "<tr>\n",
       "  <th>team[T.Bournemouth]</th>        <td>   -0.2891</td> <td>    0.179</td> <td>   -1.612</td> <td> 0.107</td> <td>   -0.641</td> <td>    0.062</td>\n",
       "</tr>\n",
       "<tr>\n",
       "  <th>team[T.Burnley]</th>            <td>   -0.6458</td> <td>    0.200</td> <td>   -3.230</td> <td> 0.001</td> <td>   -1.038</td> <td>   -0.254</td>\n",
       "</tr>\n",
       "<tr>\n",
       "  <th>team[T.Chelsea]</th>            <td>    0.0789</td> <td>    0.162</td> <td>    0.488</td> <td> 0.626</td> <td>   -0.238</td> <td>    0.396</td>\n",
       "</tr>\n",
       "<tr>\n",
       "  <th>team[T.Crystal Palace]</th>     <td>   -0.3865</td> <td>    0.183</td> <td>   -2.107</td> <td> 0.035</td> <td>   -0.746</td> <td>   -0.027</td>\n",
       "</tr>\n",
       "<tr>\n",
       "  <th>team[T.Everton]</th>            <td>   -0.2008</td> <td>    0.173</td> <td>   -1.161</td> <td> 0.246</td> <td>   -0.540</td> <td>    0.138</td>\n",
       "</tr>\n",
       "<tr>\n",
       "  <th>team[T.Hull]</th>               <td>   -0.7006</td> <td>    0.204</td> <td>   -3.441</td> <td> 0.001</td> <td>   -1.100</td> <td>   -0.302</td>\n",
       "</tr>\n",
       "<tr>\n",
       "  <th>team[T.Leicester]</th>          <td>   -0.4204</td> <td>    0.187</td> <td>   -2.249</td> <td> 0.025</td> <td>   -0.787</td> <td>   -0.054</td>\n",
       "</tr>\n",
       "<tr>\n",
       "  <th>team[T.Liverpool]</th>          <td>    0.0162</td> <td>    0.164</td> <td>    0.099</td> <td> 0.921</td> <td>   -0.306</td> <td>    0.338</td>\n",
       "</tr>\n",
       "<tr>\n",
       "  <th>team[T.Man City]</th>           <td>    0.0117</td> <td>    0.164</td> <td>    0.072</td> <td> 0.943</td> <td>   -0.310</td> <td>    0.334</td>\n",
       "</tr>\n",
       "<tr>\n",
       "  <th>team[T.Man United]</th>         <td>   -0.3572</td> <td>    0.181</td> <td>   -1.971</td> <td> 0.049</td> <td>   -0.713</td> <td>   -0.002</td>\n",
       "</tr>\n",
       "<tr>\n",
       "  <th>team[T.Middlesbrough]</th>      <td>   -1.0087</td> <td>    0.225</td> <td>   -4.481</td> <td> 0.000</td> <td>   -1.450</td> <td>   -0.568</td>\n",
       "</tr>\n",
       "<tr>\n",
       "  <th>team[T.Southampton]</th>        <td>   -0.5804</td> <td>    0.195</td> <td>   -2.976</td> <td> 0.003</td> <td>   -0.963</td> <td>   -0.198</td>\n",
       "</tr>\n",
       "<tr>\n",
       "  <th>team[T.Stoke]</th>              <td>   -0.6082</td> <td>    0.197</td> <td>   -3.094</td> <td> 0.002</td> <td>   -0.994</td> <td>   -0.223</td>\n",
       "</tr>\n",
       "<tr>\n",
       "  <th>team[T.Sunderland]</th>         <td>   -0.9619</td> <td>    0.222</td> <td>   -4.329</td> <td> 0.000</td> <td>   -1.397</td> <td>   -0.526</td>\n",
       "</tr>\n",
       "<tr>\n",
       "  <th>team[T.Swansea]</th>            <td>   -0.5136</td> <td>    0.192</td> <td>   -2.673</td> <td> 0.008</td> <td>   -0.890</td> <td>   -0.137</td>\n",
       "</tr>\n",
       "<tr>\n",
       "  <th>team[T.Tottenham]</th>          <td>    0.0532</td> <td>    0.162</td> <td>    0.328</td> <td> 0.743</td> <td>   -0.265</td> <td>    0.371</td>\n",
       "</tr>\n",
       "<tr>\n",
       "  <th>team[T.Watford]</th>            <td>   -0.5969</td> <td>    0.197</td> <td>   -3.035</td> <td> 0.002</td> <td>   -0.982</td> <td>   -0.211</td>\n",
       "</tr>\n",
       "<tr>\n",
       "  <th>team[T.West Brom]</th>          <td>   -0.5567</td> <td>    0.194</td> <td>   -2.876</td> <td> 0.004</td> <td>   -0.936</td> <td>   -0.177</td>\n",
       "</tr>\n",
       "<tr>\n",
       "  <th>team[T.West Ham]</th>           <td>   -0.4802</td> <td>    0.189</td> <td>   -2.535</td> <td> 0.011</td> <td>   -0.851</td> <td>   -0.109</td>\n",
       "</tr>\n",
       "<tr>\n",
       "  <th>opponent[T.Bournemouth]</th>    <td>    0.4109</td> <td>    0.196</td> <td>    2.092</td> <td> 0.036</td> <td>    0.026</td> <td>    0.796</td>\n",
       "</tr>\n",
       "<tr>\n",
       "  <th>opponent[T.Burnley]</th>        <td>    0.1657</td> <td>    0.206</td> <td>    0.806</td> <td> 0.420</td> <td>   -0.237</td> <td>    0.569</td>\n",
       "</tr>\n",
       "<tr>\n",
       "  <th>opponent[T.Chelsea]</th>        <td>   -0.3036</td> <td>    0.234</td> <td>   -1.298</td> <td> 0.194</td> <td>   -0.762</td> <td>    0.155</td>\n",
       "</tr>\n",
       "<tr>\n",
       "  <th>opponent[T.Crystal Palace]</th> <td>    0.3287</td> <td>    0.200</td> <td>    1.647</td> <td> 0.100</td> <td>   -0.062</td> <td>    0.720</td>\n",
       "</tr>\n",
       "<tr>\n",
       "  <th>opponent[T.Everton]</th>        <td>   -0.0442</td> <td>    0.218</td> <td>   -0.202</td> <td> 0.840</td> <td>   -0.472</td> <td>    0.384</td>\n",
       "</tr>\n",
       "<tr>\n",
       "  <th>opponent[T.Hull]</th>           <td>    0.4979</td> <td>    0.193</td> <td>    2.585</td> <td> 0.010</td> <td>    0.120</td> <td>    0.875</td>\n",
       "</tr>\n",
       "<tr>\n",
       "  <th>opponent[T.Leicester]</th>      <td>    0.3369</td> <td>    0.199</td> <td>    1.694</td> <td> 0.090</td> <td>   -0.053</td> <td>    0.727</td>\n",
       "</tr>\n",
       "<tr>\n",
       "  <th>opponent[T.Liverpool]</th>      <td>   -0.0374</td> <td>    0.217</td> <td>   -0.172</td> <td> 0.863</td> <td>   -0.463</td> <td>    0.389</td>\n",
       "</tr>\n",
       "<tr>\n",
       "  <th>opponent[T.Man City]</th>       <td>   -0.0993</td> <td>    0.222</td> <td>   -0.448</td> <td> 0.654</td> <td>   -0.534</td> <td>    0.335</td>\n",
       "</tr>\n",
       "<tr>\n",
       "  <th>opponent[T.Man United]</th>     <td>   -0.4220</td> <td>    0.241</td> <td>   -1.754</td> <td> 0.079</td> <td>   -0.894</td> <td>    0.050</td>\n",
       "</tr>\n",
       "<tr>\n",
       "  <th>opponent[T.Middlesbrough]</th>  <td>    0.1196</td> <td>    0.208</td> <td>    0.574</td> <td> 0.566</td> <td>   -0.289</td> <td>    0.528</td>\n",
       "</tr>\n",
       "<tr>\n",
       "  <th>opponent[T.Southampton]</th>    <td>    0.0458</td> <td>    0.211</td> <td>    0.217</td> <td> 0.828</td> <td>   -0.369</td> <td>    0.460</td>\n",
       "</tr>\n",
       "<tr>\n",
       "  <th>opponent[T.Stoke]</th>          <td>    0.2266</td> <td>    0.203</td> <td>    1.115</td> <td> 0.265</td> <td>   -0.172</td> <td>    0.625</td>\n",
       "</tr>\n",
       "<tr>\n",
       "  <th>opponent[T.Sunderland]</th>     <td>    0.3707</td> <td>    0.198</td> <td>    1.876</td> <td> 0.061</td> <td>   -0.017</td> <td>    0.758</td>\n",
       "</tr>\n",
       "<tr>\n",
       "  <th>opponent[T.Swansea]</th>        <td>    0.4336</td> <td>    0.195</td> <td>    2.227</td> <td> 0.026</td> <td>    0.052</td> <td>    0.815</td>\n",
       "</tr>\n",
       "<tr>\n",
       "  <th>opponent[T.Tottenham]</th>      <td>   -0.5431</td> <td>    0.252</td> <td>   -2.156</td> <td> 0.031</td> <td>   -1.037</td> <td>   -0.049</td>\n",
       "</tr>\n",
       "<tr>\n",
       "  <th>opponent[T.Watford]</th>        <td>    0.3533</td> <td>    0.198</td> <td>    1.782</td> <td> 0.075</td> <td>   -0.035</td> <td>    0.742</td>\n",
       "</tr>\n",
       "<tr>\n",
       "  <th>opponent[T.West Brom]</th>      <td>    0.0970</td> <td>    0.209</td> <td>    0.463</td> <td> 0.643</td> <td>   -0.313</td> <td>    0.507</td>\n",
       "</tr>\n",
       "<tr>\n",
       "  <th>opponent[T.West Ham]</th>       <td>    0.3485</td> <td>    0.198</td> <td>    1.758</td> <td> 0.079</td> <td>   -0.040</td> <td>    0.737</td>\n",
       "</tr>\n",
       "<tr>\n",
       "  <th>home</th>                       <td>    0.2969</td> <td>    0.063</td> <td>    4.702</td> <td> 0.000</td> <td>    0.173</td> <td>    0.421</td>\n",
       "</tr>\n",
       "</table>"
      ],
      "text/plain": [
       "<class 'statsmodels.iolib.summary.Summary'>\n",
       "\"\"\"\n",
       "                 Generalized Linear Model Regression Results                  \n",
       "==============================================================================\n",
       "Dep. Variable:                  goals   No. Observations:                  740\n",
       "Model:                            GLM   Df Residuals:                      700\n",
       "Model Family:                 Poisson   Df Model:                           39\n",
       "Link Function:                    log   Scale:                          1.0000\n",
       "Method:                          IRLS   Log-Likelihood:                -1042.4\n",
       "Date:                Sat, 18 Sep 2021   Deviance:                       776.11\n",
       "Time:                        21:03:32   Pearson chi2:                     659.\n",
       "No. Iterations:                     5                                         \n",
       "Covariance Type:            nonrobust                                         \n",
       "==============================================================================================\n",
       "                                 coef    std err          z      P>|z|      [0.025      0.975]\n",
       "----------------------------------------------------------------------------------------------\n",
       "Intercept                      0.3725      0.198      1.880      0.060      -0.016       0.761\n",
       "team[T.Bournemouth]           -0.2891      0.179     -1.612      0.107      -0.641       0.062\n",
       "team[T.Burnley]               -0.6458      0.200     -3.230      0.001      -1.038      -0.254\n",
       "team[T.Chelsea]                0.0789      0.162      0.488      0.626      -0.238       0.396\n",
       "team[T.Crystal Palace]        -0.3865      0.183     -2.107      0.035      -0.746      -0.027\n",
       "team[T.Everton]               -0.2008      0.173     -1.161      0.246      -0.540       0.138\n",
       "team[T.Hull]                  -0.7006      0.204     -3.441      0.001      -1.100      -0.302\n",
       "team[T.Leicester]             -0.4204      0.187     -2.249      0.025      -0.787      -0.054\n",
       "team[T.Liverpool]              0.0162      0.164      0.099      0.921      -0.306       0.338\n",
       "team[T.Man City]               0.0117      0.164      0.072      0.943      -0.310       0.334\n",
       "team[T.Man United]            -0.3572      0.181     -1.971      0.049      -0.713      -0.002\n",
       "team[T.Middlesbrough]         -1.0087      0.225     -4.481      0.000      -1.450      -0.568\n",
       "team[T.Southampton]           -0.5804      0.195     -2.976      0.003      -0.963      -0.198\n",
       "team[T.Stoke]                 -0.6082      0.197     -3.094      0.002      -0.994      -0.223\n",
       "team[T.Sunderland]            -0.9619      0.222     -4.329      0.000      -1.397      -0.526\n",
       "team[T.Swansea]               -0.5136      0.192     -2.673      0.008      -0.890      -0.137\n",
       "team[T.Tottenham]              0.0532      0.162      0.328      0.743      -0.265       0.371\n",
       "team[T.Watford]               -0.5969      0.197     -3.035      0.002      -0.982      -0.211\n",
       "team[T.West Brom]             -0.5567      0.194     -2.876      0.004      -0.936      -0.177\n",
       "team[T.West Ham]              -0.4802      0.189     -2.535      0.011      -0.851      -0.109\n",
       "opponent[T.Bournemouth]        0.4109      0.196      2.092      0.036       0.026       0.796\n",
       "opponent[T.Burnley]            0.1657      0.206      0.806      0.420      -0.237       0.569\n",
       "opponent[T.Chelsea]           -0.3036      0.234     -1.298      0.194      -0.762       0.155\n",
       "opponent[T.Crystal Palace]     0.3287      0.200      1.647      0.100      -0.062       0.720\n",
       "opponent[T.Everton]           -0.0442      0.218     -0.202      0.840      -0.472       0.384\n",
       "opponent[T.Hull]               0.4979      0.193      2.585      0.010       0.120       0.875\n",
       "opponent[T.Leicester]          0.3369      0.199      1.694      0.090      -0.053       0.727\n",
       "opponent[T.Liverpool]         -0.0374      0.217     -0.172      0.863      -0.463       0.389\n",
       "opponent[T.Man City]          -0.0993      0.222     -0.448      0.654      -0.534       0.335\n",
       "opponent[T.Man United]        -0.4220      0.241     -1.754      0.079      -0.894       0.050\n",
       "opponent[T.Middlesbrough]      0.1196      0.208      0.574      0.566      -0.289       0.528\n",
       "opponent[T.Southampton]        0.0458      0.211      0.217      0.828      -0.369       0.460\n",
       "opponent[T.Stoke]              0.2266      0.203      1.115      0.265      -0.172       0.625\n",
       "opponent[T.Sunderland]         0.3707      0.198      1.876      0.061      -0.017       0.758\n",
       "opponent[T.Swansea]            0.4336      0.195      2.227      0.026       0.052       0.815\n",
       "opponent[T.Tottenham]         -0.5431      0.252     -2.156      0.031      -1.037      -0.049\n",
       "opponent[T.Watford]            0.3533      0.198      1.782      0.075      -0.035       0.742\n",
       "opponent[T.West Brom]          0.0970      0.209      0.463      0.643      -0.313       0.507\n",
       "opponent[T.West Ham]           0.3485      0.198      1.758      0.079      -0.040       0.737\n",
       "home                           0.2969      0.063      4.702      0.000       0.173       0.421\n",
       "==============================================================================================\n",
       "\"\"\""
      ]
     },
     "execution_count": 35,
     "metadata": {},
     "output_type": "execute_result"
    }
   ],
   "source": [
    "poisson_model.summary()"
   ]
  },
  {
   "cell_type": "code",
   "execution_count": 36,
   "id": "10a3a469-973d-46e6-8caf-5b119f8f429a",
   "metadata": {
    "tags": []
   },
   "outputs": [
    {
     "data": {
      "text/plain": [
       "1    3.061662\n",
       "dtype: float64"
      ]
     },
     "execution_count": 36,
     "metadata": {},
     "output_type": "execute_result"
    }
   ],
   "source": [
    "poisson_model.predict(pd.DataFrame(data={'team': 'Chelsea', 'opponent': 'Sunderland',\n",
    "                                       'home':1},index=[1]))"
   ]
  },
  {
   "cell_type": "code",
   "execution_count": 37,
   "id": "03e87b64-ee65-4a30-aa1b-38782ebee757",
   "metadata": {},
   "outputs": [
    {
     "data": {
      "text/plain": [
       "1    0.409373\n",
       "dtype: float64"
      ]
     },
     "execution_count": 37,
     "metadata": {},
     "output_type": "execute_result"
    }
   ],
   "source": [
    "poisson_model.predict(pd.DataFrame(data={'team': 'Sunderland', 'opponent': 'Chelsea',\n",
    "                                       'home':0},index=[1]))"
   ]
  },
  {
   "cell_type": "code",
   "execution_count": 38,
   "id": "750e1741-5240-4d03-bc11-6561c5932e63",
   "metadata": {},
   "outputs": [
    {
     "data": {
      "text/plain": [
       "array([[0.03108485, 0.01272529, 0.00260469, 0.00035543],\n",
       "       [0.0951713 , 0.03896054, 0.00797469, 0.00108821],\n",
       "       [0.14569118, 0.059642  , 0.01220791, 0.00166586],\n",
       "       [0.14868571, 0.06086788, 0.01245883, 0.0017001 ]])"
      ]
     },
     "execution_count": 38,
     "metadata": {},
     "output_type": "execute_result"
    }
   ],
   "source": [
    "def simulate_match(foot_model, homeTeam, awayTeam, max_goals=10):\n",
    "    home_goals_avg = foot_model.predict(pd.DataFrame(data={'team': homeTeam, \n",
    "                                                            'opponent': awayTeam,'home':1},\n",
    "                                                      index=[1])).values[0]\n",
    "    away_goals_avg = foot_model.predict(pd.DataFrame(data={'team': awayTeam, \n",
    "                                                            'opponent': homeTeam,'home':0},\n",
    "                                                      index=[1])).values[0]\n",
    "    team_pred = [[poisson.pmf(i, team_avg) for i in range(0, max_goals+1)] for team_avg in [home_goals_avg, away_goals_avg]]\n",
    "    return(np.outer(np.array(team_pred[0]), np.array(team_pred[1])))\n",
    "simulate_match(poisson_model, 'Chelsea', 'Sunderland', max_goals=3)"
   ]
  },
  {
   "cell_type": "code",
   "execution_count": 39,
   "id": "5b40861a-1520-4f34-8f55-0e3e9c77b342",
   "metadata": {},
   "outputs": [
    {
     "data": {
      "text/plain": [
       "0.8885986612364134"
      ]
     },
     "execution_count": 39,
     "metadata": {},
     "output_type": "execute_result"
    }
   ],
   "source": [
    "chel_sun = simulate_match(poisson_model, \"Chelsea\", \"Sunderland\", max_goals=10)\n",
    "# chelsea win\n",
    "np.sum(np.tril(chel_sun, -1))"
   ]
  },
  {
   "cell_type": "code",
   "execution_count": 40,
   "id": "df753edb-3d7a-40a6-9f76-8f4b6c99edf9",
   "metadata": {},
   "outputs": [
    {
     "data": {
      "text/plain": [
       "0.08409349268649594"
      ]
     },
     "execution_count": 40,
     "metadata": {},
     "output_type": "execute_result"
    }
   ],
   "source": [
    "np.sum(np.diag(chel_sun))"
   ]
  },
  {
   "cell_type": "code",
   "execution_count": 41,
   "id": "d9217486-7f52-472e-8469-3b027dad84e4",
   "metadata": {},
   "outputs": [
    {
     "data": {
      "text/plain": [
       "0.026961819942853054"
      ]
     },
     "execution_count": 41,
     "metadata": {},
     "output_type": "execute_result"
    }
   ],
   "source": [
    "np.sum(np.triu(chel_sun, 1))"
   ]
  },
  {
   "cell_type": "markdown",
   "id": "5a0f358d-ebde-4b17-ab8f-3fc48b31310b",
   "metadata": {},
   "source": [
    "\n",
    "\n",
    "Adapt final model function to output the ten matches in question with a specific input? Maybe have a dictionary and then convert?"
   ]
  },
  {
   "cell_type": "code",
   "execution_count": null,
   "id": "5829d60c-1cce-45c7-ae3a-fb3fabe6cabf",
   "metadata": {},
   "outputs": [],
   "source": []
  }
 ],
 "metadata": {
  "kernelspec": {
   "display_name": "Python 3",
   "language": "python",
   "name": "python3"
  },
  "language_info": {
   "codemirror_mode": {
    "name": "ipython",
    "version": 3
   },
   "file_extension": ".py",
   "mimetype": "text/x-python",
   "name": "python",
   "nbconvert_exporter": "python",
   "pygments_lexer": "ipython3",
   "version": "3.8.8"
  }
 },
 "nbformat": 4,
 "nbformat_minor": 5
}
