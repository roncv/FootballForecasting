{
 "cells": [
  {
   "cell_type": "markdown",
   "id": "de265c57",
   "metadata": {
    "slideshow": {
     "slide_type": "slide"
    }
   },
   "source": [
    "# WDSS Football Forecasting Competition\n",
    "<img src=\"logo_subtitle.png\" width=500 height=500 />"
   ]
  },
  {
   "cell_type": "markdown",
   "id": "d22b4852",
   "metadata": {
    "slideshow": {
     "slide_type": "slide"
    }
   },
   "source": [
    "## The Competition"
   ]
  },
  {
   "cell_type": "markdown",
   "id": "d0040431",
   "metadata": {
    "slideshow": {
     "slide_type": "fragment"
    }
   },
   "source": [
    "- Predicting the scores of football matches isn't a new idea. \n"
   ]
  },
  {
   "cell_type": "markdown",
   "id": "d64946ec",
   "metadata": {
    "slideshow": {
     "slide_type": "fragment"
    }
   },
   "source": [
    "- People try their luck at bookies daily with nothing more than guesses, however, at WDSS a more data-driven approach is preferred."
   ]
  },
  {
   "cell_type": "markdown",
   "id": "83784ffc",
   "metadata": {
    "slideshow": {
     "slide_type": "fragment"
    }
   },
   "source": [
    "- The competition aims to draw together the best implementations of these with hopes of finding the best model possible. "
   ]
  },
  {
   "cell_type": "markdown",
   "id": "2432ab68",
   "metadata": {
    "slideshow": {
     "slide_type": "slide"
    }
   },
   "source": [
    "## The Format"
   ]
  },
  {
   "cell_type": "markdown",
   "id": "91fb6b15",
   "metadata": {
    "slideshow": {
     "slide_type": "fragment"
    }
   },
   "source": [
    "- "
   ]
  },
  {
   "cell_type": "markdown",
   "id": "b770449a",
   "metadata": {
    "slideshow": {
     "slide_type": "slide"
    }
   },
   "source": [
    "## The Rules"
   ]
  },
  {
   "cell_type": "markdown",
   "id": "b01e9c95",
   "metadata": {
    "slideshow": {
     "slide_type": "fragment"
    }
   },
   "source": [
    "- All weekly submissions must be accompanied by a model created in Python Jupyter Notebook (.ipynb file) or R Markdown notebooks (.Rmd). For any further queries regarding this please message us. \n"
   ]
  },
  {
   "cell_type": "markdown",
   "id": "b82beb24",
   "metadata": {
    "slideshow": {
     "slide_type": "fragment"
    }
   },
   "source": [
    "- Scores predicted must match the output of your model (we will check this and disqualify inconsistent submissions). \n",
    "\n"
   ]
  },
  {
   "cell_type": "markdown",
   "id": "7da79db1",
   "metadata": {
    "slideshow": {
     "slide_type": "fragment"
    }
   },
   "source": [
    "- There will be some flexibility in what constitutes as a model, however, please refer to our demo model as a baseline. \n",
    "\n"
   ]
  },
  {
   "cell_type": "markdown",
   "id": "efdf584d",
   "metadata": {
    "slideshow": {
     "slide_type": "fragment"
    }
   },
   "source": [
    "- Have Fun! "
   ]
  },
  {
   "cell_type": "markdown",
   "id": "992f77a3",
   "metadata": {
    "slideshow": {
     "slide_type": "slide"
    },
    "tags": []
   },
   "source": [
    "## The Winner & Prize"
   ]
  },
  {
   "cell_type": "markdown",
   "id": "3e09d4d4",
   "metadata": {
    "slideshow": {
     "slide_type": "fragment"
    }
   },
   "source": [
    "- The competition will be split across Term 1 & 2 with a prize pool of £700 for each iteration. \n"
   ]
  },
  {
   "cell_type": "markdown",
   "id": "63e80af2",
   "metadata": {
    "slideshow": {
     "slide_type": "fragment"
    }
   },
   "source": [
    "- This prize pool will be split between the top competitors as ranked by the accuracy of their predictions.\n"
   ]
  },
  {
   "cell_type": "markdown",
   "id": "15a9b864",
   "metadata": {
    "slideshow": {
     "slide_type": "fragment"
    }
   },
   "source": [
    "- Additionally, a £100 prize will be awarded for the model that displays the most ingenuity, creativity, and good statistical practice. "
   ]
  },
  {
   "cell_type": "markdown",
   "id": "d93593a9",
   "metadata": {
    "slideshow": {
     "slide_type": "slide"
    }
   },
   "source": [
    "# Getting Started: lets build a demo model"
   ]
  },
  {
   "cell_type": "markdown",
   "id": "fedebaa2",
   "metadata": {
    "slideshow": {
     "slide_type": "fragment"
    }
   },
   "source": [
    "- Today we will guide you in building a baseline model for our upcoming Premier League forecasting competition."
   ]
  },
  {
   "cell_type": "markdown",
   "id": "3721e4cc",
   "metadata": {
    "slideshow": {
     "slide_type": "fragment"
    }
   },
   "source": [
    "- This model will NOT win the competition for you, but it will help point you in the right direction"
   ]
  },
  {
   "cell_type": "markdown",
   "id": "ec7c2000",
   "metadata": {
    "slideshow": {
     "slide_type": "slide"
    }
   },
   "source": [
    "## Start out with our imports"
   ]
  },
  {
   "cell_type": "code",
   "execution_count": 1,
   "id": "8c4aad19",
   "metadata": {
    "slideshow": {
     "slide_type": "fragment"
    }
   },
   "outputs": [],
   "source": [
    "# Dependencies\n",
    "from scipy.stats import poisson, skellam\n",
    "import numpy as np\n",
    "import matplotlib\n",
    "import matplotlib.pyplot as plt\n",
    "from matplotlib.ticker import AutoMinorLocator\n",
    "import pandas as pd\n",
    "import statsmodels.api as sm\n",
    "import statsmodels.formula.api as smf"
   ]
  },
  {
   "cell_type": "markdown",
   "id": "e48d8b5e",
   "metadata": {
    "slideshow": {
     "slide_type": "slide"
    }
   },
   "source": [
    "## Gathering our data"
   ]
  },
  {
   "cell_type": "code",
   "execution_count": 4,
   "id": "eb8a0d6f",
   "metadata": {
    "slideshow": {
     "slide_type": "fragment"
    }
   },
   "outputs": [],
   "source": [
    "#### FUNCTION TO RETRIEVE PREMIER LEAGUE DATA ####\n",
    "def get_premier_league_data(start_year):\n",
    "    \"\"\"\n",
    "\n",
    "    Function to get Premier League data\n",
    "    :int start_year: Takes in the starting year of the season\n",
    "\n",
    "    \"\"\"\n",
    "    season = str(start_year)[-2:] + str(start_year + 1)[-2:]\n",
    "    data = pd.read_csv(\"http://www.football-data.co.uk/mmz4281/\" + season + \"/E0.csv\") \n",
    "    return data"
   ]
  },
  {
   "cell_type": "code",
   "execution_count": 6,
   "id": "f59b0418",
   "metadata": {
    "slideshow": {
     "slide_type": "slide"
    }
   },
   "outputs": [
    {
     "data": {
      "text/html": [
       "<div>\n",
       "<style scoped>\n",
       "    .dataframe tbody tr th:only-of-type {\n",
       "        vertical-align: middle;\n",
       "    }\n",
       "\n",
       "    .dataframe tbody tr th {\n",
       "        vertical-align: top;\n",
       "    }\n",
       "\n",
       "    .dataframe thead th {\n",
       "        text-align: right;\n",
       "    }\n",
       "</style>\n",
       "<table border=\"1\" class=\"dataframe\">\n",
       "  <thead>\n",
       "    <tr style=\"text-align: right;\">\n",
       "      <th></th>\n",
       "      <th>Div</th>\n",
       "      <th>Date</th>\n",
       "      <th>HomeTeam</th>\n",
       "      <th>AwayTeam</th>\n",
       "      <th>FTHG</th>\n",
       "      <th>FTAG</th>\n",
       "      <th>FTR</th>\n",
       "      <th>HTHG</th>\n",
       "      <th>HTAG</th>\n",
       "      <th>HTR</th>\n",
       "      <th>...</th>\n",
       "      <th>BbAv&lt;2.5</th>\n",
       "      <th>BbAH</th>\n",
       "      <th>BbAHh</th>\n",
       "      <th>BbMxAHH</th>\n",
       "      <th>BbAvAHH</th>\n",
       "      <th>BbMxAHA</th>\n",
       "      <th>BbAvAHA</th>\n",
       "      <th>PSCH</th>\n",
       "      <th>PSCD</th>\n",
       "      <th>PSCA</th>\n",
       "    </tr>\n",
       "  </thead>\n",
       "  <tbody>\n",
       "    <tr>\n",
       "      <th>0</th>\n",
       "      <td>E0</td>\n",
       "      <td>10/08/2018</td>\n",
       "      <td>Man United</td>\n",
       "      <td>Leicester</td>\n",
       "      <td>2</td>\n",
       "      <td>1</td>\n",
       "      <td>H</td>\n",
       "      <td>1</td>\n",
       "      <td>0</td>\n",
       "      <td>H</td>\n",
       "      <td>...</td>\n",
       "      <td>1.79</td>\n",
       "      <td>17</td>\n",
       "      <td>-0.75</td>\n",
       "      <td>1.75</td>\n",
       "      <td>1.70</td>\n",
       "      <td>2.29</td>\n",
       "      <td>2.21</td>\n",
       "      <td>1.55</td>\n",
       "      <td>4.07</td>\n",
       "      <td>7.69</td>\n",
       "    </tr>\n",
       "    <tr>\n",
       "      <th>1</th>\n",
       "      <td>E0</td>\n",
       "      <td>11/08/2018</td>\n",
       "      <td>Bournemouth</td>\n",
       "      <td>Cardiff</td>\n",
       "      <td>2</td>\n",
       "      <td>0</td>\n",
       "      <td>H</td>\n",
       "      <td>1</td>\n",
       "      <td>0</td>\n",
       "      <td>H</td>\n",
       "      <td>...</td>\n",
       "      <td>1.83</td>\n",
       "      <td>20</td>\n",
       "      <td>-0.75</td>\n",
       "      <td>2.20</td>\n",
       "      <td>2.13</td>\n",
       "      <td>1.80</td>\n",
       "      <td>1.75</td>\n",
       "      <td>1.88</td>\n",
       "      <td>3.61</td>\n",
       "      <td>4.70</td>\n",
       "    </tr>\n",
       "    <tr>\n",
       "      <th>2</th>\n",
       "      <td>E0</td>\n",
       "      <td>11/08/2018</td>\n",
       "      <td>Fulham</td>\n",
       "      <td>Crystal Palace</td>\n",
       "      <td>0</td>\n",
       "      <td>2</td>\n",
       "      <td>A</td>\n",
       "      <td>0</td>\n",
       "      <td>1</td>\n",
       "      <td>A</td>\n",
       "      <td>...</td>\n",
       "      <td>1.87</td>\n",
       "      <td>22</td>\n",
       "      <td>-0.25</td>\n",
       "      <td>2.18</td>\n",
       "      <td>2.11</td>\n",
       "      <td>1.81</td>\n",
       "      <td>1.77</td>\n",
       "      <td>2.62</td>\n",
       "      <td>3.38</td>\n",
       "      <td>2.90</td>\n",
       "    </tr>\n",
       "    <tr>\n",
       "      <th>3</th>\n",
       "      <td>E0</td>\n",
       "      <td>11/08/2018</td>\n",
       "      <td>Huddersfield</td>\n",
       "      <td>Chelsea</td>\n",
       "      <td>0</td>\n",
       "      <td>3</td>\n",
       "      <td>A</td>\n",
       "      <td>0</td>\n",
       "      <td>2</td>\n",
       "      <td>A</td>\n",
       "      <td>...</td>\n",
       "      <td>1.84</td>\n",
       "      <td>23</td>\n",
       "      <td>1.00</td>\n",
       "      <td>1.84</td>\n",
       "      <td>1.80</td>\n",
       "      <td>2.13</td>\n",
       "      <td>2.06</td>\n",
       "      <td>7.24</td>\n",
       "      <td>3.95</td>\n",
       "      <td>1.58</td>\n",
       "    </tr>\n",
       "    <tr>\n",
       "      <th>4</th>\n",
       "      <td>E0</td>\n",
       "      <td>11/08/2018</td>\n",
       "      <td>Newcastle</td>\n",
       "      <td>Tottenham</td>\n",
       "      <td>1</td>\n",
       "      <td>2</td>\n",
       "      <td>A</td>\n",
       "      <td>1</td>\n",
       "      <td>2</td>\n",
       "      <td>A</td>\n",
       "      <td>...</td>\n",
       "      <td>1.81</td>\n",
       "      <td>20</td>\n",
       "      <td>0.25</td>\n",
       "      <td>2.20</td>\n",
       "      <td>2.12</td>\n",
       "      <td>1.80</td>\n",
       "      <td>1.76</td>\n",
       "      <td>4.74</td>\n",
       "      <td>3.53</td>\n",
       "      <td>1.89</td>\n",
       "    </tr>\n",
       "  </tbody>\n",
       "</table>\n",
       "<p>5 rows × 62 columns</p>\n",
       "</div>"
      ],
      "text/plain": [
       "  Div        Date      HomeTeam        AwayTeam  FTHG  FTAG FTR  HTHG  HTAG  \\\n",
       "0  E0  10/08/2018    Man United       Leicester     2     1   H     1     0   \n",
       "1  E0  11/08/2018   Bournemouth         Cardiff     2     0   H     1     0   \n",
       "2  E0  11/08/2018        Fulham  Crystal Palace     0     2   A     0     1   \n",
       "3  E0  11/08/2018  Huddersfield         Chelsea     0     3   A     0     2   \n",
       "4  E0  11/08/2018     Newcastle       Tottenham     1     2   A     1     2   \n",
       "\n",
       "  HTR  ... BbAv<2.5  BbAH  BbAHh  BbMxAHH  BbAvAHH  BbMxAHA  BbAvAHA  PSCH  \\\n",
       "0   H  ...     1.79    17  -0.75     1.75     1.70     2.29     2.21  1.55   \n",
       "1   H  ...     1.83    20  -0.75     2.20     2.13     1.80     1.75  1.88   \n",
       "2   A  ...     1.87    22  -0.25     2.18     2.11     1.81     1.77  2.62   \n",
       "3   A  ...     1.84    23   1.00     1.84     1.80     2.13     2.06  7.24   \n",
       "4   A  ...     1.81    20   0.25     2.20     2.12     1.80     1.76  4.74   \n",
       "\n",
       "   PSCD  PSCA  \n",
       "0  4.07  7.69  \n",
       "1  3.61  4.70  \n",
       "2  3.38  2.90  \n",
       "3  3.95  1.58  \n",
       "4  3.53  1.89  \n",
       "\n",
       "[5 rows x 62 columns]"
      ]
     },
     "execution_count": 6,
     "metadata": {},
     "output_type": "execute_result"
    }
   ],
   "source": [
    "# Get data from the 2018/2019 season\n",
    "data = get_premier_league_data(2018)\n",
    "data.head()"
   ]
  },
  {
   "cell_type": "markdown",
   "id": "1cfe9989",
   "metadata": {
    "slideshow": {
     "slide_type": "slide"
    }
   },
   "source": [
    "## Light cleaning"
   ]
  },
  {
   "cell_type": "code",
   "execution_count": 7,
   "id": "672f3b72",
   "metadata": {
    "slideshow": {
     "slide_type": "fragment"
    }
   },
   "outputs": [],
   "source": [
    "# Filtering and renaming columns of interest\n",
    "columns = [\"HomeTeam\", \"AwayTeam\", \"FTHG\", \"FTAG\", \"FTR\"]\n",
    "data = data[columns].rename(\n",
    "    columns={\"FTHG\": \"HomeGoals\", \"FTAG\": \"AwayGoals\", \"FTR\": \"Result\"}\n",
    ")"
   ]
  },
  {
   "cell_type": "code",
   "execution_count": 8,
   "id": "596161f1",
   "metadata": {
    "slideshow": {
     "slide_type": "fragment"
    }
   },
   "outputs": [],
   "source": [
    "# Remove final week of fixtures\n",
    "data = data[:-10]"
   ]
  },
  {
   "cell_type": "markdown",
   "id": "918ce900",
   "metadata": {
    "slideshow": {
     "slide_type": "slide"
    }
   },
   "source": [
    "## Simple analysis: Home team advantage?\n"
   ]
  },
  {
   "cell_type": "code",
   "execution_count": 9,
   "id": "435b57f5",
   "metadata": {
    "slideshow": {
     "slide_type": "fragment"
    }
   },
   "outputs": [
    {
     "data": {
      "text/plain": [
       "HomeGoals    1.575676\n",
       "AwayGoals    1.224324\n",
       "dtype: float64"
      ]
     },
     "execution_count": 9,
     "metadata": {},
     "output_type": "execute_result"
    }
   ],
   "source": [
    "# Compute the average number of home and away goals\n",
    "data[[\"HomeGoals\", \"AwayGoals\"]].mean()"
   ]
  },
  {
   "cell_type": "markdown",
   "id": "e6396f07",
   "metadata": {
    "slideshow": {
     "slide_type": "slide"
    }
   },
   "source": [
    "## Towards a match prediction model "
   ]
  },
  {
   "cell_type": "markdown",
   "id": "18568fc7",
   "metadata": {
    "slideshow": {
     "slide_type": "fragment"
    }
   },
   "source": [
    "- One way to predict the match score is to consider the number of goals scored by each team\n"
   ]
  },
  {
   "cell_type": "markdown",
   "id": "16f55b63",
   "metadata": {
    "slideshow": {
     "slide_type": "fragment"
    }
   },
   "source": [
    "- We will denote the number of home team goals by $y_i$ where $i$ indicates the particular match\n"
   ]
  },
  {
   "cell_type": "markdown",
   "id": "4d134cce",
   "metadata": {
    "slideshow": {
     "slide_type": "fragment"
    }
   },
   "source": [
    "- Furthermore, we will use *regression analysis* to model $\\mathbb{E}[y_i | X_i]$ "
   ]
  },
  {
   "cell_type": "markdown",
   "id": "eb3d2583",
   "metadata": {
    "slideshow": {
     "slide_type": "slide"
    }
   },
   "source": [
    "## The Poisson distribution"
   ]
  },
  {
   "cell_type": "markdown",
   "id": "10d3afe6",
   "metadata": {
    "slideshow": {
     "slide_type": "fragment"
    }
   },
   "source": [
    "- The Poisson distribution is often used to model the probability distribution of *count events* (that is, the same event happening a specific number of times in a fixed time frame)\n"
   ]
  },
  {
   "cell_type": "markdown",
   "id": "ca33be44",
   "metadata": {
    "slideshow": {
     "slide_type": "fragment"
    }
   },
   "source": [
    "- It is a *discrete* distribution parametarized by a mean constant rate of occurences $\\lambda$"
   ]
  },
  {
   "cell_type": "markdown",
   "id": "74d16fd1",
   "metadata": {
    "slideshow": {
     "slide_type": "fragment"
    }
   },
   "source": [
    "- It assumes that event occurances within the interval are *independent* of one another"
   ]
  },
  {
   "cell_type": "markdown",
   "id": "8d5b8d30",
   "metadata": {
    "slideshow": {
     "slide_type": "fragment"
    }
   },
   "source": [
    "- It can be especially useful to model the number of goals we expect a team to score"
   ]
  },
  {
   "cell_type": "code",
   "execution_count": null,
   "id": "ca142a4d",
   "metadata": {
    "slideshow": {
     "slide_type": "fragment"
    }
   },
   "outputs": [],
   "source": [
    "x = np.random.poisson(2, 100000000)\n",
    "plt.hist(x, 14, density=True)\n",
    "plt.show()"
   ]
  },
  {
   "cell_type": "code",
   "execution_count": null,
   "id": "10bca848",
   "metadata": {
    "slideshow": {
     "slide_type": "fragment"
    }
   },
   "outputs": [],
   "source": [
    "# Prepare the dataset\n",
    "# Separate home and away teams/goals - then concatenate\n",
    "goal_model_data = pd.concat(\n",
    "    [\n",
    "        data[[\"HomeTeam\", \"AwayTeam\", \"HomeGoals\"]]\n",
    "        .assign(home=1)\n",
    "        .rename(\n",
    "            columns={\"HomeTeam\": \"team\", \"AwayTeam\": \"opponent\", \"HomeGoals\": \"goals\"}\n",
    "        ),\n",
    "        data[[\"AwayTeam\", \"HomeTeam\", \"AwayGoals\"]]\n",
    "        .assign(home=0)\n",
    "        .rename(\n",
    "            columns={\"AwayTeam\": \"team\", \"HomeTeam\": \"opponent\", \"AwayGoals\": \"goals\"}\n",
    "        ),\n",
    "    ]\n",
    ")\n",
    "goal_model_data.head()"
   ]
  },
  {
   "cell_type": "markdown",
   "id": "7a5224bd",
   "metadata": {
    "slideshow": {
     "slide_type": "slide"
    }
   },
   "source": [
    "## The Poisson regression model"
   ]
  },
  {
   "cell_type": "markdown",
   "id": "1a2d1da5",
   "metadata": {
    "slideshow": {
     "slide_type": "fragment"
    }
   },
   "source": [
    "- To predict the number of goals each team scores, we will fit the following model using match-level data\n"
   ]
  },
  {
   "cell_type": "markdown",
   "id": "1259c202",
   "metadata": {
    "slideshow": {
     "slide_type": "fragment"
    }
   },
   "source": [
    "$$y_i ~ Poisson(\\lambda_i)$$\n",
    "$$\\ln (\\lambda_i) = X_i\\beta$$"
   ]
  },
  {
   "cell_type": "markdown",
   "id": "a6d06b39",
   "metadata": {
    "slideshow": {
     "slide_type": "fragment"
    }
   },
   "source": [
    "- Here, $\\lambda_i$ is the mean number goals scored by the home team in match $i$, which we aim to predict using variables $X_i$"
   ]
  },
  {
   "cell_type": "code",
   "execution_count": null,
   "id": "590f8f66",
   "metadata": {
    "slideshow": {
     "slide_type": "fragment"
    }
   },
   "outputs": [],
   "source": [
    "# Building the model\n",
    "# Poisson Regression: log-linear model\n",
    "poisson_model = smf.glm(\n",
    "    formula=\"goals ~ home + team + opponent\",\n",
    "    data=goal_model_data,\n",
    "    family=sm.families.Poisson(),\n",
    ").fit()"
   ]
  },
  {
   "cell_type": "code",
   "execution_count": null,
   "id": "422b5962",
   "metadata": {
    "slideshow": {
     "slide_type": "fragment"
    }
   },
   "outputs": [],
   "source": [
    "# Get a statistical summary of the poisson model\n",
    "poisson_model.summary()"
   ]
  },
  {
   "cell_type": "markdown",
   "id": "ce457966",
   "metadata": {},
   "source": [
    "### Simulation & Validation"
   ]
  },
  {
   "cell_type": "code",
   "execution_count": null,
   "id": "bf47327b",
   "metadata": {},
   "outputs": [],
   "source": [
    "# Build a function to simulate a match using the newly generated poisson model\n",
    "# Outputs the probability distribution\n",
    "# Considers 8 goals as a maximum for either team\n",
    "\n",
    "\n",
    "def simulate_match(homeTeam, awayTeam, max_goals=8, foot_model=poisson_model):\n",
    "    home_goals_avg = foot_model.predict(\n",
    "        pd.DataFrame(\n",
    "            data={\"team\": homeTeam, \"opponent\": awayTeam, \"home\": 1}, index=[1]\n",
    "        )\n",
    "    ).values[0]\n",
    "    away_goals_avg = foot_model.predict(\n",
    "        pd.DataFrame(\n",
    "            data={\"team\": awayTeam, \"opponent\": homeTeam, \"home\": 0}, index=[1]\n",
    "        )\n",
    "    ).values[0]\n",
    "    team_pred = [\n",
    "        [poisson.pmf(i, team_avg) for i in range(0, max_goals + 1)]\n",
    "        for team_avg in [home_goals_avg, away_goals_avg]\n",
    "    ]\n",
    "    return np.outer(np.array(team_pred[0]), np.array(team_pred[1]))\n",
    "\n",
    "\n",
    "simulate_match(\"Chelsea\", \"Man City\")"
   ]
  },
  {
   "cell_type": "code",
   "execution_count": null,
   "id": "30de3ed1",
   "metadata": {},
   "outputs": [],
   "source": [
    "# Similar function, selecting most probable scoreline\n",
    "\n",
    "\n",
    "def simulate_match_output(homeTeam, awayTeam, max_goals=8, foot_model=poisson_model):\n",
    "    # Predict avg goals\n",
    "    home_goals_avg = foot_model.predict(\n",
    "        pd.DataFrame(\n",
    "            data={\"team\": homeTeam, \"opponent\": awayTeam, \"home\": 1}, index=[1]\n",
    "        )\n",
    "    ).values[0]\n",
    "    away_goals_avg = foot_model.predict(\n",
    "        pd.DataFrame(\n",
    "            data={\"team\": awayTeam, \"opponent\": homeTeam, \"home\": 0}, index=[1]\n",
    "        )\n",
    "    ).values[0]\n",
    "\n",
    "    team_pred = [\n",
    "        [poisson.pmf(i, team_avg) for i in range(0, max_goals + 1)]\n",
    "        for team_avg in [home_goals_avg, away_goals_avg]\n",
    "    ]\n",
    "    distribution = np.outer(\n",
    "        np.array(team_pred[0]), np.array(team_pred[1])\n",
    "    )  # multiply distributions together\n",
    "\n",
    "    # Get most likely score from the matrix\n",
    "    global h, a\n",
    "    h = np.argmax(distribution) // (max_goals + 1)\n",
    "    a = np.argmax(distribution) % (max_goals + 1)\n",
    "    output = homeTeam + \": \" + str(h) + \"\\n\" + awayTeam + \": \" + str(a)\n",
    "\n",
    "    return print(output)\n",
    "    return (h, a)\n",
    "\n",
    "\n",
    "simulate_match_output(\"Chelsea\", \"Man City\")"
   ]
  },
  {
   "cell_type": "code",
   "execution_count": null,
   "id": "15d69d97",
   "metadata": {},
   "outputs": [],
   "source": [
    "# Similar function, built to be iterated\n",
    "\n",
    "\n",
    "def simulate_match_clean(homeTeam, awayTeam, max_goals=8, foot_model=poisson_model):\n",
    "    # Predict avg goals\n",
    "    home_goals_avg = foot_model.predict(\n",
    "        pd.DataFrame(\n",
    "            data={\"team\": homeTeam, \"opponent\": awayTeam, \"home\": 1}, index=[1]\n",
    "        )\n",
    "    ).values[0]\n",
    "    away_goals_avg = foot_model.predict(\n",
    "        pd.DataFrame(\n",
    "            data={\"team\": awayTeam, \"opponent\": homeTeam, \"home\": 0}, index=[1]\n",
    "        )\n",
    "    ).values[0]\n",
    "\n",
    "    team_pred = [\n",
    "        [poisson.pmf(i, team_avg) for i in range(0, max_goals + 1)]\n",
    "        for team_avg in [home_goals_avg, away_goals_avg]\n",
    "    ]\n",
    "    distribution = np.outer(\n",
    "        np.array(team_pred[0]), np.array(team_pred[1])\n",
    "    )  # *multiply distributions together\n",
    "\n",
    "    # Get most likely score\n",
    "    global h, a\n",
    "    h = np.argmax(distribution) // (max_goals + 1)\n",
    "    a = np.argmax(distribution) % (max_goals + 1)\n",
    "\n",
    "    return (h, a)\n",
    "\n",
    "\n",
    "simulate_match_clean(\"Chelsea\", \"Man City\")"
   ]
  },
  {
   "cell_type": "code",
   "execution_count": null,
   "id": "faf0d9d4",
   "metadata": {
    "tags": []
   },
   "outputs": [],
   "source": [
    "# Simulate matches for any given PL seaason\n",
    "# Takes in dataset as input\n",
    "\n",
    "\n",
    "def simulate_test(x):\n",
    "\n",
    "    data = x.copy()\n",
    "\n",
    "    data[\"HomePred\"] = [0] * len(data)\n",
    "    data[\"AwayPred\"] = [0] * len(data)\n",
    "\n",
    "    for i in range(len(data)):\n",
    "        homeTeam = data[\"HomeTeam\"][i]\n",
    "        awayTeam = data[\"AwayTeam\"][i]\n",
    "\n",
    "        simulate_match_clean(homeTeam, awayTeam)\n",
    "        data.loc[i, \"HomePred\"] = int(h)\n",
    "        data.loc[i, \"AwayPred\"] = int(a)\n",
    "\n",
    "    data = pd.DataFrame.from_dict(data)\n",
    "\n",
    "    return data\n",
    "\n",
    "\n",
    "epl_1819_post = simulate_test(epl_1819)\n",
    "epl_1819_post"
   ]
  },
  {
   "cell_type": "code",
   "execution_count": null,
   "id": "8e6756b5",
   "metadata": {},
   "outputs": [],
   "source": [
    "type(epl_1819_post[\"AwayPred\"][2])"
   ]
  },
  {
   "cell_type": "code",
   "execution_count": null,
   "id": "7aa351b9",
   "metadata": {},
   "outputs": [],
   "source": [
    "# Add prediction results column\n",
    "# NOT WORKING - Does not register draws\n",
    "\n",
    "\n",
    "def update_df_res(data):\n",
    "\n",
    "    ResultPred = []\n",
    "\n",
    "    for i in data[\"HomePred\"]:\n",
    "        if i == data[\"AwayPred\"][i]:\n",
    "            ResultPred.append(\"D\")\n",
    "        elif i < data[\"AwayPred\"][i]:\n",
    "            ResultPred.append(\"A\")\n",
    "        else:\n",
    "            ResultPred.append(\"H\")\n",
    "\n",
    "    data = pd.concat([data, pd.Series(ResultPred)], axis=1).rename(\n",
    "        {0: \"ResultPred\"}, axis=1\n",
    "    )\n",
    "\n",
    "    return data"
   ]
  },
  {
   "cell_type": "code",
   "execution_count": null,
   "id": "21a36daa",
   "metadata": {},
   "outputs": [],
   "source": [
    "# Validate full time result prediction\n",
    "\n",
    "\n",
    "def update_df_ftr(data):\n",
    "\n",
    "    correctFTR = []\n",
    "\n",
    "    for i in range(len(data)):\n",
    "        if str(data[\"ResultPred\"][i]) is str(data[\"Result\"][i]):\n",
    "            correctFTR.append(True)\n",
    "        else:\n",
    "            correctFTR.append(False)\n",
    "\n",
    "    data = pd.concat([data, pd.Series(correctFTR)], axis=1).rename(\n",
    "        {0: \"correctFTR\"}, axis=1\n",
    "    )\n",
    "\n",
    "    return data"
   ]
  },
  {
   "cell_type": "code",
   "execution_count": null,
   "id": "7026e6cc",
   "metadata": {},
   "outputs": [],
   "source": [
    "# Vallidate Scoreline Prediction\n",
    "\n",
    "\n",
    "def update_df_correct(data):\n",
    "\n",
    "    correctScore = []\n",
    "\n",
    "    for i in range(len(data)):\n",
    "        if (\n",
    "            data[\"HomeGoals\"][i] == data[\"HomePred\"][i]\n",
    "            and data[\"AwayGoals\"][i] == data[\"AwayPred\"][i]\n",
    "        ):\n",
    "            correctScore.append(True)\n",
    "        elif data[\"HomeGoals\"][i] == data[\"HomePred\"][i]:\n",
    "            correctScore.append(\"Home\")\n",
    "        elif data[\"AwayGoals\"][i] == data[\"AwayPred\"][i]:\n",
    "            correctScore.append(\"Away\")\n",
    "        else:\n",
    "            correctScore.append(False)\n",
    "\n",
    "    data = pd.concat([data, pd.Series(correctScore)], axis=1).rename(\n",
    "        {0: \"correctScore\"}, axis=1\n",
    "    )\n",
    "\n",
    "    return data"
   ]
  },
  {
   "cell_type": "code",
   "execution_count": null,
   "id": "b1ed5db3",
   "metadata": {},
   "outputs": [],
   "source": [
    "epl_1819_post = update_df_correct(epl_1819_post)"
   ]
  },
  {
   "cell_type": "code",
   "execution_count": null,
   "id": "c6e74193",
   "metadata": {},
   "outputs": [],
   "source": [
    "epl_1819_post.columns"
   ]
  },
  {
   "cell_type": "code",
   "execution_count": null,
   "id": "a4fa41ad",
   "metadata": {},
   "outputs": [],
   "source": [
    "# Add validation columns\n",
    "# NOT WORKING - Does not take into account draws\n",
    "\n",
    "\n",
    "def update_df(data):\n",
    "\n",
    "    ResultPred = []\n",
    "\n",
    "    for i in data[\"HomePred\"]:\n",
    "        if int(i) > int(data[\"AwayPred\"][i]):\n",
    "            ResultPred.append(\"H\")\n",
    "        elif int(i) == int(data[\"AwayPred\"][i]):\n",
    "            ResultPred.append(\"D\")\n",
    "        else:\n",
    "            ResultPred.append(\"A\")\n",
    "\n",
    "    data = pd.concat([data, pd.Series(ResultPred)], axis=1).rename(\n",
    "        {0: \"ResultPred\"}, axis=1\n",
    "    )\n",
    "\n",
    "    correctFTR = []\n",
    "\n",
    "    for i in range(len(data)):\n",
    "        if str(data[\"ResultPred\"][i]) is str(data[\"Result\"][i]):\n",
    "            correctFTR.append(True)\n",
    "        else:\n",
    "            correctFTR.append(False)\n",
    "\n",
    "    data = pd.concat([data, pd.Series(correctFTR)], axis=1).rename(\n",
    "        {0: \"correctFTR\"}, axis=1\n",
    "    )\n",
    "\n",
    "    correctScore = []\n",
    "\n",
    "    for i in range(len(data)):\n",
    "        if (\n",
    "            data[\"HomeGoals\"][i] == data[\"HomePred\"][i]\n",
    "            and data[\"AwayGoals\"][i] == data[\"AwayPred\"][i]\n",
    "        ):\n",
    "            correctScore.append(True)\n",
    "        elif data[\"HomeGoals\"][i] == data[\"HomePred\"][i]:\n",
    "            correctScore.append(\"Home\")\n",
    "        elif data[\"AwayGoals\"][i] == data[\"AwayPred\"][i]:\n",
    "            correctScore.append(\"Away\")\n",
    "        else:\n",
    "            correctScore.append(False)\n",
    "\n",
    "    data = pd.concat([data, pd.Series(correctScore)], axis=1).rename(\n",
    "        {0: \"correctScore\"}, axis=1\n",
    "    )\n",
    "\n",
    "    return data\n",
    "\n",
    "\n",
    "# epl_1819_post = update_df(epl_1819_post)"
   ]
  },
  {
   "cell_type": "code",
   "execution_count": null,
   "id": "ba6ea2c7",
   "metadata": {},
   "outputs": [],
   "source": [
    "epl_1819_post.head(20)"
   ]
  },
  {
   "cell_type": "code",
   "execution_count": null,
   "id": "55b43d2b",
   "metadata": {},
   "outputs": [],
   "source": [
    "# Total correct final outcomes\n",
    "epl_1819_post[\"correctScore\"].value_counts()"
   ]
  },
  {
   "cell_type": "code",
   "execution_count": null,
   "id": "ca0513db",
   "metadata": {},
   "outputs": [],
   "source": [
    "# At least one correct prediction (home, away or both)\n",
    "sum(epl_1819_post[\"correctScore\"].value_counts()[-3:])"
   ]
  },
  {
   "cell_type": "code",
   "execution_count": null,
   "id": "42f576ae",
   "metadata": {},
   "outputs": [],
   "source": [
    "# Most common incorrect predictions (Draws seem prety common here?!)\n",
    "# epl_1819_post2 = epl_1819_post[epl_1819_post['correctFTR'] == False]\n",
    "# epl_1819_post2['ResultPred'].value_counts()\n",
    "\n",
    "# WILL NOT WORK UNTIL DRAWS ARE ACCOUNTED FOR"
   ]
  },
  {
   "cell_type": "code",
   "execution_count": null,
   "id": "f54d4a00",
   "metadata": {},
   "outputs": [],
   "source": []
  },
  {
   "cell_type": "markdown",
   "id": "0c9035f8",
   "metadata": {},
   "source": [
    "### Plots"
   ]
  },
  {
   "cell_type": "code",
   "execution_count": null,
   "id": "97255049",
   "metadata": {},
   "outputs": [],
   "source": [
    "chelsea_mancity = simulate_match(\"Chelsea\", \"Man City\")"
   ]
  },
  {
   "cell_type": "code",
   "execution_count": null,
   "id": "4286e52b",
   "metadata": {},
   "outputs": [],
   "source": [
    "def goal_matrix(homeTeam, awayTeam):\n",
    "\n",
    "    x = simulate_match(homeTeam, awayTeam)\n",
    "\n",
    "    # *Match the plotting functions to the max goals\n",
    "    # Axes labels\n",
    "    goals = [0, 1, 2, 3, 4, 5, 6, 7, 8]\n",
    "\n",
    "    # Plot figure\n",
    "    fig, ax = plt.subplots(figsize=(3, 3), dpi=400)\n",
    "    fig.tight_layout()\n",
    "    im = ax.imshow(x, cmap=\"winter\")\n",
    "\n",
    "    # Add grid\n",
    "    ax.minorticks_on()\n",
    "    ax.xaxis.set_minor_locator(AutoMinorLocator(2))\n",
    "    ax.yaxis.set_minor_locator(AutoMinorLocator(2))\n",
    "    ax.tick_params(axis=\"both\", which=\"minor\", color=\"w\", length=0)\n",
    "    ax.grid(which=\"minor\", color=\"b\", linestyle=\"-\", linewidth=0.6)\n",
    "\n",
    "    # Set ticks and paremeters\n",
    "    ax.set_yticks(np.arange(len(goals)))\n",
    "    ax.set_yticklabels(goals, fontsize=5)\n",
    "\n",
    "    ax.xaxis.tick_top()\n",
    "    ax.set_xticks(np.arange(len(goals)))\n",
    "    ax.set_xticklabels(goals, fontsize=5)\n",
    "\n",
    "    ax.tick_params(axis=\"both\", which=\"major\", length=2, pad=1.5)\n",
    "\n",
    "    ax.set_ylabel(\"Home Goals\", fontsize=6)  # axes label (y)\n",
    "    ax.set_xlabel(\"Away Goals\", fontsize=6)\n",
    "    ax.xaxis.set_label_position(\"top\")\n",
    "\n",
    "    # * Set this to the Home vs Away teams\n",
    "    ax.set_title(\"Chelsea vs Sunderland Forecast\", fontsize=7, y=1.1)\n",
    "    ax.set_title(\n",
    "        str(homeTeam) + \" vs. \" + str(awayTeam) + \" Forecast\", fontsize=7, y=1.1\n",
    "    )\n",
    "\n",
    "    # *rename this variable\n",
    "    # Rounding probabilites to add to the plot\n",
    "    rounded = x.tolist()\n",
    "    rounded3 = []\n",
    "    for z in rounded:\n",
    "        rounded2 = [round(x, 3) for x in z]\n",
    "        rounded3.append(rounded2)\n",
    "    rounded3 = np.array(rounded3)\n",
    "\n",
    "    for i in range(len(goals)):\n",
    "        for j in range(len(goals)):\n",
    "            text = ax.text(\n",
    "                j,\n",
    "                i,\n",
    "                rounded3[i, j],\n",
    "                ha=\"center\",\n",
    "                va=\"center\",\n",
    "                color=\"black\",\n",
    "                fontsize=3,\n",
    "                fontfamily=\"monospace\",\n",
    "            )\n",
    "\n",
    "    plt.show()\n",
    "\n",
    "\n",
    "goal_matrix(\"Man City\", \"Burnley\")"
   ]
  },
  {
   "cell_type": "code",
   "execution_count": null,
   "id": "8d2a5f5b",
   "metadata": {},
   "outputs": [],
   "source": [
    "# Define a function to get the seasons fixtures from csv\n",
    "def get_epl_fixtures(season):\n",
    "    \"\"\"\n",
    "    Takes in season formatted as YYYY (First Year of the season)\n",
    "    \"\"\"\n",
    "    # x = pd.read_csv(\"https://fixturedownload.com/download/csv/epl-\" + str(season)) # input season year within hyperlink\n",
    "    x = pd.read_csv(\n",
    "        \"https://fixturedownload.com/download/epl-\"\n",
    "        + str(season)\n",
    "        + \"-GMTStandardTime.csv\"\n",
    "    )  # input season year within hyperlink\n",
    "\n",
    "    x = x[\n",
    "        [\"Round Number\", \"Home Team\", \"Away Team\", \"Result\", \"Date\"]\n",
    "    ]  # isolate required columns\n",
    "    x = x.rename(\n",
    "        columns={\"Round Number\": \"GW\", \"Home Team\": \"HomeTeam\", \"Away Team\": \"AwayTeam\"}\n",
    "    )\n",
    "    globals()[\"epl_fixtures_\" + str(season)] = x\n",
    "\n",
    "    return globals()[\"epl_fixtures_\" + str(season)]"
   ]
  },
  {
   "cell_type": "code",
   "execution_count": null,
   "id": "4f7033a9",
   "metadata": {},
   "outputs": [],
   "source": [
    "get_epl_fixtures(2021)"
   ]
  },
  {
   "cell_type": "code",
   "execution_count": null,
   "id": "cea2a0b3",
   "metadata": {},
   "outputs": [],
   "source": [
    "# Get this weeks fixtures\n",
    "epl_fixtures_2021[50:60][:]"
   ]
  },
  {
   "cell_type": "markdown",
   "id": "8e224e98",
   "metadata": {},
   "source": [
    "#### Season Standings\n",
    "\n",
    "https://www.rotowire.com//soccer/tables/standings.php?league=EPL&length=total&season=2019\n",
    "\n",
    "https://www.rotowire.com/soccer/league-table.php?season=2018"
   ]
  },
  {
   "cell_type": "markdown",
   "id": "362ba132",
   "metadata": {},
   "source": [
    "### Next Steps"
   ]
  },
  {
   "cell_type": "markdown",
   "id": "80a21263",
   "metadata": {},
   "source": [
    "Build on the baseline.\n",
    "\n",
    "Participate in the competition."
   ]
  }
 ],
 "metadata": {
  "celltoolbar": "Slideshow",
  "kernelspec": {
   "display_name": "Python 3",
   "language": "python",
   "name": "python3"
  },
  "language_info": {
   "codemirror_mode": {
    "name": "ipython",
    "version": 3
   },
   "file_extension": ".py",
   "mimetype": "text/x-python",
   "name": "python",
   "nbconvert_exporter": "python",
   "pygments_lexer": "ipython3",
   "version": "3.8.10"
  }
 },
 "nbformat": 4,
 "nbformat_minor": 5
}
