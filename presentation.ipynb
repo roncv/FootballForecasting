{
 "cells": [
  {
   "cell_type": "markdown",
   "id": "de265c57",
   "metadata": {
    "slideshow": {
     "slide_type": "slide"
    }
   },
   "source": [
    "# WDSS Football Forecasting Competition\n",
    "\n",
    "\n",
    "\n",
    "\n",
    "\n",
    "<img src=\"logo_subtitle.png\" width=500 height=500 />"
   ]
  },
  {
   "cell_type": "markdown",
   "id": "d22b4852",
   "metadata": {
    "slideshow": {
     "slide_type": "slide"
    }
   },
   "source": [
    "## Our Sponsor\n",
    "\n",
    "<img src=\"mustard-systems-logo.png\" width=500 height=500 />"
   ]
  },
  {
   "cell_type": "markdown",
   "id": "2ac5504d",
   "metadata": {
    "slideshow": {
     "slide_type": "slide"
    }
   },
   "source": [
    "## The Competition"
   ]
  },
  {
   "cell_type": "markdown",
   "id": "d0040431",
   "metadata": {
    "slideshow": {
     "slide_type": "fragment"
    }
   },
   "source": [
    "- Predicting the scores of football matches isn't a new idea \n"
   ]
  },
  {
   "cell_type": "markdown",
   "id": "5de9ed9c",
   "metadata": {
    "slideshow": {
     "slide_type": "fragment"
    }
   },
   "source": [
    "- People try their luck at bookies daily with nothing more than guesses, however at WDSS a more data-driven approach is preferred "
   ]
  },
  {
   "cell_type": "markdown",
   "id": "24d2f3bc",
   "metadata": {
    "slideshow": {
     "slide_type": "fragment"
    }
   },
   "source": [
    "- The competition aims to draw together the best implementations of these with hopes of finding the best model possible "
   ]
  },
  {
   "cell_type": "markdown",
   "id": "2bd36493",
   "metadata": {
    "slideshow": {
     "slide_type": "slide"
    }
   },
   "source": [
    "## The Format"
   ]
  },
  {
   "cell_type": "markdown",
   "id": "91fb6b15",
   "metadata": {
    "slideshow": {
     "slide_type": "fragment"
    }
   },
   "source": [
    "- Weekly predictions on the **scores** of each Premier League match, starting Week 2\n"
   ]
  },
  {
   "cell_type": "markdown",
   "id": "2eaa0dda",
   "metadata": {
    "slideshow": {
     "slide_type": "fragment"
    }
   },
   "source": [
    "- Each week the predictions must be **ranked** from 1 to 10 in terms of confidence"
   ]
  },
  {
   "cell_type": "markdown",
   "id": "ca6131ac",
   "metadata": {
    "slideshow": {
     "slide_type": "fragment"
    }
   },
   "source": [
    "- Each contestor's predictions will be scored based on their weighted **mean squared error** and converted into points using a monotonously-decreasing rule "
   ]
  },
  {
   "cell_type": "markdown",
   "id": "b770449a",
   "metadata": {
    "slideshow": {
     "slide_type": "slide"
    }
   },
   "source": [
    "## The Calendar"
   ]
  },
  {
   "cell_type": "markdown",
   "id": "c794000c",
   "metadata": {
    "slideshow": {
     "slide_type": "fragment"
    }
   },
   "source": [
    "|Warwick Week| Week Starting|GW   | Game Days   |Fixtures|\n",
    "|------------|--------------|-----|----------   |--------|\n",
    "|Week 2      |11 - Oct      |8    |Sat - Mon    |10      |\n",
    "|Week 3      |18 - Oct      |9    |Fri - Sun    |10      |\n",
    "|Week 4      |25 - Oct      |10   |Sat - Mon    |10      |\n",
    "|Week 5      |01 - Nov      |11   |Fri - Sun    |10      |\n",
    "|Week 6      |08 - Nov      |BREAK|BREAK        |-       |\n",
    "|Week 7      |15 - Nov      |12   |Sat - Sun    |10      |\n",
    "|Week 8      |22 - Nov      |13   |Sat - Sun    |10      |\n",
    "|Week 9      |29 - Nov      |14&15|Tue, Wed, Sat|10      |\n",
    "|Week 10     |06 - Dec      |16   |Sat          |10      |"
   ]
  },
  {
   "cell_type": "markdown",
   "id": "e6734612",
   "metadata": {
    "slideshow": {
     "slide_type": "slide"
    }
   },
   "source": [
    "## The Rules"
   ]
  },
  {
   "cell_type": "markdown",
   "id": "b01e9c95",
   "metadata": {
    "slideshow": {
     "slide_type": "fragment"
    }
   },
   "source": [
    "- All weekly submissions must be accompanied by a model created in Python Jupyter Notebook (.ipynb file) or R Markdown notebooks (.Rmd) "
   ]
  },
  {
   "cell_type": "markdown",
   "id": "4b99c212",
   "metadata": {
    "slideshow": {
     "slide_type": "fragment"
    }
   },
   "source": [
    "- Scores predicted must match the output of your model (we will check this and disqualify inconsistent submissions) \n",
    "\n"
   ]
  },
  {
   "cell_type": "markdown",
<<<<<<< Updated upstream
   "id": "049709da",
   "metadata": {
    "slideshow": {
     "slide_type": "fragment"
    }
   },
   "source": [
    "- Sources of data should be made clear within submissions"
   ]
  },
  {
   "cell_type": "markdown",
=======
>>>>>>> Stashed changes
   "id": "9f7085a0",
   "metadata": {
    "slideshow": {
     "slide_type": "fragment"
    }
   },
   "source": [
    "- There will be some flexibility in what constitutes as a model, but please refer to our demo model as a benchmark \n",
    "\n"
   ]
  },
  {
   "cell_type": "markdown",
   "id": "c1ada204",
   "metadata": {
    "slideshow": {
     "slide_type": "fragment"
    }
   },
   "source": [
    "- Have Fun! "
   ]
  },
  {
   "cell_type": "markdown",
   "id": "992f77a3",
   "metadata": {
    "slideshow": {
     "slide_type": "slide"
    },
    "tags": []
   },
   "source": [
    "## The Winner & Prize"
   ]
  },
  {
   "cell_type": "markdown",
   "id": "3e09d4d4",
   "metadata": {
    "slideshow": {
     "slide_type": "fragment"
    }
   },
   "source": [
    "- The competition will be split across Term 1 & 2 with a prize pool of £700 for each iteration \n"
   ]
  },
  {
   "cell_type": "markdown",
   "id": "604cdb74",
   "metadata": {
    "slideshow": {
     "slide_type": "fragment"
    }
   },
   "source": [
    "- This prize pool will be split between the top competitors as ranked by the accuracy of their predictions \n"
   ]
  },
  {
   "cell_type": "markdown",
   "id": "03593fa5",
   "metadata": {
    "slideshow": {
     "slide_type": "fragment"
    }
   },
   "source": [
    "- Additionally, a £100 prize will be awarded for the model that displays the most ingenuity, creativity, and good statistical practice "
   ]
  },
  {
   "cell_type": "markdown",
   "id": "d93593a9",
   "metadata": {
    "slideshow": {
     "slide_type": "slide"
    }
   },
   "source": [
    "# Getting Started: lets build a demo model"
   ]
  },
  {
   "cell_type": "markdown",
   "id": "fedebaa2",
   "metadata": {
    "slideshow": {
     "slide_type": "fragment"
    }
   },
   "source": [
    "- Today we will guide you in building a baseline model for our upcoming Premier League forecasting competition "
   ]
  },
  {
   "cell_type": "markdown",
   "id": "b4cd9a4e",
   "metadata": {
    "slideshow": {
     "slide_type": "fragment"
    }
   },
   "source": [
    "- This model will NOT win the competition for you, but it will help point you in the right direction"
   ]
  },
  {
   "cell_type": "markdown",
   "id": "0f9490f7",
   "metadata": {
    "slideshow": {
     "slide_type": "slide"
    }
   },
   "source": [
    "## Start out with our imports"
   ]
  },
  {
   "cell_type": "code",
<<<<<<< Updated upstream
<<<<<<< Updated upstream
   "execution_count": 24,
=======
   "execution_count": 12,
>>>>>>> Stashed changes
=======
   "execution_count": 1,
>>>>>>> Stashed changes
   "id": "8c4aad19",
   "metadata": {
    "slideshow": {
     "slide_type": "fragment"
    }
   },
   "outputs": [],
   "source": [
    "# Dependencies\n",
    "from scipy.stats import poisson \n",
    "import numpy as np\n",
    "import matplotlib\n",
    "import matplotlib.pyplot as plt \n",
    "import seaborn as sns\n",
    "import pandas as pd\n",
    "import statsmodels.api as sm\n",
    "import statsmodels.formula.api as smf"
   ]
  },
  {
   "cell_type": "markdown",
   "id": "e48d8b5e",
   "metadata": {
    "slideshow": {
     "slide_type": "slide"
    }
   },
   "source": [
    "## Gathering our data"
   ]
  },
  {
   "cell_type": "code",
<<<<<<< Updated upstream
   "execution_count": 2,
=======
   "execution_count": 13,
>>>>>>> Stashed changes
   "id": "eb8a0d6f",
   "metadata": {
    "slideshow": {
     "slide_type": "fragment"
    }
   },
   "outputs": [],
   "source": [
    "# Function to retrieve premier league data\n",
    "def get_premier_league_data(start_year):\n",
    "    season = str(start_year)[-2:] + str(start_year + 1)[-2:]\n",
    "    data = pd.read_csv(\"http://www.football-data.co.uk/mmz4281/\" + season + \"/E0.csv\") \n",
    "    return data"
   ]
  },
  {
   "cell_type": "code",
<<<<<<< Updated upstream
   "execution_count": 3,
=======
   "execution_count": 14,
>>>>>>> Stashed changes
   "id": "f59b0418",
   "metadata": {
    "slideshow": {
     "slide_type": "slide"
    }
   },
   "outputs": [
    {
     "data": {
      "text/html": [
       "<div>\n",
       "<style scoped>\n",
       "    .dataframe tbody tr th:only-of-type {\n",
       "        vertical-align: middle;\n",
       "    }\n",
       "\n",
       "    .dataframe tbody tr th {\n",
       "        vertical-align: top;\n",
       "    }\n",
       "\n",
       "    .dataframe thead th {\n",
       "        text-align: right;\n",
       "    }\n",
       "</style>\n",
       "<table border=\"1\" class=\"dataframe\">\n",
       "  <thead>\n",
       "    <tr style=\"text-align: right;\">\n",
       "      <th></th>\n",
       "      <th>Div</th>\n",
       "      <th>Date</th>\n",
       "      <th>HomeTeam</th>\n",
       "      <th>AwayTeam</th>\n",
       "      <th>FTHG</th>\n",
       "      <th>FTAG</th>\n",
       "      <th>FTR</th>\n",
       "      <th>HTHG</th>\n",
       "      <th>HTAG</th>\n",
       "      <th>HTR</th>\n",
       "      <th>...</th>\n",
       "      <th>BbAv&lt;2.5</th>\n",
       "      <th>BbAH</th>\n",
       "      <th>BbAHh</th>\n",
       "      <th>BbMxAHH</th>\n",
       "      <th>BbAvAHH</th>\n",
       "      <th>BbMxAHA</th>\n",
       "      <th>BbAvAHA</th>\n",
       "      <th>PSCH</th>\n",
       "      <th>PSCD</th>\n",
       "      <th>PSCA</th>\n",
       "    </tr>\n",
       "  </thead>\n",
       "  <tbody>\n",
       "    <tr>\n",
       "      <th>0</th>\n",
       "      <td>E0</td>\n",
       "      <td>10/08/2018</td>\n",
       "      <td>Man United</td>\n",
       "      <td>Leicester</td>\n",
       "      <td>2</td>\n",
       "      <td>1</td>\n",
       "      <td>H</td>\n",
       "      <td>1</td>\n",
       "      <td>0</td>\n",
       "      <td>H</td>\n",
       "      <td>...</td>\n",
       "      <td>1.79</td>\n",
       "      <td>17</td>\n",
       "      <td>-0.75</td>\n",
       "      <td>1.75</td>\n",
       "      <td>1.70</td>\n",
       "      <td>2.29</td>\n",
       "      <td>2.21</td>\n",
       "      <td>1.55</td>\n",
       "      <td>4.07</td>\n",
       "      <td>7.69</td>\n",
       "    </tr>\n",
       "    <tr>\n",
       "      <th>1</th>\n",
       "      <td>E0</td>\n",
       "      <td>11/08/2018</td>\n",
       "      <td>Bournemouth</td>\n",
       "      <td>Cardiff</td>\n",
       "      <td>2</td>\n",
       "      <td>0</td>\n",
       "      <td>H</td>\n",
       "      <td>1</td>\n",
       "      <td>0</td>\n",
       "      <td>H</td>\n",
       "      <td>...</td>\n",
       "      <td>1.83</td>\n",
       "      <td>20</td>\n",
       "      <td>-0.75</td>\n",
       "      <td>2.20</td>\n",
       "      <td>2.13</td>\n",
       "      <td>1.80</td>\n",
       "      <td>1.75</td>\n",
       "      <td>1.88</td>\n",
       "      <td>3.61</td>\n",
       "      <td>4.70</td>\n",
       "    </tr>\n",
       "    <tr>\n",
       "      <th>2</th>\n",
       "      <td>E0</td>\n",
       "      <td>11/08/2018</td>\n",
       "      <td>Fulham</td>\n",
       "      <td>Crystal Palace</td>\n",
       "      <td>0</td>\n",
       "      <td>2</td>\n",
       "      <td>A</td>\n",
       "      <td>0</td>\n",
       "      <td>1</td>\n",
       "      <td>A</td>\n",
       "      <td>...</td>\n",
       "      <td>1.87</td>\n",
       "      <td>22</td>\n",
       "      <td>-0.25</td>\n",
       "      <td>2.18</td>\n",
       "      <td>2.11</td>\n",
       "      <td>1.81</td>\n",
       "      <td>1.77</td>\n",
       "      <td>2.62</td>\n",
       "      <td>3.38</td>\n",
       "      <td>2.90</td>\n",
       "    </tr>\n",
       "    <tr>\n",
       "      <th>3</th>\n",
       "      <td>E0</td>\n",
       "      <td>11/08/2018</td>\n",
       "      <td>Huddersfield</td>\n",
       "      <td>Chelsea</td>\n",
       "      <td>0</td>\n",
       "      <td>3</td>\n",
       "      <td>A</td>\n",
       "      <td>0</td>\n",
       "      <td>2</td>\n",
       "      <td>A</td>\n",
       "      <td>...</td>\n",
       "      <td>1.84</td>\n",
       "      <td>23</td>\n",
       "      <td>1.00</td>\n",
       "      <td>1.84</td>\n",
       "      <td>1.80</td>\n",
       "      <td>2.13</td>\n",
       "      <td>2.06</td>\n",
       "      <td>7.24</td>\n",
       "      <td>3.95</td>\n",
       "      <td>1.58</td>\n",
       "    </tr>\n",
       "    <tr>\n",
       "      <th>4</th>\n",
       "      <td>E0</td>\n",
       "      <td>11/08/2018</td>\n",
       "      <td>Newcastle</td>\n",
       "      <td>Tottenham</td>\n",
       "      <td>1</td>\n",
       "      <td>2</td>\n",
       "      <td>A</td>\n",
       "      <td>1</td>\n",
       "      <td>2</td>\n",
       "      <td>A</td>\n",
       "      <td>...</td>\n",
       "      <td>1.81</td>\n",
       "      <td>20</td>\n",
       "      <td>0.25</td>\n",
       "      <td>2.20</td>\n",
       "      <td>2.12</td>\n",
       "      <td>1.80</td>\n",
       "      <td>1.76</td>\n",
       "      <td>4.74</td>\n",
       "      <td>3.53</td>\n",
       "      <td>1.89</td>\n",
       "    </tr>\n",
       "  </tbody>\n",
       "</table>\n",
       "<p>5 rows × 62 columns</p>\n",
       "</div>"
      ],
      "text/plain": [
       "  Div        Date      HomeTeam        AwayTeam  FTHG  FTAG FTR  HTHG  HTAG  \\\n",
       "0  E0  10/08/2018    Man United       Leicester     2     1   H     1     0   \n",
       "1  E0  11/08/2018   Bournemouth         Cardiff     2     0   H     1     0   \n",
       "2  E0  11/08/2018        Fulham  Crystal Palace     0     2   A     0     1   \n",
       "3  E0  11/08/2018  Huddersfield         Chelsea     0     3   A     0     2   \n",
       "4  E0  11/08/2018     Newcastle       Tottenham     1     2   A     1     2   \n",
       "\n",
       "  HTR  ... BbAv<2.5  BbAH  BbAHh  BbMxAHH  BbAvAHH  BbMxAHA  BbAvAHA  PSCH  \\\n",
       "0   H  ...     1.79    17  -0.75     1.75     1.70     2.29     2.21  1.55   \n",
       "1   H  ...     1.83    20  -0.75     2.20     2.13     1.80     1.75  1.88   \n",
       "2   A  ...     1.87    22  -0.25     2.18     2.11     1.81     1.77  2.62   \n",
       "3   A  ...     1.84    23   1.00     1.84     1.80     2.13     2.06  7.24   \n",
       "4   A  ...     1.81    20   0.25     2.20     2.12     1.80     1.76  4.74   \n",
       "\n",
       "   PSCD  PSCA  \n",
       "0  4.07  7.69  \n",
       "1  3.61  4.70  \n",
       "2  3.38  2.90  \n",
       "3  3.95  1.58  \n",
       "4  3.53  1.89  \n",
       "\n",
       "[5 rows x 62 columns]"
      ]
     },
<<<<<<< Updated upstream
     "execution_count": 3,
=======
     "execution_count": 14,
>>>>>>> Stashed changes
     "metadata": {},
     "output_type": "execute_result"
    }
   ],
   "source": [
    "# Get data from the 2018/2019 season\n",
    "data = get_premier_league_data(2018)\n",
    "data.head()"
   ]
  },
  {
   "cell_type": "markdown",
   "id": "1cfe9989",
   "metadata": {
    "slideshow": {
     "slide_type": "slide"
    }
   },
   "source": [
    "## Light cleaning"
   ]
  },
  {
   "cell_type": "code",
<<<<<<< Updated upstream
   "execution_count": 4,
=======
   "execution_count": 15,
>>>>>>> Stashed changes
   "id": "672f3b72",
   "metadata": {
    "slideshow": {
     "slide_type": "fragment"
    }
   },
   "outputs": [],
   "source": [
    "# Filtering columns of interest\n",
    "columns = [\"HomeTeam\", \"AwayTeam\", \"FTHG\", \"FTAG\", \"FTR\"]\n",
    "data = data[columns]\n",
    "\n",
    "# Renaming columns\n",
    "data = data.rename(\n",
    "    columns={\"FTHG\": \"HomeGoals\", \"FTAG\": \"AwayGoals\", \"FTR\": \"Result\"}\n",
    ")"
   ]
  },
  {
   "cell_type": "code",
<<<<<<< Updated upstream
   "execution_count": 5,
=======
   "execution_count": 16,
>>>>>>> Stashed changes
   "id": "596161f1",
   "metadata": {
    "slideshow": {
     "slide_type": "fragment"
    }
   },
<<<<<<< Updated upstream
   "outputs": [
    {
     "data": {
      "text/html": [
       "<div>\n",
       "<style scoped>\n",
       "    .dataframe tbody tr th:only-of-type {\n",
       "        vertical-align: middle;\n",
       "    }\n",
       "\n",
       "    .dataframe tbody tr th {\n",
       "        vertical-align: top;\n",
       "    }\n",
       "\n",
       "    .dataframe thead th {\n",
       "        text-align: right;\n",
       "    }\n",
       "</style>\n",
       "<table border=\"1\" class=\"dataframe\">\n",
       "  <thead>\n",
       "    <tr style=\"text-align: right;\">\n",
       "      <th></th>\n",
       "      <th>HomeTeam</th>\n",
       "      <th>AwayTeam</th>\n",
       "      <th>HomeGoals</th>\n",
       "      <th>AwayGoals</th>\n",
       "      <th>Result</th>\n",
       "    </tr>\n",
       "  </thead>\n",
       "  <tbody>\n",
       "    <tr>\n",
       "      <th>0</th>\n",
       "      <td>Man United</td>\n",
       "      <td>Leicester</td>\n",
       "      <td>2</td>\n",
       "      <td>1</td>\n",
       "      <td>H</td>\n",
       "    </tr>\n",
       "    <tr>\n",
       "      <th>1</th>\n",
       "      <td>Bournemouth</td>\n",
       "      <td>Cardiff</td>\n",
       "      <td>2</td>\n",
       "      <td>0</td>\n",
       "      <td>H</td>\n",
       "    </tr>\n",
       "    <tr>\n",
       "      <th>2</th>\n",
       "      <td>Fulham</td>\n",
       "      <td>Crystal Palace</td>\n",
       "      <td>0</td>\n",
       "      <td>2</td>\n",
       "      <td>A</td>\n",
       "    </tr>\n",
       "    <tr>\n",
       "      <th>3</th>\n",
       "      <td>Huddersfield</td>\n",
       "      <td>Chelsea</td>\n",
       "      <td>0</td>\n",
       "      <td>3</td>\n",
       "      <td>A</td>\n",
       "    </tr>\n",
       "    <tr>\n",
       "      <th>4</th>\n",
       "      <td>Newcastle</td>\n",
       "      <td>Tottenham</td>\n",
       "      <td>1</td>\n",
       "      <td>2</td>\n",
       "      <td>A</td>\n",
       "    </tr>\n",
       "    <tr>\n",
       "      <th>...</th>\n",
       "      <td>...</td>\n",
       "      <td>...</td>\n",
       "      <td>...</td>\n",
       "      <td>...</td>\n",
       "      <td>...</td>\n",
       "    </tr>\n",
       "    <tr>\n",
       "      <th>365</th>\n",
       "      <td>Wolves</td>\n",
       "      <td>Fulham</td>\n",
       "      <td>1</td>\n",
       "      <td>0</td>\n",
       "      <td>H</td>\n",
       "    </tr>\n",
       "    <tr>\n",
       "      <th>366</th>\n",
       "      <td>Arsenal</td>\n",
       "      <td>Brighton</td>\n",
       "      <td>1</td>\n",
       "      <td>1</td>\n",
       "      <td>D</td>\n",
       "    </tr>\n",
       "    <tr>\n",
       "      <th>367</th>\n",
       "      <td>Chelsea</td>\n",
       "      <td>Watford</td>\n",
       "      <td>3</td>\n",
       "      <td>0</td>\n",
       "      <td>H</td>\n",
       "    </tr>\n",
       "    <tr>\n",
       "      <th>368</th>\n",
       "      <td>Huddersfield</td>\n",
       "      <td>Man United</td>\n",
       "      <td>1</td>\n",
       "      <td>1</td>\n",
       "      <td>D</td>\n",
       "    </tr>\n",
       "    <tr>\n",
       "      <th>369</th>\n",
       "      <td>Man City</td>\n",
       "      <td>Leicester</td>\n",
       "      <td>1</td>\n",
       "      <td>0</td>\n",
       "      <td>H</td>\n",
       "    </tr>\n",
       "  </tbody>\n",
       "</table>\n",
       "<p>370 rows × 5 columns</p>\n",
       "</div>"
      ],
      "text/plain": [
       "         HomeTeam        AwayTeam  HomeGoals  AwayGoals Result\n",
       "0      Man United       Leicester          2          1      H\n",
       "1     Bournemouth         Cardiff          2          0      H\n",
       "2          Fulham  Crystal Palace          0          2      A\n",
       "3    Huddersfield         Chelsea          0          3      A\n",
       "4       Newcastle       Tottenham          1          2      A\n",
       "..            ...             ...        ...        ...    ...\n",
       "365        Wolves          Fulham          1          0      H\n",
       "366       Arsenal        Brighton          1          1      D\n",
       "367       Chelsea         Watford          3          0      H\n",
       "368  Huddersfield      Man United          1          1      D\n",
       "369      Man City       Leicester          1          0      H\n",
       "\n",
       "[370 rows x 5 columns]"
      ]
     },
     "execution_count": 16,
     "metadata": {},
     "output_type": "execute_result"
    }
   ],
   "source": [
    "# Remove final week of fixtures\n",
    "data[:-10]"
   ]
  },
  {
   "cell_type": "code",
   "execution_count": 6,
   "id": "e5401b93",
   "metadata": {
    "slideshow": {
     "slide_type": "fragment"
    }
   },
=======
>>>>>>> Stashed changes
   "outputs": [
    {
     "data": {
      "text/html": [
       "<div>\n",
       "<style scoped>\n",
       "    .dataframe tbody tr th:only-of-type {\n",
       "        vertical-align: middle;\n",
       "    }\n",
       "\n",
       "    .dataframe tbody tr th {\n",
       "        vertical-align: top;\n",
       "    }\n",
       "\n",
       "    .dataframe thead th {\n",
       "        text-align: right;\n",
       "    }\n",
       "</style>\n",
       "<table border=\"1\" class=\"dataframe\">\n",
       "  <thead>\n",
       "    <tr style=\"text-align: right;\">\n",
       "      <th></th>\n",
       "      <th>HomeTeam</th>\n",
       "      <th>AwayTeam</th>\n",
       "      <th>HomeGoals</th>\n",
       "      <th>AwayGoals</th>\n",
       "      <th>Result</th>\n",
       "    </tr>\n",
       "  </thead>\n",
       "  <tbody>\n",
       "    <tr>\n",
       "      <th>0</th>\n",
       "      <td>Man United</td>\n",
       "      <td>Leicester</td>\n",
       "      <td>2</td>\n",
       "      <td>1</td>\n",
       "      <td>H</td>\n",
       "    </tr>\n",
       "    <tr>\n",
       "      <th>1</th>\n",
       "      <td>Bournemouth</td>\n",
       "      <td>Cardiff</td>\n",
       "      <td>2</td>\n",
       "      <td>0</td>\n",
       "      <td>H</td>\n",
       "    </tr>\n",
       "    <tr>\n",
       "      <th>2</th>\n",
       "      <td>Fulham</td>\n",
       "      <td>Crystal Palace</td>\n",
       "      <td>0</td>\n",
       "      <td>2</td>\n",
       "      <td>A</td>\n",
       "    </tr>\n",
       "    <tr>\n",
       "      <th>3</th>\n",
       "      <td>Huddersfield</td>\n",
       "      <td>Chelsea</td>\n",
       "      <td>0</td>\n",
       "      <td>3</td>\n",
       "      <td>A</td>\n",
       "    </tr>\n",
       "    <tr>\n",
       "      <th>4</th>\n",
       "      <td>Newcastle</td>\n",
       "      <td>Tottenham</td>\n",
       "      <td>1</td>\n",
       "      <td>2</td>\n",
       "      <td>A</td>\n",
       "    </tr>\n",
       "    <tr>\n",
       "      <th>...</th>\n",
       "      <td>...</td>\n",
       "      <td>...</td>\n",
       "      <td>...</td>\n",
       "      <td>...</td>\n",
       "      <td>...</td>\n",
       "    </tr>\n",
       "    <tr>\n",
       "      <th>365</th>\n",
       "      <td>Wolves</td>\n",
       "      <td>Fulham</td>\n",
       "      <td>1</td>\n",
       "      <td>0</td>\n",
       "      <td>H</td>\n",
       "    </tr>\n",
       "    <tr>\n",
       "      <th>366</th>\n",
       "      <td>Arsenal</td>\n",
       "      <td>Brighton</td>\n",
       "      <td>1</td>\n",
       "      <td>1</td>\n",
       "      <td>D</td>\n",
       "    </tr>\n",
       "    <tr>\n",
       "      <th>367</th>\n",
       "      <td>Chelsea</td>\n",
       "      <td>Watford</td>\n",
       "      <td>3</td>\n",
       "      <td>0</td>\n",
       "      <td>H</td>\n",
       "    </tr>\n",
       "    <tr>\n",
       "      <th>368</th>\n",
       "      <td>Huddersfield</td>\n",
       "      <td>Man United</td>\n",
       "      <td>1</td>\n",
       "      <td>1</td>\n",
       "      <td>D</td>\n",
       "    </tr>\n",
       "    <tr>\n",
       "      <th>369</th>\n",
       "      <td>Man City</td>\n",
       "      <td>Leicester</td>\n",
       "      <td>1</td>\n",
       "      <td>0</td>\n",
       "      <td>H</td>\n",
       "    </tr>\n",
       "  </tbody>\n",
       "</table>\n",
       "<p>370 rows × 5 columns</p>\n",
       "</div>"
      ],
      "text/plain": [
       "         HomeTeam        AwayTeam  HomeGoals  AwayGoals Result\n",
       "0      Man United       Leicester          2          1      H\n",
       "1     Bournemouth         Cardiff          2          0      H\n",
       "2          Fulham  Crystal Palace          0          2      A\n",
       "3    Huddersfield         Chelsea          0          3      A\n",
       "4       Newcastle       Tottenham          1          2      A\n",
       "..            ...             ...        ...        ...    ...\n",
       "365        Wolves          Fulham          1          0      H\n",
       "366       Arsenal        Brighton          1          1      D\n",
       "367       Chelsea         Watford          3          0      H\n",
       "368  Huddersfield      Man United          1          1      D\n",
       "369      Man City       Leicester          1          0      H\n",
       "\n",
       "[370 rows x 5 columns]"
      ]
     },
     "execution_count": 5,
     "metadata": {},
     "output_type": "execute_result"
    }
   ],
   "source": [
    "# Remove final week of fixtures \n",
    "data[:-10]"
   ]
  },
  {
   "cell_type": "code",
   "execution_count": null,
   "id": "e5401b93",
   "metadata": {
    "slideshow": {
     "slide_type": "fragment"
    }
   },
   "outputs": [],
   "source": [
    "data.head()"
   ]
  },
  {
   "cell_type": "markdown",
   "id": "918ce900",
   "metadata": {
    "slideshow": {
     "slide_type": "slide"
    }
   },
   "source": [
    "## Simple analysis: Home team advantage?\n"
   ]
  },
  {
   "cell_type": "code",
<<<<<<< Updated upstream
<<<<<<< Updated upstream
   "execution_count": 7,
=======
   "execution_count": 22,
>>>>>>> Stashed changes
=======
   "execution_count": 6,
>>>>>>> Stashed changes
   "id": "435b57f5",
   "metadata": {
    "slideshow": {
     "slide_type": "fragment"
    }
   },
   "outputs": [
    {
     "data": {
      "text/plain": [
<<<<<<< Updated upstream
<<<<<<< Updated upstream
       "HomeGoals    1.575676\n",
       "AwayGoals    1.224324\n",
       "dtype: float64"
      ]
     },
     "execution_count": 7,
=======
       "HomeGoals    1.568421\n",
       "AwayGoals    1.252632\n",
       "dtype: float64"
      ]
     },
     "execution_count": 22,
>>>>>>> Stashed changes
=======
       "HomeGoals    1.568421\n",
       "AwayGoals    1.252632\n",
       "dtype: float64"
      ]
     },
     "execution_count": 6,
>>>>>>> Stashed changes
     "metadata": {},
     "output_type": "execute_result"
    }
   ],
   "source": [
    "# Compute the average number of home and away goals \n",
    "data[['HomeGoals', 'AwayGoals']].mean()"
   ]
  },
  {
   "cell_type": "markdown",
   "id": "e6396f07",
   "metadata": {
    "slideshow": {
     "slide_type": "slide"
    }
   },
   "source": [
    "## Towards a match prediction model "
   ]
  },
  {
   "cell_type": "markdown",
   "id": "18568fc7",
   "metadata": {
    "slideshow": {
     "slide_type": "fragment"
    }
   },
   "source": [
    "- One way to predict the match score is to consider the number of goals scored by each team\n"
   ]
  },
  {
   "cell_type": "markdown",
   "id": "cb4b9907",
   "metadata": {
    "slideshow": {
     "slide_type": "fragment"
    }
   },
   "source": [
    "- We will denote the number of goals scored by a particular team in a match $i$ by $y_i$ \n"
   ]
  },
  {
   "cell_type": "markdown",
   "id": "4e624f99",
   "metadata": {
    "slideshow": {
     "slide_type": "fragment"
    }
   },
   "source": [
    "- Furthermore, we will use *regression analysis* to model $\\mathbb{E}[y | \\boldsymbol{x}_i]$, where $\\boldsymbol{x}_i$ is a vector of $k$ predictor variables for one particular match"
   ]
  },
  {
   "cell_type": "markdown",
   "id": "eb3d2583",
   "metadata": {
    "slideshow": {
     "slide_type": "slide"
    }
   },
   "source": [
    "## The Poisson distribution"
   ]
  },
  {
   "cell_type": "markdown",
   "id": "10d3afe6",
   "metadata": {
    "slideshow": {
     "slide_type": "fragment"
    }
   },
   "source": [
    "- The Poisson distribution is often used to model the probability distribution of *count events* (that is, the same event happening a specific number of times in a fixed time frame)\n"
   ]
  },
  {
   "cell_type": "markdown",
   "id": "74f6d43c",
   "metadata": {
    "slideshow": {
     "slide_type": "fragment"
    }
   },
   "source": [
    "- It is a *discrete* distribution parametarized by a mean constant rate of occurences $\\lambda$"
   ]
  },
  {
   "cell_type": "markdown",
   "id": "eb5c7870",
   "metadata": {
    "slideshow": {
     "slide_type": "fragment"
    }
   },
   "source": [
    "- It assumes that event occurances within the interval are *independent* of one another"
   ]
  },
  {
   "cell_type": "markdown",
   "id": "b90a3ab4",
   "metadata": {
    "slideshow": {
     "slide_type": "fragment"
    }
   },
   "source": [
    "- It can be especially useful to model the number of goals we expect a team to score"
   ]
  },
  {
   "cell_type": "markdown",
   "id": "8f630c07",
   "metadata": {
    "slideshow": {
     "slide_type": "slide"
    }
   },
   "source": [
    "## The Poisson distribution: an example"
   ]
  },
  {
   "cell_type": "code",
   "execution_count": 7,
   "id": "ca142a4d",
   "metadata": {
    "scrolled": false,
    "slideshow": {
     "slide_type": "fragment"
    }
   },
   "outputs": [
    {
     "data": {
      "image/png": "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\n",
      "text/plain": [
       "<Figure size 432x288 with 1 Axes>"
      ]
     },
     "metadata": {
      "needs_background": "light"
     },
     "output_type": "display_data"
    }
   ],
   "source": [
    "# Here we simulate 1 million samples from a Poisson distribution with a mean of two\n",
    "x = np.random.poisson(2, 1000000)\n",
    "plt.hist(x, 14, density=True)\n",
    "plt.show()"
   ]
  },
  {
   "cell_type": "markdown",
   "id": "48c87944",
   "metadata": {
    "slideshow": {
     "slide_type": "slide"
    }
   },
   "source": [
    "## Preparing our training data"
   ]
  },
  {
   "cell_type": "code",
<<<<<<< Updated upstream
<<<<<<< Updated upstream
   "execution_count": 9,
=======
   "execution_count": 26,
>>>>>>> Stashed changes
=======
   "execution_count": 10,
>>>>>>> Stashed changes
   "id": "10bca848",
   "metadata": {
    "slideshow": {
     "slide_type": "fragment"
    }
   },
   "outputs": [],
   "source": [
    "# Separate home goals data\n",
    "home_goals = data[[\"HomeTeam\", \"AwayTeam\", \"HomeGoals\"]]\n",
    "home_goals = home_goals.assign(home=1)\n",
    "home_goals = home_goals.rename(\n",
    "    columns={\"HomeTeam\": \"team\",\n",
    "             \"AwayTeam\": \"opponent\", \n",
    "             \"HomeGoals\": \"goals\"}\n",
    ")\n",
    "\n",
<<<<<<< Updated upstream
<<<<<<< Updated upstream
    "# Separate away goals data"
=======
    "# Separate away goals data \n",
    "\n",
    "# Separate home goals data\n",
    "away_goals = data[[\"AwayTeam\", \"HomeTeam\", \"AwayGoals\"]]\n",
    "away_goals = away_goals.assign(home=0)\n",
    "away_goals = away_goals.rename(\n",
    "    columns={\"AwayTeam\": \"team\",\n",
    "             \"HomeTeam\": \"opponent\", \n",
    "             \"AwayGoals\": \"goals\"}\n",
    ")"
>>>>>>> Stashed changes
=======
    "# Separate away goals data \n",
    "away_goals = data[[\"HomeTeam\", \"AwayTeam\", \"AwayGoals\"]]\n",
    "away_goals = away_goals.assign(home=0)\n",
    "away_goals = away_goals.rename(\n",
    "    columns={\"HomeTeam\": \"team\",\n",
    "             \"AwayTeam\": \"opponent\", \n",
    "             \"AwayGoals\": \"goals\"}\n",
    ")"
>>>>>>> Stashed changes
   ]
  },
  {
   "cell_type": "code",
<<<<<<< Updated upstream
<<<<<<< Updated upstream
   "execution_count": 10,
=======
   "execution_count": 29,
>>>>>>> Stashed changes
=======
   "execution_count": 12,
>>>>>>> Stashed changes
   "id": "27b7c0cb",
   "metadata": {
    "slideshow": {
     "slide_type": "slide"
    }
   },
   "outputs": [
    {
     "data": {
      "text/html": [
       "<div>\n",
       "<style scoped>\n",
       "    .dataframe tbody tr th:only-of-type {\n",
       "        vertical-align: middle;\n",
       "    }\n",
       "\n",
       "    .dataframe tbody tr th {\n",
       "        vertical-align: top;\n",
       "    }\n",
       "\n",
       "    .dataframe thead th {\n",
       "        text-align: right;\n",
       "    }\n",
       "</style>\n",
       "<table border=\"1\" class=\"dataframe\">\n",
       "  <thead>\n",
       "    <tr style=\"text-align: right;\">\n",
       "      <th></th>\n",
       "      <th>team</th>\n",
       "      <th>opponent</th>\n",
       "      <th>goals</th>\n",
       "      <th>home</th>\n",
       "    </tr>\n",
       "  </thead>\n",
       "  <tbody>\n",
       "    <tr>\n",
       "      <th>375</th>\n",
       "      <td>Liverpool</td>\n",
       "      <td>Wolves</td>\n",
       "      <td>0</td>\n",
       "      <td>0</td>\n",
       "    </tr>\n",
       "    <tr>\n",
       "      <th>376</th>\n",
       "      <td>Man United</td>\n",
       "      <td>Cardiff</td>\n",
       "      <td>2</td>\n",
       "      <td>0</td>\n",
       "    </tr>\n",
       "    <tr>\n",
       "      <th>377</th>\n",
       "      <td>Southampton</td>\n",
       "      <td>Huddersfield</td>\n",
       "      <td>1</td>\n",
       "      <td>0</td>\n",
       "    </tr>\n",
       "    <tr>\n",
       "      <th>378</th>\n",
       "      <td>Tottenham</td>\n",
       "      <td>Everton</td>\n",
       "      <td>2</td>\n",
       "      <td>0</td>\n",
       "    </tr>\n",
       "    <tr>\n",
       "      <th>379</th>\n",
       "      <td>Watford</td>\n",
       "      <td>West Ham</td>\n",
       "      <td>4</td>\n",
       "      <td>0</td>\n",
       "    </tr>\n",
       "  </tbody>\n",
       "</table>\n",
       "</div>"
      ],
      "text/plain": [
       "            team      opponent  goals  home\n",
       "375    Liverpool        Wolves      0     0\n",
       "376   Man United       Cardiff      2     0\n",
       "377  Southampton  Huddersfield      1     0\n",
       "378    Tottenham       Everton      2     0\n",
       "379      Watford      West Ham      4     0"
      ]
     },
<<<<<<< Updated upstream
<<<<<<< Updated upstream
     "execution_count": 10,
=======
     "execution_count": 29,
>>>>>>> Stashed changes
=======
     "execution_count": 12,
>>>>>>> Stashed changes
     "metadata": {},
     "output_type": "execute_result"
    }
   ],
   "source": [
    "# Concatenating into training data \n",
    "train_data = pd.concat([home_goals, away_goals])\n",
    "train_data.tail()"
   ]
  },
  {
   "cell_type": "markdown",
   "id": "9ef0c817",
   "metadata": {
    "slideshow": {
     "slide_type": "slide"
    }
   },
   "source": [
    "## The Poisson regression model"
   ]
  },
  {
   "cell_type": "markdown",
   "id": "26d2fac0",
   "metadata": {
    "slideshow": {
     "slide_type": "fragment"
    }
   },
   "source": [
    "- To predict the number of goals each team scores, we will fit the following model using match-level data\n"
   ]
  },
  {
   "cell_type": "markdown",
   "id": "87ee09b7",
   "metadata": {
    "slideshow": {
     "slide_type": "fragment"
    }
   },
   "source": [
    "$$y_i \\sim Poisson(\\lambda_i)$$\n",
    "\n",
    "\n",
    "$$\\ln (\\lambda_i) = \\beta_0 \\,+\\, \\beta_1x_{i1} + ... + \\beta_1x_{ik}$$"
   ]
  },
  {
   "cell_type": "markdown",
   "id": "77eb8da6",
   "metadata": {
    "slideshow": {
     "slide_type": "fragment"
    }
   },
   "source": [
    "- Here, $\\lambda_i$ is the mean number goals scored by the home team in match $i$, which we aim to predict using variables $\\boldsymbol{x}_i$"
   ]
  },
  {
   "cell_type": "code",
<<<<<<< Updated upstream
<<<<<<< Updated upstream
   "execution_count": 11,
=======
   "execution_count": 30,
>>>>>>> Stashed changes
=======
   "execution_count": 13,
>>>>>>> Stashed changes
   "id": "590f8f66",
   "metadata": {
    "slideshow": {
     "slide_type": "slide"
    }
   },
   "outputs": [],
   "source": [
    "# Building the model\n",
    "# Poisson Regression: log-linear model\n",
    "poisson_model = smf.glm(\n",
<<<<<<< Updated upstream
<<<<<<< Updated upstream
    "    formula=\"goals ~ ???\",\n",
=======
    "    formula=\"goals ~ team + opponent + home\",\n",
>>>>>>> Stashed changes
    "    data=train_data,\n",
=======
    "    formula=\"goals ~ home + team + opponent\",\n",
    "    data=training_data,\n",
>>>>>>> Stashed changes
    "    family=sm.families.Poisson() \n",
    ").fit()"
   ]
  },
  {
   "cell_type": "code",
<<<<<<< Updated upstream
<<<<<<< Updated upstream
   "execution_count": 12,
=======
   "execution_count": 31,
>>>>>>> Stashed changes
=======
   "execution_count": 14,
>>>>>>> Stashed changes
   "id": "422b5962",
   "metadata": {
    "slideshow": {
     "slide_type": "fragment"
    }
   },
   "outputs": [
    {
     "data": {
      "text/html": [
       "<table class=\"simpletable\">\n",
       "<caption>Generalized Linear Model Regression Results</caption>\n",
       "<tr>\n",
<<<<<<< Updated upstream
<<<<<<< Updated upstream
       "  <th>Dep. Variable:</th>         <td>goals</td>      <th>  No. Observations:  </th>  <td>   740</td> \n",
       "</tr>\n",
       "<tr>\n",
       "  <th>Model:</th>                  <td>GLM</td>       <th>  Df Residuals:      </th>  <td>   700</td> \n",
=======
       "  <th>Dep. Variable:</th>         <td>goals</td>      <th>  No. Observations:  </th>  <td>   760</td> \n",
       "</tr>\n",
       "<tr>\n",
       "  <th>Model:</th>                  <td>GLM</td>       <th>  Df Residuals:      </th>  <td>   720</td> \n",
>>>>>>> Stashed changes
=======
       "  <th>Dep. Variable:</th>         <td>goals</td>      <th>  No. Observations:  </th>  <td>   760</td> \n",
       "</tr>\n",
       "<tr>\n",
       "  <th>Model:</th>                  <td>GLM</td>       <th>  Df Residuals:      </th>  <td>   720</td> \n",
>>>>>>> Stashed changes
       "</tr>\n",
       "<tr>\n",
       "  <th>Model Family:</th>         <td>Poisson</td>     <th>  Df Model:          </th>  <td>    39</td> \n",
       "</tr>\n",
       "<tr>\n",
       "  <th>Link Function:</th>          <td>log</td>       <th>  Scale:             </th> <td>  1.0000</td>\n",
       "</tr>\n",
       "<tr>\n",
<<<<<<< Updated upstream
<<<<<<< Updated upstream
       "  <th>Method:</th>                <td>IRLS</td>       <th>  Log-Likelihood:    </th> <td> -1105.9</td>\n",
=======
       "  <th>Method:</th>                <td>IRLS</td>       <th>  Log-Likelihood:    </th> <td> -1145.2</td>\n",
>>>>>>> Stashed changes
       "</tr>\n",
       "<tr>\n",
       "  <th>Date:</th>            <td>Sat, 02 Oct 2021</td> <th>  Deviance:          </th> <td>  922.71</td>\n",
       "</tr>\n",
       "<tr>\n",
<<<<<<< Updated upstream
       "  <th>Time:</th>                <td>12:08:59</td>     <th>  Pearson chi2:      </th>  <td>  754.</td> \n",
=======
       "  <th>Method:</th>                <td>IRLS</td>       <th>  Log-Likelihood:    </th> <td> -1065.1</td>\n",
       "</tr>\n",
       "<tr>\n",
       "  <th>Date:</th>            <td>Sat, 02 Oct 2021</td> <th>  Deviance:          </th> <td>  762.55</td>\n",
       "</tr>\n",
       "<tr>\n",
       "  <th>Time:</th>                <td>11:27:31</td>     <th>  Pearson chi2:      </th>  <td>  656.</td> \n",
>>>>>>> Stashed changes
=======
       "  <th>Time:</th>                <td>14:28:22</td>     <th>  Pearson chi2:      </th>  <td>  789.</td> \n",
>>>>>>> Stashed changes
       "</tr>\n",
       "<tr>\n",
       "  <th>No. Iterations:</th>          <td>5</td>        <th>                     </th>     <td> </td>   \n",
       "</tr>\n",
       "<tr>\n",
       "  <th>Covariance Type:</th>     <td>nonrobust</td>    <th>                     </th>     <td> </td>   \n",
       "</tr>\n",
       "</table>\n",
       "<table class=\"simpletable\">\n",
       "<tr>\n",
       "               <td></td>                 <th>coef</th>     <th>std err</th>      <th>z</th>      <th>P>|z|</th>  <th>[0.025</th>    <th>0.975]</th>  \n",
       "</tr>\n",
       "<tr>\n",
<<<<<<< Updated upstream
<<<<<<< Updated upstream
       "  <th>Intercept</th>                  <td>    0.5195</td> <td>    0.189</td> <td>    2.747</td> <td> 0.006</td> <td>    0.149</td> <td>    0.890</td>\n",
=======
       "  <th>Intercept</th>                  <td>    0.5299</td> <td>    0.186</td> <td>    2.848</td> <td> 0.004</td> <td>    0.165</td> <td>    0.895</td>\n",
>>>>>>> Stashed changes
       "</tr>\n",
       "<tr>\n",
       "  <th>team[T.Bournemouth]</th>        <td>   -0.0483</td> <td>    0.189</td> <td>   -0.256</td> <td> 0.798</td> <td>   -0.418</td> <td>    0.321</td>\n",
       "</tr>\n",
       "<tr>\n",
       "  <th>team[T.Brighton]</th>           <td>   -0.2287</td> <td>    0.197</td> <td>   -1.163</td> <td> 0.245</td> <td>   -0.614</td> <td>    0.157</td>\n",
       "</tr>\n",
       "<tr>\n",
       "  <th>team[T.Burnley]</th>            <td>   -0.0442</td> <td>    0.188</td> <td>   -0.235</td> <td> 0.814</td> <td>   -0.412</td> <td>    0.324</td>\n",
       "</tr>\n",
       "<tr>\n",
       "  <th>team[T.Cardiff]</th>            <td>   -0.0047</td> <td>    0.185</td> <td>   -0.025</td> <td> 0.980</td> <td>   -0.368</td> <td>    0.358</td>\n",
       "</tr>\n",
       "<tr>\n",
       "  <th>team[T.Chelsea]</th>            <td>   -0.1439</td> <td>    0.192</td> <td>   -0.748</td> <td> 0.454</td> <td>   -0.521</td> <td>    0.233</td>\n",
       "</tr>\n",
       "<tr>\n",
       "  <th>team[T.Crystal Palace]</th>     <td>   -0.3277</td> <td>    0.203</td> <td>   -1.615</td> <td> 0.106</td> <td>   -0.725</td> <td>    0.070</td>\n",
       "</tr>\n",
       "<tr>\n",
       "  <th>team[T.Everton]</th>            <td>   -0.1458</td> <td>    0.192</td> <td>   -0.759</td> <td> 0.448</td> <td>   -0.523</td> <td>    0.231</td>\n",
       "</tr>\n",
       "<tr>\n",
       "  <th>team[T.Fulham]</th>             <td>   -0.0090</td> <td>    0.186</td> <td>   -0.048</td> <td> 0.961</td> <td>   -0.374</td> <td>    0.356</td>\n",
       "</tr>\n",
       "<tr>\n",
       "  <th>team[T.Huddersfield]</th>       <td>   -0.3568</td> <td>    0.204</td> <td>   -1.746</td> <td> 0.081</td> <td>   -0.757</td> <td>    0.044</td>\n",
       "</tr>\n",
       "<tr>\n",
       "  <th>team[T.Leicester]</th>          <td>   -0.2880</td> <td>    0.200</td> <td>   -1.438</td> <td> 0.150</td> <td>   -0.680</td> <td>    0.104</td>\n",
       "</tr>\n",
       "<tr>\n",
       "  <th>team[T.Liverpool]</th>          <td>    0.0944</td> <td>    0.181</td> <td>    0.522</td> <td> 0.602</td> <td>   -0.260</td> <td>    0.449</td>\n",
       "</tr>\n",
       "<tr>\n",
       "  <th>team[T.Man City]</th>           <td>    0.1573</td> <td>    0.178</td> <td>    0.881</td> <td> 0.378</td> <td>   -0.192</td> <td>    0.507</td>\n",
       "</tr>\n",
       "<tr>\n",
       "  <th>team[T.Man United]</th>         <td>   -0.0050</td> <td>    0.186</td> <td>   -0.027</td> <td> 0.979</td> <td>   -0.370</td> <td>    0.360</td>\n",
       "</tr>\n",
       "<tr>\n",
       "  <th>team[T.Newcastle]</th>          <td>   -0.1937</td> <td>    0.194</td> <td>   -0.997</td> <td> 0.319</td> <td>   -0.575</td> <td>    0.187</td>\n",
       "</tr>\n",
       "<tr>\n",
       "  <th>team[T.Southampton]</th>        <td>   -0.0304</td> <td>    0.187</td> <td>   -0.163</td> <td> 0.871</td> <td>   -0.397</td> <td>    0.336</td>\n",
       "</tr>\n",
       "<tr>\n",
       "  <th>team[T.Tottenham]</th>          <td>   -0.1588</td> <td>    0.193</td> <td>   -0.822</td> <td> 0.411</td> <td>   -0.538</td> <td>    0.220</td>\n",
       "</tr>\n",
       "<tr>\n",
       "  <th>team[T.Watford]</th>            <td>   -0.0807</td> <td>    0.189</td> <td>   -0.426</td> <td> 0.670</td> <td>   -0.452</td> <td>    0.291</td>\n",
       "</tr>\n",
       "<tr>\n",
       "  <th>team[T.West Ham]</th>           <td>   -0.0007</td> <td>    0.185</td> <td>   -0.004</td> <td> 0.997</td> <td>   -0.364</td> <td>    0.362</td>\n",
       "</tr>\n",
       "<tr>\n",
       "  <th>team[T.Wolves]</th>             <td>   -0.1908</td> <td>    0.194</td> <td>   -0.982</td> <td> 0.326</td> <td>   -0.572</td> <td>    0.190</td>\n",
       "</tr>\n",
       "<tr>\n",
       "  <th>opponent[T.Bournemouth]</th>    <td>    0.0703</td> <td>    0.171</td> <td>    0.410</td> <td> 0.682</td> <td>   -0.265</td> <td>    0.406</td>\n",
       "</tr>\n",
       "<tr>\n",
       "  <th>opponent[T.Brighton]</th>       <td>   -0.3302</td> <td>    0.190</td> <td>   -1.738</td> <td> 0.082</td> <td>   -0.703</td> <td>    0.042</td>\n",
       "</tr>\n",
       "<tr>\n",
       "  <th>opponent[T.Burnley]</th>        <td>   -0.1491</td> <td>    0.181</td> <td>   -0.823</td> <td> 0.410</td> <td>   -0.504</td> <td>    0.206</td>\n",
       "</tr>\n",
       "<tr>\n",
       "  <th>opponent[T.Cardiff]</th>        <td>   -0.4057</td> <td>    0.195</td> <td>   -2.082</td> <td> 0.037</td> <td>   -0.788</td> <td>   -0.024</td>\n",
       "</tr>\n",
       "<tr>\n",
       "  <th>opponent[T.Chelsea]</th>        <td>   -0.2656</td> <td>    0.187</td> <td>   -1.422</td> <td> 0.155</td> <td>   -0.632</td> <td>    0.100</td>\n",
       "</tr>\n",
       "<tr>\n",
       "  <th>opponent[T.Crystal Palace]</th> <td>   -0.0786</td> <td>    0.177</td> <td>   -0.444</td> <td> 0.657</td> <td>   -0.426</td> <td>    0.269</td>\n",
       "</tr>\n",
       "<tr>\n",
       "  <th>opponent[T.Everton]</th>        <td>   -0.3057</td> <td>    0.189</td> <td>   -1.619</td> <td> 0.106</td> <td>   -0.676</td> <td>    0.064</td>\n",
       "</tr>\n",
       "<tr>\n",
       "  <th>opponent[T.Fulham]</th>         <td>   -0.1471</td> <td>    0.181</td> <td>   -0.812</td> <td> 0.417</td> <td>   -0.502</td> <td>    0.208</td>\n",
       "</tr>\n",
       "<tr>\n",
       "  <th>opponent[T.Huddersfield]</th>   <td>   -0.1638</td> <td>    0.181</td> <td>   -0.905</td> <td> 0.366</td> <td>   -0.519</td> <td>    0.191</td>\n",
       "</tr>\n",
       "<tr>\n",
       "  <th>opponent[T.Leicester]</th>      <td>   -0.1967</td> <td>    0.183</td> <td>   -1.076</td> <td> 0.282</td> <td>   -0.555</td> <td>    0.162</td>\n",
       "</tr>\n",
       "<tr>\n",
       "  <th>opponent[T.Liverpool]</th>      <td>   -0.3553</td> <td>    0.192</td> <td>   -1.847</td> <td> 0.065</td> <td>   -0.732</td> <td>    0.022</td>\n",
       "</tr>\n",
       "<tr>\n",
       "  <th>opponent[T.Man City]</th>       <td>   -0.2879</td> <td>    0.189</td> <td>   -1.524</td> <td> 0.127</td> <td>   -0.658</td> <td>    0.082</td>\n",
       "</tr>\n",
       "<tr>\n",
       "  <th>opponent[T.Man United]</th>     <td>   -0.0791</td> <td>    0.178</td> <td>   -0.444</td> <td> 0.657</td> <td>   -0.428</td> <td>    0.270</td>\n",
       "</tr>\n",
       "<tr>\n",
       "  <th>opponent[T.Newcastle]</th>      <td>   -0.4862</td> <td>    0.199</td> <td>   -2.442</td> <td> 0.015</td> <td>   -0.876</td> <td>   -0.096</td>\n",
       "</tr>\n",
       "<tr>\n",
       "  <th>opponent[T.Southampton]</th>    <td>   -0.2211</td> <td>    0.185</td> <td>   -1.197</td> <td> 0.231</td> <td>   -0.583</td> <td>    0.141</td>\n",
       "</tr>\n",
       "<tr>\n",
       "  <th>opponent[T.Tottenham]</th>      <td>   -0.1728</td> <td>    0.182</td> <td>   -0.949</td> <td> 0.342</td> <td>   -0.529</td> <td>    0.184</td>\n",
       "</tr>\n",
       "<tr>\n",
       "  <th>opponent[T.Watford]</th>        <td>   -0.1511</td> <td>    0.181</td> <td>   -0.834</td> <td> 0.404</td> <td>   -0.506</td> <td>    0.204</td>\n",
       "</tr>\n",
       "<tr>\n",
       "  <th>opponent[T.West Ham]</th>       <td>   -0.3185</td> <td>    0.190</td> <td>   -1.676</td> <td> 0.094</td> <td>   -0.691</td> <td>    0.054</td>\n",
       "</tr>\n",
       "<tr>\n",
       "  <th>opponent[T.Wolves]</th>         <td>   -0.4155</td> <td>    0.195</td> <td>   -2.132</td> <td> 0.033</td> <td>   -0.797</td> <td>   -0.034</td>\n",
       "</tr>\n",
       "<tr>\n",
<<<<<<< Updated upstream
       "  <th>home</th>                       <td>    0.2523</td> <td>    0.063</td> <td>    4.028</td> <td> 0.000</td> <td>    0.130</td> <td>    0.375</td>\n",
=======
       "  <th>Intercept</th>                  <td>    0.5061</td> <td>    0.188</td> <td>    2.685</td> <td> 0.007</td> <td>    0.137</td> <td>    0.876</td>\n",
       "</tr>\n",
       "<tr>\n",
       "  <th>team[T.Bournemouth]</th>        <td>   -0.2470</td> <td>    0.178</td> <td>   -1.388</td> <td> 0.165</td> <td>   -0.596</td> <td>    0.102</td>\n",
       "</tr>\n",
       "<tr>\n",
       "  <th>team[T.Brighton]</th>           <td>   -0.7283</td> <td>    0.206</td> <td>   -3.538</td> <td> 0.000</td> <td>   -1.132</td> <td>   -0.325</td>\n",
       "</tr>\n",
       "<tr>\n",
       "  <th>team[T.Burnley]</th>            <td>   -0.4684</td> <td>    0.190</td> <td>   -2.468</td> <td> 0.014</td> <td>   -0.841</td> <td>   -0.096</td>\n",
       "</tr>\n",
       "<tr>\n",
       "  <th>team[T.Cardiff]</th>            <td>   -0.7485</td> <td>    0.208</td> <td>   -3.600</td> <td> 0.000</td> <td>   -1.156</td> <td>   -0.341</td>\n",
       "</tr>\n",
       "<tr>\n",
       "  <th>team[T.Chelsea]</th>            <td>   -0.1597</td> <td>    0.172</td> <td>   -0.927</td> <td> 0.354</td> <td>   -0.497</td> <td>    0.178</td>\n",
       "</tr>\n",
       "<tr>\n",
       "  <th>team[T.Crystal Palace]</th>     <td>   -0.3578</td> <td>    0.183</td> <td>   -1.957</td> <td> 0.050</td> <td>   -0.716</td> <td>    0.000</td>\n",
       "</tr>\n",
       "<tr>\n",
       "  <th>team[T.Everton]</th>            <td>   -0.3074</td> <td>    0.180</td> <td>   -1.710</td> <td> 0.087</td> <td>   -0.660</td> <td>    0.045</td>\n",
       "</tr>\n",
       "<tr>\n",
       "  <th>team[T.Fulham]</th>             <td>   -0.7366</td> <td>    0.208</td> <td>   -3.542</td> <td> 0.000</td> <td>   -1.144</td> <td>   -0.329</td>\n",
       "</tr>\n",
       "<tr>\n",
       "  <th>team[T.Huddersfield]</th>       <td>   -1.1778</td> <td>    0.243</td> <td>   -4.837</td> <td> 0.000</td> <td>   -1.655</td> <td>   -0.701</td>\n",
       "</tr>\n",
       "<tr>\n",
       "  <th>team[T.Leicester]</th>          <td>   -0.3627</td> <td>    0.183</td> <td>   -1.984</td> <td> 0.047</td> <td>   -0.721</td> <td>   -0.004</td>\n",
       "</tr>\n",
       "<tr>\n",
       "  <th>team[T.Liverpool]</th>          <td>    0.1698</td> <td>    0.158</td> <td>    1.074</td> <td> 0.283</td> <td>   -0.140</td> <td>    0.480</td>\n",
       "</tr>\n",
       "<tr>\n",
       "  <th>team[T.Man City]</th>           <td>    0.2362</td> <td>    0.156</td> <td>    1.515</td> <td> 0.130</td> <td>   -0.069</td> <td>    0.542</td>\n",
       "</tr>\n",
       "<tr>\n",
       "  <th>team[T.Man United]</th>         <td>   -0.1135</td> <td>    0.171</td> <td>   -0.664</td> <td> 0.507</td> <td>   -0.448</td> <td>    0.221</td>\n",
       "</tr>\n",
       "<tr>\n",
       "  <th>team[T.Newcastle]</th>          <td>   -0.5573</td> <td>    0.194</td> <td>   -2.874</td> <td> 0.004</td> <td>   -0.937</td> <td>   -0.177</td>\n",
       "</tr>\n",
       "<tr>\n",
       "  <th>team[T.Southampton]</th>        <td>   -0.4714</td> <td>    0.190</td> <td>   -2.483</td> <td> 0.013</td> <td>   -0.843</td> <td>   -0.099</td>\n",
       "</tr>\n",
       "<tr>\n",
       "  <th>team[T.Tottenham]</th>          <td>   -0.0980</td> <td>    0.169</td> <td>   -0.578</td> <td> 0.563</td> <td>   -0.430</td> <td>    0.234</td>\n",
       "</tr>\n",
       "<tr>\n",
       "  <th>team[T.Watford]</th>            <td>   -0.3324</td> <td>    0.182</td> <td>   -1.829</td> <td> 0.067</td> <td>   -0.689</td> <td>    0.024</td>\n",
       "</tr>\n",
       "<tr>\n",
       "  <th>team[T.West Ham]</th>           <td>   -0.3363</td> <td>    0.182</td> <td>   -1.850</td> <td> 0.064</td> <td>   -0.693</td> <td>    0.020</td>\n",
       "</tr>\n",
       "<tr>\n",
       "  <th>team[T.Wolves]</th>             <td>   -0.4465</td> <td>    0.187</td> <td>   -2.384</td> <td> 0.017</td> <td>   -0.814</td> <td>   -0.079</td>\n",
       "</tr>\n",
       "<tr>\n",
       "  <th>opponent[T.Bournemouth]</th>    <td>    0.3008</td> <td>    0.184</td> <td>    1.631</td> <td> 0.103</td> <td>   -0.061</td> <td>    0.662</td>\n",
       "</tr>\n",
       "<tr>\n",
       "  <th>opponent[T.Brighton]</th>       <td>    0.1253</td> <td>    0.191</td> <td>    0.657</td> <td> 0.511</td> <td>   -0.249</td> <td>    0.499</td>\n",
       "</tr>\n",
       "<tr>\n",
       "  <th>opponent[T.Burnley]</th>        <td>    0.2607</td> <td>    0.186</td> <td>    1.405</td> <td> 0.160</td> <td>   -0.103</td> <td>    0.624</td>\n",
       "</tr>\n",
       "<tr>\n",
       "  <th>opponent[T.Cardiff]</th>        <td>    0.2644</td> <td>    0.185</td> <td>    1.430</td> <td> 0.153</td> <td>   -0.098</td> <td>    0.627</td>\n",
       "</tr>\n",
       "<tr>\n",
       "  <th>opponent[T.Chelsea]</th>        <td>   -0.2790</td> <td>    0.213</td> <td>   -1.310</td> <td> 0.190</td> <td>   -0.697</td> <td>    0.139</td>\n",
       "</tr>\n",
       "<tr>\n",
       "  <th>opponent[T.Crystal Palace]</th> <td>    0.0167</td> <td>    0.196</td> <td>    0.085</td> <td> 0.932</td> <td>   -0.368</td> <td>    0.402</td>\n",
       "</tr>\n",
       "<tr>\n",
       "  <th>opponent[T.Everton]</th>        <td>   -0.1224</td> <td>    0.204</td> <td>   -0.601</td> <td> 0.548</td> <td>   -0.522</td> <td>    0.277</td>\n",
       "</tr>\n",
       "<tr>\n",
       "  <th>opponent[T.Fulham]</th>         <td>    0.4252</td> <td>    0.179</td> <td>    2.374</td> <td> 0.018</td> <td>    0.074</td> <td>    0.776</td>\n",
       "</tr>\n",
       "<tr>\n",
       "  <th>opponent[T.Huddersfield]</th>   <td>    0.3495</td> <td>    0.181</td> <td>    1.928</td> <td> 0.054</td> <td>   -0.006</td> <td>    0.705</td>\n",
       "</tr>\n",
       "<tr>\n",
       "  <th>opponent[T.Leicester]</th>      <td>   -0.0827</td> <td>    0.201</td> <td>   -0.410</td> <td> 0.681</td> <td>   -0.477</td> <td>    0.312</td>\n",
       "</tr>\n",
       "<tr>\n",
       "  <th>opponent[T.Liverpool]</th>      <td>   -0.8271</td> <td>    0.255</td> <td>   -3.239</td> <td> 0.001</td> <td>   -1.328</td> <td>   -0.327</td>\n",
       "</tr>\n",
       "<tr>\n",
       "  <th>opponent[T.Man City]</th>       <td>   -0.7766</td> <td>    0.252</td> <td>   -3.088</td> <td> 0.002</td> <td>   -1.270</td> <td>   -0.284</td>\n",
       "</tr>\n",
       "<tr>\n",
       "  <th>opponent[T.Man United]</th>     <td>    0.0493</td> <td>    0.196</td> <td>    0.252</td> <td> 0.801</td> <td>   -0.334</td> <td>    0.433</td>\n",
       "</tr>\n",
       "<tr>\n",
       "  <th>opponent[T.Newcastle]</th>      <td>   -0.0914</td> <td>    0.201</td> <td>   -0.454</td> <td> 0.650</td> <td>   -0.486</td> <td>    0.303</td>\n",
       "</tr>\n",
       "<tr>\n",
       "  <th>opponent[T.Southampton]</th>    <td>    0.2154</td> <td>    0.187</td> <td>    1.150</td> <td> 0.250</td> <td>   -0.152</td> <td>    0.583</td>\n",
       "</tr>\n",
       "<tr>\n",
       "  <th>opponent[T.Tottenham]</th>      <td>   -0.2751</td> <td>    0.213</td> <td>   -1.291</td> <td> 0.197</td> <td>   -0.693</td> <td>    0.142</td>\n",
       "</tr>\n",
       "<tr>\n",
       "  <th>opponent[T.Watford]</th>        <td>    0.1252</td> <td>    0.192</td> <td>    0.654</td> <td> 0.513</td> <td>   -0.250</td> <td>    0.501</td>\n",
       "</tr>\n",
       "<tr>\n",
       "  <th>opponent[T.West Ham]</th>       <td>    0.0548</td> <td>    0.195</td> <td>    0.281</td> <td> 0.778</td> <td>   -0.327</td> <td>    0.436</td>\n",
       "</tr>\n",
       "<tr>\n",
       "  <th>opponent[T.Wolves]</th>         <td>   -0.1292</td> <td>    0.204</td> <td>   -0.635</td> <td> 0.526</td> <td>   -0.528</td> <td>    0.270</td>\n",
       "</tr>\n",
       "<tr>\n",
       "  <th>home</th>                       <td>    0.2248</td> <td>    0.061</td> <td>    3.657</td> <td> 0.000</td> <td>    0.104</td> <td>    0.345</td>\n",
>>>>>>> Stashed changes
=======
       "  <th>home</th>                       <td>    0.2248</td> <td>    0.061</td> <td>    3.657</td> <td> 0.000</td> <td>    0.104</td> <td>    0.345</td>\n",
>>>>>>> Stashed changes
       "</tr>\n",
       "</table>"
      ],
      "text/plain": [
       "<class 'statsmodels.iolib.summary.Summary'>\n",
       "\"\"\"\n",
       "                 Generalized Linear Model Regression Results                  \n",
       "==============================================================================\n",
<<<<<<< Updated upstream
<<<<<<< Updated upstream
       "Dep. Variable:                  goals   No. Observations:                  740\n",
       "Model:                            GLM   Df Residuals:                      700\n",
       "Model Family:                 Poisson   Df Model:                           39\n",
       "Link Function:                    log   Scale:                          1.0000\n",
       "Method:                          IRLS   Log-Likelihood:                -1105.9\n",
       "Date:                Sat, 02 Oct 2021   Deviance:                       883.94\n",
       "Time:                        12:08:59   Pearson chi2:                     754.\n",
=======
       "Dep. Variable:                  goals   No. Observations:                  760\n",
       "Model:                            GLM   Df Residuals:                      720\n",
       "Model Family:                 Poisson   Df Model:                           39\n",
       "Link Function:                    log   Scale:                          1.0000\n",
       "Method:                          IRLS   Log-Likelihood:                -1065.1\n",
       "Date:                Sat, 02 Oct 2021   Deviance:                       762.55\n",
       "Time:                        11:27:31   Pearson chi2:                     656.\n",
>>>>>>> Stashed changes
=======
       "Dep. Variable:                  goals   No. Observations:                  760\n",
       "Model:                            GLM   Df Residuals:                      720\n",
       "Model Family:                 Poisson   Df Model:                           39\n",
       "Link Function:                    log   Scale:                          1.0000\n",
       "Method:                          IRLS   Log-Likelihood:                -1145.2\n",
       "Date:                Sat, 02 Oct 2021   Deviance:                       922.71\n",
       "Time:                        14:28:22   Pearson chi2:                     789.\n",
>>>>>>> Stashed changes
       "No. Iterations:                     5                                         \n",
       "Covariance Type:            nonrobust                                         \n",
       "==============================================================================================\n",
       "                                 coef    std err          z      P>|z|      [0.025      0.975]\n",
       "----------------------------------------------------------------------------------------------\n",
<<<<<<< Updated upstream
<<<<<<< Updated upstream
       "Intercept                      0.5195      0.189      2.747      0.006       0.149       0.890\n",
       "team[T.Bournemouth]           -0.0536      0.189     -0.284      0.776      -0.423       0.316\n",
       "team[T.Brighton]              -0.2940      0.203     -1.448      0.148      -0.692       0.104\n",
       "team[T.Burnley]               -0.0501      0.191     -0.262      0.793      -0.425       0.325\n",
       "team[T.Cardiff]               -0.0039      0.185     -0.021      0.983      -0.367       0.359\n",
       "team[T.Chelsea]               -0.1413      0.192     -0.735      0.463      -0.518       0.236\n",
       "team[T.Crystal Palace]        -0.4714      0.216     -2.177      0.029      -0.896      -0.047\n",
       "team[T.Everton]               -0.1474      0.192     -0.767      0.443      -0.524       0.229\n",
       "team[T.Fulham]                -0.0407      0.190     -0.215      0.830      -0.412       0.331\n",
       "team[T.Huddersfield]          -0.3552      0.204     -1.738      0.082      -0.756       0.045\n",
       "team[T.Leicester]             -0.2332      0.200     -1.164      0.245      -0.626       0.160\n",
       "team[T.Liverpool]              0.1084      0.182      0.594      0.553      -0.249       0.466\n",
       "team[T.Man City]               0.1545      0.178      0.866      0.387      -0.195       0.504\n",
       "team[T.Man United]             0.0061      0.188      0.033      0.974      -0.362       0.374\n",
       "team[T.Newcastle]             -0.1954      0.194     -1.006      0.315      -0.576       0.185\n",
       "team[T.Southampton]           -0.0070      0.189     -0.037      0.971      -0.377       0.363\n",
       "team[T.Tottenham]             -0.1941      0.198     -0.981      0.327      -0.582       0.194\n",
       "team[T.Watford]               -0.1313      0.195     -0.675      0.500      -0.513       0.250\n",
       "team[T.West Ham]              -0.0032      0.185     -0.017      0.986      -0.366       0.360\n",
       "team[T.Wolves]                -0.1898      0.194     -0.977      0.329      -0.571       0.191\n",
       "opponent[T.Bournemouth]       -0.0072      0.180     -0.040      0.968      -0.359       0.345\n",
       "opponent[T.Brighton]          -0.3280      0.193     -1.702      0.089      -0.706       0.050\n",
       "opponent[T.Burnley]           -0.1443      0.184     -0.785      0.432      -0.504       0.216\n",
       "opponent[T.Cardiff]           -0.3863      0.201     -1.926      0.054      -0.779       0.007\n",
       "opponent[T.Chelsea]           -0.2132      0.190     -1.124      0.261      -0.585       0.159\n",
       "opponent[T.Crystal Palace]    -0.0791      0.180     -0.439      0.661      -0.432       0.274\n",
       "opponent[T.Everton]           -0.3367      0.196     -1.714      0.087      -0.722       0.048\n",
       "opponent[T.Fulham]            -0.1437      0.184     -0.781      0.435      -0.504       0.217\n",
       "opponent[T.Huddersfield]      -0.1356      0.186     -0.730      0.466      -0.500       0.229\n",
       "opponent[T.Leicester]         -0.1892      0.186     -1.019      0.308      -0.553       0.175\n",
       "opponent[T.Liverpool]         -0.3491      0.195     -1.789      0.074      -0.731       0.033\n",
       "opponent[T.Man City]          -0.3453      0.198     -1.746      0.081      -0.733       0.042\n",
       "opponent[T.Man United]        -0.0732      0.181     -0.405      0.686      -0.428       0.281\n",
       "opponent[T.Newcastle]         -0.5266      0.208     -2.528      0.011      -0.935      -0.118\n",
       "opponent[T.Southampton]       -0.2146      0.188     -1.144      0.253      -0.582       0.153\n",
       "opponent[T.Tottenham]         -0.1694      0.185     -0.916      0.359      -0.532       0.193\n",
       "opponent[T.Watford]           -0.1486      0.184     -0.807      0.419      -0.509       0.212\n",
       "opponent[T.West Ham]          -0.3707      0.199     -1.862      0.063      -0.761       0.020\n",
       "opponent[T.Wolves]            -0.3901      0.201     -1.945      0.052      -0.783       0.003\n",
       "home                           0.2523      0.063      4.028      0.000       0.130       0.375\n",
=======
       "Intercept                      0.5061      0.188      2.685      0.007       0.137       0.876\n",
       "team[T.Bournemouth]           -0.2470      0.178     -1.388      0.165      -0.596       0.102\n",
       "team[T.Brighton]              -0.7283      0.206     -3.538      0.000      -1.132      -0.325\n",
       "team[T.Burnley]               -0.4684      0.190     -2.468      0.014      -0.841      -0.096\n",
       "team[T.Cardiff]               -0.7485      0.208     -3.600      0.000      -1.156      -0.341\n",
       "team[T.Chelsea]               -0.1597      0.172     -0.927      0.354      -0.497       0.178\n",
       "team[T.Crystal Palace]        -0.3578      0.183     -1.957      0.050      -0.716       0.000\n",
       "team[T.Everton]               -0.3074      0.180     -1.710      0.087      -0.660       0.045\n",
       "team[T.Fulham]                -0.7366      0.208     -3.542      0.000      -1.144      -0.329\n",
       "team[T.Huddersfield]          -1.1778      0.243     -4.837      0.000      -1.655      -0.701\n",
       "team[T.Leicester]             -0.3627      0.183     -1.984      0.047      -0.721      -0.004\n",
       "team[T.Liverpool]              0.1698      0.158      1.074      0.283      -0.140       0.480\n",
       "team[T.Man City]               0.2362      0.156      1.515      0.130      -0.069       0.542\n",
       "team[T.Man United]            -0.1135      0.171     -0.664      0.507      -0.448       0.221\n",
       "team[T.Newcastle]             -0.5573      0.194     -2.874      0.004      -0.937      -0.177\n",
       "team[T.Southampton]           -0.4714      0.190     -2.483      0.013      -0.843      -0.099\n",
       "team[T.Tottenham]             -0.0980      0.169     -0.578      0.563      -0.430       0.234\n",
       "team[T.Watford]               -0.3324      0.182     -1.829      0.067      -0.689       0.024\n",
       "team[T.West Ham]              -0.3363      0.182     -1.850      0.064      -0.693       0.020\n",
       "team[T.Wolves]                -0.4465      0.187     -2.384      0.017      -0.814      -0.079\n",
       "opponent[T.Bournemouth]        0.3008      0.184      1.631      0.103      -0.061       0.662\n",
       "opponent[T.Brighton]           0.1253      0.191      0.657      0.511      -0.249       0.499\n",
       "opponent[T.Burnley]            0.2607      0.186      1.405      0.160      -0.103       0.624\n",
       "opponent[T.Cardiff]            0.2644      0.185      1.430      0.153      -0.098       0.627\n",
       "opponent[T.Chelsea]           -0.2790      0.213     -1.310      0.190      -0.697       0.139\n",
       "opponent[T.Crystal Palace]     0.0167      0.196      0.085      0.932      -0.368       0.402\n",
       "opponent[T.Everton]           -0.1224      0.204     -0.601      0.548      -0.522       0.277\n",
       "opponent[T.Fulham]             0.4252      0.179      2.374      0.018       0.074       0.776\n",
       "opponent[T.Huddersfield]       0.3495      0.181      1.928      0.054      -0.006       0.705\n",
       "opponent[T.Leicester]         -0.0827      0.201     -0.410      0.681      -0.477       0.312\n",
       "opponent[T.Liverpool]         -0.8271      0.255     -3.239      0.001      -1.328      -0.327\n",
       "opponent[T.Man City]          -0.7766      0.252     -3.088      0.002      -1.270      -0.284\n",
       "opponent[T.Man United]         0.0493      0.196      0.252      0.801      -0.334       0.433\n",
       "opponent[T.Newcastle]         -0.0914      0.201     -0.454      0.650      -0.486       0.303\n",
       "opponent[T.Southampton]        0.2154      0.187      1.150      0.250      -0.152       0.583\n",
       "opponent[T.Tottenham]         -0.2751      0.213     -1.291      0.197      -0.693       0.142\n",
       "opponent[T.Watford]            0.1252      0.192      0.654      0.513      -0.250       0.501\n",
       "opponent[T.West Ham]           0.0548      0.195      0.281      0.778      -0.327       0.436\n",
       "opponent[T.Wolves]            -0.1292      0.204     -0.635      0.526      -0.528       0.270\n",
       "home                           0.2248      0.061      3.657      0.000       0.104       0.345\n",
>>>>>>> Stashed changes
=======
       "Intercept                      0.5299      0.186      2.848      0.004       0.165       0.895\n",
       "team[T.Bournemouth]           -0.0483      0.189     -0.256      0.798      -0.418       0.321\n",
       "team[T.Brighton]              -0.2287      0.197     -1.163      0.245      -0.614       0.157\n",
       "team[T.Burnley]               -0.0442      0.188     -0.235      0.814      -0.412       0.324\n",
       "team[T.Cardiff]               -0.0047      0.185     -0.025      0.980      -0.368       0.358\n",
       "team[T.Chelsea]               -0.1439      0.192     -0.748      0.454      -0.521       0.233\n",
       "team[T.Crystal Palace]        -0.3277      0.203     -1.615      0.106      -0.725       0.070\n",
       "team[T.Everton]               -0.1458      0.192     -0.759      0.448      -0.523       0.231\n",
       "team[T.Fulham]                -0.0090      0.186     -0.048      0.961      -0.374       0.356\n",
       "team[T.Huddersfield]          -0.3568      0.204     -1.746      0.081      -0.757       0.044\n",
       "team[T.Leicester]             -0.2880      0.200     -1.438      0.150      -0.680       0.104\n",
       "team[T.Liverpool]              0.0944      0.181      0.522      0.602      -0.260       0.449\n",
       "team[T.Man City]               0.1573      0.178      0.881      0.378      -0.192       0.507\n",
       "team[T.Man United]            -0.0050      0.186     -0.027      0.979      -0.370       0.360\n",
       "team[T.Newcastle]             -0.1937      0.194     -0.997      0.319      -0.575       0.187\n",
       "team[T.Southampton]           -0.0304      0.187     -0.163      0.871      -0.397       0.336\n",
       "team[T.Tottenham]             -0.1588      0.193     -0.822      0.411      -0.538       0.220\n",
       "team[T.Watford]               -0.0807      0.189     -0.426      0.670      -0.452       0.291\n",
       "team[T.West Ham]              -0.0007      0.185     -0.004      0.997      -0.364       0.362\n",
       "team[T.Wolves]                -0.1908      0.194     -0.982      0.326      -0.572       0.190\n",
       "opponent[T.Bournemouth]        0.0703      0.171      0.410      0.682      -0.265       0.406\n",
       "opponent[T.Brighton]          -0.3302      0.190     -1.738      0.082      -0.703       0.042\n",
       "opponent[T.Burnley]           -0.1491      0.181     -0.823      0.410      -0.504       0.206\n",
       "opponent[T.Cardiff]           -0.4057      0.195     -2.082      0.037      -0.788      -0.024\n",
       "opponent[T.Chelsea]           -0.2656      0.187     -1.422      0.155      -0.632       0.100\n",
       "opponent[T.Crystal Palace]    -0.0786      0.177     -0.444      0.657      -0.426       0.269\n",
       "opponent[T.Everton]           -0.3057      0.189     -1.619      0.106      -0.676       0.064\n",
       "opponent[T.Fulham]            -0.1471      0.181     -0.812      0.417      -0.502       0.208\n",
       "opponent[T.Huddersfield]      -0.1638      0.181     -0.905      0.366      -0.519       0.191\n",
       "opponent[T.Leicester]         -0.1967      0.183     -1.076      0.282      -0.555       0.162\n",
       "opponent[T.Liverpool]         -0.3553      0.192     -1.847      0.065      -0.732       0.022\n",
       "opponent[T.Man City]          -0.2879      0.189     -1.524      0.127      -0.658       0.082\n",
       "opponent[T.Man United]        -0.0791      0.178     -0.444      0.657      -0.428       0.270\n",
       "opponent[T.Newcastle]         -0.4862      0.199     -2.442      0.015      -0.876      -0.096\n",
       "opponent[T.Southampton]       -0.2211      0.185     -1.197      0.231      -0.583       0.141\n",
       "opponent[T.Tottenham]         -0.1728      0.182     -0.949      0.342      -0.529       0.184\n",
       "opponent[T.Watford]           -0.1511      0.181     -0.834      0.404      -0.506       0.204\n",
       "opponent[T.West Ham]          -0.3185      0.190     -1.676      0.094      -0.691       0.054\n",
       "opponent[T.Wolves]            -0.4155      0.195     -2.132      0.033      -0.797      -0.034\n",
       "home                           0.2248      0.061      3.657      0.000       0.104       0.345\n",
>>>>>>> Stashed changes
       "==============================================================================================\n",
       "\"\"\""
      ]
     },
<<<<<<< Updated upstream
<<<<<<< Updated upstream
     "execution_count": 12,
=======
     "execution_count": 31,
>>>>>>> Stashed changes
=======
     "execution_count": 14,
>>>>>>> Stashed changes
     "metadata": {},
     "output_type": "execute_result"
    }
   ],
   "source": [
    "# Get a statistical summary of the poisson model\n",
    "poisson_model.summary()"
   ]
  },
  {
   "cell_type": "markdown",
   "id": "d8d158ef",
   "metadata": {
    "slideshow": {
     "slide_type": "slide"
    }
   },
   "source": [
    "## A note on dummies, coefficients, and interpretation"
   ]
  },
  {
   "cell_type": "markdown",
   "id": "3158aaec",
   "metadata": {
    "slideshow": {
     "slide_type": "fragment"
    }
   },
   "source": [
    "- $Team_i$ takes on multiple categorical values (Chealsea, Man City, etc.) but statistical algorithms can't process string data *directly* "
   ]
  },
  {
   "cell_type": "markdown",
   "id": "705774e1",
   "metadata": {
    "slideshow": {
     "slide_type": "fragment"
    }
   },
   "source": [
    "- **Solution:** We encode categorical variables into *dummy* or *indicator variables*"
   ]
  },
  {
   "cell_type": "markdown",
   "id": "9efd28ce",
   "metadata": {
    "slideshow": {
     "slide_type": "fragment"
    }
   },
   "source": [
    "- Eg. $Man City_i = \\begin{cases} \n",
    "      1 & Team_i = \\text{'Man City'} \\\\ \n",
    "      0 & \\text{otherwise} \n",
    "   \\end{cases} $ "
   ]
  },
  {
   "cell_type": "markdown",
   "id": "e973a391",
   "metadata": {
    "slideshow": {
     "slide_type": "slide"
    }
   },
   "source": [
    "- As for the coefficients? they represent the *approximate* fractional change in average goals for a unit change in the predictor variables "
   ]
  },
  {
   "cell_type": "markdown",
   "id": "49dc4a46",
   "metadata": {
    "slideshow": {
     "slide_type": "fragment"
    }
   },
   "source": [
    "- For coefficients on dummy variables, this change is always **relative to the category combination represented by the intercept**"
   ]
  },
  {
   "cell_type": "markdown",
   "id": "ce457966",
   "metadata": {
    "slideshow": {
     "slide_type": "slide"
    }
   },
   "source": [
    "## Predicting the expected goals for each team"
   ]
  },
  {
   "cell_type": "code",
<<<<<<< Updated upstream
<<<<<<< Updated upstream
   "execution_count": 13,
=======
   "execution_count": 32,
>>>>>>> Stashed changes
=======
   "execution_count": 15,
>>>>>>> Stashed changes
   "id": "33dff13b",
   "metadata": {
    "slideshow": {
     "slide_type": "fragment"
    }
   },
   "outputs": [],
   "source": [
    "# Create feature data for home and away team for the match\n",
    "def create_X(home_team, away_team):\n",
    "    X_home = pd.DataFrame(data={\"team\": home_team,\n",
    "                                \"opponent\": away_team,\n",
    "                                \"home\": 1\n",
    "                                }, index=[1])\n",
    "    \n",
<<<<<<< Updated upstream
    "    # Creating DataFrame for away team features \n",
=======
    "    # Creating DataFrame for away team features\n",
>>>>>>> Stashed changes
    "    X_away = pd.DataFrame(data={\"team\": away_team,\n",
    "                                \"opponent\": home_team,\n",
    "                                \"home\": 0\n",
    "                                }, index=[1])\n",
<<<<<<< Updated upstream
=======
    "    \n",
>>>>>>> Stashed changes
    "    return X_home, X_away"
   ]
  },
  {
   "cell_type": "code",
<<<<<<< Updated upstream
<<<<<<< Updated upstream
   "execution_count": 14,
=======
   "execution_count": 33,
>>>>>>> Stashed changes
=======
   "execution_count": 16,
>>>>>>> Stashed changes
   "id": "543f6bbd",
   "metadata": {
    "slideshow": {
     "slide_type": "fragment"
    }
   },
   "outputs": [],
   "source": [
    "def predict_avg_goals(X_home, X_away, model):\n",
    "    # Predict the mean number of goals for home team\n",
    "    home_goals_avg = model.predict(X_home) \n",
    "    \n",
    "    # Predict the mean number of goals for away team\n",
    "    away_goals_avg = model.predict(X_away) \n",
    "    \n",
    "    return home_goals_avg, away_goals_avg"
   ]
  },
  {
   "cell_type": "code",
<<<<<<< Updated upstream
<<<<<<< Updated upstream
   "execution_count": 15,
=======
   "execution_count": 35,
>>>>>>> Stashed changes
=======
   "execution_count": 17,
>>>>>>> Stashed changes
   "id": "efb1e112",
   "metadata": {
    "slideshow": {
     "slide_type": "slide"
    }
   },
   "outputs": [
    {
     "name": "stdout",
     "output_type": "stream",
     "text": [
<<<<<<< Updated upstream
<<<<<<< Updated upstream
      "Average Home Goals:  1.3300297305877133\n",
      "Average Away Goals:  1.5853735447243837\n"
=======
      "Average Home Goals:  0.8143138874982507\n",
      "Average Away Goals:  1.589213139385842\n"
>>>>>>> Stashed changes
=======
      "Average Home Goals:  1.3811387593319235\n",
      "Average Away Goals:  1.5244148547245817\n"
>>>>>>> Stashed changes
     ]
    }
   ],
   "source": [
    "# Predicting average goals for Chelsea Man City match\n",
    "X_home, X_away =  create_X('Chelsea', 'Man City')\n",
    "avg_goals = predict_avg_goals(X_home, X_away, poisson_model)\n",
    "print('Average Home Goals: ', avg_goals[0].values[0])\n",
    "\n",
    "# Fill in to print the average away goals\n",
    "print('Average Away Goals: ', avg_goals[1].values[0])"
   ]
  },
  {
   "cell_type": "markdown",
   "id": "ea9926a3",
   "metadata": {
    "slideshow": {
     "slide_type": "slide"
    }
   },
   "source": [
    "## Computing the distribution of match scores"
   ]
  },
  {
   "cell_type": "code",
<<<<<<< Updated upstream
<<<<<<< Updated upstream
   "execution_count": 16,
=======
   "execution_count": 36,
>>>>>>> Stashed changes
=======
   "execution_count": 18,
>>>>>>> Stashed changes
   "id": "bf47327b",
   "metadata": {
    "slideshow": {
     "slide_type": "fragment"
    }
   },
   "outputs": [],
   "source": [
    "#### MATCH SCORE FORECASTING FUNCTION ####\n",
    "def predict_score_pmf(X_home, X_away, model, max_goals):\n",
    "    # Predict the average number of goals for home  and away teams\n",
    "    home_goals_avg, away_goals_avg = predict_avg_goals(X_home, X_away, model)\n",
    "\n",
    "    # Compute marginal distribution for home goals\n",
    "    home_goals_pmf = [poisson.pmf(i, home_goals_avg)\n",
    "                      for i in range(0, max_goals + 1)]\n",
    "\n",
<<<<<<< Updated upstream
    "    # Compute marginal distribution for away goals\n",
    "    away_goals_pmf = [poisson.pmf(i, away_goals_avg)\n",
    "                      for i in range(0, max_goals + 1)]\n",
    "    \n",
=======
    "    # Compute marginal distribution for away goals \n",
    "    away_goals_pmf = [poisson.pmf(i, away_goals_avg)\n",
    "                      for i in range(0, max_goals + 1)]\n",
    "\n",
>>>>>>> Stashed changes
    "    # Compute joint distribution for match score as outer product\n",
    "    joint_pmf = np.outer(np.array(home_goals_pmf),\n",
    "                         np.array(away_goals_pmf))\n",
    "    \n",
    "    return joint_pmf"
   ]
  },
  {
   "cell_type": "code",
<<<<<<< Updated upstream
<<<<<<< Updated upstream
   "execution_count": 17,
=======
   "execution_count": 39,
>>>>>>> Stashed changes
=======
   "execution_count": 19,
>>>>>>> Stashed changes
   "id": "aaf59d16",
   "metadata": {
    "slideshow": {
     "slide_type": "slide"
    }
   },
   "outputs": [
    {
     "data": {
<<<<<<< Updated upstream
<<<<<<< Updated upstream
      "image/png": "iVBORw0KGgoAAAANSUhEUgAAAdYAAAGDCAYAAACWWTEeAAAAOXRFWHRTb2Z0d2FyZQBNYXRwbG90bGliIHZlcnNpb24zLjQuMiwgaHR0cHM6Ly9tYXRwbG90bGliLm9yZy8rg+JYAAAACXBIWXMAAAsTAAALEwEAmpwYAAB3F0lEQVR4nO3dd3xT1f/H8dcnbdkbSie7qIBAmW72hgIqggO38BUXOHDwc4KKoqi4RRwgiIAD2VsQVGQPKXsI3QVkF+g4vz8SStKmbZq0TSifp488bHI/5953ktKTc+7NvWKMQSmllFIFw+LtAEoppVRxoh2rUkopVYC0Y1VKKaUKkHasSimlVAHSjlUppZQqQNqxKqWUUgVIO9ZiTEReFZHJRd1W5UxEaorIKRHx83aWwiAiV4rIRhE5KSJPeDuPUt6gHeslTkTuFJF1tj/W8SIyX0Ru9HYuXyAiy0XEiEjTLI/PtD3erpC2e4WIzBCRwyJyXES2iMhTIuJnjDlojClnjEm3y/hQYeTwkmeB5caY8saYD70dJi8ickBEOnk7hypetGO9hInIU8AHwJtAEFAT+BTo48VYvmYXcM+FOyJSFbgWSC6MjYlIPeBv4BDQ2BhTEbgNaAmUL4xtFhYR8XejWS1gWxFuTymfox3rJUpEKgIjgUeNMT8bY04bY1KNMbONMcPtSkuIyCTb1Nw2EWlpt45QEflJRJJFZH9OU3ciUkpEJovIERE5JiJrRSToQg4R+co2Wo4VkdcvTHOKSD0RWWZrd1hEpohIpRy28bmIvJvlsV9tHx7sHxMReV9EkuxGg1fn8lJNAQbYTb3eAfwCnLdbZ2sR+cv23OJF5GMRKWG33IjIwyKyW0T+E5FPRERy2N5rwJ/GmKeMMfEAxpidxpg7jTHHRKS2bX3+IvIGcBPwsW3G4WPbusdmec6zRWSYk9csx9dCREqLyFgR+de2bJWIlLYt6237XThmGzE3sFvnARF5TkS2AKdtOa8VkT9t9ZtzGumLyDKgvd3zucL2+zHJ9jv2r4i8KCIWW/19IvKH7TkcBV4VkZIi8q6IHBSRRNvvRWm7bfQRkU0ickJE9opIN9vj94vIdtvv+T4R+Z9dm2oiMseW/6iIrBQRi4h8h/XD6Gxb3mdzeE+Vyh9jjN4uwRvQDUgD/HOpeRU4C/QA/IDRwGrbMguwHngZKAHUBfYBXe3aTrb9/D9gNlDGtp4WQAXbspnAF0BZoDqwBvifbVkE0BkoCQQCvwMf5JC1DdZRntjuVwZSgNAsdV1tuSsBAjQAQnJY53LgIWAR0N322BrgOiAGaGd7rAXWUaw/UBvYDgyzW48B5ti2WRPraLdbDttMAO7P5T2pbVufv31Gu+WtgTjAYrtfDTgDBDlZV46vBfCJbd1htvfsetv7cAVw2va+BGCdut0DlLC1OwBsAmoApW3tj2D9HbLY2h0BAnN7ze3uTwJ+xTpar411BuFB27L7sP4OP2577UtjnYGZBVSxtZkNjLZ7bY7bMlhs2a6yLesJ1LO9Dm1tr1lz27LRwOe25xuA9cOM2D3fTt7+96y34nXTEeulqypw2BiTlkfdKmPMPGPdp/cdcGF/YyusfxxHGmPOG2P2AV8CtztZR6ptexHGmHRjzHpjzAnbqLU71k7otDEmCXj/wjqMMXuMMYuNMeeMMcnAe1j/6DmzEmuHc5Ptfj/gL2NMnJMs5YGrsP5x3G5sI8NcTALuEZErgUrGmL/sF9qez2pjTJox5gDWDwpZc75ljDlmjDkI/AZE5rCtqkBeeXJkjFmDtfPoaHvodqz7LBOdlDt9LWwjwgeAocaYWNt79qcx5hwwAJhre19SgXexdmjX2633Q2PMIWNMCjAQmGf7HcowxiwG1mHtaHNlmyUYALxgjDlpe23HAnfblcUZYz6y/R6fBQYBTxpjjhpjTmLdzXHhd/JB4Gtb9gzbc9the93mGmP2GqsVWD9MXfhdSgVCgFrGOquz0hijJ0lXhUY71kvXEaCa5L1fKsHu5zNAKVubWkCobXrsmIgcA0Zg3Veb1XfAQuAHEYkTkTEiEmBbRwAQb7eOL7COXBGR6iLyg1iniE8Ak7GOwLKx/aH7AetULcCdWKdxs9YtAz7GOiJLFJHxIlIhj9fgZ6AD1pHRd1kX2qYs54hIgi3nm05yZn0dy+WwrSNY/4h7YiLWDg3b/7Nlhlxfi2pAKWCvk2ahwL9268jAOlMQZldzyO7nWsBtWX5PbsS151gN62zIv3aP/ZvLtgKxzoqst9vWAtvjYB1FO3tOiEh3EVltm+o9hrXjv/AevoN1VL7INk38vAvZlXKbdqyXrr+wfsLv62b7Q8B+Y0wlu1t5Y0y2kYjtU/5rxpiGWEc2vbAeEHQIOAdUs1tHBWNMI1vT0VhHoU2MMRWwdhI57ZsEmAr0E5FawDXAT86KjDEfGmNaAI2wTm0Od1ZnV38GmA8MwXkn9RmwA6hvyzkij5y5WQLcmo96ZyOnyUAfsR7N3ADrdLvzxs5fi8NYfzfqOWkSh7WzBKz7abF2WLE5ZDoEfJfl96SsMeYtF57bYayjxVp2j9XMZVuHsU7/N7LbVkVjzIUPMYecPScRKYn1d+VdrFPmlYB52N5D22j5aWNMXSAKeEpELswI6MhVFTjtWC9RxpjjWPePfiIifUWkjIgE2D65j3FhFWuAE7YDVUqLiJ+IXC0irbIWikh7EWlsm9o7gfWPZbptCnYRMFZEKtgOCKknIhemUcsDp4BjIhJG3h3gRqz7LycAC40xx5xkaSUi19hGzKexdiDpLjzfEUBb23RkVuVtz+uUiFyFtQN21yvA9SLyjogE2zJHiPXgr0pO6hOx7t/OZIyJAdZi/RDwk21KNpucXgvbKPRr4D2xHqDmJyLX2Tqg6UBPEeloa/c01g9Hf+bwfCYDUSLS1baeUiLSTkTC83ohbLsfpgNviEh52wemp2zrdFafgXV3xPsicmHWI0xEutpKvgLut2W32JZdhXVUXBLr706aiHQHuti9Tr1s74FgfZ/Tufg7k+31V8pT2rFewowx72H9Q/Ui1j8qh4DHyGWEY9c2Heun90hgP9bRwgSgopPyYOBHrH+UtgMruPjH8R6sf9iigf9sdRemCV8DmmPdZzgX65RsXqYCnYDvLzxgOzL0c9vdClj/+P6HdVrxCNaRSq6MMXHGmFU5LH4G69TzSdu6p7mQM6ft7MV6cFRtYJuIHMc6mlpnW39W47CO0v8TEfvvfU4EGpPDNLBNbq/FM8BWrB30UeBtrAdE7cQ6c/AR1vc8CogyxpzHCWPMIaxf3xrBxd+x4bj+t+NxrJ3+PmAV1vf161zqn8M6bbvaNi2/BLjSlmUNcD/W/fjHsf4e1rLti30Cayf+H9b3cpbdOuvb1nMK60zPp8aY5bZlo4EXbVPPz7j4nJTK1YUj45RSPkRE2mD98FLbNpJTSl0idMSqlI+xTdEOBSZop6rUpUc7VqV8iFhP1nAM63T6B14No5Ryi04FK6WUUgVIR6xKKaVUAdKOVSmllCpAPns1id+Db/PpOeqWT/v2hUpOzN7n7Qg5+vhgqLcj5Gr22QPejpCrQ6cL5cI8BeLUeadfufUZGbrry21p52PdPWlKnlIP7/PojQmoVrfQsrnDZztWpZRSl4kMV87xcunQjlUppZR3FbNvlWnHqpRSyrsyilfHqgcvKaWUUgVIR6xKKaW8qridYEw7VqWUUt5VzKaCtWNVSinlXcVsxKr7WJVSSqkCpCNWpZRS3qXfY1VKKaUKUDGbCtaOVSmllHfpwUtKKaVUwSluX7e5JA9eqtw+kparxtHqr4+o8VhfpzX1Xr+fVn99RPNl71KucZ3Mx1uv/YQWv42l+ZJ3aLbwrWztwodE0SZhBv5V3D/JvqX21ZR68E1KPTQa/9Y9nNYEdLiTUg+NptR9ryHVa2Y+7t+iM6XuH0Wp+0ZSotf/wO/iZx//Zh2t671/FAFtb3M7X4nWrak2eRLVvp9C2bvudFpT/onHqfb9FKp+8xX+V9TPfFzKlaPSyNeo9t0kqn03kYBGDa3ZIiKo8tmnVP1qAlXHf0FAg6vcyla/bROGLn2XJ5e/R5shUU5rer5yD08uf4/H5r9FSKPa1u2XDODhmaN4dP5oHl80hg5P3urQ5tp7uzB06bs8vmgMXZ+/w61sANe3v4ZfV01l9l/TeeCxu53WPPf6k8z+azozlk3iqsZXZD7+2vsj+O2fufy0fLLTdvcMuYPNCX9SqUpFt/N17HQTf29YyLpNSxj61GCnNaPHvMS6TUtY+ddsmjRtmGfb5154nH92rmTFH7NY8ccsOnVp61a2Ll3a8c/WFURHr2L4M486rXnvvZFER69i/brFREZenWfbW2/pyaaNSzmbcpDmzZu4lcsdXbu0Y9s/v7MjehXPDnf+XLzJ1/MVd5feiNViIWL0g2ztP4pz8UdptmA0Rxat48yumMySyh2bUbpuCGuve5zyzesT8fYgNvUYkbl8862vknb0ZLZVlwytSqU2TTgb48HVQ0Qo0Xkg56aPxZw8Sqm7XyZ97ybMkbiLT6FOYyyVgzg74QUsIXUp0fkezk15HSlXCf/mnTj7zYuQlkqJqCH4XXUN6dv+wFLjKvzqN+Psty9DehqUcbPjt1io8ORQ/nvqGdKTk6k6/nPOrvqD9H//zSwpce01+IeHc/jOuwho2JAKTz3J0YcfAaDCE49x7u81HHv5FfD3R0qVAqD8kP9x6ttvOf/3Gkpcew3lH36Yo0OH5e+lswhRI+/nm4GjOZFwhIdnvc72xRtI3hObWXNFu0iq1gnm/XZPEd4sgt5vPMAXfV8m7VwqX9/5OufPnMPi78egH19h1/LNxGzcQ53rGtKgc0s+7v486efTKFu1gpsvnYURo5/hf/2HkhifxPcLvmL5opXs23Ugs+bGjtdRs244Udf1p3HzRrz49nAG9hgEwK/T5jH16x9546OXs607KLQ617VpTVxMglvZLuQbM/ZVbulzH3GxCSxd8RML5i5j5849mTWdurSlXr1atIzsRMtWkYx9fySdO/TLs+3nn3zLxx9+5VG2ceNep0ePO4mJieevP+cyZ84itu/YnVnTrVsHIiLq0LDhjbRu3ZyPPxrNjTdF5dp2W/RO+g8YxCcfv+12Nneey4fj3qBbjzuIiYln9V/zmD1nEdu37867cRHw9XxOFbOp4EtuxFq+WQQp+xM4ezAJk5pG8sw/qNq1pUNNta6tSJy+AoCTG3bjX6EsJapXynPddUfex/5Rk8GDS0tZQupi/kvCHE+GjHTSdvyNX0SkQ41f/WakbfsTgIz4fUipMlDWNkqx+IF/CRALElACc/oYAP6R7Un9e561UwU4k/2DgSsCGlxFemws6fHxkJbG2aXLKHXjDQ41pW68gZSFCwFIjY7GUq4clqpVkDJlCGjalJS5c62FaWmYU6esPxuDpWxZ61MoW5b0w4fznS08MoIj/yby36Ek0lPT2Tr7Lxp0aeFQ06BLCzb9vBKAmI17KFW+DOUCKwFw/sw5APz8/fDz98t8H1vf1YnfP5tF+nnra3f6yIl8ZwO4ullDDu2PIfZgHGmpaSyYuYR2XW9yqGnf9SZmT18AwNYN2yhfoRzVqlcFYMPqTZw45nzbw0cO5f1Rn2A8+N1r0bIJ+/f9y78HDpGamsrPP82le6+ODjU9enbih6kzAVi3dhMVKpUnKCjQpbaeaNUqkr17D7B//0FSU1OZPv1XoqK6ONRERXVhyuQfAVizZgOVKlUgOLh6rm137NjDrl1Fe4nE1q2aZcvTO6prkWbIja/nc8pkeHbzMYXWsYrIVSLynIh8KCLjbD838HS9JUOqcC7uSOb9c/FHKRFS1aGmRLaaI5QIqWK9Y6DxDy/SbOHbBA/slFlTpUtLzscf5XT0v3hCylXCnDyaed+c/A8pV9mhxlKucpaao9bHTh0jbe0CSv/vHUo/8j7m3BkyDmyztqkShF94fUre9SIlb38OS3Btt/JZqgWSnnRxRJ6enIwlMDDvmmqB+IWGknHsGBVfeJ6qE76kwrPDM0esJz76mPJDHibwx+mUf2QIJ8d/me9sFYIqc9zufTsRf5QKQVUcasoHVeZ43MXX7kTCUSoEW19fsQiPznuT59d/zp5VW4nZtBeAanWDqdX6Sv43cyQPTnuJsCZ1850NoHpIIAlxiZn3k+KTCQoJzFaTaFeTGJ9M9Sw1WbXtciNJ8cnsit6Ta11eQkKCiY2Nz7wfF5tASEiQY01oUPaa0KA82z40eCAr/5rNR5+OpmKl/I/4w0JDiDl0cf2xsQmEhoU41ISGBnMo5uLMTkxsPKGhwS61LUqhYc5z+gpfz+dURrpnNx9TKB2riDwH/AAIsAZYa/t5qog879nKnTyW9VO+OCmylWyKepGNXZ7jn7veIPT+rlS8tgGW0iWoOewWDoyZ5lG0XALm2cpgoGQZ/CKakTL+OVI+ewoCSuLX8Frbai1QsiznprxO6vLplIgaUoDxsr5+OdT4+RFQ/wrOzPyVIw8NwpxNydxHW6ZPH058/AnJ/fpz8uNPqPjcs25ky77hrCM4yeW9NRmGT3qM4J3rHiO8aT2qXxEOgMXPj9IVyvJF35dZ8Ob33P7JE/nP5jxe9hGmC8/BXqnSJRk07F4+HZP/DyJZuZLP2etnjMm17dcTvqd5k460ub43CQlJvP7mCz6TzRtyyukrfD2fUzpidcmDQCtjzFvGmMm221tAa9syp0RksIisE5F1s844n945F3eUkqEXR6glQ6pwPuGoQ835uCNZaqpm1pxP/A+A1MMnODJ/DeWbRVCqVjClalanxbJ3aL32E0qGVKX5ojEE2KYY88Oc+g8pf3GUJeWtI1F7GdlqqmBOHcOvVkPM8cOQchIy0knfvQFLaETmetN3r7e2T9gPGCid//2sGcnJ+FW/OILyCwwkI8u0rdOaI4fJSE4mIzmZ1O3bATi7fEXmgU2lu3Xl3IrfrY//ttytg5dOJBylot37ViGkCieT/nNSc/G1qxBchROJjjVnT5xh/+rt1G/bFIDjCUeJXrgWgNjNezEZhjJuHJyWGJdMcOjFUVz1kECSEhxfu6S4JILsaoJCAklOyHlaPLxWGGE1Q5m+bBLz1v5EUEggPyz6hqqBVXJsk5O4uATC7EZyoWHBJCQkOdbEOqmJT8q1bXLyETIyMjDGMOnb6TRvkf+DhGJi4wmvcXH9YWHBxMc57k+OjY2nRnho5v3wsBDi4xNdaluUYmOc5/QVvp7vclBYHWsGEOrk8RDbMqeMMeONMS2NMS17l3E+XXdy0x5K1w2hVM3qSIA/gX1v4MiidQ41RxatI6i/9cjF8s3rk3byDOeTjmEpUxK/stapS0uZklRq25TTOw5xZsdBVl/9EGtaPcqaVo9yLv4IG7o8S2rysfw/8fj9SOUgpGI1sPjhf9U1pO/Z5FCTvmcT/o2ut+YIqYs5dwZOH7dOCYfWte5jBfxqNsAcsU6Bpe/eiF9N60y6VA4Ci7+1A86n1B078QsPxy8kGPz9KdWxA+f++NOh5tyqPynd1bpPJqBhQzJOnybjyFEyjh4lPSkJvxo1ACjZogXpB6xT5xlHjlAiMhKAEs2bkx4TQ37Fbt5L1drBVA4PxC/Aj8ZR17Fj8XqHmu2L1xN5i3W/ZnizCM6dTOFU8jHKVClPqQplAOsRwvVuuJrDe63TYdsXraPudY0AqFonGL8Af844OXgtL9s2badm3XDCaobgH+BPt76dWLFolUPN8kWriOrfDYDGzRtx6uRpDicdcbY6APbs2Ef7q3vSo9Wt9Gh1K4nxydze5X6OJB/NsU1ONqzfSt16talZK5yAgABuubUnC+YudaiZP28pt9/RF4CWrSI5cfwkiYnJubYNCrr4IatXVGe2R+/Kd7Z16zYTEVGH2rVrEBAQQP/+fZgzZ7FDzZw5i7hrYD8AWrduzvHjJ0lISHKpbVFau25Ttjyz5yzyWp6sfD2fUxkZnt18TGEdFTwMWCoiu4FDtsdqAhHAYx6tOT2DPSO+4uqp/4f4WUiY+htndsYQck9nAOInLebokg1U6diMVqs/IiPlPDuHfQJAiWoVafjNcADE34+kn1fx32+bPIqTjcng/JLJlOz3FFgspG1dhTkSh3/TdgCkbV5Oxr4tZNRtQqlBb0Hqec7P/xqwHsiUvmsdpe55BTLSyUg6SNoW60FYaVtXUqL7A5S6byRkpHN+/gT38qWnc+KDcVR+9x2wWEiZN5+0Awco3bs3ACmzZnFu9WpKXHcN1aZOwZw7x/HRF4+4PDHuQyq99CIE+JMeF8/x0davLB0f8y4VnngM/Pww589z/J2x+Y6WkZ7BnJe/5d5Jz2Pxs7B++nKSdsfS6i7rQTRrpyxl12+buKJ9JE+teJ/zKef4efgXAJSvXolbxw7BYrEgFuGfuavZuWwjABumL+fmMf/j8YVvk56axk9Pf+bmS5fO6BHv8dnU97H4+TFz6hz27tzPbff0BWDGpJmsXPInN3a8jjmrZ3A25SwvD3sjs/1bn71Gy+ubUalKJRZtmMln70zgl6lz3MqSU75nn3mNH2d+jZ/Fjynf/ciOHXu47wHr14u+/Xoqixcup3OXtqzfvJSUlBQeG/J8rm0BXh31LI2bNMAYw8GDsTz1xEtuZRs27CXmzpmCxc/CxG+nEb19F4MGDQTgyy8nM3/+Mrp168D27atIOXOWhwY9lWtbgD69u/H++6MIDKzCrzMnsnnLNnr1Gujxa5nXcxk67EXmzf0eP4uFbydOI9qNDxuFxdfzOeWD07mekMKaexcRC9ap3zCse+1igLXGGJf2NP8efJtP7xRo+bT733MtCidmF+2Rkvnx8UFnkxm+Y/bZA96OkKtDpz34OlghO3U+xdsRcpXh6/safVja+VhnR18UiHNbFnr0xpRs0rXQsrmj0L7Haqyn0lhdWOtXSimlfNGld4IIpZRSxYqLE5mXDO1YlVJKeVcx28eqHatSSinv8sEjez2hHatSSinvKmYj1kvuXMFKKaWUL9MRq1JKKe/ywfP9ekI7VqWUUt5VzKaCtWNVSinlXXrwklJKKVWAitmIVQ9eUkoppQqQjliVUkp5l04FK6WUUgVIO1allFKq4Oi5govI1dckeTtCrgLufzvvIi+qWOVTb0fIUdMX470dIVer/Mt4O0Ku4iy+e2iERXw3G0BGMfsDrlwnIt2AcYAfMMEY81aW5VcB3wDNgf8zxrzratusfLZjVUopdZko5KlgEfEDPgE6Y7s2uIjMMsZE25UdBZ4A+rrR1oFvf7xUSilV/JkMz255aw3sMcbsM8acB34A+jhEMCbJGLMWSM1v26x0xKqUUsq7Cv/gpTDgkN39GOCawmqrHatSSinv8vAEESIyGBhs99B4Y8x4+xJnW3V19fltqx2rUkqpS5qtEx2fS0kMUMPufjgQ5+Lq891W97EqpZTyrowMz255WwvUF5E6IlICuB2Y5WK6fLfVEatSSinvKuRzBRtj0kTkMWAh1q/MfG2M2SYiD9uWfy4iwcA6oAKQISLDgIbGmBPO2ua2Pe1YlVJKeVcRnHnJGDMPmJflsc/tfk7AOs3rUtvc6FSwUkopVYB0xKqUUsq79FzBSimlVAEqZtdj1Y5VKaWUd+mIVSmllCpAxWzEekkevBTQrDUVP/2Oip9PodStdzqtKTPoCSp+PoUK477Gr259ACxhNajw/oTMW+Wp8ygZ1Q+A0vc9TMVPJlFh3NeUe+F1pGy5Asm6avU6et3+EN37P8CE76ZnW77v30PcNfhJmrWL4pvvf3RY9uKb79Gm5+30HfhwgWS54I99SfT5chlR45fy9erd2ZYbY3h7yT9EjV/Kbd8sZ3vCscxlU9bt49avl3PLV78xed2+zMcX7Yjjlq9+o9mY2WyLP5Ztna4Kat+EbivfofufY7nysSinNZGj7qH7n2PpvHQ0lRrXdlxoEToteoMbJj2T+VDFRrXoMOc1Oi9+k44LRlE5sq7b+Vq3a8WkFd8wZdVE7nz0dqc1j498lCmrJvLV4vHUvzoi8/Fn332GXzbN4JslXzrU12tQl09+/ZCvl3zJm9+Mokw596+u06HjTfy1bgFrNi7iiScHOa158+3/Y83GRSz/YxZNmjZ0qe1Dgwfy17oFrFw9h5dHDncrW+fObdmy5Te2bfudZ555xGnN2LGvsW3b76xdu5DIyKvzbPvmmyPYvHkZa9cuZNq08VSsWMGtbPnVtUs7tv3zOzuiV/Hs8EeLZJv54ev5irtLr2O1WCjzv2GcfO1Zjj92LyVu6oilRi2HkoAW12AJCef4w3dx+pN3KTvkKQAyYg9x4smHrLenB2POnSV19UoAUjet4/jj93Ni6AOkxx6i1K13eRw1PT2d18d+wmdjRzFryhfMW7Kcvfv/daipWKE8zz/5MPfdcWu29n17dObz9173OIdDpgzD6CVb+eS2a/j5wfYs2B7H3sMnHWpW7Uvi4H+nmDWoAy91bcobi7cCsCf5BD9vOcjku29k+v1tWbk3kX+PngIgIrA87/VtRfMaVd0PZxGav3kfK+8aw4K2z1Kz73WUvyLMoSS4Q1PK1Q1m/vVPs374VzR/636H5fUHdePkbseTojR56Q6i3/uZxZ1HsG3MjzR56Q734lksDH39cZ67ewT3tn+QDn3aU6t+TYeaazq0JrxOGHfdeC9jn3ufJ0cPzVy2YMZCnh34Qrb1Dn/nacaPnsADnQaxcsEf3P5wf7fzvTX2ZW7v9xA3tO7Jzbf24oor6znUdOrchrr1atO6WReeHvoSY957Nc+2N9x0Dd16dqTt9VHcdG0vPv3wK7eyjRv3On363EtkZEf69+/NVVfVd6jp2rU9ERG1adSoDY8++jwffvhGnm2XLVtJ8+adadWqK7t372d4EXQiFouFD8e9Qa+ogTRu2p4BA/rSoEH9vBsWEV/P51ThnyCiSF1yHat//QZkJMSSkRgPaWmcX7mMEq1vdKgJaH0j539bCED6rmikbDmkchXH9TRpTnpCHBnJiQCkbVoHGdZrNabtisZSLdDjrFu376JmeCg1wkIICAige8e2LFu52qGmauVKNG5wJf7+2WflW0Y2pmKF8h7nsPdP/H/UqFSW8EplCfCz0LVBKMv3JDjULN+TQK9GNRARmoRW5uTZVJJPnWXfkVM0CalM6QB//C0WWtSoyrLd1rZ1q5andlXPRvlVmtXj1IFETh9MxqSmc+jX1YR1beFQE9qtBf/OsH4YOrphDyUqlKFU9UoAlA6pQkjHSPZ9/5vjio3Bv1xpAAIqlOGs3Qg8P66KvJLYA3HEH4wnLTWNZb8u54YuNzjU3NDlehb+uBiA6A3bKVehHFWqW3/3tvy9lZPHTmZbb4164WxevQWAdb+vp02Pm9zK17xFEw7s+5d/D8SQmprKzJ/n0r1nR4eabj07Mm3qTADWr9tMxYoVCAoKzLXt/Q/ewYfvj+f8eetFPw4fPprvbK1aRbJ37wH27z9IamoqM2bMJiqqi0NNVFQXpkz5CYA1azZSqVIFgoOr59p2yZKVpKen29psIDw8ON/Z8qt1q2YOeaZP/5XeUV0Lfbuu8vV8ThX+1W2KVJF3rCJyf95VubSvWo30wxcvgp5xJBlL1WoONZaq1ciwrzmcjKWqY0dZ8qaOnP99qdNtlOzYg9T1f3sSE4Ck5MMEV7+43aDq1UhKPuLxej2RdOosweVLZ94PKl+KpJNnHWtOniW4Qim7mtIknTxLRGB51scc4VjKeVJS01i1L4nEkykFlq10cBXOxF58fc7EH6V0cOXsNXFZakKsNZEj72bL61Mhw/H82Jte/o6mL99Bz3Uf0vTlO9k6eppb+QJDqpEcf/H3KjkhmcAQxxF6YHA1kuOSL9bEJxMY7Pj7mdX+nQe4ocv1ALTr1Ybqoe59qAsJDSI29uKHpLjYREJCghxrQoKIs6+JSyA4NCjXtvXq1eba61qyYOl0fp37HZHNG+c7W2hoMDExF2cSYmPjCQ0NclITb1eTQGhosEttAe69dwALFy7Pd7b8Cg0L5pBdnpjYeEJDC79Dd5Wv53NKR6weey2nBSIyWETWici6iQfic6rK/lDW6wyIsxq7In9/Alpfz/k/lmcrK3XbQMhI5/yKxTnFdJlxcv0DZ9GKkiuZnF22QcQ6Kr3/mggenvYXj874mysCK+BXgE/I+dtmXKoJ6dSMs4ePc2zLgWzL693TiU2vTGZuyyfY9MpkWo51vu/RhYROtp21xFlN7hfRGPP0u/S9tzdfzPuUMuXKkJqa5l46F7adU01ubf38/ahUqQLdOvbn1ZfGMOHbDwopW/Z2eWW74LnnHiMtLY2pU3/Jd7b8ciWPN/l6PqeKWcdaKEcFi8iWnBYB2T9q2thfoeBon7ZOfxPMkWT8qlXPvG+pGkjG0cMONRmHk7HY11RzrAlofg3pe3djjv/n0K5E+66UaHk9J156MqeI+RJUvRoJSRdHL4lJhwms5sE+yAIQVL4UCXajzMSTZwksVyp7zYmzdjUpmTU3N6nJzU2s+xU//H07QXajX0+diT9KmbCLr0+ZkCqcTTyWvSa0KkfsaxKOEd7rGkK7tCCkYyR+JQPwL1+a1h8PYc1jn1G7/01semkSADGz/3a7Y02OTyYw5OLvVWBwIIcTjmSvsRtxBoYEcjgx91mKg3sPMfyu5wEIrxPGtR1dvUyko7jYBMLCLo5MQsOCSEhIcqyJSyDUviY0mMT4JEoEBOTYNj4ukTmzrR80N27YSkZGBlWrVubIEcd/P7mJjY0nPDw0835YWAjx8UlZahIIDw+xqwkmPj6REiUCcm07cGA/unfvSPfu7u07z6/YmHhq2OUJDwshPj6xSLbtCl/PdzkorBFrEHAPEOXk5tFcaNruHVhCwrFUDwZ/f0rc1IHUNX841KSu+YMS7a37FPyuaIg5fRrz38X9QiXadOTcSsdp4IBmrSl9652cfOMFOH/Ok4iZrr7qCg7GxBETl0Bqairzl66g/Y3XFsi63dUopBIH/ztN7LEzpKZnsHB7HG0jHKeJ2kYEM2fbIYwxbIn7j3IlAzI71qOnra9N/IkzLNsVT/cGodm24a7/Nu2jXJ1gytQIRAL8qNHnWuIWrneoiVu4gVq3WfdBVmkeQerJFM4mHeOfN6cxt8XjzGs9jNUPf0zSqmjWPPYZACmJ/xF4XQMAqt/YiFP7Hfcpu2rn5p2E1wkjuEYw/gH+dOjTjj8X/+lQ8+eiv+jarzMADZs34PTJ0xxNyn2fZKWqlQDrSOPuoQOZ9d0ct/Jt3LCVOvVqU7NWOAEBAfS9pScL5i1zqFk4bxkD7ugLQIuWTTlx4iSJicm5tp03dwk3tbH+3tatV5sSAQH56lQB1q3bTEREHWrXrkFAQAC33RbFnDmOs0Jz5izmrrusB/G1bt2M48dPkpCQlGvbzp3b8vTTQ+jX70FSUs5m225hWLtuk0Oe/v37MHvOoiLZtit8PZ9Txnh28zGF9T3WOUA5Y8ymrAtEZLlHa85I58z4Dyj/6rtgsXBu6TzSDx2gZLfeAJxbMIvU9asJaHktFT//HnPuHKc/euti+xIlCWjakjOfjnVYbZn/DYWAEpR/zfp42q5oznz2nkdR/f39GPHkEP731Iukp6dzc68uRNStxbRf5gIw4OaeHD5ylAEPPsGp02ewWCxMnj6TX6d8QbmyZRn+ylus3biFY8dO0LHvQB558G5u9fAgBH+Lhec7Xc2QGavJMIY+jWsQUa08MzYeAOC2ZrW5qW51Vu1LIurLZZTy9+O17pGZ7Z/+dR3HU87jb7HwQufGVChVAoBlu+J5a8k//Jdynsd/+psrq1fks/75+xBh0jPYOOJb2kx9DvGzsP+HFZzYFUvde6wH0eybtJSEpZsI6RhJ97/eIz3lPGuf/CLP9a57ZgLNRt2D+FlIP5fKuuET8pXrgvT0DMa99BHvTHkLi8XC/GkLOLDrX3oP7AXArMlzWL3sb67p0JopqyZx7uw53n7qncz2L308gsjrmlKxSkVmrJ3KN2MnMu+HBXTs256+9/YBYOX8VcyftsDNfOm88MxIpv88AYufH1Mn/8TOHXu49wHr14Imfv0DixetoFOXtqzZtJiUMyk88eiIXNsCfP/dT4z75E1+/2s2qampPDbkebeyDRv2ErNnf4efnx8TJ05j+/ZdPPTQQAAmTJjMggXL6NatPdHRKzlzJoXBg5/JtS3ABx+MomTJEsydOwWwHvT0+OMj3Hr98vNchg57kXlzv8fPYuHbidOIjt5VqNvMD1/P55QPTud6Qnx17j2nqWBfUf6rb7wdIVdpv37q7Qg5mvNiTvvPfcMnfr49bbbt5CFvR8jRyXMFdzBbYUizHfmv8i/tfGyhHSGSMuUlj/7el75rlJePXnF0yX3dRimllPJlekpDpZRS3uWD30X1hHasSimlvKuY7WPVjlUppZR3+eixPu7SjlUppZR3FbMRqx68pJRSShUgHbEqpZTyrmI2YtWOVSmllHfpUcFKKaVUwTEZevCSUkopVXCK2VSwHryklFJKFSAdsSqllPIu3ceqlFJKFSDdx1o0lq4J93aEXHUZPtjbEXJ1aEWpvIu8ZGXJst6OkKvDKae8HSFX59JSvR0hRxnFbOShiojuY1VKKaVUTnx2xKqUUuoyUcxGrNqxKqWU8i49Cb9SSilVgHTEqpRSShWgYnZUsB68pJRSShUgHbEqpZTyrmL2NS3tWJVSSnlXMZsK1o5VKaWUVxk9eEkppZQqQMVsxKoHLymllFIFSEesSimlvEsPXlJKKaUKkE4Fe19Q+yZ0W/kO3f8cy5WPRTmtiRx1D93/HEvnpaOp1Li240KL0GnRG9ww6ZnMhyo2qkWHOa/RefGbdFwwisqRdd3O5391K8q9+Q3l3ppIyR63O60pdeejlHtrIuVGjsdSK8IaKziccq99nnmr8OmvlOh8S2abEh37Wtf7+gRK3TbI7Xz2yrVpTv0ln1N/2XiqPdzPaU3Iy4Opv2w8EfM+olSjepmPW8qXpcYnL1B/8WdELPqM0s2u8jhPg7ZN+b+l7/PS8nF0GtLHac2tr9zHS8vH8dz8MYQ3qgOAf8kAnp75Bs/NH8MLi96l+5O3Zdb3eeEu/m/pezw3fwwPfvE0pSuUcTvfDe2vZfYf05i3egYPPn6305oX3niKeatn8PNvk2nQ+MrMx0d98H+s2DaPX1ZMcah/7LnB/PzbZH5cOonx08YRGFTN7XydOrdh/cYlbNqyjCeffthpzZh3XmbTlmX8+fc8mkY2crnt40Mf4sTpfVSpWtmtbF26tOOfrSuIjl7F8GcedVrz3nsjiY5exfp1i4mMvDrPtrfe0pNNG5dyNuUgzZs3cSuXO7p2ace2f35nR/Qqnh3u/Ll4k6/nyyYjw7Obj7n0OlaL0PzN+1h51xgWtH2Wmn2vo/wVYQ4lwR2aUq5uMPOvf5r1w7+i+Vv3OyyvP6gbJ3fHOTzW5KU7iH7vZxZ3HsG2MT/S5KU73MsnFkrd/Tin3x/Bqf97kIBr2mMJrelQ4t+kNZagME49fy8p375P6buHApCREMOpVx623l59BHP+HKkbVgHgd1VTAppdz6mXB3PqxYc4t2CGe/nsWSyEvjaEA/e/wp6uj1Axqi0lI2o4lJRr15IStUPZ3WEwsSM+JnTUI5nLQl4ezKkV69ndeQh7ez7OuT2HPIojFuG2kQ/w+X2jebPzU7TofQPBEY7vbcN2kQTWCWZUu6FMG/El/d94EIC0c6l8dOdI3u7+LG/3eI4GbZtSu1l9AHau2sroLs/wdvdnSd4fT+dH+rqVz2Kx8OJbzzDkzifpfdMd9Li5C3WvqO1Qc1PH66hZpwY9rr2NV58ZzUtjns1cNvOHuTx8+5PZ1vvNJ5O5pf1A+nW8hxWL/2DI0w+4nW/se69x683306pFV/rdFsWVV0U41HTp2o56EbWJbNKBoY+N4P0PRrnUNiwshA4dbuTgwVi3s40b9zpRve+madP2DBjQhwZX1Xeo6datAxERdWjY8EaGPPIcH380Os+226J30n/AIFau/NutXO4+lw/HvUGvqIE0btqeAQP60qBB/bwbFhFfz3c5KLSOVUSuEpGOIlIuy+PdPFlvlWb1OHUgkdMHkzGp6Rz6dTVhXVs41IR2a8G/M1YCcHTDHkpUKEOp6pUAKB1ShZCOkez7/jfHFRuDf7nSAARUKMPZhGNu5fOreyUZSXGY5HhITyN1zXICmt3gUOPf7HpS/1wMQPq+7UiZckjFKo41DZtZ13MkCYAS7Xtzdt4PYLsWpznpXj57pZtewbl/40k9lIhJTeP4nN8p3/lah5oKna7h2C/LAEjZtBO/CmXxD6yMpVxpyrZuxH/TF1nzpKaRcfK0R3lqRUaQ/G8iRw4lkZ6azobZf9K4SyuHmsZdWrHm598BOLBxN6XLl6VCYCUAzp85B4Cfvx9+/v4Y24m9d6zcQkZ6RmabSsFV3crXuHlDDu6PIebfONJS05g/czEdurVxqGnfrQ2zZswDYMv6bZSvUI5q1a3bW796E8ePnci23tOnzmT+XLpMKbfPR96yZVP27fuXAwcOkZqayk8/zqFnr84ONT16dmLq978AsHbtJipWrEBQcGCebUe//SIvvfhW5muaX61aRbJ37wH27z9Iamoq06f/SlRUF4eaqKguTJn8IwBr1mygUqUKBAdXz7Xtjh172LVrn1uZ3NW6VbNseXpHdS3SDLnx9XxOZRjPbj6mUDpWEXkC+BV4HPhHROzn9N70ZN2lg6twJvZI5v0z8UcpHVw5e01clpoQa03kyLvZ8vrUbG/Gppe/o+nLd9Bz3Yc0fflOto6e5lY+qVwNczQp837G0WSksuMfckulamQcTc68b/5LxlLZcfov4Jr2pP59sfP3Cw7D/4qrKfviR5R9bix+da7EUwHBVUmNv5gjLf4wAUGOWf2Dq5IafzjzfmrCEfyDq1KiRjBpR08QNmYY9WaPI3T040jpkh7lqRRUhWN279ux+CNUDHJ8bysGVXasSThCxWDrhxKxCM/Oe5s313/JzlVb+HfTnmzbuPa29kQv3+hWvurBgSTEXXxvE+OSqB4c6FATFBJIQqxdTXwSQSGONc488cLDLNnwKz1v7crHY8a7lS8kNJiYmPjM+3Gx8YSGBDnUhGapiY1LIDQkONe23Xt0JD4+gX+27nArF0BYaAgxh+y2G5tAaFhItmyHYi7OJMXExhMaGuxS26IUGuY8p6/w9XxOmQzPbj6msEasg4AWxpi+QDvgJREZalsmOTUSkcEisk5E1i05k/2PorUm+2NZP0XnVBPSqRlnDx/n2JYD2ZbXu6cTm16ZzNyWT7Dplcm0HOvuPkxnG89akr3G4Tn4+eMfeR2pa1dcfMzih5Qpz+nXH+fs9PGUGfKim/nykO21dPpigr8fpRvV4+iUeeyNGkrGmXMEPnxb9tr8cPq6ZC3JIQ9gMgxjejzHy9cNoVbTCEKucJzW7vLozaSnp7Nu5io34znJl7XGyfvvyijvw9Gf06l5H+b+tJA7H3C+rzvvfNkfy/5vw3m+nNqWLl2K4c8+yhujPnArU2Fm85accvoKX8/nlI5YXeJnjDkFYIw5gLVz7S4i75FLx2qMGW+MaWmMadmpTITTmjPxRykTdnFUVSakCmcTj2WvCc1Sk3CMqq2vILRLC3qs+YBrP3+M6jc2pPXHQwCo3f8mYueuBSBm9t9UaVYPd5j/kpEq1TPvW6oEYo4dcajJ+C8ZS5WLoxip7Fjj36Q16f/uxpw4ZtfmMKnrrR1C+v6d1j845Su6lfGC1IQjBNiNpvxDqpGadNSxJv4wASEXR9MBwVVJSzxKWvxhUhMOk7J5FwAnFvxB6avde80uOJZwhEp271ulkKqcSPovS81Rx5rgqhxPdKxJOXGG3aujadC2aeZjrW9tQ6OOzZk09CO38yXGJxEcevG9DQqtTnJCskNNQnwSwWF2NSHVSUo4jKvm/ryITr3au5UvLjaB8PCLI7nQsBDiE5IcamJj4x1qwkKDiU9IzLFtnbq1qFU7nD9Wz2Vr9O+EhQWz8o/ZVM/nAVYxsfGE17Dbblgw8XEJ2bLVCA/NvB8eFkJ8fKJLbYtSbIzznL7C1/M5YzIyPLr5msLqWBNEJPLCHVsn2wuoBjT2ZMX/bdpHuTrBlKkRiAT4UaPPtcQtXO9QE7dwA7VuuwmAKs0jSD2ZwtmkY/zz5jTmtnicea2Hsfrhj0laFc2axz4DICXxPwKvawBA9RsbcWq/e/9w0/fvxK96GFItGPz8CWjdjtSNfzrUpG38i4Drrfuv/Oo2wKScxhy/2KFlnQYGSNvwB/4NIgGwBIUh/v6Yk8fdynhBypZdlKwdSkB4EBLgT8VebTi5xPEgkBNL/6bSzR0AKB15Jeknz5CW/B9ph4+RGn+YEnWsBxeVu74pZ3cf9CjPwc17CawdTJXwQPwC/GgedT1bF69zqNm6eB2tb7Hu16zdrD5nT57hRPIxylUpn3m0b0DJAK684WoS91qnwxq0bUqnh/vw5UNjSD173u18/2zcTs26NQirGYJ/gD/d+3bmt4UrHWqWL1xJ79t6ANCkRSNOnTzF4aQjzlaXqWadiyPr9l1vYv/uf93Kt379FurWq02tWuEEBARwa79ezJu7xKFm/tyl3HHnzYB1v+eJEydJTEjOsW30tp3Uq92axg3b0LhhG2JjE7jphiiSEl3/sACwbt1mIiLqULt2DQICAujfvw9z5ix2qJkzZxF3DbSO1lu3bs7x4ydJSEhyqW1RWrtuU7Y8s+cs8lqerHw93+WgsL7Heg+QZv+AMSYNuEdEvvBkxSY9g40jvqXN1OcQPwv7f1jBiV2x1L2nIwD7Ji0lYekmQjpG0v2v90hPOc/aJ/Pe5LpnJtBs1D2In4X0c6msGz7BvYAZGaRM+YiyT78FFgupKxeQEfcvJdr1AuD88jmkbfkb/yatKff2JDh/jpSv3rnYvkRJ/Bu1IGXiBw6rPb9yAaUffIZyo76E9DTOTBjjXj576RnEvfo5tSeORCwW/puxmHO7D1L5zu4A/Pf9fE79to7y7VpyxW9fknH2HDHPXswV/+rn1PjgGSTAn/MHExyWuSMjPYMfX/6aRyaNwOJnYfX05STsjuGGuzoB8MeUJUT/tpFG7Zvx8opxnE85z5Th1g9GFapXZuDYRxCLBbFY2DT3L7Yt2wBAv9cewL+EP49Mtk6fH9i4m+n/l//3Nz09nTdfeJcvfhiHn5+FX6bOYe/O/fS/x9pRTZ/0C78v+ZObOl7P/L9/JCXlLC8NfT2z/ZjPR9Lq+uZUqlKJJRtn8ek7X/Lz97N58sVHqB1RE5NhiItJYOTwt916/dLT0xn+9Kv88utE/PwsfDdpBju27+aBB+8E4Ouvvmfhwt/o0rUdm7f+xpmUszzyv2dzbVtQ0tPTGTbsJebOmYLFz8LEb6cRvX0XgwYNBODLLyczf/4yunXrwPbtq0g5c5aHBj2Va1uAPr278f77owgMrMKvMyeyecs2evUaWGC5c3ouQ4e9yLy53+NnsfDtxGlER+8q1G3mh6/nc6oIpnNtB86OA/yACcaYt7IsF9vyHsAZ4D5jzAbbsieBh7Du/dkK3G+MOZvjtnx17n1GyF2+GcymSzffnlo5tKKUtyPkaHxGWW9HyNWyFPdGjEXl4KmkvIu85Gya+zMCRSHDR//eXQrSzsfmuBvPU6eG3+zRG1PunV9yzSYifsAuoDMQA6wF7jDGRNvV9MB6wG0P4BpgnDHmGhEJA1YBDY0xKSIyHZhnjPk2p+3pmZeUUkp5V+Ef2dsa2GOM2QcgIj8AfYBou5o+wCRjHW2uFpFKInJh574/UFpEUoEygOOJELK49E4QoZRSqngp/KOCwwD7M9jE2B7Ls8YYEwu8CxwE4oHjxphcd1prx6qUUuqSZv9VTdttcNYSJ82yf1vOSY2IVMY6mq0DhAJlRSTXHfk6FayUUsqrjIcHLxljxgO5nVklBrD/Yns42adzc6rpBOw3xiQDiMjPwPXA5Jw2piNWpZRS3lX4U8FrgfoiUkdESgC3A7Oy1MzC+s0VEZFrsU75xmOdAr5WRMrYjhzuCGzPbWM6YlVKKeVdhXySB2NMmog8BizE+nWbr40x20TkYdvyz4F5WI8I3oP16zb325b9LSI/Ahuwfo10I7mPjrVjVUopVfwZY+Zh7TztH/vc7mcDOL3GnjHmFeAVV7elHatSSinv8sHz/XpCO1allFLepR2rUkopVXB89QyA7tKOVSmllHcVsxGrft1GKaWUKkA6YlVKKeVdxWzE6rMd6wT/o3kXedHa3wLzLvKiOHPO2xFytPXcobyLvCjx7H95F3nR+fS0vIu8RK8eo9zh6ZmXfI3PdqxKKaUuE9qxKqWUUgWo0K8aV7T04CWllFKqAOmIVSmllFfpPlallFKqIGnHqpRSShUg3ceqlFJKqZzoiFUppZRX6T5WpZRSqiAVs6lg7ViVUkp5lY5YlVJKqYJUzEasevCSUkopVYB0xKqUUsqrjI5Yva9luxZMWP4l36z8iv6P3Oa0ZshrD/PNyq/4bNGnRFxdD4DAkGqMmfYWXy77gvFLPqfvA30y62/qeSPjl3zO/H/nUr9JfY/yXdG2KcOXjuXZ5e/TbkhvpzW9X7mXZ5e/z5Pz3yasUW0A/EsG8NjMUQyb/xZPLXqHzk/2y9auzaCejDkwlTKVy7udr0nbZryz7CPGrviEqCE3O625+9UHGbviE95c8B61r64LQJWQqoz44TXeXvohby3+gK7398ysf+zjp3lj3ljemDeW91d9zhvzxrqV7fr21/DrqqnM/ms6Dzx2t9Oa515/ktl/TWfGsklc1fiKzMdfe38Ev/0zl5+WT3ba7p4hd7A54U8qVanoVjaADh1v4q91C1izcRFPPDnIac2bb/8fazYuYvkfs2jStKFLbR8aPJC/1i1g5eo5vDxyuNv5Onduy5Ytv7Ft2+8888wjTmvGjn2Nbdt+Z+3ahURGXp1n2zffHMHmzctYu3Yh06aNp2LFCm7ny4+uXdqx7Z/f2RG9imeHP1ok23SVL2cD38+XTYaHNx9zyXWsFouFR19/lBfveYlBHf5H+z7tqFm/pkNNq/atCKsTyv03Pci45z7k8TcfAyA9PZ3xo75kUIf/MbTPk0Td2yuz7YGd/zJy8Ci2/v2PR/nEItw88n6+uu9txnZ+hsje11M9Isyh5qp2kVSrE8yYdk/y04gvufmNBwFIO5fK+Dtf54Puz/NBj+e5sm1TajaLyGxXMaQK9W9qzH8xyR7ks3DvqEGMufd1nu00lGt730Ro/XCHmqbtmxNcJ4Sn2z7KVy98zn2vDwYgIz2D71+fyHMdn+DVvs/T6Z7umW0/fmws/9fjaf6vx9OsXbCatQtW5zubxWJhxOhneOTOp7m5zZ10u7kTda+o7VBzY8frqFk3nKjr+jPymbd58e2LndCv0+Yx5I4nna47KLQ617VpTVxMQr5z2ed7a+zL3N7vIW5o3ZObb+3FFVfWc6jp1LkNdevVpnWzLjw99CXGvPdqnm1vuOkauvXsSNvro7jp2l58+uFXbucbN+51+vS5l8jIjvTv35urrnL8kNi1a3siImrTqFEbHn30eT788I082y5btpLmzTvTqlVXdu/ez/Ai+ENtsVj4cNwb9IoaSOOm7RkwoC8NGnj2gbeg+HI28P18zpgMz26+ptA6VhFpLSKtbD83FJGnRKSHp+u9MvIK4g7EkXAwgbTUNJbPWsF1Xa51qLmuy7Us+WkpADs27qBshXJUqV6Zo0n/seefvQCknE7h0J5DVAuuCsChPYeI2RfraTxqREZw+N8Ejh5KIj01nc2z/6JRl5YONQ27tGDDzysBOLhxD6XLl6F8YCUAzp+xXkfVz98PP38/jN31LaNeuod5o7/Hk+Pn6kVGkHggnuRDiaSnprF69ipadG7tUNOic2tW/bQcgL0bd1G2QlkqVa/MsaT/OPDPPgDOnj5L3J4YqgRVzbaNa3pez1+zVuU729XNGnJofwyxB+NIS01jwcwltOt6k0NN+643MXv6AgC2bthG+QrlqFbdmmHD6k2cOHbC6bqHjxzK+6M+cXg986t5iyYc2Pcv/x6IITU1lZk/z6V7z44ONd16dmTa1JkArF+3mYoVKxAUFJhr2/sfvIMP3x/P+fOpABw+7N61iFu1imTv3gPs33+Q1NRUZsyYTVRUF4eaqKguTJnyEwBr1mykUqUKBAdXz7XtkiUrSU9Pt7XZQHh4sFv58qN1q2YOeaZP/5XeUV0Lfbuu8OVs4Pv5nNIRa95E5BXgQ+AzERkNfAyUA54Xkf/zZN1Vg6uRHHdxxHY4/nBm53hBteCqJMcddqipGlzNoSYovDr1GtVjx8adnsTJpmJQZY7HHcm8fzz+CBWCKmepqcIxu5pjCUepGFwFsI54h80bzcvrv2DXqq0c2mT9INCwUwtOJB4lfvtBj/JVDq7K0fiL2z4af4TKtm1frKnCEbvX72jCESoHOdZUCw+kVqM67N20y+HxK1s35PjhYyQeiM93tuohgSTEJWbeT4pPJigkMFtNol1NYnwy1UNyv+h82y43khSfzK7oPfnOZC8kNIjY2Isj3rjYREJCghxrQoKIs6+JSyA4NCjXtvXq1eba61qyYOl0fp37HZHNG7uVLzQ0mJiYuMz7sbHxhIYGOamJt6tJIDQ02KW2APfeO4CFC5e7lS8/QsOCOWSXJyY2ntDQwu/QXeHL2cD3810OCuvgpX5AJFASSADCjTEnROQd4G/gDWeNRGQwMBigYaVGhJer4aQme7tsgxAnRfYjlVJlSvHSFy/y+atfcObUGVeej+ucBnQ9n8kwfNDjBUpVKMO9XzxF0BXhHD2YRIfH+jLh7jc9j+fswSz5JI/Xr2SZUgz9/Fkmj/yalFMpDnXX9b7RrdGqdbtOomV9c/PIllWp0iUZNOxeHh4wzK1MjpvOe9s51eTW1s/fj0qVKtCtY3+aNW/MhG8/oGWTjtnqCyZf9nZ55bvgueceIy0tjalTf8l3tvxyJY+3+HI28P18zvjidK4nCmsqOM0Yk26MOQPsNcacADDGpJDLwN0YM94Y09IY09JZpwrW0Wdg6MURSrWQahxJPOKkpppDzVFbjZ+/Hy+Nf5FlM3/jjwV/uv0Ec3I84SgVQy+OoCuGVOVE0n9Zao5Qya6mUnAVTiQ61pw9cYa9q7dzZdumVK0VRJXwQIbNf5vnV31IxeAqDJ3zJuUC838QztGEI1QJubjtKiFV+S/RcerxaPwRqtq9flWCq3LM9hz8/P0Y+vlw/pz5O+sW/O3QzuJnoVW3a/l79h/5zgWQGJdMsN0oqXpIIEkJhx1qkuKSCLKrCQoJJDlLjb3wWmGE1Qxl+rJJzFv7E0Ehgfyw6BuqBlbJsU1O4mITCAu7+Mk/NCyIhIQkx5q4BELta0KDSYxPyrVtfFwic2YvBmDjhq1kZGRQtarjLIcrYmPjCQ8PzbwfFhZCfHxSlpoEwsND7GqCiY9PzLPtwIH96N69I/fd90S+c7kjNiaeGnZ5wsNCiI9PzKVF0fHlbOD7+ZzRfayuOS8iZWw/t7jwoIhUxMMZ8Z2bdxFWO5SgGkH4B/jTrndbVi92PFBm9eLVdLrV+on/qmZXcebkaY7aOoan3hnGod2H+PnLwvnUHbN5L9VqB1M5PBC/AD+aRl1H9OL1DjXRizfQ/BbrvsOazSJIOXmGk8nHKFulPKUqWF82/5IB1L/hapL3xpGw8xAjWz7MWzc+wVs3PsHxhKOM6zWCU8nH851v3+Y9BNcJIbBGdfwC/Lk26kY2LF7rULNhyVpuvLUdAPWaXcGZk2cyO9aHxjxK3J5Y5k+YnW3dV9/YlLi9sRxNOJJtmSu2bdpOzbrhhNUMwT/An259O7FikePod/miVUT17wZA4+aNOHXyNIeTct7enh37aH91T3q0upUerW4lMT6Z27vcz5Hk/O/H3LhhK3Xq1aZmrXACAgLoe0tPFsxb5lCzcN4yBtzRF4AWLZty4sRJEhOTc207b+4SbmpjPU6gbr3alAgI4MgRxw9arli3bjMREXWoXbsGAQEB3HZbFHPmLHaomTNnMXfddSsArVs34/jxkyQkJOXatnPntjz99BD69XuQlJSz+c7ljrXrNjnk6d+/D7PnLCqSbefFl7OB7+dzprh1rIU1FdzGGHMOwBiHpx0A3OvJijPSM/jkpc94c/LrWPz8WDRtEf/uOkjPgdbjouZOnseaZWtp1aEV36z6mnMpZxn79PsANGrViE79OrFv+34+XfAxAN+8PZG1v63l+m7X88jIIVSsUpFR377G3uh9/N/AF93K9+vL3/LQpBew+FlYO305ibtjuPauTgCsnrKEHb9t5Kr2kTy34gPOp5xjxvAvAChfvTIDxg7BYrEgFmHL3NVsX7bRk5fLab6JL0/g2UkvY/GzsGL6UmJ3H6LDXdYDVZZNWcSmZetp2r45Y3//lPMp5xj/jPW1uqLlVdx0azsObj+Q+XWa6e9MYfNvGwC4NuoG/pq10u1s6enpjB7xHp9NfR+Lnx8zp85h78793HZPXwBmTJrJyiV/cmPH65izegZnU87y8rCLexXe+uw1Wl7fjEpVKrFow0w+e2cCv0yd43YeZ/leeGYk03+egMXPj6mTf2Lnjj3c+8DtAEz8+gcWL1pBpy5tWbNpMSlnUnji0RG5tgX4/rufGPfJm/z+12xSU1N5bMjzbucbNuwlZs/+Dj8/PyZOnMb27bt46KGBAEyYMJkFC5bRrVt7oqNXcuZMCoMHP5NrW4APPhhFyZIlmDt3CmA96Onxx0e4/0K6+FyGDnuReXO/x89i4duJ04iO3pV3wyLgy9nA9/NdDiSvuXcRGQO8DqQAC4CmwDBjjPMvCxaQrjW6+/ROgaZ+lbwdIVdx1s81PmnrOfe/8lIU4lLcG3EXlZPnUvIu8pK0jHRvR1CFJO18rNNDNApCYrt2Hv29D1q+vNCyucOVqeAutn2kvYAY4ArA/W+wK6WUUnYux6ngANv/ewBTjTFHnR11ppRSSrnDZBSvPsWVjnW2iOzAOhX8iIgEAkVzBINSSqlizxdHnZ7IcyrYGPM8cB3Q0hiTCpwG+uTeSimllLo85ThiFZFbnDxmf/fnwgiklFLq8mLM5TMVHJXLMoN2rEoppQpAcZsKzrFjNcbcX5RBlFJKXZ4ux4OXEJGeQCOg1IXHjDEjCyuUUkopdanKs2MVkc+BMkB7YALWE+yvKeRcSimlLhM+fo2AfHPlBBHXG2PuAf4zxryG9Qhh52fIV0oppfLJZIhHN1/jylTwhfOnnRGRUOAIUKfwIimllLqc+GLn6AlXOtY5IlIJeAfYgPWI4C8LM5RSSqnLR3GbCs6zYzXGjLL9+JOIzAFKGWPyf70ypZRS6jLgysFLAcAQoI3toeUi8oXtLExKKaWURy7HqeDPsJ6I/1Pb/bttjz1UWKEANp88UJir99i+gDJ5F3nR+Qzf/dxz8rzvXvYM4Eyq715yDyCjuH2bXl32LqczL13QyhjT1O7+MhHZXFiBlFJKXV6K22dFVzrWdBGpZ4zZCyAidQG9mrFSSqkCkXEZjliHA7+JyD5AgFqAnu5QKaWUcsKVo4KXikh94EqsHesOY4xv74RSSil1ybjs9rE6uXxcPRE5Dmw1xiQVTiyllFKXi+J2VLArpzR8EOs5gu8E7sJ6coingD9E5O5CzKaUUuoyYIxnN1eISDcR2Skie0TkeSfLRUQ+tC3fIiLN7ZZVEpEfRWSHiGwXkety25Yr+1gzgAbGmETbBoKwft3mGuB34DvXnpZSSilV9ETED/gE6AzEAGtFZJYxJtqurDtQ33a7hov9HMA4YIExpp+IlMB6YZocudKx1r7QqdokAVcYY46KiO9+WVIppdQloQimglsDe4wx+wBE5AegD2DfsfYBJhljDLDaNkoNAU5jPUHSfQDGmPPA+dw25krHutJ2KsMZtvu3Ar+LSFngmItPSimllHLK06/biMhgYLDdQ+ONMePt7ocBh+zux3BxNJpbTRiQBiQD34hIU2A9MNQYczqnPK50rI8CtwA3Yj0qeBLwk61Xb+9Ce6WUUipHnh4VbOtEx+dS4mwDWffO5lTjDzQHHjfG/C0i44DngZdy2pgrX7cxwE+2m1JKKVWgiuDqNjE4Xkc8HIhzscYAMcaYv22P/4i1Y82RK0cFK6WUUpeytUB9EaljO/jodmBWlppZwD22o4OvBY4bY+KNMQnAIRG50lbXEcd9s9lckh1r+443smrtPP7asIDHhjm/FsDrb4/grw0LWPbHTBo3bZhn2y++fo8lK39mycqfWbtlCUtW/ux2vps6XMfCv35iyZqZDH7iPqc1L705nCVrZjJ7+Q80bHJV5uOjx73M6ujFzP19mkN9t96dmLdyOjsT13J10wZuZwNo2+EGlv09ixVr5zBk6ANOa14d/Rwr1s5hwe8/cnWTBnm2bdDoCn5Z8B0LV/7EV1M+olz5sm5l69jpJv7esJB1m5Yw9KnBTmtGj3mJdZuWsPKv2TSxe29zavvcC4/zz86VrPhjFiv+mEWnLm3dygbQuXNbtmz5jW3bfueZZx5xWjN27Gts2/Y7a9cuJDLy6jzbvvnmCDZvXsbatQuZNm08FStWcDtfly7t+GfrCqKjVzH8mUed1rz33kiio1exft1ih3w5tb31lp5s2riUsykHad68idvZ8qtrl3Zs++d3dkSv4tnhzp+Lt/hyNvD9fFllGPHolhdjTBrwGLAQ2A5MN8ZsE5GHReRhW9k8YB+wB+vXSu3/gT8OTBGRLUAk8GZu27vkOlaLxcLod1/izn6DaXNNFDf368kVV9ZzqOnYuQ1169biuubdeGboK7w99uU82/7vgafodNMtdLrpFubOWsS82UvczvfqW8/z0O1P0P2GfvS6uSsRV9RxqGnb6QZq1a1Bp9Z9eenp1xk55oXMZT//MJsHbn8823p3b9/Do/cNZ+1fG9zKZZ9v1JgR3Nt/CJ2u70vvW7pT/8q6DjXtO91Inbq1aNuqFy88NZLX330xz7Zvj3uVt0Z+QNebbmXh3KX877H73Mo2Zuyr9L/lIa5r1Z1b+/XiyisjHGo6dWlLvXq1aBnZiSefeImx7490qe3nn3xL2xt60/aG3ixZtCLf2S5sY9y41+nT514iIzvSv39vrrqqvkNN167tiYioTaNGbXj00ef58MM38my7bNlKmjfvTKtWXdm9ez/D3fxDeGEbUb3vpmnT9gwY0IcGWfJ169aBiIg6NGx4I0MeeY6PPxqdZ9tt0TvpP2AQK1f+nW2bhcVisfDhuDfoFTWQxk3bM2BAXxo0qJ93wyLgy9nA9/M5Y4x4dHNtG2aeMeYKY0w9Y8wbtsc+N8Z8bvvZGGMetS1vbIxZZ9d2kzGmpTGmiTGmrzHmv9y2lWfHKiL1bV+MjRaRfRduLj2TQtCsRRP27zvIwX9jSE1NZeZP8+jao4NDTdceHZj+w68AbFi3mQoVK1A9KNCltgBRfbvxy49z3crXpHkj/j1wiEP/xpKamsbcmYvo2L2dQ02nbm2ZOc26/k3r/6F8xXIEBlUDYO1fGzn+X/bryO/dfYD9e/91K5O9yOZXc2D/wcx8s39ZQOfujsegde7enp+mzQZg47otVKhYnupB1XJtWzeiNn//uR6Alcv/ontUp3xna9GyCfv3/cu/Bw6RmprKzz/NpXuvjg41PXp24oepMwFYt3YTFSqVJygo0KW2nmrVKpK9ew+wf/9BUlNTmTFjNlFRXRxqoqK6MGWK9XCENWs2UqlSBYKDq+fadsmSlaSnp9vabCA8PLhA8k2f/qvzfJN/zNxWTvns2+7YsYddu4r2n3zrVs2y5ekd1bVIM+TEl7OB7+dzpihOEFGUXBmxfoP1i7JpWI8CnoQbJ4UQkUn5beNMSEh14mITMu/HxyUSEhKUpSYoS00CISHVXWp77fUtOZx8hP373OvEgkOqEx978Wu/CXGJBIUEOtQEhVQnPs6+JomgYMeawhIcEuSQLz4ukeCQ6llqHF8n63OonmvbXdv30Nn2AaJnny6EhOW/cwgJCSY2Nj7zflxsQvb3NjQoe01oUJ5tHxo8kJV/zeajT0dTsZJ7U62hocHExFw83iE2Np7Q0CAnNfF2NQmEhga71Bbg3nsHsHDhcrfyhYWGEHMoy7bDQrLlO2SXIyY2ntDQYJfaFqXQMOc5fYEvZwPfz+dMYU8FFzVXOtbSxpilgBhj/jXGvApkH+bZEZFZWW6zgVsu3PcksEj2F9FkOWraaY0xLrW9+dae/PKTe6NV28adbtuVfEXCye+gy/lyaTv8iZe558HbmbP0B8qWK0vq+fyfO8TJZl3Ollvbryd8T/MmHWlzfW8SEpJ4/c0Xshe7lM+V99Z5DlfaPvfcY6SlpTF16i9u5nO+bcea/L9+3uDVfyN58OVs4Pv5LgeufI/1rIhYgN0i8hgQC1TPo0041qOmJmA9VFmAlsDY3BrZf8m3fOlgypSolK0mLi6RULvRUEhoEAnxSVlqErLUBJOQkExAiRK5tvXz86NHVCe6tOuXx9PLWUJcIiFhF0ciwaFBJCUczl4Tal9TnaREx5rCkjVfSGgQiQnJDjXxWV5j63NIpkRAQI5t9+4+wN39rMcA1KlXiw5dbsp3tri4BMLsRkmhYcEkJGR5b2Od1MQnUaJEQI5tk5OPZD4+6dvp/DAjt6+75Sw2Np7w8NDM+2FhIcRn+d2LjU0gPDzEriaY+PhESpQIyLXtwIH96N69I9273+FWNrCOTMJrZNl2XIJDTWxsPDXscoSHhVzMl0fbohQb4zynL/DlbOD7+Zwpble3cWXEOgzreRGfAFoAA4F782jTEuvZKf4P6yHLy4EUY8wKY0yOR44YY8bbdhC3dNapAmzasJW69WpRs1YYAQEB9L21B4vm/+ZQs2j+b/S/vQ8AzVs25eSJkyQlJufZtk2769ize7/DNG1+bd0YTe06NQivGUpAgD89+3Zh6QLHp7x04e/0HdATgMgWV3PyxCmSi6hj3bxxG3Xq1qJGzTACAvyJurkbi+cvd6hZsmA5tw6IAqBZyya21+9wrm2rVqsCWD8tP/70YKZ8M4P82rB+K3Xr1aZmrXACAgK45daeLJi71KFm/ryl3H5HXwBatorkxPGTJCYm59o2KOjiNHuvqM5sj96V72wA69ZtJiKiDrVr1yAgIIDbbotizpzFDjVz5izmrrtuBaB162YcP36ShISkXNt27tyWp58eQr9+D5KSctatbM7y9e/fx0m+Rdw1sJ8tX/Mc8zlrW5TWrtuULc/sOYu8lseeL2cD38/nTHGbCnblBBFrAUTEGGNcusC5MSYDeF9EZtj+n+jKtlyRnp7OiOGvM/WnCfj5WZg6+Wd27tjDPfcPAGDSN9NYsmgFHTu3YfXGhaScOcuwR0fk2vaCvrf2cPugJft8r70whq+nf4yfxY8fp/7Knp37uONe6x/bqRN/YvniVbTtdANL1/xKSspZnn/i1cz273/xBq1vaEnlKpVYuXke48Z8wY9TfqVzj/a8PHo4VapW5svvx7F92y4e6P+YW/lefu5NJs34DD8/P6Z/P5PdO/dy1323ATDl2xksW7yS9p1v4vd1c0lJOcszj7+Ua1uA3rd0554Hre/BgrlLmf79TLeyPfvMa/w482v8LH5M+e5HduzYw30PWEdx3349lcULl9O5S1vWb15KSkoKjw15Pte2AK+OepbGTRpgjOHgwVieeiLHE6bkmW/YsJeYPfs7/Pz8mDhxGtu37+KhhwYCMGHCZBYsWEa3bu2Jjl7JmTMpDB78TK5tAT74YBQlS5Zg7twpgPWgp8cfH+F2vrlzpmDxszDx22lEb9/FoEHWfF9+OZn585fRrVsHtm9fRcqZszw06Klc2wL06d2N998fRWBgFX6dOZHNW7bRq9dAt17D/DyXocNeZN7c7/GzWPh24jSi3fxAVNB8ORv4fj5nittEteQ19267PM5XQDljTE3buRL/Z4xx/iU+5+voCdxgjHH5r0VwpQY+/VqXD8j14gZedz7Dd6+PcPJ8ircj5OpM6jlvR8hVhsnwdoQcZei+vGIr7XxsoQ0NV4fe4tEvzrVxP/vUsNWVUeQHQFdsZ6kwxmwWkTb52YgxZi7g2VBQKaVUseSL07mecGl61hhzKMuRZumFE0cppdTlprgdvORKx3pIRK4HjO0ci09gPSWUUkop5THf3bnhHlc61oexXj09DOvZ/xdhvZScUkop5THj9Iptly5Xjgo+DNxVBFmUUkqpS54r5woeIyIVRCRARJaKyGERKdxj7ZVSSl02MoxnN1/jygkiuhhjTgC9sE4FXwEML9RUSimlLhsZiEc3X+PKPtYA2/97AFONMUednYtSKaWUcsdlt48VmC0iO4AU4BERCQTcP++aUkopZae4HRWc51SwMeZ54DqgpTEmFTgN9CnsYEoppdSlKMcRq4jc4uQx+7s/F0YgpZRSl5fLaSo4KpdlBu1YlVJKFYDiNhWcY8fq6pVslFJKKU8Ut47Vle+xBonIVyIy33a/oYg8WPjRlFJKqUuPK0cFfwt8g/Wi5QC7gGlYLyVXaI6dPV2Yq/eYr1/6LD3Ddz8D+vJlz0AvfaZUUStu+1hdOUFENWPMdGyjdWNMGnp1G6WUUgUkQzy7+RpXRqynRaQqtou8i8i1wPFCTaWUUuqy4YtnT/KEKx3rU1gvcl5PRP4AAoF+hZpKKaXUZaO47Xxx5eo2G0SkLXAlIMBO24kilFJKKZWFKyNWgNZAbVt9cxHBGDOp0FIppZS6bPj24Yz5l2fHKiLfAfWATVw8aMkA2rEqpZTyWEYxu7CLKyPWlkBDY/Q7CEoppQpecetcXOlY/wGCgfhCzqKUUuoydNlMBYvIbKwfJMoD0SKyBjh3Ybkxpnfhx1NKKaUuLbmNWN8tshRKKaUuW754kgdP5NaxxgJBxpg/7B8UkTa2ZUoppZTHitsJInI7peEHwEknj5+xLVNKKaU8Zjy8+ZrcOtbaxpgtWR80xqzD+p1WpZRSSmWRW8daKpdlpQs6SH507tyWLVt+Y9u233nmmUec1owd+xrbtv3O2rULiYy8Os+2b745gs2bl7F27UKmTRtPxYoVPMq3cdNStmxdztNPD3Fa8867r7Bl63L+/ns+kZGN8mz70stP8fff8/lr9TxmzZpEcEh1j/L56uvXpUs7/tm6gujoVQx/5lGnNe+9N5Lo6FWsX7fYIVtObW+9pSebNi7lbMpBmjdv4lYud3Tt0o5t//zOjuhVPDvc+XPxJs3nPl/OBr6fL6vidhL+3DrWtSIyKOuDtmuxri+8SLmzWCyMG/c6ffrcS2RkR/r3781VV9V3qOnatT0REbVp1KgNjz76PB9++EaebZctW0nz5p1p1aoru3fvZ7ibv4wWi4X33h/JzX3vo0Xzztx2W2+uuioiS752RETUoUnjdjz22Ag+GPdGnm0/eH8811zTneuu7cH8+ct44YWhbufz1dfvwvqjet9N06btGTCgDw2yZOvWrQMREXVo2PBGhjzyHB9/NDrPttuid9J/wCBWrvw735ncZbFY+HDcG/SKGkjjpu0ZMKAvDRrUz7thEdF87vPlbOD7+ZzJ8PDma3LrWIcB94vIchEZa7utAB4C8vVXXURuFJGnRKSLB1kBaNUqkr17D7B//0FSU1OZMWM2UVGOq42K6sKUKT8BsGbNRipVqkBwcPVc2y5ZspL09HRbmw2Ehwe7la9ly0j27f2XAwcOkZqayo8/zqZXL8d8PXt14fspPwOwdu1GKlYsT3BwYK5tT548ldm+bNkyuHu+Dl9+/bKuf/r0X51nm/xj5nZyymbfdseOPezatS/feTzRulWzbHl6R3Ut0gy50Xzu8+Vs4Pv5nLls9rEaYxKNMdcDrwEHbLfXjDHXGWMSclup7TuvF34eBHyM9fuwr4jI854EDg0NJiYmLvN+bGw8oaFBTmri7WoSCA0NdqktwL33DmDhwuVu5gsiJtZxGyHZ8gU55IiLTSAkNDjPtq+8+gw7d/3JgAF9eH3Ue27m893XLyw0hJhDWbYbFpIt2yG7DDGx8YSGBrvUtiiFhjnP6Ss0n/t8ORv4fj5nLqepYACMMb8ZYz6y3Za5uN4Au58HA52NMa8BXYC7cmokIoNFZJ2IrEtPP5VTjbOMWWqytzPGuNT2ueceIy0tjalTf8kpZq5cy+e8Jq+2r736LldecT3Tpv3K/x6+txDzZW9XFK9fTtt1rMnptcu7bVFy5bXyJs3nPl/OBr6f73Lg6tVt8ssiIpWxdtxijEkGMMacFpG0nBoZY8YD4wFKlarp9DchNjae8PDQzPthYSHExydlqUkgPDzEriaY+PhESpQIyLXtwIH96N69I92735Gf55p922GO20hwmu9iTWhYMAnxiZQIKJFnW4Bp037l55+/5o3X33cjn+++fjGx8YTXyLLdOMfJkdjYeGrYZQgPC7mYLY+2RSk2xnlOX6H53OfL2cD38znji/tJPZHniNVNFbEe4LQOqCIiwQAiUg48+ybwunWbiYioQ+3aNQgICOC226KYM2exQ82cOYu5665bAWjduhnHj58kISEp17adO7fl6aeH0K/fg6SknHU73/r1m6kXUZtatcIJCAigX78o5s51zDd37mLuvOsWAFq1asaJEydJSEjOtW29erUz2/fs2Ymdu/a6lc+XX7+s6+/fv4+TbIu4a2A/W7bmOWZz1rYorV23KVue2XMWeS1PVprPfb6cDXw/nzPF7eClQhmxGmNq57AoA7jZk3Wnp6czbNhLzJ79HX5+fkycOI3t23fx0EMDAZgwYTILFiyjW7f2REev5MyZFAYPfibXtgAffDCKkiVLMHfuFMB60M7jj49wK9/TT73Mr7Mm4efnx6RJ09m+fTcPPmSdAf9qwhQWLviNrl3bs/WfFaScSeF/Dw/PtS3AyFHPcUX9umRkZHDwUCxPPPF/xe71u7D+uXOmYPGzMPHbaURv38WgQdZsX345mfnzl9GtWwe2b19FypmzPDToqVzbAvTp3Y333x9FYGAVfp05kc1bttGr10C3Xr/8PJehw15k3tzv8bNY+HbiNKKjdxXqNvND87nPl7OB7+dzxvjgflJPiK/Ovec0Fewr/CyFNdgvGOkZvvg5zirD+G42gAwf/TehlDelnY8ttO7v0xoDPfpH98ihyT7VNft276CUUkpdYgrr4CWllFLKJb49h5V/2rEqpZTyquK280U7VqWUUl7liyd58ITuY1VKKVXsiUg3EdkpInucnQFQrD60Ld8iIs2zLPcTkY0iMievbWnHqpRSyqsK+3usIuIHfAJ0BxoCd4hIwyxl3YH6tttg4LMsy4cC2115PtqxKqWU8qoiOEFEa2CPMWafMeY88APQJ0tNH2CSsVoNVBKREAARCQd6AhNc2Zh2rEoppbzK06vb2J9n3nYbnGUTYcAhu/sxtsdcrfkAeBYX+3E9eEkppZRXeXrwkv155nPgbAtZD0Z2WiMivYAkY8x6EWnnSh4dsSqllCruYoAadvfDgTgXa24AeovIAaxTyB1EZHJuG9OOVSmllFcVwT7WtUB9EakjIiWA24FZWWpmAffYjg6+FjhujIk3xrxgjAm3nQP/dmCZMSbXk43rVLBSSimvKuwTRBhj0kTkMWAh4Ad8bYzZJiIP25Z/DswDegB7gDPA/e5uTztWpZRSXpVRBOdeMsbMw9p52j/2ud3PBng0j3UsB5bntS2f7VjTMtK9HSFXvn6FFl+mV49RShVnPtuxKqWUujwUt2GKdqxKKaW8qrjNYWnHqpRSyqt0xKqUUkoVIL26jVJKKaVypCNWpZRSXlUUX7cpStqxKqWU8qri1a1qx6qUUsrL9OAlpZRSqgAVt6lgPXhJKaWUKkA6YlVKKeVVxWu8qh2rUkopL9N9rEoppVQB0n2sl5iuXdqx7Z/f2RG9imeH53pFoALTpUs7/tm6gujoVQx/xvk233tvJNHRq1i/bjGRkVfn2fbWW3qyaeNSzqYcpHnzJsU6X3544/11lS9nA83nCV/OBr6fr7gr1h2rxWLhw3Fv0CtqII2btmfAgL40aFC/0Lc5btzrRPW+m6ZN2zNgQB8aXOW4zW7dOhARUYeGDW9kyCPP8fFHo/Nsuy16J/0HDGLlyr+Ldb78Ppeifn9d5cvZQPN5wpezge/nc8Z4ePM1hdKxisg1IlLB9nNpEXlNRGaLyNsiUrEwtulM61bN2Lv3APv3HyQ1NZXp03+ld1TXQt1mq1aR2bYZFdXFoSYqqgtTJv8IwJo1G6hUqQLBwdVzbbtjxx527dpX7PPlhzfeX1f5cjbQfJ7w5Wzg+/mcyfDw5msKa8T6NXDG9vM4oCLwtu2xbwppm9mEhgVzKCYu835MbDyhocGFus2w0BBiDsVn3o+NTSA0LMQxV6jzXK60Le758sMb76+rfDkbaD5P+HI28P18zhgP//M1hXXwksUYk2b7uaUxprnt51UisimnRiIyGBgMIH4VsVjKehRCJPslE4wp3DfBySazbTOnXK609ZSv58sPb7y/rvLlbKD5POHL2cD38znji6NOTxTWiPUfEbnf9vNmEWkJICJXAKk5NTLGjDfGtDTGtPS0UwWIjYmnRnho5v3wsBDi4xM9Xm9uYmLjCa9xcRQXFhZMfFyCY65Y57lcaVvc8+WHN95fV/lyNtB8nvDlbOD7+S4HhdWxPgS0FZG9QEPgLxHZB3xpW1Yk1q7bREREHWrXrkFAQAD9+/dh9pxFhbrNdes2Z9vmnDmLHWrmzFnEXQP7AdC6dXOOHz9JQkKSS22Le7788Mb76ypfzgaazxO+nA18P58zGRiPbr6mUKaCjTHHgftEpDxQ17adGGNMkX5sSk9PZ+iwF5k393v8LBa+nTiN6Ohdhb7NYcNeYu6cKVj8LEz8dhrR23cxaNBAAL78cjLz5y+jW7cObN++ipQzZ3lo0FO5tgXo07sb778/isDAKvw6cyKbt2yjV6+BxS5ffp9LUb+/rvLlbKD5POHL2cD38znje12jZ8RX5979S4T5ZjAbi7MdjsolGT76O6eUylna+dhC+6P3v9q3efRH4YsDM3zqD7KeeUkppZRX6cFLSimllMqRjliVUkp5lS9+F9UT2rEqpZTyquI2Fawdq1JKKa8qbiNW3ceqlFJKFSAdsSqllPIqnQpWSimlClBx+267dqxKKaW8qnh1q9qxKqWU8jJfPN+vJ/TgJaWUUqoA6YhVKaWUVxW3r9tox6qUUsqr9KhgBRS/o9iUUspbits+Vu1YlVJKeVVxmwrWg5eUUkqpAqQjVqWUUl6l+1iVUkqpAmSK2TEr2rEqpZTyquJ28JLuY1VKKaUKkI5YlVJKeZXuY1VKKaUKUHH7uo12rEoppbyquO1j1Y5VKaWUVxW3o4L14CWllFKqAGnHqpRSyqsyPLy5QkS6ichOEdkjIs87WS4i8qFt+RYRaW57vIaI/CYi20Vkm4gMzWtbOhWslFLKqwr74CUR8QM+AToDMcBaEZlljIm2K+sO1LfdrgE+s/0/DXjaGLNBRMoD60VkcZa2Dor9iLVrl3Zs++d3dkSv4tnhj3o7TjaazzO+nM+Xs4Hm84QvZwPfz5dVBsajmwtaA3uMMfuMMeeBH4A+WWr6AJOM1WqgkoiEGGPijTEbAIwxJ4HtQFhuGyvWHavFYuHDcW/QK2ogjZu2Z8CAvjRoUN/bsTJpPs/4cj5fzgaazxO+nA18P58zxhiPbi4IAw7Z3Y8he+eYZ42I1AaaAX/ntrFC6VhF5AkRqVEY686P1q2asXfvAfbvP0hqairTp/9K76iu3o6VSfN5xpfz+XI20Hye8OVs4Pv5CoOIDBaRdXa3wVlLnDTL2iPnWiMi5YCfgGHGmBO55SmsEeso4G8RWSkij4hIYCFtJ1ehYcEcionLvB8TG09oaLA3ojil+Tzjy/l8ORtoPk/4cjbw/XzOeDoVbIwZb4xpaXcbn2UTMYD9YC8ciHO1RkQCsHaqU4wxP+f1fAqrY91nCzUKaAFEi8gCEbnXtvPXKftPHRkZpz0OIZL9A4gvfV9K83nGl/P5cjbQfJ7w5Wzg+/mcMR7+54K1QH0RqSMiJYDbgVlZamYB99iODr4WOG6MiRfrC/oVsN0Y854rGyuso4KNMSYDWAQssvX23YE7gHcBpyNY26eM8QD+JcI8/k2IjYmnRnho5v3wsBDi4xM9XW2B0Xye8eV8vpwNNJ8nfDkb+H4+ZzIKueM3xqSJyGPAQsAP+NoYs01EHrYt/xyYB/QA9gBngPttzW8A7ga2isgm22MjjDHzctpeYY1YHT4yGWNSjTGzjDF3ADULaZvZrF23iYiIOtSuXYOAgAD69+/D7DmLimrzedJ8nvHlfL6cDTSfJ3w5G/h+Pm8xxswzxlxhjKlnjHnD9tjntk4V29HAj9qWNzbGrLM9vsoYI8aYJsaYSNstx04VCm/EOiCnBcaYlELaZjbp6ekMHfYi8+Z+j5/FwrcTpxEdvauoNp8nzecZX87ny9lA83nCl7OB7+dzxrcnqvNPfHXuvSCmgpVSShWMtPOxzo6aLRA3hHXw6O/9H7HLCi2bO/TMS0oppbxKr26jlFJKFSBfnTl1V7E+85JSSilV1HTEqpRSyqt0KlgppZQqQIV9dZuiph2rUkoprypu+1i1Y1VKKeVVxW0qWA9eUkoppQqQjliVUkp5lU4FK6WUUgWouE0Fa8eqlFLKq4rbUcG6j1UppZQqQDpiVUop5VWFfT3WoqYdq1JKKa8qblPB2rEqpZTyKh2xKqWUUgWouI1Y9eAlpZRSqgDpiFUppZRX6VSwUkopVYCK21SwdqxKKaW8SkesSimlVAEqbiNWPXhJKaWUKkA6YlVKKeVVxmR4O0KB0o5VKaWUV+nVbZRSSqkCVNyux6r7WJVSSqkCpCNWpZRSXlXcpoKL/Yi1a5d2bPvnd3ZEr+LZ4Y96O042ms8zvpzPl7OB5vOEL2cD38+XlTHGo5uvEV8MBeBfIszjYBaLhe3bVtKtxx3ExMSz+q95DLz7EbZv310QET2m+Tzjy/l8ORtovuKaDQovX9r5WCmgiNmEVGro0d/7+GPRhZbNHcV6xNq6VTP27j3A/v0HSU1NZfr0X+kd1dXbsTJpPs/4cj5fzgaazxO+nA18P58zxsP/fE2hdKwiUkJE7hGRTrb7d4rIxyLyqIgEFMY2nQkNC+ZQTFzm/ZjYeEJDg4tq83nSfJ7x5Xy+nA00nyd8ORv4fr7LQWEdvPSNbd1lROReoBzwM9ARaA3cW0jbdSCSfXbAl6a+NZ9nfDmfL2cDzecJX84Gvp/PGV/Pl1+F1bE2NsY0ERF/IBYINcaki8hkYHNOjURkMDAYQPwqYrGU9ShEbEw8NcJDM++Hh4UQH5/o0ToLkubzjC/n8+VsoPk84cvZwPfzOaNHBbu4XhEpAZQHygAVbY+XBHKcCjbGjDfGtDTGtPS0UwVYu24TERF1qF27BgEBAfTv34fZcxZ5vN6Covk848v5fDkbaD5P+HI28P18zhS3o4ILa8T6FbAD8AP+D5ghIvuAa4EfCmmb2aSnpzN02IvMm/s9fhYL306cRnT0rqLafJ40n2d8OZ8vZwPN5wlfzga+n+9yUGhftxGRUABjTJyIVAI6AQeNMWtcaV8QX7dRSilVMArz6zZVytf36O/90ZO7ferrNoV25iVjTJzdz8eAHwtrW0oppS5dvjid6wk9paFSSimvKm4HL2nHqpRSyquK24i1WJ95SSmllCpqOmJVSinlVRnFbMSqHatSSimv8sXz/XpCO1allFJepSNWpZRSqgDpwUtKKaWUypGOWJVSSnlVcdvHqiNWpZRSXlUUJ+EXkW4islNE9ojI806Wi4h8aFu+RUSau9o2K+1YlVJKeVVhd6wi4gd8AnQHGgJ3iEjDLGXdgfq222Dgs3y0daAdq1JKqeKuNbDHGLPPGHMe61XW+mSp6QNMMlargUoiEuJiWwfasSqllPIq4+HNBWHAIbv7MbbHXKlxpa0Dnz14qaAvUSQig40x4wtynQXJl/P5cjbQfJ7w5Wyg+Tzhy9my8vTvvYgMxjp9e8H4LM/d2fqz9sk51bjS1sHlNGIdnHeJV/lyPl/OBprPE76cDTSfJ3w5W4Eyxow3xrS0u2X9QBED1LC7Hw7EuVjjSlsHl1PHqpRS6vK0FqgvInVEpARwOzArS80s4B7b0cHXAseNMfEutnXgs1PBSimlVEEwxqSJyGPAQsAP+NoYs01EHrYt/xyYB/QA9gBngPtza5vb9i6njtXX9zX4cj5fzgaazxO+nA00nyd8OVuRM8bMw9p52j/2ud3PBnjU1ba5keJ2jkallFLKm3Qfq1JKKVWAin3Hmt9TURU1EflaRJJE5B9vZ8lKRGqIyG8isl1EtonIUG9nsicipURkjYhstuV7zduZshIRPxHZKCJzvJ0lKxE5ICJbRWSTiKzzdp6sRKSSiPwoIjtsv4PXeTsTgIhcaXvNLtxOiMgwb+eyJyJP2v5N/CMiU0WklLczXU6K9VSw7VRUu4DOWA+ZXgvcYYyJ9mowOyLSBjiF9YwfV3s7jz3bWUdCjDEbRKQ8sB7o6yuvn4gIUNYYc0pEAoBVwFDbWVN8gog8BbQEKhhjenk7jz0ROQC0NMYc9nYWZ0RkIrDSGDPBdjRmGWPMMS/HcmD7GxMLXGOM+dfbeQBEJAzrv4WGxpgUEZkOzDPGfOvdZJeP4j5izfepqIqaMeZ34Ki3czhjjIk3xmyw/XwS2E4eZxwpSrZTj52y3Q2w3Xzmk6KIhAM9gQneznKpEZEKQBvgKwBjzHlf61RtOgJ7faVTteMPlBYRf6AMeXzvUhWs4t6x5vtUVMo5EakNNAP+9nIUB7ap1k1AErDYGONL+T4AngUyvJwjJwZYJCLrbWeu8SV1gWTgG9tU+gQRKevtUE7cDkz1dgh7xphY4F3gIBCP9fuYi7yb6vJS3DvWfJ+KSmUnIuWAn4BhxpgT3s5jzxiTboyJxHo2lNYi4hPT6SLSC0gyxqz3dpZc3GCMaY71qh2P2nZL+Ap/oDnwmTGmGXAa8KljJGzT072BGd7OYk9EKmOdmasDhAJlRWSgd1NdXop7x5rvU1EpR7Z9lz8BU4wxP3s7T05s04TLgW7eTZLpBqC3bT/mD0AHEZns3UiOjDFxtv8nAb9g3XXiK2KAGLsZiB+xdrS+pDuwwRiT6O0gWXQC9htjko0xqcDPwPVeznRZKe4da75PRaUush0c9BWw3RjznrfzZCUigSJSyfZzaax/UHZ4NZSNMeYFY0y4MaY21t+7ZcYYnxk1iEhZ2wFp2KZYuwA+c2S6MSYBOCQiV9oe6gj4xEFzdu7Ax6aBbQ4C14pIGdu/4Y5Yj49QRaRYn3nJnVNRFTURmQq0A6qJSAzwijHmK++mynQDcDew1bYfE2CE7SwkviAEmGg7MtMCTDfG+NzXWnxUEPCL9e8u/sD3xpgF3o2UzePAFNuH4n3YTjHnC0SkDNZvG/zP21myMsb8LSI/AhuANGAjehamIlWsv26jlFJKFbXiPhWslFJKFSntWJVSSqkCpB2rUkopVYC0Y1VKKaUKkHasSimlVAHSjlUVOyJiROQ7u/v+IpJcUFeYEZEAEXlLRHbbrh6yRkS625bNs12VpZKIPFIQ23Mz47ci0s9b21fqcqYdqyqOTgNX204aAdbvG8YW4PpHYf0O7dW2KxJFAeUBjDE9bGeBqgR4rWNVSnmPdqyquJqP9coykOUMOSLSWkT+tJ3c/c8LZ/cRkftE5GcRWWAbjY7JulLbiQEGAY8bY84BGGMSjTHTbcsPiEg14C2gnu16ne+IyHci0sduPVNEpHeWdVtE5FPbdTTn2Ea//WzLOtrybhXrNXxL2h5/WUTW2kbO421n2sma+S0RiRaRLSLyrgevqVLKBdqxquLqB+B22wWem+B4VZ4dQBvbyd1fBt60WxYJDAAaAwNExP5c0wARwEEXLkbwPNbLiUUaY4ZjvXTc/QAiUhHruVuznsHqFqC2bdsPAdfZ6ksB3wIDjDGNsZ4paYitzcfGmFa2kXNpwOGaryJSBbgZaGSMaQK8nkdupZSHtGNVxZIxZgvWTuoOsndgFYEZIvIP8D7QyG7ZUmPMcWPMWaznpq1VQHlWABEiUt2W6SdjTFqWshuBGcaYDNu5cn+zPX4l1pOq77Ldn4j1WqUA7UXkbxHZCnTI8lwATgBngQkicgtwpiCej1IqZ9qxquJsFtbrUmY9Ufoo4De7/aOl7Jads/s5nezn094D1LxwAvt8+g64C+vI9Rsny51d5jDHx20j2U+BfraR7Jc4PhdsnXdrrFco6gv42vmAlSp2tGNVxdnXwEhjzNYsj1fk4sFM9+VnhcaYM1iv+POh7eTwiEiIk+tdnsR2QJOdb4FhtvU4uxjEKuBW277WIKwXZwDr1HVtEYmw3b8bWMHFTvSw7Zq52Y4Ctj1e0XbhhGFYp7qVUoVIO1ZVbBljYowx45wsGgOMFpE/sF71KL9eBJKBaNt08kzbffttHwH+sB1U9I7tsUSsl+9yNloF66gyBuvl277Aul/4wrT0/Vinr7cCGcDntqOPvwS22jKsdbLO8sAcEdmCtTN+0o3nq5TKB726jVJFxHZE8VaguTHmeA415Ywxp0SkKrAGuMG2v1UpdYko1tdjVcpXiEgnrFPT7+XUqdrMsV28vQQwSjtVpS49OmJVSimlCpDuY1VKKaUKkHasSimlVAHSjlUppZQqQNqxKqWUUgVIO1allFKqAGnHqpRSShWg/wfgTc+nr5PzzgAAAABJRU5ErkJggg==\n",
=======
      "image/png": "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\n",
>>>>>>> Stashed changes
=======
      "image/png": "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\n",
>>>>>>> Stashed changes
      "text/plain": [
       "<Figure size 576x432 with 2 Axes>"
      ]
     },
     "metadata": {
      "needs_background": "light"
     },
     "output_type": "display_data"
    }
   ],
   "source": [
    "# Predicting distribution of match scores\n",
    "X_home, X_away =  create_X('Chelsea', 'Man City')\n",
    "score_pmf = predict_score_pmf(X_home, X_away, poisson_model, 8)\n",
    "score_pmf = score_pmf.round(3)\n",
    "\n",
    "# Visualizing distribution in a heatmap\n",
    "f, axs = plt.subplots(figsize=(8, 6))\n",
    "sns.heatmap(score_pmf, annot=True)\n",
    "plt.title(\"Chelsea v.s Man City score forecast\")\n",
    "plt.xlabel(\"Man City goals\")\n",
    "plt.ylabel(\"Chelsea goals\")\n",
    "plt.show()"
   ]
  },
  {
   "cell_type": "markdown",
   "id": "60556dbc",
   "metadata": {
    "slideshow": {
     "slide_type": "slide"
    }
   },
   "source": [
    "## Forecasting the match score"
   ]
  },
  {
   "cell_type": "code",
<<<<<<< Updated upstream
<<<<<<< Updated upstream
   "execution_count": 18,
=======
   "execution_count": 40,
>>>>>>> Stashed changes
=======
   "execution_count": 20,
>>>>>>> Stashed changes
   "id": "a90959ac",
   "metadata": {
    "slideshow": {
     "slide_type": "fragment"
    }
   },
   "outputs": [],
   "source": [
    "def predict_score(X_home, X_away, model):\n",
    "    # Predicting distribution of match scores\n",
    "    score_pmf = predict_score_pmf(X_home, X_away, model,16)\n",
    "    score_pmf = score_pmf.round(3)\n",
    "    \n",
    "    # Computing distribution mode\n",
    "    home_goals_mode = np.argmax(score_pmf) // (17)\n",
    "    away_goals_mode = np.argmax(score_pmf) % (17)\n",
    "    score_pred = (home_goals_mode, away_goals_mode)\n",
    "    return score_pred"
   ]
  },
  {
   "cell_type": "code",
<<<<<<< Updated upstream
<<<<<<< Updated upstream
   "execution_count": 19,
=======
   "execution_count": 41,
>>>>>>> Stashed changes
=======
   "execution_count": 21,
>>>>>>> Stashed changes
   "id": "dd6f3700",
   "metadata": {
    "slideshow": {
     "slide_type": "fragment"
    }
   },
   "outputs": [
    {
     "name": "stdout",
     "output_type": "stream",
     "text": [
<<<<<<< Updated upstream
      "Score Forecast:  (1, 1)\n"
=======
      "Score Forecast:  (0, 1)\n"
>>>>>>> Stashed changes
     ]
    }
   ],
   "source": [
    "# Predicting Chelsea Man City match score\n",
    "X_home, X_away =  create_X('Chelsea', 'Man City')\n",
    "score_pred =  predict_score(X_home, X_away, poisson_model)\n",
    "print('Score Forecast: ', score_pred)"
   ]
  },
  {
   "cell_type": "markdown",
   "id": "12465c91",
   "metadata": {
    "slideshow": {
     "slide_type": "slide"
    }
   },
   "source": [
    "## Validating our predictions ... how well did we do?"
   ]
  },
  {
   "cell_type": "markdown",
   "id": "7e3596cc",
   "metadata": {
    "slideshow": {
     "slide_type": "fragment"
    }
   },
   "source": [
    "- To find out how our model performed, it is important to devise some form of scoring metric\n"
   ]
  },
  {
   "cell_type": "markdown",
   "id": "422efcd8",
   "metadata": {
    "slideshow": {
     "slide_type": "fragment"
    }
   },
   "source": [
    "- In this workshop, we will use the mean squared error to asses this:\n",
    "$$\\text{MSE}(y, \\hat y) \\,=\\, \\frac{1}{N} \\sum_{i=1}^{N} (y_i - \\hat y_i)^2$$"
   ]
  },
  {
   "cell_type": "code",
   "execution_count": 22,
   "id": "daba49bb",
   "metadata": {
    "slideshow": {
     "slide_type": "fragment"
    }
   },
   "outputs": [],
   "source": [
    "def mse(y_true, ypred):\n",
    "    np.square(np.subtract(Y_true,Y_pred)).mean()"
   ]
  },
  {
   "cell_type": "code",
   "execution_count": 23,
   "id": "f4aa9719",
   "metadata": {
    "slideshow": {
     "slide_type": "fragment"
    }
   },
   "outputs": [],
   "source": [
    "def model_eval(X, model):\n",
    "    # Predicting distribution of match scores\n",
    "    #### LEFT AS AN EXERCISE ####\n",
    "    pass"
   ]
  },
  {
   "cell_type": "markdown",
   "id": "8e224e98",
   "metadata": {
    "slideshow": {
     "slide_type": "slide"
    }
   },
   "source": [
    "## Links to data sources\n",
    "\n",
    "https://www.rotowire.com//soccer/tables/standings.php?league=EPL&length=total&season=2019\n",
    "\n",
    "https://www.rotowire.com/soccer/league-table.php?season=2018"
   ]
  },
  {
   "cell_type": "markdown",
   "id": "362ba132",
   "metadata": {
    "slideshow": {
     "slide_type": "slide"
    }
   },
   "source": [
    "## Next Steps"
   ]
  },
  {
   "cell_type": "markdown",
<<<<<<< Updated upstream
   "id": "4f37d4f2",
   "metadata": {},
=======
   "id": "80a21263",
   "metadata": {
    "slideshow": {
     "slide_type": "fragment"
    }
   },
>>>>>>> Stashed changes
   "source": [
    "- Build on the benchmark\n"
   ]
  },
  {
   "cell_type": "markdown",
   "id": "49308589",
   "metadata": {
    "slideshow": {
     "slide_type": "fragment"
    }
   },
   "source": [
    "- Cross-validation\n"
   ]
  },
  {
   "cell_type": "markdown",
<<<<<<< Updated upstream
   "id": "7fa13454",
=======
   "id": "732f5bf5",
>>>>>>> Stashed changes
   "metadata": {
    "slideshow": {
     "slide_type": "fragment"
    }
   },
   "source": [
    "- Dixon-Coles model\n"
   ]
  },
  {
   "cell_type": "markdown",
<<<<<<< Updated upstream
   "id": "db8b5ca4",
=======
   "id": "12d1a643",
>>>>>>> Stashed changes
   "metadata": {
    "slideshow": {
     "slide_type": "fragment"
    }
   },
   "source": [
    "- Additional regressors (betting odds?)\n"
   ]
  },
  {
   "cell_type": "markdown",
   "id": "4dd8f562",
   "metadata": {
    "slideshow": {
     "slide_type": "fragment"
    }
   },
   "source": [
    "- Alternative data sources (Twitter and NLP?)\n"
   ]
  },
  {
   "cell_type": "markdown",
   "id": "ab203888",
   "metadata": {
    "slideshow": {
     "slide_type": "fragment"
    }
   },
   "source": [
    "- Participate in the competition!"
   ]
  },
  {
   "cell_type": "markdown",
   "id": "eb156790",
   "metadata": {
    "slideshow": {
     "slide_type": "slide"
    }
   },
   "source": [
    "# How to sign up for the competition?"
   ]
  }
 ],
 "metadata": {
  "celltoolbar": "Slideshow",
  "kernelspec": {
   "display_name": "Python 3",
   "language": "python",
   "name": "python3"
  },
  "language_info": {
   "codemirror_mode": {
    "name": "ipython",
    "version": 3
   },
   "file_extension": ".py",
   "mimetype": "text/x-python",
   "name": "python",
   "nbconvert_exporter": "python",
   "pygments_lexer": "ipython3",
   "version": "3.8.10"
  }
 },
 "nbformat": 4,
 "nbformat_minor": 5
}
