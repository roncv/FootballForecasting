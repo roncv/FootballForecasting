{
 "cells": [
  {
   "cell_type": "markdown",
   "id": "de265c57",
   "metadata": {
    "slideshow": {
     "slide_type": "slide"
    }
   },
   "source": [
    "# WDSS Football Forecasting Competition\n",
    "\n",
    "\n",
    "\n",
    "\n",
    "\n",
    "<img src=\"logo_subtitle.png\" width=500 />"
   ]
  },
  {
   "cell_type": "markdown",
   "id": "d22b4852",
   "metadata": {
    "slideshow": {
     "slide_type": "slide"
    }
   },
   "source": [
    "## Our Sponsor\n",
    "\n",
    "<img src=\"mustard-systems-logo.png\" width=500 />"
   ]
  },
  {
   "cell_type": "markdown",
   "id": "2ac5504d",
   "metadata": {
    "slideshow": {
     "slide_type": "slide"
    }
   },
   "source": [
    "## The Competition"
   ]
  },
  {
   "cell_type": "markdown",
   "id": "d0040431",
   "metadata": {
    "slideshow": {
     "slide_type": "fragment"
    }
   },
   "source": [
    "- Predicting the scores of football matches isn't a new idea \n"
   ]
  },
  {
   "cell_type": "markdown",
   "id": "5de9ed9c",
   "metadata": {
    "slideshow": {
     "slide_type": "fragment"
    }
   },
   "source": [
    "- People try their luck at bookies daily with nothing more than guesses, however at WDSS a more data-driven approach is preferred "
   ]
  },
  {
   "cell_type": "markdown",
   "id": "24d2f3bc",
   "metadata": {
    "slideshow": {
     "slide_type": "fragment"
    }
   },
   "source": [
    "- The competition aims to draw together the best implementations of these with hopes of finding the best model possible"
   ]
  },
  {
   "cell_type": "markdown",
   "id": "e97d861c",
   "metadata": {
    "slideshow": {
     "slide_type": "slide"
    }
   },
   "source": [
    "## The Format"
   ]
  },
  {
   "cell_type": "markdown",
   "id": "91fb6b15",
   "metadata": {
    "slideshow": {
     "slide_type": "fragment"
    }
   },
   "source": [
    "- Weekly predictions on the **scores** of each Premier League match, starting Week 2\n"
   ]
  },
  {
   "cell_type": "markdown",
   "id": "2eaa0dda",
   "metadata": {
    "slideshow": {
     "slide_type": "fragment"
    }
   },
   "source": [
    "- Each week the predictions must be **ranked** from 1 to 10 in terms of confidence"
   ]
  },
  {
   "cell_type": "markdown",
   "id": "ca6131ac",
   "metadata": {
    "slideshow": {
     "slide_type": "fragment"
    }
   },
   "source": [
    "- Each contestor's predictions will be scored based on their weighted **mean squared error** and converted into points using a monotonously-decreasing rule "
   ]
  },
  {
   "cell_type": "markdown",
   "id": "b770449a",
   "metadata": {
    "slideshow": {
     "slide_type": "slide"
    }
   },
   "source": [
    "## The Calendar"
   ]
  },
  {
   "cell_type": "markdown",
   "id": "11259fea",
   "metadata": {
    "slideshow": {
     "slide_type": "fragment"
    }
   },
   "source": [
    "|Warwick Week| Week Starting|GW   | Game Days   |Fixtures|\n",
    "|------------|--------------|-----|----------   |--------|\n",
    "|Week 2      |11 - Oct      |8    |Sat - Mon    |10      |\n",
    "|Week 3      |18 - Oct      |9    |Fri - Sun    |10      |\n",
    "|Week 4      |25 - Oct      |10   |Sat - Mon    |10      |\n",
    "|Week 5      |01 - Nov      |11   |Fri - Sun    |10      |\n",
    "|Week 6      |08 - Nov      |BREAK|BREAK        |-       |\n",
    "|Week 7      |15 - Nov      |12   |Sat - Sun    |10      |\n",
    "|Week 8      |22 - Nov      |13   |Sat - Sun    |10      |\n",
    "|Week 9      |29 - Nov      |14&15|Tue, Wed, Sat|10      |\n",
    "|Week 10     |06 - Dec      |16   |Sat          |10      |"
   ]
  },
  {
   "cell_type": "markdown",
   "id": "8bee283d",
   "metadata": {
    "slideshow": {
     "slide_type": "slide"
    }
   },
   "source": [
    "## The Rules"
   ]
  },
  {
   "cell_type": "markdown",
   "id": "b01e9c95",
   "metadata": {
    "slideshow": {
     "slide_type": "fragment"
    }
   },
   "source": [
    "- All weekly submissions must be accompanied by a model created in **Jupyter Notebooks (.ipynb file)** or **R Markdown notebooks (.Rmd)**"
   ]
  },
  {
   "cell_type": "markdown",
   "id": "4b99c212",
   "metadata": {
    "slideshow": {
     "slide_type": "fragment"
    }
   },
   "source": [
    "- Scores predicted must **match the output of your model** (we will check this and disqualify inconsistent submissions) \n",
    "\n"
   ]
  },
  {
   "cell_type": "markdown",
   "id": "049709da",
   "metadata": {
    "slideshow": {
     "slide_type": "fragment"
    }
   },
   "source": [
    "- Sources of data should be made clear within submissions"
   ]
  },
  {
   "cell_type": "markdown",
   "id": "9f7085a0",
   "metadata": {
    "slideshow": {
     "slide_type": "fragment"
    }
   },
   "source": [
    "- There will be some flexibility in what constitutes as a model, but please refer to today's demo model as a benchmark \n",
    "\n"
   ]
  },
  {
   "cell_type": "markdown",
   "id": "c1ada204",
   "metadata": {
    "slideshow": {
     "slide_type": "fragment"
    }
   },
   "source": [
    "- Have Fun! "
   ]
  },
  {
   "cell_type": "markdown",
   "id": "992f77a3",
   "metadata": {
    "slideshow": {
     "slide_type": "slide"
    },
    "tags": []
   },
   "source": [
    "## The Winner & Prize"
   ]
  },
  {
   "cell_type": "markdown",
   "id": "3e09d4d4",
   "metadata": {
    "slideshow": {
     "slide_type": "fragment"
    }
   },
   "source": [
    "- The competition will be split across Term 1 & 2 with a **prize pool of £700** for each iteration \n"
   ]
  },
  {
   "cell_type": "markdown",
   "id": "604cdb74",
   "metadata": {
    "slideshow": {
     "slide_type": "fragment"
    }
   },
   "source": [
    "- This prize pool will be split between the top competitors as ranked by the accuracy of their predictions \n"
   ]
  },
  {
   "cell_type": "markdown",
   "id": "03593fa5",
   "metadata": {
    "slideshow": {
     "slide_type": "fragment"
    }
   },
   "source": [
    "- Additionally, a £100 prize will be awarded for the model that displays the most **ingenuity**, **creativity**, and **good statistical practice** "
   ]
  },
  {
   "cell_type": "markdown",
   "id": "d93593a9",
   "metadata": {
    "slideshow": {
     "slide_type": "slide"
    }
   },
   "source": [
    "# Getting Started: lets build a demo model"
   ]
  },
  {
   "cell_type": "markdown",
   "id": "fedebaa2",
   "metadata": {
    "slideshow": {
     "slide_type": "fragment"
    }
   },
   "source": [
    "- Today we will guide you in building a **baseline model** for our upcoming Premier League forecasting competition"
   ]
  },
  {
   "cell_type": "markdown",
   "id": "b4cd9a4e",
   "metadata": {
    "slideshow": {
     "slide_type": "fragment"
    }
   },
   "source": [
    "- This model will NOT win the competition for you, but it will help point you in the right direction"
   ]
  },
  {
   "cell_type": "markdown",
   "id": "0f9490f7",
   "metadata": {
    "slideshow": {
     "slide_type": "slide"
    }
   },
   "source": [
    "## Start out with our imports"
   ]
  },
  {
   "cell_type": "code",
<<<<<<< Updated upstream
   "execution_count": 24,
=======
   "execution_count": 12,
>>>>>>> Stashed changes
   "id": "8c4aad19",
   "metadata": {
    "slideshow": {
     "slide_type": "fragment"
    }
   },
   "outputs": [],
   "source": [
    "# Dependencies\n",
    "from scipy.stats import poisson \n",
    "import numpy as np\n",
    "import matplotlib\n",
    "import matplotlib.pyplot as plt \n",
    "import seaborn as sns\n",
    "import pandas as pd\n",
    "import statsmodels.api as sm\n",
    "import statsmodels.formula.api as smf"
   ]
  },
  {
   "cell_type": "markdown",
   "id": "e48d8b5e",
   "metadata": {
    "slideshow": {
     "slide_type": "slide"
    }
   },
   "source": [
    "## Gathering our data"
   ]
  },
  {
   "cell_type": "code",
<<<<<<< Updated upstream
   "execution_count": 2,
=======
   "execution_count": 13,
>>>>>>> Stashed changes
   "id": "eb8a0d6f",
   "metadata": {
    "slideshow": {
     "slide_type": "fragment"
    }
   },
   "outputs": [],
   "source": [
    "# Function to retrieve premier league data\n",
    "def get_premier_league_data(start_year):\n",
    "    season = str(start_year)[-2:] + str(start_year + 1)[-2:]\n",
    "    data = pd.read_csv(\"http://www.football-data.co.uk/mmz4281/\" + season + \"/E0.csv\") \n",
    "    return data"
   ]
  },
  {
   "cell_type": "code",
<<<<<<< Updated upstream
   "execution_count": 3,
=======
   "execution_count": 14,
>>>>>>> Stashed changes
   "id": "f59b0418",
   "metadata": {
    "slideshow": {
     "slide_type": "slide"
    }
   },
   "outputs": [
    {
     "data": {
      "text/html": [
       "<div>\n",
       "<style scoped>\n",
       "    .dataframe tbody tr th:only-of-type {\n",
       "        vertical-align: middle;\n",
       "    }\n",
       "\n",
       "    .dataframe tbody tr th {\n",
       "        vertical-align: top;\n",
       "    }\n",
       "\n",
       "    .dataframe thead th {\n",
       "        text-align: right;\n",
       "    }\n",
       "</style>\n",
       "<table border=\"1\" class=\"dataframe\">\n",
       "  <thead>\n",
       "    <tr style=\"text-align: right;\">\n",
       "      <th></th>\n",
       "      <th>Div</th>\n",
       "      <th>Date</th>\n",
       "      <th>HomeTeam</th>\n",
       "      <th>AwayTeam</th>\n",
       "      <th>FTHG</th>\n",
       "      <th>FTAG</th>\n",
       "      <th>FTR</th>\n",
       "      <th>HTHG</th>\n",
       "      <th>HTAG</th>\n",
       "      <th>HTR</th>\n",
       "      <th>...</th>\n",
       "      <th>BbAv&lt;2.5</th>\n",
       "      <th>BbAH</th>\n",
       "      <th>BbAHh</th>\n",
       "      <th>BbMxAHH</th>\n",
       "      <th>BbAvAHH</th>\n",
       "      <th>BbMxAHA</th>\n",
       "      <th>BbAvAHA</th>\n",
       "      <th>PSCH</th>\n",
       "      <th>PSCD</th>\n",
       "      <th>PSCA</th>\n",
       "    </tr>\n",
       "  </thead>\n",
       "  <tbody>\n",
       "    <tr>\n",
       "      <th>0</th>\n",
       "      <td>E0</td>\n",
       "      <td>10/08/2018</td>\n",
       "      <td>Man United</td>\n",
       "      <td>Leicester</td>\n",
       "      <td>2</td>\n",
       "      <td>1</td>\n",
       "      <td>H</td>\n",
       "      <td>1</td>\n",
       "      <td>0</td>\n",
       "      <td>H</td>\n",
       "      <td>...</td>\n",
       "      <td>1.79</td>\n",
       "      <td>17</td>\n",
       "      <td>-0.75</td>\n",
       "      <td>1.75</td>\n",
       "      <td>1.70</td>\n",
       "      <td>2.29</td>\n",
       "      <td>2.21</td>\n",
       "      <td>1.55</td>\n",
       "      <td>4.07</td>\n",
       "      <td>7.69</td>\n",
       "    </tr>\n",
       "    <tr>\n",
       "      <th>1</th>\n",
       "      <td>E0</td>\n",
       "      <td>11/08/2018</td>\n",
       "      <td>Bournemouth</td>\n",
       "      <td>Cardiff</td>\n",
       "      <td>2</td>\n",
       "      <td>0</td>\n",
       "      <td>H</td>\n",
       "      <td>1</td>\n",
       "      <td>0</td>\n",
       "      <td>H</td>\n",
       "      <td>...</td>\n",
       "      <td>1.83</td>\n",
       "      <td>20</td>\n",
       "      <td>-0.75</td>\n",
       "      <td>2.20</td>\n",
       "      <td>2.13</td>\n",
       "      <td>1.80</td>\n",
       "      <td>1.75</td>\n",
       "      <td>1.88</td>\n",
       "      <td>3.61</td>\n",
       "      <td>4.70</td>\n",
       "    </tr>\n",
       "    <tr>\n",
       "      <th>2</th>\n",
       "      <td>E0</td>\n",
       "      <td>11/08/2018</td>\n",
       "      <td>Fulham</td>\n",
       "      <td>Crystal Palace</td>\n",
       "      <td>0</td>\n",
       "      <td>2</td>\n",
       "      <td>A</td>\n",
       "      <td>0</td>\n",
       "      <td>1</td>\n",
       "      <td>A</td>\n",
       "      <td>...</td>\n",
       "      <td>1.87</td>\n",
       "      <td>22</td>\n",
       "      <td>-0.25</td>\n",
       "      <td>2.18</td>\n",
       "      <td>2.11</td>\n",
       "      <td>1.81</td>\n",
       "      <td>1.77</td>\n",
       "      <td>2.62</td>\n",
       "      <td>3.38</td>\n",
       "      <td>2.90</td>\n",
       "    </tr>\n",
       "    <tr>\n",
       "      <th>3</th>\n",
       "      <td>E0</td>\n",
       "      <td>11/08/2018</td>\n",
       "      <td>Huddersfield</td>\n",
       "      <td>Chelsea</td>\n",
       "      <td>0</td>\n",
       "      <td>3</td>\n",
       "      <td>A</td>\n",
       "      <td>0</td>\n",
       "      <td>2</td>\n",
       "      <td>A</td>\n",
       "      <td>...</td>\n",
       "      <td>1.84</td>\n",
       "      <td>23</td>\n",
       "      <td>1.00</td>\n",
       "      <td>1.84</td>\n",
       "      <td>1.80</td>\n",
       "      <td>2.13</td>\n",
       "      <td>2.06</td>\n",
       "      <td>7.24</td>\n",
       "      <td>3.95</td>\n",
       "      <td>1.58</td>\n",
       "    </tr>\n",
       "    <tr>\n",
       "      <th>4</th>\n",
       "      <td>E0</td>\n",
       "      <td>11/08/2018</td>\n",
       "      <td>Newcastle</td>\n",
       "      <td>Tottenham</td>\n",
       "      <td>1</td>\n",
       "      <td>2</td>\n",
       "      <td>A</td>\n",
       "      <td>1</td>\n",
       "      <td>2</td>\n",
       "      <td>A</td>\n",
       "      <td>...</td>\n",
       "      <td>1.81</td>\n",
       "      <td>20</td>\n",
       "      <td>0.25</td>\n",
       "      <td>2.20</td>\n",
       "      <td>2.12</td>\n",
       "      <td>1.80</td>\n",
       "      <td>1.76</td>\n",
       "      <td>4.74</td>\n",
       "      <td>3.53</td>\n",
       "      <td>1.89</td>\n",
       "    </tr>\n",
       "  </tbody>\n",
       "</table>\n",
       "<p>5 rows × 62 columns</p>\n",
       "</div>"
      ],
      "text/plain": [
       "  Div        Date      HomeTeam        AwayTeam  FTHG  FTAG FTR  HTHG  HTAG  \\\n",
       "0  E0  10/08/2018    Man United       Leicester     2     1   H     1     0   \n",
       "1  E0  11/08/2018   Bournemouth         Cardiff     2     0   H     1     0   \n",
       "2  E0  11/08/2018        Fulham  Crystal Palace     0     2   A     0     1   \n",
       "3  E0  11/08/2018  Huddersfield         Chelsea     0     3   A     0     2   \n",
       "4  E0  11/08/2018     Newcastle       Tottenham     1     2   A     1     2   \n",
       "\n",
       "  HTR  ... BbAv<2.5  BbAH  BbAHh  BbMxAHH  BbAvAHH  BbMxAHA  BbAvAHA  PSCH  \\\n",
       "0   H  ...     1.79    17  -0.75     1.75     1.70     2.29     2.21  1.55   \n",
       "1   H  ...     1.83    20  -0.75     2.20     2.13     1.80     1.75  1.88   \n",
       "2   A  ...     1.87    22  -0.25     2.18     2.11     1.81     1.77  2.62   \n",
       "3   A  ...     1.84    23   1.00     1.84     1.80     2.13     2.06  7.24   \n",
       "4   A  ...     1.81    20   0.25     2.20     2.12     1.80     1.76  4.74   \n",
       "\n",
       "   PSCD  PSCA  \n",
       "0  4.07  7.69  \n",
       "1  3.61  4.70  \n",
       "2  3.38  2.90  \n",
       "3  3.95  1.58  \n",
       "4  3.53  1.89  \n",
       "\n",
       "[5 rows x 62 columns]"
      ]
     },
<<<<<<< Updated upstream
     "execution_count": 3,
=======
     "execution_count": 14,
>>>>>>> Stashed changes
     "metadata": {},
     "output_type": "execute_result"
    }
   ],
   "source": [
    "# Get data from the 2018/2019 season\n",
    "data = get_premier_league_data(2018)\n",
    "data.head()"
   ]
  },
  {
   "cell_type": "markdown",
   "id": "1cfe9989",
   "metadata": {
    "slideshow": {
     "slide_type": "slide"
    }
   },
   "source": [
    "## Light cleaning"
   ]
  },
  {
   "cell_type": "code",
<<<<<<< Updated upstream
   "execution_count": 4,
=======
   "execution_count": 15,
>>>>>>> Stashed changes
   "id": "672f3b72",
   "metadata": {
    "slideshow": {
     "slide_type": "fragment"
    }
   },
   "outputs": [],
   "source": [
    "# Filtering columns of interest\n",
    "columns = [\"HomeTeam\", \"AwayTeam\", \"FTHG\", \"FTAG\", \"FTR\"]\n",
    "data = data[columns]\n",
    "\n",
    "# Renaming columns\n",
    "data = data.rename(\n",
    "    columns={\"FTHG\": \"HomeGoals\", \"FTAG\": \"AwayGoals\", \"FTR\": \"Result\"}\n",
    ")"
   ]
  },
  {
   "cell_type": "code",
<<<<<<< Updated upstream
   "execution_count": 5,
=======
   "execution_count": 16,
>>>>>>> Stashed changes
   "id": "596161f1",
   "metadata": {
    "slideshow": {
     "slide_type": "fragment"
    }
   },
   "outputs": [
    {
     "data": {
      "text/html": [
       "<div>\n",
       "<style scoped>\n",
       "    .dataframe tbody tr th:only-of-type {\n",
       "        vertical-align: middle;\n",
       "    }\n",
       "\n",
       "    .dataframe tbody tr th {\n",
       "        vertical-align: top;\n",
       "    }\n",
       "\n",
       "    .dataframe thead th {\n",
       "        text-align: right;\n",
       "    }\n",
       "</style>\n",
       "<table border=\"1\" class=\"dataframe\">\n",
       "  <thead>\n",
       "    <tr style=\"text-align: right;\">\n",
       "      <th></th>\n",
       "      <th>HomeTeam</th>\n",
       "      <th>AwayTeam</th>\n",
       "      <th>HomeGoals</th>\n",
       "      <th>AwayGoals</th>\n",
       "      <th>Result</th>\n",
       "    </tr>\n",
       "  </thead>\n",
       "  <tbody>\n",
       "    <tr>\n",
       "      <th>0</th>\n",
       "      <td>Man United</td>\n",
       "      <td>Leicester</td>\n",
       "      <td>2</td>\n",
       "      <td>1</td>\n",
       "      <td>H</td>\n",
       "    </tr>\n",
       "    <tr>\n",
       "      <th>1</th>\n",
       "      <td>Bournemouth</td>\n",
       "      <td>Cardiff</td>\n",
       "      <td>2</td>\n",
       "      <td>0</td>\n",
       "      <td>H</td>\n",
       "    </tr>\n",
       "    <tr>\n",
       "      <th>2</th>\n",
       "      <td>Fulham</td>\n",
       "      <td>Crystal Palace</td>\n",
       "      <td>0</td>\n",
       "      <td>2</td>\n",
       "      <td>A</td>\n",
       "    </tr>\n",
       "    <tr>\n",
       "      <th>3</th>\n",
       "      <td>Huddersfield</td>\n",
       "      <td>Chelsea</td>\n",
       "      <td>0</td>\n",
       "      <td>3</td>\n",
       "      <td>A</td>\n",
       "    </tr>\n",
       "    <tr>\n",
       "      <th>4</th>\n",
       "      <td>Newcastle</td>\n",
       "      <td>Tottenham</td>\n",
       "      <td>1</td>\n",
       "      <td>2</td>\n",
       "      <td>A</td>\n",
       "    </tr>\n",
       "    <tr>\n",
       "      <th>...</th>\n",
       "      <td>...</td>\n",
       "      <td>...</td>\n",
       "      <td>...</td>\n",
       "      <td>...</td>\n",
       "      <td>...</td>\n",
       "    </tr>\n",
       "    <tr>\n",
       "      <th>365</th>\n",
       "      <td>Wolves</td>\n",
       "      <td>Fulham</td>\n",
       "      <td>1</td>\n",
       "      <td>0</td>\n",
       "      <td>H</td>\n",
       "    </tr>\n",
       "    <tr>\n",
       "      <th>366</th>\n",
       "      <td>Arsenal</td>\n",
       "      <td>Brighton</td>\n",
       "      <td>1</td>\n",
       "      <td>1</td>\n",
       "      <td>D</td>\n",
       "    </tr>\n",
       "    <tr>\n",
       "      <th>367</th>\n",
       "      <td>Chelsea</td>\n",
       "      <td>Watford</td>\n",
       "      <td>3</td>\n",
       "      <td>0</td>\n",
       "      <td>H</td>\n",
       "    </tr>\n",
       "    <tr>\n",
       "      <th>368</th>\n",
       "      <td>Huddersfield</td>\n",
       "      <td>Man United</td>\n",
       "      <td>1</td>\n",
       "      <td>1</td>\n",
       "      <td>D</td>\n",
       "    </tr>\n",
       "    <tr>\n",
       "      <th>369</th>\n",
       "      <td>Man City</td>\n",
       "      <td>Leicester</td>\n",
       "      <td>1</td>\n",
       "      <td>0</td>\n",
       "      <td>H</td>\n",
       "    </tr>\n",
       "  </tbody>\n",
       "</table>\n",
       "<p>370 rows × 5 columns</p>\n",
       "</div>"
      ],
      "text/plain": [
       "         HomeTeam        AwayTeam  HomeGoals  AwayGoals Result\n",
       "0      Man United       Leicester          2          1      H\n",
       "1     Bournemouth         Cardiff          2          0      H\n",
       "2          Fulham  Crystal Palace          0          2      A\n",
       "3    Huddersfield         Chelsea          0          3      A\n",
       "4       Newcastle       Tottenham          1          2      A\n",
       "..            ...             ...        ...        ...    ...\n",
       "365        Wolves          Fulham          1          0      H\n",
       "366       Arsenal        Brighton          1          1      D\n",
       "367       Chelsea         Watford          3          0      H\n",
       "368  Huddersfield      Man United          1          1      D\n",
       "369      Man City       Leicester          1          0      H\n",
       "\n",
       "[370 rows x 5 columns]"
      ]
     },
     "execution_count": 16,
     "metadata": {},
     "output_type": "execute_result"
    }
   ],
   "source": [
    "# Remove final week of fixtures\n",
    "data[:-10]"
   ]
  },
  {
   "cell_type": "code",
   "execution_count": 6,
   "id": "e5401b93",
   "metadata": {
    "slideshow": {
     "slide_type": "fragment"
    }
   },
   "outputs": [
    {
     "data": {
      "text/html": [
       "<div>\n",
       "<style scoped>\n",
       "    .dataframe tbody tr th:only-of-type {\n",
       "        vertical-align: middle;\n",
       "    }\n",
       "\n",
       "    .dataframe tbody tr th {\n",
       "        vertical-align: top;\n",
       "    }\n",
       "\n",
       "    .dataframe thead th {\n",
       "        text-align: right;\n",
       "    }\n",
       "</style>\n",
       "<table border=\"1\" class=\"dataframe\">\n",
       "  <thead>\n",
       "    <tr style=\"text-align: right;\">\n",
       "      <th></th>\n",
       "      <th>HomeTeam</th>\n",
       "      <th>AwayTeam</th>\n",
       "      <th>HomeGoals</th>\n",
       "      <th>AwayGoals</th>\n",
       "      <th>Result</th>\n",
       "    </tr>\n",
       "  </thead>\n",
       "  <tbody>\n",
       "    <tr>\n",
       "      <th>0</th>\n",
       "      <td>Man United</td>\n",
       "      <td>Leicester</td>\n",
       "      <td>2</td>\n",
       "      <td>1</td>\n",
       "      <td>H</td>\n",
       "    </tr>\n",
       "    <tr>\n",
       "      <th>1</th>\n",
       "      <td>Bournemouth</td>\n",
       "      <td>Cardiff</td>\n",
       "      <td>2</td>\n",
       "      <td>0</td>\n",
       "      <td>H</td>\n",
       "    </tr>\n",
       "    <tr>\n",
       "      <th>2</th>\n",
       "      <td>Fulham</td>\n",
       "      <td>Crystal Palace</td>\n",
       "      <td>0</td>\n",
       "      <td>2</td>\n",
       "      <td>A</td>\n",
       "    </tr>\n",
       "    <tr>\n",
       "      <th>3</th>\n",
       "      <td>Huddersfield</td>\n",
       "      <td>Chelsea</td>\n",
       "      <td>0</td>\n",
       "      <td>3</td>\n",
       "      <td>A</td>\n",
       "    </tr>\n",
       "    <tr>\n",
       "      <th>4</th>\n",
       "      <td>Newcastle</td>\n",
       "      <td>Tottenham</td>\n",
       "      <td>1</td>\n",
       "      <td>2</td>\n",
       "      <td>A</td>\n",
       "    </tr>\n",
       "  </tbody>\n",
       "</table>\n",
       "</div>"
      ],
      "text/plain": [
       "       HomeTeam        AwayTeam  HomeGoals  AwayGoals Result\n",
       "0    Man United       Leicester          2          1      H\n",
       "1   Bournemouth         Cardiff          2          0      H\n",
       "2        Fulham  Crystal Palace          0          2      A\n",
       "3  Huddersfield         Chelsea          0          3      A\n",
       "4     Newcastle       Tottenham          1          2      A"
      ]
     },
     "execution_count": 6,
     "metadata": {},
     "output_type": "execute_result"
    }
   ],
   "source": [
    "data.head()"
   ]
  },
  {
   "cell_type": "markdown",
   "id": "918ce900",
   "metadata": {
    "slideshow": {
     "slide_type": "slide"
    }
   },
   "source": [
    "## Simple analysis: Home team advantage?\n"
   ]
  },
  {
   "cell_type": "code",
<<<<<<< Updated upstream
   "execution_count": 7,
=======
   "execution_count": 22,
>>>>>>> Stashed changes
   "id": "435b57f5",
   "metadata": {
    "slideshow": {
     "slide_type": "fragment"
    }
   },
   "outputs": [
    {
     "data": {
      "text/plain": [
<<<<<<< Updated upstream
       "HomeGoals    1.575676\n",
       "AwayGoals    1.224324\n",
       "dtype: float64"
      ]
     },
     "execution_count": 7,
=======
       "HomeGoals    1.568421\n",
       "AwayGoals    1.252632\n",
       "dtype: float64"
      ]
     },
     "execution_count": 22,
>>>>>>> Stashed changes
     "metadata": {},
     "output_type": "execute_result"
    }
   ],
   "source": [
    "# Compute the average number of home and away goals \n",
    "data[['HomeGoals', 'AwayGoals']].mean()"
   ]
  },
  {
   "cell_type": "markdown",
   "id": "e6396f07",
   "metadata": {
    "slideshow": {
     "slide_type": "slide"
    }
   },
   "source": [
    "## Towards a match prediction model "
   ]
  },
  {
   "cell_type": "markdown",
   "id": "18568fc7",
   "metadata": {
    "slideshow": {
     "slide_type": "fragment"
    }
   },
   "source": [
    "- One way to predict the match score is to consider the number of goals scored by each team\n"
   ]
  },
  {
   "cell_type": "markdown",
   "id": "cb4b9907",
   "metadata": {
    "slideshow": {
     "slide_type": "fragment"
    }
   },
   "source": [
    "- We will denote the number of goals scored by a particular team in a match $i$ by $y_i$ \n"
   ]
  },
  {
   "cell_type": "markdown",
   "id": "4e624f99",
   "metadata": {
    "slideshow": {
     "slide_type": "fragment"
    }
   },
   "source": [
    "- Furthermore, we will use *regression analysis* to model $\\mathbb{E}[y | \\boldsymbol{x}_i]$, where $\\boldsymbol{x}_i$ is a vector of $k$ predictor variables for one particular match"
   ]
  },
  {
   "cell_type": "markdown",
   "id": "eb3d2583",
   "metadata": {
    "slideshow": {
     "slide_type": "slide"
    }
   },
   "source": [
    "## The Poisson distribution"
   ]
  },
  {
   "cell_type": "markdown",
   "id": "10d3afe6",
   "metadata": {
    "slideshow": {
     "slide_type": "fragment"
    }
   },
   "source": [
    "- The Poisson distribution is often used to model the probability distribution of *count events* (that is, the same event happening a specific number of times in a fixed time frame)\n"
   ]
  },
  {
   "cell_type": "markdown",
   "id": "74f6d43c",
   "metadata": {
    "slideshow": {
     "slide_type": "fragment"
    }
   },
   "source": [
    "- It is a *discrete* distribution parametarized by a mean constant rate of occurences $\\lambda$"
   ]
  },
  {
   "cell_type": "markdown",
   "id": "eb5c7870",
   "metadata": {
    "slideshow": {
     "slide_type": "fragment"
    }
   },
   "source": [
    "- It assumes that event occurances within the interval are *independent* of one another"
   ]
  },
  {
   "cell_type": "markdown",
   "id": "b90a3ab4",
   "metadata": {
    "slideshow": {
     "slide_type": "fragment"
    }
   },
   "source": [
    "- It can be especially useful to model the number of goals we expect a team to score"
   ]
  },
  {
   "cell_type": "markdown",
   "id": "8f630c07",
   "metadata": {
    "slideshow": {
     "slide_type": "slide"
    }
   },
   "source": [
    "## The Poisson distribution: an example"
   ]
  },
  {
   "cell_type": "code",
   "execution_count": 8,
   "id": "ca142a4d",
   "metadata": {
    "scrolled": false,
    "slideshow": {
     "slide_type": "fragment"
    }
   },
   "outputs": [
    {
     "data": {
      "image/png": "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\n",
      "text/plain": [
       "<Figure size 432x288 with 1 Axes>"
      ]
     },
     "metadata": {
      "needs_background": "light"
     },
     "output_type": "display_data"
    }
   ],
   "source": [
    "# Here we simulate 1 million samples from a Poisson distribution with a mean of two\n",
    "x = np.random.poisson(2, 1000000)\n",
    "plt.hist(x, 14, density=True)\n",
    "plt.show()"
   ]
  },
  {
   "cell_type": "markdown",
   "id": "48c87944",
   "metadata": {
    "slideshow": {
     "slide_type": "slide"
    }
   },
   "source": [
    "## Preparing our training data"
   ]
  },
  {
   "cell_type": "code",
<<<<<<< Updated upstream
   "execution_count": 9,
=======
   "execution_count": 26,
>>>>>>> Stashed changes
   "id": "10bca848",
   "metadata": {
    "slideshow": {
     "slide_type": "fragment"
    }
   },
   "outputs": [],
   "source": [
    "# Separate home goals data\n",
    "home_goals = data[[\"HomeTeam\", \"AwayTeam\", \"HomeGoals\"]]\n",
    "home_goals = home_goals.assign(home=1)\n",
    "home_goals = home_goals.rename(\n",
    "    columns={\"HomeTeam\": \"team\",\n",
    "             \"AwayTeam\": \"opponent\", \n",
    "             \"HomeGoals\": \"goals\"}\n",
    ")\n",
    "\n",
<<<<<<< Updated upstream
    "# Separate away goals data"
=======
    "# Separate away goals data \n",
    "\n",
    "# Separate home goals data\n",
    "away_goals = data[[\"AwayTeam\", \"HomeTeam\", \"AwayGoals\"]]\n",
    "away_goals = away_goals.assign(home=0)\n",
    "away_goals = away_goals.rename(\n",
    "    columns={\"AwayTeam\": \"team\",\n",
    "             \"HomeTeam\": \"opponent\", \n",
    "             \"AwayGoals\": \"goals\"}\n",
    ")"
>>>>>>> Stashed changes
   ]
  },
  {
   "cell_type": "code",
<<<<<<< Updated upstream
   "execution_count": 10,
=======
   "execution_count": 29,
>>>>>>> Stashed changes
   "id": "27b7c0cb",
   "metadata": {
    "slideshow": {
     "slide_type": "slide"
    }
   },
   "outputs": [
    {
     "data": {
      "text/html": [
       "<div>\n",
       "<style scoped>\n",
       "    .dataframe tbody tr th:only-of-type {\n",
       "        vertical-align: middle;\n",
       "    }\n",
       "\n",
       "    .dataframe tbody tr th {\n",
       "        vertical-align: top;\n",
       "    }\n",
       "\n",
       "    .dataframe thead th {\n",
       "        text-align: right;\n",
       "    }\n",
       "</style>\n",
       "<table border=\"1\" class=\"dataframe\">\n",
       "  <thead>\n",
       "    <tr style=\"text-align: right;\">\n",
       "      <th></th>\n",
       "      <th>team</th>\n",
       "      <th>opponent</th>\n",
       "      <th>goals</th>\n",
       "      <th>home</th>\n",
       "    </tr>\n",
       "  </thead>\n",
       "  <tbody>\n",
       "    <tr>\n",
       "      <th>0</th>\n",
       "      <td>Man United</td>\n",
       "      <td>Leicester</td>\n",
       "      <td>2</td>\n",
       "      <td>1</td>\n",
       "    </tr>\n",
       "    <tr>\n",
       "      <th>1</th>\n",
       "      <td>Bournemouth</td>\n",
       "      <td>Cardiff</td>\n",
       "      <td>2</td>\n",
       "      <td>1</td>\n",
       "    </tr>\n",
       "    <tr>\n",
       "      <th>2</th>\n",
       "      <td>Fulham</td>\n",
       "      <td>Crystal Palace</td>\n",
       "      <td>0</td>\n",
       "      <td>1</td>\n",
       "    </tr>\n",
       "    <tr>\n",
       "      <th>3</th>\n",
       "      <td>Huddersfield</td>\n",
       "      <td>Chelsea</td>\n",
       "      <td>0</td>\n",
       "      <td>1</td>\n",
       "    </tr>\n",
       "    <tr>\n",
       "      <th>4</th>\n",
       "      <td>Newcastle</td>\n",
       "      <td>Tottenham</td>\n",
       "      <td>1</td>\n",
       "      <td>1</td>\n",
       "    </tr>\n",
       "  </tbody>\n",
       "</table>\n",
       "</div>"
      ],
      "text/plain": [
       "           team        opponent  goals  home\n",
       "0    Man United       Leicester      2     1\n",
       "1   Bournemouth         Cardiff      2     1\n",
       "2        Fulham  Crystal Palace      0     1\n",
       "3  Huddersfield         Chelsea      0     1\n",
       "4     Newcastle       Tottenham      1     1"
      ]
     },
<<<<<<< Updated upstream
     "execution_count": 10,
=======
     "execution_count": 29,
>>>>>>> Stashed changes
     "metadata": {},
     "output_type": "execute_result"
    }
   ],
   "source": [
    "# Concatenating into training data \n",
    "train_data = pd.concat([home_goals, away_goals])\n",
    "train_data.head()"
   ]
  },
  {
   "cell_type": "markdown",
   "id": "9ef0c817",
   "metadata": {
    "slideshow": {
     "slide_type": "slide"
    }
   },
   "source": [
    "## The Poisson regression model"
   ]
  },
  {
   "cell_type": "markdown",
   "id": "26d2fac0",
   "metadata": {
    "slideshow": {
     "slide_type": "fragment"
    }
   },
   "source": [
    "- To predict the number of goals each team scores, we will fit the following model using match-level data\n"
   ]
  },
  {
   "cell_type": "markdown",
   "id": "87ee09b7",
   "metadata": {
    "slideshow": {
     "slide_type": "fragment"
    }
   },
   "source": [
    "$$y_i \\sim Poisson(\\lambda_i)$$\n",
    "\n",
    "\n",
    "$$\\ln (\\lambda_i) = \\beta_0 \\,+\\, \\beta_1x_{i1} + ... + \\beta_1x_{ik}$$"
   ]
  },
  {
   "cell_type": "markdown",
   "id": "77eb8da6",
   "metadata": {
    "slideshow": {
     "slide_type": "fragment"
    }
   },
   "source": [
    "- Here, $\\lambda_i$ is the mean number goals scored by the home team in match $i$, which we aim to predict using variables $\\boldsymbol{x}_i$"
   ]
  },
  {
   "cell_type": "code",
<<<<<<< Updated upstream
   "execution_count": 11,
=======
   "execution_count": 30,
>>>>>>> Stashed changes
   "id": "590f8f66",
   "metadata": {
    "slideshow": {
     "slide_type": "slide"
    }
   },
   "outputs": [],
   "source": [
    "# Building the model\n",
    "# Poisson Regression: log-linear model\n",
    "poisson_model = smf.glm(\n",
<<<<<<< Updated upstream
    "    formula=\"goals ~ ???\",\n",
    "    data=train_data,\n",
=======
    "    formula=\"goals ~ home + team + opponent\",\n",
    "    data=training_data,\n",
>>>>>>> Stashed changes
    "    family=sm.families.Poisson() \n",
    ").fit()"
   ]
  },
  {
   "cell_type": "code",
<<<<<<< Updated upstream
   "execution_count": 12,
=======
   "execution_count": 31,
>>>>>>> Stashed changes
   "id": "422b5962",
   "metadata": {
    "slideshow": {
     "slide_type": "fragment"
    }
   },
   "outputs": [
    {
     "data": {
      "text/html": [
       "<table class=\"simpletable\">\n",
       "<caption>Generalized Linear Model Regression Results</caption>\n",
       "<tr>\n",
<<<<<<< Updated upstream
       "  <th>Dep. Variable:</th>         <td>goals</td>      <th>  No. Observations:  </th>  <td>   740</td> \n",
       "</tr>\n",
       "<tr>\n",
       "  <th>Model:</th>                  <td>GLM</td>       <th>  Df Residuals:      </th>  <td>   700</td> \n",
=======
       "  <th>Dep. Variable:</th>         <td>goals</td>      <th>  No. Observations:  </th>  <td>   760</td> \n",
       "</tr>\n",
       "<tr>\n",
       "  <th>Model:</th>                  <td>GLM</td>       <th>  Df Residuals:      </th>  <td>   720</td> \n",
>>>>>>> Stashed changes
       "</tr>\n",
       "<tr>\n",
       "  <th>Model Family:</th>         <td>Poisson</td>     <th>  Df Model:          </th>  <td>    39</td> \n",
       "</tr>\n",
       "<tr>\n",
       "  <th>Link Function:</th>          <td>log</td>       <th>  Scale:             </th> <td>  1.0000</td>\n",
       "</tr>\n",
       "<tr>\n",
<<<<<<< Updated upstream
       "  <th>Method:</th>                <td>IRLS</td>       <th>  Log-Likelihood:    </th> <td> -1105.9</td>\n",
       "</tr>\n",
       "<tr>\n",
       "  <th>Date:</th>            <td>Sat, 02 Oct 2021</td> <th>  Deviance:          </th> <td>  883.94</td>\n",
       "</tr>\n",
       "<tr>\n",
       "  <th>Time:</th>                <td>12:08:59</td>     <th>  Pearson chi2:      </th>  <td>  754.</td> \n",
=======
       "  <th>Method:</th>                <td>IRLS</td>       <th>  Log-Likelihood:    </th> <td> -1065.1</td>\n",
       "</tr>\n",
       "<tr>\n",
       "  <th>Date:</th>            <td>Sat, 02 Oct 2021</td> <th>  Deviance:          </th> <td>  762.55</td>\n",
       "</tr>\n",
       "<tr>\n",
       "  <th>Time:</th>                <td>11:27:31</td>     <th>  Pearson chi2:      </th>  <td>  656.</td> \n",
>>>>>>> Stashed changes
       "</tr>\n",
       "<tr>\n",
       "  <th>No. Iterations:</th>          <td>5</td>        <th>                     </th>     <td> </td>   \n",
       "</tr>\n",
       "<tr>\n",
       "  <th>Covariance Type:</th>     <td>nonrobust</td>    <th>                     </th>     <td> </td>   \n",
       "</tr>\n",
       "</table>\n",
       "<table class=\"simpletable\">\n",
       "<tr>\n",
       "               <td></td>                 <th>coef</th>     <th>std err</th>      <th>z</th>      <th>P>|z|</th>  <th>[0.025</th>    <th>0.975]</th>  \n",
       "</tr>\n",
       "<tr>\n",
<<<<<<< Updated upstream
       "  <th>Intercept</th>                  <td>    0.5195</td> <td>    0.189</td> <td>    2.747</td> <td> 0.006</td> <td>    0.149</td> <td>    0.890</td>\n",
       "</tr>\n",
       "<tr>\n",
       "  <th>team[T.Bournemouth]</th>        <td>   -0.0536</td> <td>    0.189</td> <td>   -0.284</td> <td> 0.776</td> <td>   -0.423</td> <td>    0.316</td>\n",
       "</tr>\n",
       "<tr>\n",
       "  <th>team[T.Brighton]</th>           <td>   -0.2940</td> <td>    0.203</td> <td>   -1.448</td> <td> 0.148</td> <td>   -0.692</td> <td>    0.104</td>\n",
       "</tr>\n",
       "<tr>\n",
       "  <th>team[T.Burnley]</th>            <td>   -0.0501</td> <td>    0.191</td> <td>   -0.262</td> <td> 0.793</td> <td>   -0.425</td> <td>    0.325</td>\n",
       "</tr>\n",
       "<tr>\n",
       "  <th>team[T.Cardiff]</th>            <td>   -0.0039</td> <td>    0.185</td> <td>   -0.021</td> <td> 0.983</td> <td>   -0.367</td> <td>    0.359</td>\n",
       "</tr>\n",
       "<tr>\n",
       "  <th>team[T.Chelsea]</th>            <td>   -0.1413</td> <td>    0.192</td> <td>   -0.735</td> <td> 0.463</td> <td>   -0.518</td> <td>    0.236</td>\n",
       "</tr>\n",
       "<tr>\n",
       "  <th>team[T.Crystal Palace]</th>     <td>   -0.4714</td> <td>    0.216</td> <td>   -2.177</td> <td> 0.029</td> <td>   -0.896</td> <td>   -0.047</td>\n",
       "</tr>\n",
       "<tr>\n",
       "  <th>team[T.Everton]</th>            <td>   -0.1474</td> <td>    0.192</td> <td>   -0.767</td> <td> 0.443</td> <td>   -0.524</td> <td>    0.229</td>\n",
       "</tr>\n",
       "<tr>\n",
       "  <th>team[T.Fulham]</th>             <td>   -0.0407</td> <td>    0.190</td> <td>   -0.215</td> <td> 0.830</td> <td>   -0.412</td> <td>    0.331</td>\n",
       "</tr>\n",
       "<tr>\n",
       "  <th>team[T.Huddersfield]</th>       <td>   -0.3552</td> <td>    0.204</td> <td>   -1.738</td> <td> 0.082</td> <td>   -0.756</td> <td>    0.045</td>\n",
       "</tr>\n",
       "<tr>\n",
       "  <th>team[T.Leicester]</th>          <td>   -0.2332</td> <td>    0.200</td> <td>   -1.164</td> <td> 0.245</td> <td>   -0.626</td> <td>    0.160</td>\n",
       "</tr>\n",
       "<tr>\n",
       "  <th>team[T.Liverpool]</th>          <td>    0.1084</td> <td>    0.182</td> <td>    0.594</td> <td> 0.553</td> <td>   -0.249</td> <td>    0.466</td>\n",
       "</tr>\n",
       "<tr>\n",
       "  <th>team[T.Man City]</th>           <td>    0.1545</td> <td>    0.178</td> <td>    0.866</td> <td> 0.387</td> <td>   -0.195</td> <td>    0.504</td>\n",
       "</tr>\n",
       "<tr>\n",
       "  <th>team[T.Man United]</th>         <td>    0.0061</td> <td>    0.188</td> <td>    0.033</td> <td> 0.974</td> <td>   -0.362</td> <td>    0.374</td>\n",
       "</tr>\n",
       "<tr>\n",
       "  <th>team[T.Newcastle]</th>          <td>   -0.1954</td> <td>    0.194</td> <td>   -1.006</td> <td> 0.315</td> <td>   -0.576</td> <td>    0.185</td>\n",
       "</tr>\n",
       "<tr>\n",
       "  <th>team[T.Southampton]</th>        <td>   -0.0070</td> <td>    0.189</td> <td>   -0.037</td> <td> 0.971</td> <td>   -0.377</td> <td>    0.363</td>\n",
       "</tr>\n",
       "<tr>\n",
       "  <th>team[T.Tottenham]</th>          <td>   -0.1941</td> <td>    0.198</td> <td>   -0.981</td> <td> 0.327</td> <td>   -0.582</td> <td>    0.194</td>\n",
       "</tr>\n",
       "<tr>\n",
       "  <th>team[T.Watford]</th>            <td>   -0.1313</td> <td>    0.195</td> <td>   -0.675</td> <td> 0.500</td> <td>   -0.513</td> <td>    0.250</td>\n",
       "</tr>\n",
       "<tr>\n",
       "  <th>team[T.West Ham]</th>           <td>   -0.0032</td> <td>    0.185</td> <td>   -0.017</td> <td> 0.986</td> <td>   -0.366</td> <td>    0.360</td>\n",
       "</tr>\n",
       "<tr>\n",
       "  <th>team[T.Wolves]</th>             <td>   -0.1898</td> <td>    0.194</td> <td>   -0.977</td> <td> 0.329</td> <td>   -0.571</td> <td>    0.191</td>\n",
       "</tr>\n",
       "<tr>\n",
       "  <th>opponent[T.Bournemouth]</th>    <td>   -0.0072</td> <td>    0.180</td> <td>   -0.040</td> <td> 0.968</td> <td>   -0.359</td> <td>    0.345</td>\n",
       "</tr>\n",
       "<tr>\n",
       "  <th>opponent[T.Brighton]</th>       <td>   -0.3280</td> <td>    0.193</td> <td>   -1.702</td> <td> 0.089</td> <td>   -0.706</td> <td>    0.050</td>\n",
       "</tr>\n",
       "<tr>\n",
       "  <th>opponent[T.Burnley]</th>        <td>   -0.1443</td> <td>    0.184</td> <td>   -0.785</td> <td> 0.432</td> <td>   -0.504</td> <td>    0.216</td>\n",
       "</tr>\n",
       "<tr>\n",
       "  <th>opponent[T.Cardiff]</th>        <td>   -0.3863</td> <td>    0.201</td> <td>   -1.926</td> <td> 0.054</td> <td>   -0.779</td> <td>    0.007</td>\n",
       "</tr>\n",
       "<tr>\n",
       "  <th>opponent[T.Chelsea]</th>        <td>   -0.2132</td> <td>    0.190</td> <td>   -1.124</td> <td> 0.261</td> <td>   -0.585</td> <td>    0.159</td>\n",
       "</tr>\n",
       "<tr>\n",
       "  <th>opponent[T.Crystal Palace]</th> <td>   -0.0791</td> <td>    0.180</td> <td>   -0.439</td> <td> 0.661</td> <td>   -0.432</td> <td>    0.274</td>\n",
       "</tr>\n",
       "<tr>\n",
       "  <th>opponent[T.Everton]</th>        <td>   -0.3367</td> <td>    0.196</td> <td>   -1.714</td> <td> 0.087</td> <td>   -0.722</td> <td>    0.048</td>\n",
       "</tr>\n",
       "<tr>\n",
       "  <th>opponent[T.Fulham]</th>         <td>   -0.1437</td> <td>    0.184</td> <td>   -0.781</td> <td> 0.435</td> <td>   -0.504</td> <td>    0.217</td>\n",
       "</tr>\n",
       "<tr>\n",
       "  <th>opponent[T.Huddersfield]</th>   <td>   -0.1356</td> <td>    0.186</td> <td>   -0.730</td> <td> 0.466</td> <td>   -0.500</td> <td>    0.229</td>\n",
       "</tr>\n",
       "<tr>\n",
       "  <th>opponent[T.Leicester]</th>      <td>   -0.1892</td> <td>    0.186</td> <td>   -1.019</td> <td> 0.308</td> <td>   -0.553</td> <td>    0.175</td>\n",
       "</tr>\n",
       "<tr>\n",
       "  <th>opponent[T.Liverpool]</th>      <td>   -0.3491</td> <td>    0.195</td> <td>   -1.789</td> <td> 0.074</td> <td>   -0.731</td> <td>    0.033</td>\n",
       "</tr>\n",
       "<tr>\n",
       "  <th>opponent[T.Man City]</th>       <td>   -0.3453</td> <td>    0.198</td> <td>   -1.746</td> <td> 0.081</td> <td>   -0.733</td> <td>    0.042</td>\n",
       "</tr>\n",
       "<tr>\n",
       "  <th>opponent[T.Man United]</th>     <td>   -0.0732</td> <td>    0.181</td> <td>   -0.405</td> <td> 0.686</td> <td>   -0.428</td> <td>    0.281</td>\n",
       "</tr>\n",
       "<tr>\n",
       "  <th>opponent[T.Newcastle]</th>      <td>   -0.5266</td> <td>    0.208</td> <td>   -2.528</td> <td> 0.011</td> <td>   -0.935</td> <td>   -0.118</td>\n",
       "</tr>\n",
       "<tr>\n",
       "  <th>opponent[T.Southampton]</th>    <td>   -0.2146</td> <td>    0.188</td> <td>   -1.144</td> <td> 0.253</td> <td>   -0.582</td> <td>    0.153</td>\n",
       "</tr>\n",
       "<tr>\n",
       "  <th>opponent[T.Tottenham]</th>      <td>   -0.1694</td> <td>    0.185</td> <td>   -0.916</td> <td> 0.359</td> <td>   -0.532</td> <td>    0.193</td>\n",
       "</tr>\n",
       "<tr>\n",
       "  <th>opponent[T.Watford]</th>        <td>   -0.1486</td> <td>    0.184</td> <td>   -0.807</td> <td> 0.419</td> <td>   -0.509</td> <td>    0.212</td>\n",
       "</tr>\n",
       "<tr>\n",
       "  <th>opponent[T.West Ham]</th>       <td>   -0.3707</td> <td>    0.199</td> <td>   -1.862</td> <td> 0.063</td> <td>   -0.761</td> <td>    0.020</td>\n",
       "</tr>\n",
       "<tr>\n",
       "  <th>opponent[T.Wolves]</th>         <td>   -0.3901</td> <td>    0.201</td> <td>   -1.945</td> <td> 0.052</td> <td>   -0.783</td> <td>    0.003</td>\n",
       "</tr>\n",
       "<tr>\n",
       "  <th>home</th>                       <td>    0.2523</td> <td>    0.063</td> <td>    4.028</td> <td> 0.000</td> <td>    0.130</td> <td>    0.375</td>\n",
=======
       "  <th>Intercept</th>                  <td>    0.5061</td> <td>    0.188</td> <td>    2.685</td> <td> 0.007</td> <td>    0.137</td> <td>    0.876</td>\n",
       "</tr>\n",
       "<tr>\n",
       "  <th>team[T.Bournemouth]</th>        <td>   -0.2470</td> <td>    0.178</td> <td>   -1.388</td> <td> 0.165</td> <td>   -0.596</td> <td>    0.102</td>\n",
       "</tr>\n",
       "<tr>\n",
       "  <th>team[T.Brighton]</th>           <td>   -0.7283</td> <td>    0.206</td> <td>   -3.538</td> <td> 0.000</td> <td>   -1.132</td> <td>   -0.325</td>\n",
       "</tr>\n",
       "<tr>\n",
       "  <th>team[T.Burnley]</th>            <td>   -0.4684</td> <td>    0.190</td> <td>   -2.468</td> <td> 0.014</td> <td>   -0.841</td> <td>   -0.096</td>\n",
       "</tr>\n",
       "<tr>\n",
       "  <th>team[T.Cardiff]</th>            <td>   -0.7485</td> <td>    0.208</td> <td>   -3.600</td> <td> 0.000</td> <td>   -1.156</td> <td>   -0.341</td>\n",
       "</tr>\n",
       "<tr>\n",
       "  <th>team[T.Chelsea]</th>            <td>   -0.1597</td> <td>    0.172</td> <td>   -0.927</td> <td> 0.354</td> <td>   -0.497</td> <td>    0.178</td>\n",
       "</tr>\n",
       "<tr>\n",
       "  <th>team[T.Crystal Palace]</th>     <td>   -0.3578</td> <td>    0.183</td> <td>   -1.957</td> <td> 0.050</td> <td>   -0.716</td> <td>    0.000</td>\n",
       "</tr>\n",
       "<tr>\n",
       "  <th>team[T.Everton]</th>            <td>   -0.3074</td> <td>    0.180</td> <td>   -1.710</td> <td> 0.087</td> <td>   -0.660</td> <td>    0.045</td>\n",
       "</tr>\n",
       "<tr>\n",
       "  <th>team[T.Fulham]</th>             <td>   -0.7366</td> <td>    0.208</td> <td>   -3.542</td> <td> 0.000</td> <td>   -1.144</td> <td>   -0.329</td>\n",
       "</tr>\n",
       "<tr>\n",
       "  <th>team[T.Huddersfield]</th>       <td>   -1.1778</td> <td>    0.243</td> <td>   -4.837</td> <td> 0.000</td> <td>   -1.655</td> <td>   -0.701</td>\n",
       "</tr>\n",
       "<tr>\n",
       "  <th>team[T.Leicester]</th>          <td>   -0.3627</td> <td>    0.183</td> <td>   -1.984</td> <td> 0.047</td> <td>   -0.721</td> <td>   -0.004</td>\n",
       "</tr>\n",
       "<tr>\n",
       "  <th>team[T.Liverpool]</th>          <td>    0.1698</td> <td>    0.158</td> <td>    1.074</td> <td> 0.283</td> <td>   -0.140</td> <td>    0.480</td>\n",
       "</tr>\n",
       "<tr>\n",
       "  <th>team[T.Man City]</th>           <td>    0.2362</td> <td>    0.156</td> <td>    1.515</td> <td> 0.130</td> <td>   -0.069</td> <td>    0.542</td>\n",
       "</tr>\n",
       "<tr>\n",
       "  <th>team[T.Man United]</th>         <td>   -0.1135</td> <td>    0.171</td> <td>   -0.664</td> <td> 0.507</td> <td>   -0.448</td> <td>    0.221</td>\n",
       "</tr>\n",
       "<tr>\n",
       "  <th>team[T.Newcastle]</th>          <td>   -0.5573</td> <td>    0.194</td> <td>   -2.874</td> <td> 0.004</td> <td>   -0.937</td> <td>   -0.177</td>\n",
       "</tr>\n",
       "<tr>\n",
       "  <th>team[T.Southampton]</th>        <td>   -0.4714</td> <td>    0.190</td> <td>   -2.483</td> <td> 0.013</td> <td>   -0.843</td> <td>   -0.099</td>\n",
       "</tr>\n",
       "<tr>\n",
       "  <th>team[T.Tottenham]</th>          <td>   -0.0980</td> <td>    0.169</td> <td>   -0.578</td> <td> 0.563</td> <td>   -0.430</td> <td>    0.234</td>\n",
       "</tr>\n",
       "<tr>\n",
       "  <th>team[T.Watford]</th>            <td>   -0.3324</td> <td>    0.182</td> <td>   -1.829</td> <td> 0.067</td> <td>   -0.689</td> <td>    0.024</td>\n",
       "</tr>\n",
       "<tr>\n",
       "  <th>team[T.West Ham]</th>           <td>   -0.3363</td> <td>    0.182</td> <td>   -1.850</td> <td> 0.064</td> <td>   -0.693</td> <td>    0.020</td>\n",
       "</tr>\n",
       "<tr>\n",
       "  <th>team[T.Wolves]</th>             <td>   -0.4465</td> <td>    0.187</td> <td>   -2.384</td> <td> 0.017</td> <td>   -0.814</td> <td>   -0.079</td>\n",
       "</tr>\n",
       "<tr>\n",
       "  <th>opponent[T.Bournemouth]</th>    <td>    0.3008</td> <td>    0.184</td> <td>    1.631</td> <td> 0.103</td> <td>   -0.061</td> <td>    0.662</td>\n",
       "</tr>\n",
       "<tr>\n",
       "  <th>opponent[T.Brighton]</th>       <td>    0.1253</td> <td>    0.191</td> <td>    0.657</td> <td> 0.511</td> <td>   -0.249</td> <td>    0.499</td>\n",
       "</tr>\n",
       "<tr>\n",
       "  <th>opponent[T.Burnley]</th>        <td>    0.2607</td> <td>    0.186</td> <td>    1.405</td> <td> 0.160</td> <td>   -0.103</td> <td>    0.624</td>\n",
       "</tr>\n",
       "<tr>\n",
       "  <th>opponent[T.Cardiff]</th>        <td>    0.2644</td> <td>    0.185</td> <td>    1.430</td> <td> 0.153</td> <td>   -0.098</td> <td>    0.627</td>\n",
       "</tr>\n",
       "<tr>\n",
       "  <th>opponent[T.Chelsea]</th>        <td>   -0.2790</td> <td>    0.213</td> <td>   -1.310</td> <td> 0.190</td> <td>   -0.697</td> <td>    0.139</td>\n",
       "</tr>\n",
       "<tr>\n",
       "  <th>opponent[T.Crystal Palace]</th> <td>    0.0167</td> <td>    0.196</td> <td>    0.085</td> <td> 0.932</td> <td>   -0.368</td> <td>    0.402</td>\n",
       "</tr>\n",
       "<tr>\n",
       "  <th>opponent[T.Everton]</th>        <td>   -0.1224</td> <td>    0.204</td> <td>   -0.601</td> <td> 0.548</td> <td>   -0.522</td> <td>    0.277</td>\n",
       "</tr>\n",
       "<tr>\n",
       "  <th>opponent[T.Fulham]</th>         <td>    0.4252</td> <td>    0.179</td> <td>    2.374</td> <td> 0.018</td> <td>    0.074</td> <td>    0.776</td>\n",
       "</tr>\n",
       "<tr>\n",
       "  <th>opponent[T.Huddersfield]</th>   <td>    0.3495</td> <td>    0.181</td> <td>    1.928</td> <td> 0.054</td> <td>   -0.006</td> <td>    0.705</td>\n",
       "</tr>\n",
       "<tr>\n",
       "  <th>opponent[T.Leicester]</th>      <td>   -0.0827</td> <td>    0.201</td> <td>   -0.410</td> <td> 0.681</td> <td>   -0.477</td> <td>    0.312</td>\n",
       "</tr>\n",
       "<tr>\n",
       "  <th>opponent[T.Liverpool]</th>      <td>   -0.8271</td> <td>    0.255</td> <td>   -3.239</td> <td> 0.001</td> <td>   -1.328</td> <td>   -0.327</td>\n",
       "</tr>\n",
       "<tr>\n",
       "  <th>opponent[T.Man City]</th>       <td>   -0.7766</td> <td>    0.252</td> <td>   -3.088</td> <td> 0.002</td> <td>   -1.270</td> <td>   -0.284</td>\n",
       "</tr>\n",
       "<tr>\n",
       "  <th>opponent[T.Man United]</th>     <td>    0.0493</td> <td>    0.196</td> <td>    0.252</td> <td> 0.801</td> <td>   -0.334</td> <td>    0.433</td>\n",
       "</tr>\n",
       "<tr>\n",
       "  <th>opponent[T.Newcastle]</th>      <td>   -0.0914</td> <td>    0.201</td> <td>   -0.454</td> <td> 0.650</td> <td>   -0.486</td> <td>    0.303</td>\n",
       "</tr>\n",
       "<tr>\n",
       "  <th>opponent[T.Southampton]</th>    <td>    0.2154</td> <td>    0.187</td> <td>    1.150</td> <td> 0.250</td> <td>   -0.152</td> <td>    0.583</td>\n",
       "</tr>\n",
       "<tr>\n",
       "  <th>opponent[T.Tottenham]</th>      <td>   -0.2751</td> <td>    0.213</td> <td>   -1.291</td> <td> 0.197</td> <td>   -0.693</td> <td>    0.142</td>\n",
       "</tr>\n",
       "<tr>\n",
       "  <th>opponent[T.Watford]</th>        <td>    0.1252</td> <td>    0.192</td> <td>    0.654</td> <td> 0.513</td> <td>   -0.250</td> <td>    0.501</td>\n",
       "</tr>\n",
       "<tr>\n",
       "  <th>opponent[T.West Ham]</th>       <td>    0.0548</td> <td>    0.195</td> <td>    0.281</td> <td> 0.778</td> <td>   -0.327</td> <td>    0.436</td>\n",
       "</tr>\n",
       "<tr>\n",
       "  <th>opponent[T.Wolves]</th>         <td>   -0.1292</td> <td>    0.204</td> <td>   -0.635</td> <td> 0.526</td> <td>   -0.528</td> <td>    0.270</td>\n",
       "</tr>\n",
       "<tr>\n",
       "  <th>home</th>                       <td>    0.2248</td> <td>    0.061</td> <td>    3.657</td> <td> 0.000</td> <td>    0.104</td> <td>    0.345</td>\n",
>>>>>>> Stashed changes
       "</tr>\n",
       "</table>"
      ],
      "text/plain": [
       "<class 'statsmodels.iolib.summary.Summary'>\n",
       "\"\"\"\n",
       "                 Generalized Linear Model Regression Results                  \n",
       "==============================================================================\n",
<<<<<<< Updated upstream
       "Dep. Variable:                  goals   No. Observations:                  740\n",
       "Model:                            GLM   Df Residuals:                      700\n",
       "Model Family:                 Poisson   Df Model:                           39\n",
       "Link Function:                    log   Scale:                          1.0000\n",
       "Method:                          IRLS   Log-Likelihood:                -1105.9\n",
       "Date:                Sat, 02 Oct 2021   Deviance:                       883.94\n",
       "Time:                        12:08:59   Pearson chi2:                     754.\n",
=======
       "Dep. Variable:                  goals   No. Observations:                  760\n",
       "Model:                            GLM   Df Residuals:                      720\n",
       "Model Family:                 Poisson   Df Model:                           39\n",
       "Link Function:                    log   Scale:                          1.0000\n",
       "Method:                          IRLS   Log-Likelihood:                -1065.1\n",
       "Date:                Sat, 02 Oct 2021   Deviance:                       762.55\n",
       "Time:                        11:27:31   Pearson chi2:                     656.\n",
>>>>>>> Stashed changes
       "No. Iterations:                     5                                         \n",
       "Covariance Type:            nonrobust                                         \n",
       "==============================================================================================\n",
       "                                 coef    std err          z      P>|z|      [0.025      0.975]\n",
       "----------------------------------------------------------------------------------------------\n",
<<<<<<< Updated upstream
       "Intercept                      0.5195      0.189      2.747      0.006       0.149       0.890\n",
       "team[T.Bournemouth]           -0.0536      0.189     -0.284      0.776      -0.423       0.316\n",
       "team[T.Brighton]              -0.2940      0.203     -1.448      0.148      -0.692       0.104\n",
       "team[T.Burnley]               -0.0501      0.191     -0.262      0.793      -0.425       0.325\n",
       "team[T.Cardiff]               -0.0039      0.185     -0.021      0.983      -0.367       0.359\n",
       "team[T.Chelsea]               -0.1413      0.192     -0.735      0.463      -0.518       0.236\n",
       "team[T.Crystal Palace]        -0.4714      0.216     -2.177      0.029      -0.896      -0.047\n",
       "team[T.Everton]               -0.1474      0.192     -0.767      0.443      -0.524       0.229\n",
       "team[T.Fulham]                -0.0407      0.190     -0.215      0.830      -0.412       0.331\n",
       "team[T.Huddersfield]          -0.3552      0.204     -1.738      0.082      -0.756       0.045\n",
       "team[T.Leicester]             -0.2332      0.200     -1.164      0.245      -0.626       0.160\n",
       "team[T.Liverpool]              0.1084      0.182      0.594      0.553      -0.249       0.466\n",
       "team[T.Man City]               0.1545      0.178      0.866      0.387      -0.195       0.504\n",
       "team[T.Man United]             0.0061      0.188      0.033      0.974      -0.362       0.374\n",
       "team[T.Newcastle]             -0.1954      0.194     -1.006      0.315      -0.576       0.185\n",
       "team[T.Southampton]           -0.0070      0.189     -0.037      0.971      -0.377       0.363\n",
       "team[T.Tottenham]             -0.1941      0.198     -0.981      0.327      -0.582       0.194\n",
       "team[T.Watford]               -0.1313      0.195     -0.675      0.500      -0.513       0.250\n",
       "team[T.West Ham]              -0.0032      0.185     -0.017      0.986      -0.366       0.360\n",
       "team[T.Wolves]                -0.1898      0.194     -0.977      0.329      -0.571       0.191\n",
       "opponent[T.Bournemouth]       -0.0072      0.180     -0.040      0.968      -0.359       0.345\n",
       "opponent[T.Brighton]          -0.3280      0.193     -1.702      0.089      -0.706       0.050\n",
       "opponent[T.Burnley]           -0.1443      0.184     -0.785      0.432      -0.504       0.216\n",
       "opponent[T.Cardiff]           -0.3863      0.201     -1.926      0.054      -0.779       0.007\n",
       "opponent[T.Chelsea]           -0.2132      0.190     -1.124      0.261      -0.585       0.159\n",
       "opponent[T.Crystal Palace]    -0.0791      0.180     -0.439      0.661      -0.432       0.274\n",
       "opponent[T.Everton]           -0.3367      0.196     -1.714      0.087      -0.722       0.048\n",
       "opponent[T.Fulham]            -0.1437      0.184     -0.781      0.435      -0.504       0.217\n",
       "opponent[T.Huddersfield]      -0.1356      0.186     -0.730      0.466      -0.500       0.229\n",
       "opponent[T.Leicester]         -0.1892      0.186     -1.019      0.308      -0.553       0.175\n",
       "opponent[T.Liverpool]         -0.3491      0.195     -1.789      0.074      -0.731       0.033\n",
       "opponent[T.Man City]          -0.3453      0.198     -1.746      0.081      -0.733       0.042\n",
       "opponent[T.Man United]        -0.0732      0.181     -0.405      0.686      -0.428       0.281\n",
       "opponent[T.Newcastle]         -0.5266      0.208     -2.528      0.011      -0.935      -0.118\n",
       "opponent[T.Southampton]       -0.2146      0.188     -1.144      0.253      -0.582       0.153\n",
       "opponent[T.Tottenham]         -0.1694      0.185     -0.916      0.359      -0.532       0.193\n",
       "opponent[T.Watford]           -0.1486      0.184     -0.807      0.419      -0.509       0.212\n",
       "opponent[T.West Ham]          -0.3707      0.199     -1.862      0.063      -0.761       0.020\n",
       "opponent[T.Wolves]            -0.3901      0.201     -1.945      0.052      -0.783       0.003\n",
       "home                           0.2523      0.063      4.028      0.000       0.130       0.375\n",
=======
       "Intercept                      0.5061      0.188      2.685      0.007       0.137       0.876\n",
       "team[T.Bournemouth]           -0.2470      0.178     -1.388      0.165      -0.596       0.102\n",
       "team[T.Brighton]              -0.7283      0.206     -3.538      0.000      -1.132      -0.325\n",
       "team[T.Burnley]               -0.4684      0.190     -2.468      0.014      -0.841      -0.096\n",
       "team[T.Cardiff]               -0.7485      0.208     -3.600      0.000      -1.156      -0.341\n",
       "team[T.Chelsea]               -0.1597      0.172     -0.927      0.354      -0.497       0.178\n",
       "team[T.Crystal Palace]        -0.3578      0.183     -1.957      0.050      -0.716       0.000\n",
       "team[T.Everton]               -0.3074      0.180     -1.710      0.087      -0.660       0.045\n",
       "team[T.Fulham]                -0.7366      0.208     -3.542      0.000      -1.144      -0.329\n",
       "team[T.Huddersfield]          -1.1778      0.243     -4.837      0.000      -1.655      -0.701\n",
       "team[T.Leicester]             -0.3627      0.183     -1.984      0.047      -0.721      -0.004\n",
       "team[T.Liverpool]              0.1698      0.158      1.074      0.283      -0.140       0.480\n",
       "team[T.Man City]               0.2362      0.156      1.515      0.130      -0.069       0.542\n",
       "team[T.Man United]            -0.1135      0.171     -0.664      0.507      -0.448       0.221\n",
       "team[T.Newcastle]             -0.5573      0.194     -2.874      0.004      -0.937      -0.177\n",
       "team[T.Southampton]           -0.4714      0.190     -2.483      0.013      -0.843      -0.099\n",
       "team[T.Tottenham]             -0.0980      0.169     -0.578      0.563      -0.430       0.234\n",
       "team[T.Watford]               -0.3324      0.182     -1.829      0.067      -0.689       0.024\n",
       "team[T.West Ham]              -0.3363      0.182     -1.850      0.064      -0.693       0.020\n",
       "team[T.Wolves]                -0.4465      0.187     -2.384      0.017      -0.814      -0.079\n",
       "opponent[T.Bournemouth]        0.3008      0.184      1.631      0.103      -0.061       0.662\n",
       "opponent[T.Brighton]           0.1253      0.191      0.657      0.511      -0.249       0.499\n",
       "opponent[T.Burnley]            0.2607      0.186      1.405      0.160      -0.103       0.624\n",
       "opponent[T.Cardiff]            0.2644      0.185      1.430      0.153      -0.098       0.627\n",
       "opponent[T.Chelsea]           -0.2790      0.213     -1.310      0.190      -0.697       0.139\n",
       "opponent[T.Crystal Palace]     0.0167      0.196      0.085      0.932      -0.368       0.402\n",
       "opponent[T.Everton]           -0.1224      0.204     -0.601      0.548      -0.522       0.277\n",
       "opponent[T.Fulham]             0.4252      0.179      2.374      0.018       0.074       0.776\n",
       "opponent[T.Huddersfield]       0.3495      0.181      1.928      0.054      -0.006       0.705\n",
       "opponent[T.Leicester]         -0.0827      0.201     -0.410      0.681      -0.477       0.312\n",
       "opponent[T.Liverpool]         -0.8271      0.255     -3.239      0.001      -1.328      -0.327\n",
       "opponent[T.Man City]          -0.7766      0.252     -3.088      0.002      -1.270      -0.284\n",
       "opponent[T.Man United]         0.0493      0.196      0.252      0.801      -0.334       0.433\n",
       "opponent[T.Newcastle]         -0.0914      0.201     -0.454      0.650      -0.486       0.303\n",
       "opponent[T.Southampton]        0.2154      0.187      1.150      0.250      -0.152       0.583\n",
       "opponent[T.Tottenham]         -0.2751      0.213     -1.291      0.197      -0.693       0.142\n",
       "opponent[T.Watford]            0.1252      0.192      0.654      0.513      -0.250       0.501\n",
       "opponent[T.West Ham]           0.0548      0.195      0.281      0.778      -0.327       0.436\n",
       "opponent[T.Wolves]            -0.1292      0.204     -0.635      0.526      -0.528       0.270\n",
       "home                           0.2248      0.061      3.657      0.000       0.104       0.345\n",
>>>>>>> Stashed changes
       "==============================================================================================\n",
       "\"\"\""
      ]
     },
<<<<<<< Updated upstream
     "execution_count": 12,
=======
     "execution_count": 31,
>>>>>>> Stashed changes
     "metadata": {},
     "output_type": "execute_result"
    }
   ],
   "source": [
    "# Get a statistical summary of the poisson model\n",
    "poisson_model.summary()"
   ]
  },
  {
   "cell_type": "markdown",
   "id": "d8d158ef",
   "metadata": {
    "slideshow": {
     "slide_type": "slide"
    }
   },
   "source": [
    "## A note on dummies, coefficients, and interpretation"
   ]
  },
  {
   "cell_type": "markdown",
   "id": "1f4d7f48",
   "metadata": {
    "slideshow": {
     "slide_type": "fragment"
    }
   },
   "source": [
    "- $Team_i$ takes on multiple categorical values (Chealsea, Man City, etc.) but statistical algorithms can't process string data *directly* "
   ]
  },
  {
   "cell_type": "markdown",
   "id": "11fdb1e8",
   "metadata": {
    "slideshow": {
     "slide_type": "fragment"
    }
   },
   "source": [
    "- **Solution:** We encode categorical variables into *dummy* or *indicator variables*"
   ]
  },
  {
   "cell_type": "markdown",
   "id": "309a1dfb",
   "metadata": {
    "slideshow": {
     "slide_type": "fragment"
    }
   },
   "source": [
    "- Eg. $Man City_i = \\begin{cases} \n",
    "      1 & Team_i = \\text{'Man City'} \\\\ \n",
    "      0 & \\text{otherwise} \n",
    "   \\end{cases} $ "
   ]
  },
  {
   "cell_type": "markdown",
   "id": "9c64c921",
   "metadata": {
    "slideshow": {
     "slide_type": "slide"
    }
   },
   "source": [
    "- As for the coefficients? they represent the *approximate* fractional change in average goals for a unit change in the predictor variables "
   ]
  },
  {
   "cell_type": "markdown",
   "id": "66087bb2",
   "metadata": {
    "slideshow": {
     "slide_type": "fragment"
    }
   },
   "source": [
    "- For coefficients on dummy variables, this change is always **relative to the category combination represented by the intercept**"
   ]
  },
  {
   "cell_type": "markdown",
   "id": "ce457966",
   "metadata": {
    "slideshow": {
     "slide_type": "slide"
    }
   },
   "source": [
    "## Predicting the expected goals for each team"
   ]
  },
  {
   "cell_type": "code",
<<<<<<< Updated upstream
   "execution_count": 13,
=======
   "execution_count": 32,
>>>>>>> Stashed changes
   "id": "33dff13b",
   "metadata": {
    "slideshow": {
     "slide_type": "fragment"
    }
   },
   "outputs": [],
   "source": [
    "# Create feature data for home and away team for the match\n",
    "def create_X(home_team, away_team):\n",
    "    X_home = pd.DataFrame(data={\"team\": home_team,\n",
    "                                \"opponent\": away_team,\n",
    "                                \"home\": 1\n",
    "                                }, index=[1])\n",
    "    \n",
<<<<<<< Updated upstream
    "    # Creating DataFrame for away team features \n",
=======
    "    # Creating DataFrame for away team features\n",
>>>>>>> Stashed changes
    "    X_away = pd.DataFrame(data={\"team\": away_team,\n",
    "                                \"opponent\": home_team,\n",
    "                                \"home\": 0\n",
    "                                }, index=[1])\n",
<<<<<<< Updated upstream
=======
    "    \n",
>>>>>>> Stashed changes
    "    return X_home, X_away"
   ]
  },
  {
   "cell_type": "code",
<<<<<<< Updated upstream
   "execution_count": 14,
=======
   "execution_count": 33,
>>>>>>> Stashed changes
   "id": "543f6bbd",
   "metadata": {
    "slideshow": {
     "slide_type": "fragment"
    }
   },
   "outputs": [],
   "source": [
    "def predict_avg_goals(X_home, X_away, model):\n",
    "    # Predict the mean number of goals for home team\n",
    "    home_goals_avg = model.predict(X_home) \n",
    "    \n",
    "    # Predict the mean number of goals for away team\n",
    "    away_goals_avg = model.predict(X_away) \n",
    "    \n",
    "    return home_goals_avg, away_goals_avg"
   ]
  },
  {
   "cell_type": "code",
<<<<<<< Updated upstream
   "execution_count": 15,
=======
   "execution_count": 35,
>>>>>>> Stashed changes
   "id": "efb1e112",
   "metadata": {
    "slideshow": {
     "slide_type": "slide"
    }
   },
   "outputs": [
    {
     "name": "stdout",
     "output_type": "stream",
     "text": [
<<<<<<< Updated upstream
      "Average Home Goals:  1.3300297305877133\n",
      "Average Away Goals:  1.5853735447243837\n"
=======
      "Average Home Goals:  0.8143138874982507\n",
      "Average Away Goals:  1.589213139385842\n"
>>>>>>> Stashed changes
     ]
    }
   ],
   "source": [
    "# Predicting average goals for Chelsea Man City match\n",
    "X_home, X_away =  create_X('Chelsea', 'Man City')\n",
    "avg_goals = predict_avg_goals(X_home, X_away, poisson_model)\n",
    "print('Average Home Goals: ', avg_goals[0].values[0])\n",
    "\n",
    "# Fill in to print the average away goals\n",
    "print('Average Away Goals: ', avg_goals[1].values[0])"
   ]
  },
  {
   "cell_type": "markdown",
   "id": "ea9926a3",
   "metadata": {
    "slideshow": {
     "slide_type": "slide"
    }
   },
   "source": [
    "## Computing the distribution of match scores"
   ]
  },
  {
   "cell_type": "code",
<<<<<<< Updated upstream
   "execution_count": 16,
=======
   "execution_count": 36,
>>>>>>> Stashed changes
   "id": "bf47327b",
   "metadata": {
    "slideshow": {
     "slide_type": "fragment"
    }
   },
   "outputs": [],
   "source": [
    "# Funciton to forecast a given match\n",
    "# Probability Mass Function\n",
    "def predict_score_pmf(X_home, X_away, model, max_goals):\n",
    "    \n",
    "    # Predict the average number of goals for home  and away teams\n",
    "    home_goals_avg, away_goals_avg = predict_avg_goals(X_home, X_away, model)\n",
    "\n",
    "    # Compute marginal distribution for home goals\n",
    "    home_goals_pmf = [poisson.pmf(i, home_goals_avg)\n",
    "                      for i in range(0, max_goals + 1)]\n",
    "\n",
<<<<<<< Updated upstream
    "    # Compute marginal distribution for away goals\n",
    "    \n",
=======
    "    # Compute marginal distribution for away goals \n",
    "    away_goals_pmf = [poisson.pmf(i, away_goals_avg)\n",
    "                      for i in range(0, max_goals + 1)]\n",
    "\n",
>>>>>>> Stashed changes
    "    # Compute joint distribution for match score as outer product\n",
    "    joint_pmf = np.outer(np.array(home_goals_pmf),\n",
    "                         np.array(away_goals_pmf))\n",
    "    \n",
    "    return joint_pmf"
   ]
  },
  {
   "cell_type": "code",
<<<<<<< Updated upstream
   "execution_count": 17,
=======
   "execution_count": 39,
>>>>>>> Stashed changes
   "id": "aaf59d16",
   "metadata": {
    "slideshow": {
     "slide_type": "slide"
    }
   },
   "outputs": [
    {
     "data": {
<<<<<<< Updated upstream
      "image/png": "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\n",
=======
      "image/png": "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\n",
>>>>>>> Stashed changes
      "text/plain": [
       "<Figure size 576x432 with 2 Axes>"
      ]
     },
     "metadata": {
      "needs_background": "light"
     },
     "output_type": "display_data"
    }
   ],
   "source": [
    "# Predicting distribution of match scores\n",
    "X_home, X_away =  create_X('Chelsea', 'Man City')\n",
    "score_pmf = predict_score_pmf(X_home, X_away, poisson_model, 8)\n",
    "score_pmf = score_pmf.round(3)\n",
    "\n",
    "# Visualizing distribution in a heatmap\n",
    "f, axs = plt.subplots(figsize=(8, 6))\n",
    "sns.heatmap(score_pmf, annot=True)\n",
    "axs.xaxis.tick_top() # x axis on top\n",
    "axs.xaxis.set_label_position('top')\n",
    "plt.title(\"Chelsea v.s Man City score forecast\", y=1.12)\n",
    "plt.xlabel(\"Man City goals\", labelpad=6)\n",
    "plt.ylabel(\"Chelsea goals\")\n",
    "plt.show()"
   ]
  },
  {
   "cell_type": "markdown",
   "id": "60556dbc",
   "metadata": {
    "slideshow": {
     "slide_type": "slide"
    }
   },
   "source": [
    "## Forecasting the match score"
   ]
  },
  {
   "cell_type": "code",
<<<<<<< Updated upstream
   "execution_count": 18,
=======
   "execution_count": 40,
>>>>>>> Stashed changes
   "id": "a90959ac",
   "metadata": {
    "slideshow": {
     "slide_type": "fragment"
    }
   },
   "outputs": [],
   "source": [
    "def predict_score(X_home, X_away, model):\n",
    "    # Predicting distribution of match scores\n",
    "    score_pmf = predict_score_pmf(X_home, X_away, model,16)\n",
    "    score_pmf = score_pmf.round(3)\n",
    "    \n",
    "    # Computing distribution mode\n",
    "    home_goals_mode = np.argmax(score_pmf) // (17)\n",
    "    away_goals_mode = np.argmax(score_pmf) % (17)\n",
    "    score_pred = (home_goals_mode, away_goals_mode)\n",
    "    return score_pred"
   ]
  },
  {
   "cell_type": "code",
<<<<<<< Updated upstream
   "execution_count": 19,
=======
   "execution_count": 41,
>>>>>>> Stashed changes
   "id": "dd6f3700",
   "metadata": {
    "slideshow": {
     "slide_type": "fragment"
    }
   },
   "outputs": [
    {
     "name": "stdout",
     "output_type": "stream",
     "text": [
<<<<<<< Updated upstream
      "Score Forecast:  (1, 1)\n"
=======
      "Score Forecast:  (0, 1)\n"
>>>>>>> Stashed changes
     ]
    }
   ],
   "source": [
    "# Predicting Chelsea Man City match score\n",
    "X_home, X_away =  create_X('Chelsea', 'Man City')\n",
    "score_pred =  predict_score(X_home, X_away, poisson_model)\n",
    "print('Score Forecast: ', score_pred)"
   ]
  },
  {
   "cell_type": "markdown",
   "id": "12465c91",
   "metadata": {
    "slideshow": {
     "slide_type": "slide"
    }
   },
   "source": [
    "## Validating our predictions ... how well did we do?"
   ]
  },
  {
   "cell_type": "markdown",
   "id": "7e3596cc",
   "metadata": {
    "slideshow": {
     "slide_type": "fragment"
    }
   },
   "source": [
    "- To find out how our model performed, it is important to devise some form of scoring metric\n"
   ]
  },
  {
   "cell_type": "markdown",
   "id": "422efcd8",
   "metadata": {
    "slideshow": {
     "slide_type": "fragment"
    }
   },
   "source": [
    "- In this workshop, we will use the mean squared error to asses this:\n",
    "$$\\text{MSE}(y, \\hat y) \\,=\\, \\frac{1}{N} \\sum_{i=1}^{N} (y_i - \\hat y_i)^2$$"
   ]
  },
  {
   "cell_type": "code",
   "execution_count": 20,
   "id": "daba49bb",
   "metadata": {
    "slideshow": {
     "slide_type": "fragment"
    }
   },
   "outputs": [],
   "source": [
    "def mse(y_true, ypred):\n",
    "    np.square(np.subtract(Y_true,Y_pred)).mean()"
   ]
  },
  {
   "cell_type": "code",
   "execution_count": 21,
   "id": "f4aa9719",
   "metadata": {
    "slideshow": {
     "slide_type": "fragment"
    }
   },
   "outputs": [],
   "source": [
    "def model_eval(X, model):\n",
    "    # Predicting distribution of match scores\n",
    "    #### LEFT AS AN EXERCISE ####\n",
    "    pass"
   ]
  },
  {
   "cell_type": "markdown",
   "id": "8e224e98",
   "metadata": {
    "slideshow": {
     "slide_type": "slide"
    }
   },
   "source": [
    "## Links to some data sources\n",
    "\n",
    "\n",
    "Future Fixtures CSV: https://fixturedownload.com/download/epl-2021-GMTStandardTime.csv\n",
    "\n",
    "\n",
    "Historical Standings: https://www.rotowire.com/soccer/league-table.php?season=2018"
   ]
  },
  {
   "cell_type": "markdown",
   "id": "362ba132",
   "metadata": {
    "slideshow": {
     "slide_type": "slide"
    }
   },
   "source": [
    "## Next Steps"
   ]
  },
  {
   "cell_type": "markdown",
   "id": "4f37d4f2",
   "metadata": {},
   "source": [
    "- Sign up and Participate in the competition!"
   ]
  },
  {
   "cell_type": "markdown",
   "id": "80a21263",
   "metadata": {
    "slideshow": {
     "slide_type": "fragment"
    }
   },
   "source": [
    "- Build on the benchmark\n"
   ]
  },
  {
   "cell_type": "markdown",
   "id": "7fa13454",
   "metadata": {
    "slideshow": {
     "slide_type": "fragment"
    }
   },
   "source": [
    "- Additional regressors (betting odds?)"
   ]
  },
  {
   "cell_type": "markdown",
   "id": "db8b5ca4",
   "metadata": {
    "slideshow": {
     "slide_type": "fragment"
    }
   },
   "source": [
    "- Alternative data sources (Twitter and NLP?)"
   ]
  },
  {
   "cell_type": "markdown",
   "id": "49308589",
   "metadata": {
    "slideshow": {
     "slide_type": "fragment"
    }
   },
   "source": [
    "- Cross-validation of predictions\n"
   ]
  },
  {
   "cell_type": "markdown",
   "id": "732f5bf5",
   "metadata": {
    "slideshow": {
     "slide_type": "fragment"
    }
   },
   "source": [
    "- Dixon-Coles model\n"
   ]
  },
  {
   "cell_type": "markdown",
   "id": "eb156790",
   "metadata": {
    "slideshow": {
     "slide_type": "slide"
    }
   },
   "source": [
    "# How to sign up for the competition?"
   ]
  }
 ],
 "metadata": {
  "celltoolbar": "Slideshow",
  "kernelspec": {
   "display_name": "Python 3",
   "language": "python",
   "name": "python3"
  },
  "language_info": {
   "codemirror_mode": {
    "name": "ipython",
    "version": 3
   },
   "file_extension": ".py",
   "mimetype": "text/x-python",
   "name": "python",
   "nbconvert_exporter": "python",
   "pygments_lexer": "ipython3",
   "version": "3.8.8"
  }
 },
 "nbformat": 4,
 "nbformat_minor": 5
}
