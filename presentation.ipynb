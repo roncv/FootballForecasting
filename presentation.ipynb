{
 "cells": [
  {
   "cell_type": "markdown",
   "id": "de265c57",
   "metadata": {
    "slideshow": {
     "slide_type": "slide"
    }
   },
   "source": [
    "# WDSS Football Forecasting Competition\n",
    "\n",
    "\n",
    "\n",
    "\n",
    "\n",
    "<img src=\"logo_subtitle.png\" width=500 />"
   ]
  },
  {
   "cell_type": "markdown",
   "id": "d22b4852",
   "metadata": {
    "slideshow": {
     "slide_type": "slide"
    }
   },
   "source": [
    "## Our Sponsor\n",
    "\n",
    "<img src=\"mustard-systems-logo.png\" width=500 />"
   ]
  },
  {
   "cell_type": "markdown",
   "id": "2ac5504d",
   "metadata": {
    "slideshow": {
     "slide_type": "slide"
    }
   },
   "source": [
    "## The Competition"
   ]
  },
  {
   "cell_type": "markdown",
   "id": "d0040431",
   "metadata": {
    "slideshow": {
     "slide_type": "fragment"
    }
   },
   "source": [
    "- Predicting the scores of football matches isn't a new idea \n"
   ]
  },
  {
   "cell_type": "markdown",
   "id": "5de9ed9c",
   "metadata": {
    "slideshow": {
     "slide_type": "fragment"
    }
   },
   "source": [
    "- People try their luck at bookies daily with nothing more than guesses, however at WDSS a more data-driven approach is preferred "
   ]
  },
  {
   "cell_type": "markdown",
   "id": "24d2f3bc",
   "metadata": {
    "slideshow": {
     "slide_type": "fragment"
    }
   },
   "source": [
    "- The competition aims to draw together the best implementations of these with hopes of finding the best model possible"
   ]
  },
  {
   "cell_type": "markdown",
   "id": "e97d861c",
   "metadata": {
    "slideshow": {
     "slide_type": "slide"
    }
   },
   "source": [
    "## The Format"
   ]
  },
  {
   "cell_type": "markdown",
   "id": "91fb6b15",
   "metadata": {
    "slideshow": {
     "slide_type": "fragment"
    }
   },
   "source": [
    "- Weekly predictions on the **scores** of each Premier League match, starting Week 2\n"
   ]
  },
  {
   "cell_type": "markdown",
   "id": "2eaa0dda",
   "metadata": {
    "slideshow": {
     "slide_type": "fragment"
    }
   },
   "source": [
    "- Each week the predictions must be **ranked** from 1 to 10 in terms of confidence"
   ]
  },
  {
   "cell_type": "markdown",
   "id": "ca6131ac",
   "metadata": {
    "slideshow": {
     "slide_type": "fragment"
    }
   },
   "source": [
    "- Each contestor's predictions will be scored based on their weighted **mean squared error** and converted into points using a monotonously-decreasing rule "
   ]
  },
  {
   "cell_type": "markdown",
   "id": "b770449a",
   "metadata": {
    "slideshow": {
     "slide_type": "slide"
    }
   },
   "source": [
    "## The Calendar"
   ]
  },
  {
   "cell_type": "markdown",
   "id": "11259fea",
   "metadata": {
    "slideshow": {
     "slide_type": "fragment"
    }
   },
   "source": [
    "|Warwick Week| Week Starting|GW   | Game Days   |Fixtures|\n",
    "|------------|--------------|-----|----------   |--------|\n",
    "|Week 2      |11 - Oct      |8    |Sat - Mon    |10      |\n",
    "|Week 3      |18 - Oct      |9    |Fri - Sun    |10      |\n",
    "|Week 4      |25 - Oct      |10   |Sat - Mon    |10      |\n",
    "|Week 5      |01 - Nov      |11   |Fri - Sun    |10      |\n",
    "|Week 6      |08 - Nov      |BREAK|BREAK        |-       |\n",
    "|Week 7      |15 - Nov      |12   |Sat - Sun    |10      |\n",
    "|Week 8      |22 - Nov      |13   |Sat - Sun    |10      |\n",
    "|Week 9      |29 - Nov      |14&15|Tue, Wed, Sat|10      |\n",
    "|Week 10     |06 - Dec      |16   |Sat          |10      |"
   ]
  },
  {
   "cell_type": "markdown",
   "id": "8bee283d",
   "metadata": {
    "slideshow": {
     "slide_type": "slide"
    }
   },
   "source": [
    "## The Rules"
   ]
  },
  {
   "cell_type": "markdown",
   "id": "b01e9c95",
   "metadata": {
    "slideshow": {
     "slide_type": "fragment"
    }
   },
   "source": [
    "- All weekly submissions must be accompanied by a model created in **Jupyter Notebooks (.ipynb file)** or **R Markdown notebooks (.Rmd)**"
   ]
  },
  {
   "cell_type": "markdown",
   "id": "4b99c212",
   "metadata": {
    "slideshow": {
     "slide_type": "fragment"
    }
   },
   "source": [
    "- Scores predicted must **match the output of your model** (we will check this and disqualify inconsistent submissions) \n",
    "\n"
   ]
  },
  {
   "cell_type": "markdown",
   "id": "b83b3d08",
   "metadata": {
    "slideshow": {
     "slide_type": "fragment"
    }
   },
   "source": [
    "- Sources of data should be made clear within submissions"
   ]
  },
  {
   "cell_type": "markdown",
   "id": "9f7085a0",
   "metadata": {
    "slideshow": {
     "slide_type": "fragment"
    }
   },
   "source": [
    "- There will be some flexibility in what constitutes as a model, but please refer to today's demo model as a benchmark \n",
    "\n"
   ]
  },
  {
   "cell_type": "markdown",
   "id": "c1ada204",
   "metadata": {
    "slideshow": {
     "slide_type": "fragment"
    }
   },
   "source": [
    "- Have Fun! "
   ]
  },
  {
   "cell_type": "markdown",
   "id": "992f77a3",
   "metadata": {
    "slideshow": {
     "slide_type": "slide"
    },
    "tags": []
   },
   "source": [
    "## The Winner & Prize"
   ]
  },
  {
   "cell_type": "markdown",
   "id": "3e09d4d4",
   "metadata": {
    "slideshow": {
     "slide_type": "fragment"
    }
   },
   "source": [
    "- The competition will be split across Term 1 & 2 with a **prize pool of £700** for each iteration \n"
   ]
  },
  {
   "cell_type": "markdown",
   "id": "604cdb74",
   "metadata": {
    "slideshow": {
     "slide_type": "fragment"
    }
   },
   "source": [
    "- This prize pool will be split between the top competitors as ranked by the accuracy of their predictions \n"
   ]
  },
  {
   "cell_type": "markdown",
   "id": "03593fa5",
   "metadata": {
    "slideshow": {
     "slide_type": "fragment"
    }
   },
   "source": [
    "- Additionally, a £100 prize will be awarded for the model that displays the most **ingenuity**, **creativity**, and **good statistical practice** "
   ]
  },
  {
   "cell_type": "markdown",
   "id": "d93593a9",
   "metadata": {
    "slideshow": {
     "slide_type": "slide"
    }
   },
   "source": [
    "# Getting Started: lets build a demo model"
   ]
  },
  {
   "cell_type": "markdown",
   "id": "fedebaa2",
   "metadata": {
    "slideshow": {
     "slide_type": "fragment"
    }
   },
   "source": [
    "- Today we will guide you in building a **baseline model** for our upcoming Premier League forecasting competition"
   ]
  },
  {
   "cell_type": "markdown",
   "id": "b4cd9a4e",
   "metadata": {
    "slideshow": {
     "slide_type": "fragment"
    }
   },
   "source": [
    "- This model will NOT win the competition for you, but it will help point you in the right direction"
   ]
  },
  {
   "cell_type": "markdown",
   "id": "0f9490f7",
   "metadata": {
    "slideshow": {
     "slide_type": "slide"
    }
   },
   "source": [
    "## Start out with our imports"
   ]
  },
  {
   "cell_type": "code",
   "execution_count": 24,
   "id": "8c4aad19",
   "metadata": {
    "slideshow": {
     "slide_type": "fragment"
    }
   },
   "outputs": [],
   "source": [
    "# Dependencies\n",
    "from scipy.stats import poisson \n",
    "import numpy as np\n",
    "import matplotlib\n",
    "import matplotlib.pyplot as plt \n",
    "import seaborn as sns\n",
    "import pandas as pd\n",
    "import statsmodels.api as sm\n",
    "import statsmodels.formula.api as smf"
   ]
  },
  {
   "cell_type": "markdown",
   "id": "e48d8b5e",
   "metadata": {
    "slideshow": {
     "slide_type": "slide"
    }
   },
   "source": [
    "## Gathering our data"
   ]
  },
  {
   "cell_type": "code",
   "execution_count": 2,
   "id": "eb8a0d6f",
   "metadata": {
    "slideshow": {
     "slide_type": "fragment"
    }
   },
   "outputs": [],
   "source": [
    "# Function to retrieve premier league data\n",
    "def get_premier_league_data(start_year):\n",
    "    season = str(start_year)[-2:] + str(start_year + 1)[-2:]\n",
    "    data = pd.read_csv(\"http://www.football-data.co.uk/mmz4281/\" + season + \"/E0.csv\") \n",
    "    return data"
   ]
  },
  {
   "cell_type": "code",
   "execution_count": 3,
   "id": "f59b0418",
   "metadata": {
    "slideshow": {
     "slide_type": "slide"
    }
   },
   "outputs": [
    {
     "data": {
      "text/html": [
       "<div>\n",
       "<style scoped>\n",
       "    .dataframe tbody tr th:only-of-type {\n",
       "        vertical-align: middle;\n",
       "    }\n",
       "\n",
       "    .dataframe tbody tr th {\n",
       "        vertical-align: top;\n",
       "    }\n",
       "\n",
       "    .dataframe thead th {\n",
       "        text-align: right;\n",
       "    }\n",
       "</style>\n",
       "<table border=\"1\" class=\"dataframe\">\n",
       "  <thead>\n",
       "    <tr style=\"text-align: right;\">\n",
       "      <th></th>\n",
       "      <th>Div</th>\n",
       "      <th>Date</th>\n",
       "      <th>HomeTeam</th>\n",
       "      <th>AwayTeam</th>\n",
       "      <th>FTHG</th>\n",
       "      <th>FTAG</th>\n",
       "      <th>FTR</th>\n",
       "      <th>HTHG</th>\n",
       "      <th>HTAG</th>\n",
       "      <th>HTR</th>\n",
       "      <th>...</th>\n",
       "      <th>BbAv&lt;2.5</th>\n",
       "      <th>BbAH</th>\n",
       "      <th>BbAHh</th>\n",
       "      <th>BbMxAHH</th>\n",
       "      <th>BbAvAHH</th>\n",
       "      <th>BbMxAHA</th>\n",
       "      <th>BbAvAHA</th>\n",
       "      <th>PSCH</th>\n",
       "      <th>PSCD</th>\n",
       "      <th>PSCA</th>\n",
       "    </tr>\n",
       "  </thead>\n",
       "  <tbody>\n",
       "    <tr>\n",
       "      <th>0</th>\n",
       "      <td>E0</td>\n",
       "      <td>10/08/2018</td>\n",
       "      <td>Man United</td>\n",
       "      <td>Leicester</td>\n",
       "      <td>2</td>\n",
       "      <td>1</td>\n",
       "      <td>H</td>\n",
       "      <td>1</td>\n",
       "      <td>0</td>\n",
       "      <td>H</td>\n",
       "      <td>...</td>\n",
       "      <td>1.79</td>\n",
       "      <td>17</td>\n",
       "      <td>-0.75</td>\n",
       "      <td>1.75</td>\n",
       "      <td>1.70</td>\n",
       "      <td>2.29</td>\n",
       "      <td>2.21</td>\n",
       "      <td>1.55</td>\n",
       "      <td>4.07</td>\n",
       "      <td>7.69</td>\n",
       "    </tr>\n",
       "    <tr>\n",
       "      <th>1</th>\n",
       "      <td>E0</td>\n",
       "      <td>11/08/2018</td>\n",
       "      <td>Bournemouth</td>\n",
       "      <td>Cardiff</td>\n",
       "      <td>2</td>\n",
       "      <td>0</td>\n",
       "      <td>H</td>\n",
       "      <td>1</td>\n",
       "      <td>0</td>\n",
       "      <td>H</td>\n",
       "      <td>...</td>\n",
       "      <td>1.83</td>\n",
       "      <td>20</td>\n",
       "      <td>-0.75</td>\n",
       "      <td>2.20</td>\n",
       "      <td>2.13</td>\n",
       "      <td>1.80</td>\n",
       "      <td>1.75</td>\n",
       "      <td>1.88</td>\n",
       "      <td>3.61</td>\n",
       "      <td>4.70</td>\n",
       "    </tr>\n",
       "    <tr>\n",
       "      <th>2</th>\n",
       "      <td>E0</td>\n",
       "      <td>11/08/2018</td>\n",
       "      <td>Fulham</td>\n",
       "      <td>Crystal Palace</td>\n",
       "      <td>0</td>\n",
       "      <td>2</td>\n",
       "      <td>A</td>\n",
       "      <td>0</td>\n",
       "      <td>1</td>\n",
       "      <td>A</td>\n",
       "      <td>...</td>\n",
       "      <td>1.87</td>\n",
       "      <td>22</td>\n",
       "      <td>-0.25</td>\n",
       "      <td>2.18</td>\n",
       "      <td>2.11</td>\n",
       "      <td>1.81</td>\n",
       "      <td>1.77</td>\n",
       "      <td>2.62</td>\n",
       "      <td>3.38</td>\n",
       "      <td>2.90</td>\n",
       "    </tr>\n",
       "    <tr>\n",
       "      <th>3</th>\n",
       "      <td>E0</td>\n",
       "      <td>11/08/2018</td>\n",
       "      <td>Huddersfield</td>\n",
       "      <td>Chelsea</td>\n",
       "      <td>0</td>\n",
       "      <td>3</td>\n",
       "      <td>A</td>\n",
       "      <td>0</td>\n",
       "      <td>2</td>\n",
       "      <td>A</td>\n",
       "      <td>...</td>\n",
       "      <td>1.84</td>\n",
       "      <td>23</td>\n",
       "      <td>1.00</td>\n",
       "      <td>1.84</td>\n",
       "      <td>1.80</td>\n",
       "      <td>2.13</td>\n",
       "      <td>2.06</td>\n",
       "      <td>7.24</td>\n",
       "      <td>3.95</td>\n",
       "      <td>1.58</td>\n",
       "    </tr>\n",
       "    <tr>\n",
       "      <th>4</th>\n",
       "      <td>E0</td>\n",
       "      <td>11/08/2018</td>\n",
       "      <td>Newcastle</td>\n",
       "      <td>Tottenham</td>\n",
       "      <td>1</td>\n",
       "      <td>2</td>\n",
       "      <td>A</td>\n",
       "      <td>1</td>\n",
       "      <td>2</td>\n",
       "      <td>A</td>\n",
       "      <td>...</td>\n",
       "      <td>1.81</td>\n",
       "      <td>20</td>\n",
       "      <td>0.25</td>\n",
       "      <td>2.20</td>\n",
       "      <td>2.12</td>\n",
       "      <td>1.80</td>\n",
       "      <td>1.76</td>\n",
       "      <td>4.74</td>\n",
       "      <td>3.53</td>\n",
       "      <td>1.89</td>\n",
       "    </tr>\n",
       "  </tbody>\n",
       "</table>\n",
       "<p>5 rows × 62 columns</p>\n",
       "</div>"
      ],
      "text/plain": [
       "  Div        Date      HomeTeam        AwayTeam  FTHG  FTAG FTR  HTHG  HTAG  \\\n",
       "0  E0  10/08/2018    Man United       Leicester     2     1   H     1     0   \n",
       "1  E0  11/08/2018   Bournemouth         Cardiff     2     0   H     1     0   \n",
       "2  E0  11/08/2018        Fulham  Crystal Palace     0     2   A     0     1   \n",
       "3  E0  11/08/2018  Huddersfield         Chelsea     0     3   A     0     2   \n",
       "4  E0  11/08/2018     Newcastle       Tottenham     1     2   A     1     2   \n",
       "\n",
       "  HTR  ... BbAv<2.5  BbAH  BbAHh  BbMxAHH  BbAvAHH  BbMxAHA  BbAvAHA  PSCH  \\\n",
       "0   H  ...     1.79    17  -0.75     1.75     1.70     2.29     2.21  1.55   \n",
       "1   H  ...     1.83    20  -0.75     2.20     2.13     1.80     1.75  1.88   \n",
       "2   A  ...     1.87    22  -0.25     2.18     2.11     1.81     1.77  2.62   \n",
       "3   A  ...     1.84    23   1.00     1.84     1.80     2.13     2.06  7.24   \n",
       "4   A  ...     1.81    20   0.25     2.20     2.12     1.80     1.76  4.74   \n",
       "\n",
       "   PSCD  PSCA  \n",
       "0  4.07  7.69  \n",
       "1  3.61  4.70  \n",
       "2  3.38  2.90  \n",
       "3  3.95  1.58  \n",
       "4  3.53  1.89  \n",
       "\n",
       "[5 rows x 62 columns]"
      ]
     },
     "execution_count": 3,
     "metadata": {},
     "output_type": "execute_result"
    }
   ],
   "source": [
    "# Get data from the 2018/2019 season\n",
    "data = get_premier_league_data(2018)\n",
    "data.head()"
   ]
  },
  {
   "cell_type": "markdown",
   "id": "1cfe9989",
   "metadata": {
    "slideshow": {
     "slide_type": "slide"
    }
   },
   "source": [
    "## Light cleaning"
   ]
  },
  {
   "cell_type": "code",
   "execution_count": 4,
   "id": "672f3b72",
   "metadata": {
    "slideshow": {
     "slide_type": "fragment"
    }
   },
   "outputs": [],
   "source": [
    "# Filtering columns of interest\n",
    "columns = [\"HomeTeam\", \"AwayTeam\", \"FTHG\", \"FTAG\", \"FTR\"]\n",
    "data = data[columns]\n",
    "\n",
    "# Renaming columns\n",
    "data = data.rename(\n",
    "    columns={\"FTHG\": \"HomeGoals\", \"FTAG\": \"AwayGoals\", \"FTR\": \"Result\"}\n",
    ")"
   ]
  },
  {
   "cell_type": "code",
   "execution_count": 5,
   "id": "596161f1",
   "metadata": {
    "slideshow": {
     "slide_type": "fragment"
    }
   },
   "outputs": [],
   "source": [
    "# Remove final week of fixtures"
   ]
  },
  {
   "cell_type": "code",
   "execution_count": 6,
   "id": "e5401b93",
   "metadata": {
    "slideshow": {
     "slide_type": "fragment"
    }
   },
   "outputs": [
    {
     "data": {
      "text/html": [
       "<div>\n",
       "<style scoped>\n",
       "    .dataframe tbody tr th:only-of-type {\n",
       "        vertical-align: middle;\n",
       "    }\n",
       "\n",
       "    .dataframe tbody tr th {\n",
       "        vertical-align: top;\n",
       "    }\n",
       "\n",
       "    .dataframe thead th {\n",
       "        text-align: right;\n",
       "    }\n",
       "</style>\n",
       "<table border=\"1\" class=\"dataframe\">\n",
       "  <thead>\n",
       "    <tr style=\"text-align: right;\">\n",
       "      <th></th>\n",
       "      <th>HomeTeam</th>\n",
       "      <th>AwayTeam</th>\n",
       "      <th>HomeGoals</th>\n",
       "      <th>AwayGoals</th>\n",
       "      <th>Result</th>\n",
       "    </tr>\n",
       "  </thead>\n",
       "  <tbody>\n",
       "    <tr>\n",
       "      <th>0</th>\n",
       "      <td>Man United</td>\n",
       "      <td>Leicester</td>\n",
       "      <td>2</td>\n",
       "      <td>1</td>\n",
       "      <td>H</td>\n",
       "    </tr>\n",
       "    <tr>\n",
       "      <th>1</th>\n",
       "      <td>Bournemouth</td>\n",
       "      <td>Cardiff</td>\n",
       "      <td>2</td>\n",
       "      <td>0</td>\n",
       "      <td>H</td>\n",
       "    </tr>\n",
       "    <tr>\n",
       "      <th>2</th>\n",
       "      <td>Fulham</td>\n",
       "      <td>Crystal Palace</td>\n",
       "      <td>0</td>\n",
       "      <td>2</td>\n",
       "      <td>A</td>\n",
       "    </tr>\n",
       "    <tr>\n",
       "      <th>3</th>\n",
       "      <td>Huddersfield</td>\n",
       "      <td>Chelsea</td>\n",
       "      <td>0</td>\n",
       "      <td>3</td>\n",
       "      <td>A</td>\n",
       "    </tr>\n",
       "    <tr>\n",
       "      <th>4</th>\n",
       "      <td>Newcastle</td>\n",
       "      <td>Tottenham</td>\n",
       "      <td>1</td>\n",
       "      <td>2</td>\n",
       "      <td>A</td>\n",
       "    </tr>\n",
       "  </tbody>\n",
       "</table>\n",
       "</div>"
      ],
      "text/plain": [
       "       HomeTeam        AwayTeam  HomeGoals  AwayGoals Result\n",
       "0    Man United       Leicester          2          1      H\n",
       "1   Bournemouth         Cardiff          2          0      H\n",
       "2        Fulham  Crystal Palace          0          2      A\n",
       "3  Huddersfield         Chelsea          0          3      A\n",
       "4     Newcastle       Tottenham          1          2      A"
      ]
     },
     "execution_count": 6,
     "metadata": {},
     "output_type": "execute_result"
    }
   ],
   "source": [
    "data.head()"
   ]
  },
  {
   "cell_type": "markdown",
   "id": "918ce900",
   "metadata": {
    "slideshow": {
     "slide_type": "slide"
    }
   },
   "source": [
    "## Simple analysis: Home team advantage?\n"
   ]
  },
  {
   "cell_type": "code",
   "execution_count": 7,
   "id": "435b57f5",
   "metadata": {
    "slideshow": {
     "slide_type": "fragment"
    }
   },
   "outputs": [
    {
     "data": {
      "text/plain": [
       "HomeGoals    1.575676\n",
       "AwayGoals    1.224324\n",
       "dtype: float64"
      ]
     },
     "execution_count": 7,
     "metadata": {},
     "output_type": "execute_result"
    }
   ],
   "source": [
    "# Compute the average number of home and away goals "
   ]
  },
  {
   "cell_type": "markdown",
   "id": "e6396f07",
   "metadata": {
    "slideshow": {
     "slide_type": "slide"
    }
   },
   "source": [
    "## Towards a match prediction model "
   ]
  },
  {
   "cell_type": "markdown",
   "id": "18568fc7",
   "metadata": {
    "slideshow": {
     "slide_type": "fragment"
    }
   },
   "source": [
    "- One way to predict the match score is to consider the number of goals scored by each team\n"
   ]
  },
  {
   "cell_type": "markdown",
   "id": "cb4b9907",
   "metadata": {
    "slideshow": {
     "slide_type": "fragment"
    }
   },
   "source": [
    "- We will denote the number of goals scored by a particular team in a match $i$ by $y_i$ \n"
   ]
  },
  {
   "cell_type": "markdown",
   "id": "4e624f99",
   "metadata": {
    "slideshow": {
     "slide_type": "fragment"
    }
   },
   "source": [
    "- Furthermore, we will use *regression analysis* to model $\\mathbb{E}[y | \\boldsymbol{x}_i]$, where $\\boldsymbol{x}_i$ is a vector of $k$ predictor variables for one particular match"
   ]
  },
  {
   "cell_type": "markdown",
   "id": "eb3d2583",
   "metadata": {
    "slideshow": {
     "slide_type": "slide"
    }
   },
   "source": [
    "## The Poisson distribution"
   ]
  },
  {
   "cell_type": "markdown",
   "id": "10d3afe6",
   "metadata": {
    "slideshow": {
     "slide_type": "fragment"
    }
   },
   "source": [
    "- The Poisson distribution is often used to model the probability distribution of *count events* (that is, the same event happening a specific number of times in a fixed time frame)\n"
   ]
  },
  {
   "cell_type": "markdown",
   "id": "74f6d43c",
   "metadata": {
    "slideshow": {
     "slide_type": "fragment"
    }
   },
   "source": [
    "- It is a *discrete* distribution parametarized by a mean constant rate of occurences $\\lambda$"
   ]
  },
  {
   "cell_type": "markdown",
   "id": "eb5c7870",
   "metadata": {
    "slideshow": {
     "slide_type": "fragment"
    }
   },
   "source": [
    "- It assumes that event occurances within the interval are *independent* of one another"
   ]
  },
  {
   "cell_type": "markdown",
   "id": "b90a3ab4",
   "metadata": {
    "slideshow": {
     "slide_type": "fragment"
    }
   },
   "source": [
    "- It can be especially useful to model the number of goals we expect a team to score"
   ]
  },
  {
   "cell_type": "markdown",
   "id": "8f630c07",
   "metadata": {
    "slideshow": {
     "slide_type": "slide"
    }
   },
   "source": [
    "## The Poisson distribution: an example"
   ]
  },
  {
   "cell_type": "code",
   "execution_count": 8,
   "id": "ca142a4d",
   "metadata": {
    "scrolled": false,
    "slideshow": {
     "slide_type": "fragment"
    }
   },
   "outputs": [
    {
     "data": {
      "image/png": "[encoded data removed]",
      "text/plain": [
       "<Figure size 432x288 with 1 Axes>"
      ]
     },
     "metadata": {
      "needs_background": "light"
     },
     "output_type": "display_data"
    }
   ],
   "source": [
    "# Here we simulate 1 million samples from a Poisson distribution with a mean of two\n",
    "x = np.random.poisson(2, 1000000)\n",
    "plt.hist(x, 14, density=True)\n",
    "plt.show()"
   ]
  },
  {
   "cell_type": "markdown",
   "id": "48c87944",
   "metadata": {
    "slideshow": {
     "slide_type": "slide"
    }
   },
   "source": [
    "## Preparing our training data"
   ]
  },
  {
   "cell_type": "code",
   "execution_count": 9,
   "id": "10bca848",
   "metadata": {
    "slideshow": {
     "slide_type": "fragment"
    }
   },
   "outputs": [],
   "source": [
    "# Separate home goals data\n",
    "home_goals = data[[\"HomeTeam\", \"AwayTeam\", \"HomeGoals\"]]\n",
    "home_goals = home_goals.assign(home=1)\n",
    "home_goals = home_goals.rename(\n",
    "    columns={\"HomeTeam\": \"team\",\n",
    "             \"AwayTeam\": \"opponent\", \n",
    "             \"HomeGoals\": \"goals\"}\n",
    ")\n",
    "\n",
    "# Separate away goals data"
   ]
  },
  {
   "cell_type": "code",
   "execution_count": 10,
   "id": "27b7c0cb",
   "metadata": {
    "slideshow": {
     "slide_type": "slide"
    }
   },
   "outputs": [
    {
     "data": {
      "text/html": [
       "<div>\n",
       "<style scoped>\n",
       "    .dataframe tbody tr th:only-of-type {\n",
       "        vertical-align: middle;\n",
       "    }\n",
       "\n",
       "    .dataframe tbody tr th {\n",
       "        vertical-align: top;\n",
       "    }\n",
       "\n",
       "    .dataframe thead th {\n",
       "        text-align: right;\n",
       "    }\n",
       "</style>\n",
       "<table border=\"1\" class=\"dataframe\">\n",
       "  <thead>\n",
       "    <tr style=\"text-align: right;\">\n",
       "      <th></th>\n",
       "      <th>team</th>\n",
       "      <th>opponent</th>\n",
       "      <th>goals</th>\n",
       "      <th>home</th>\n",
       "    </tr>\n",
       "  </thead>\n",
       "  <tbody>\n",
       "    <tr>\n",
       "      <th>0</th>\n",
       "      <td>Man United</td>\n",
       "      <td>Leicester</td>\n",
       "      <td>2</td>\n",
       "      <td>1</td>\n",
       "    </tr>\n",
       "    <tr>\n",
       "      <th>1</th>\n",
       "      <td>Bournemouth</td>\n",
       "      <td>Cardiff</td>\n",
       "      <td>2</td>\n",
       "      <td>1</td>\n",
       "    </tr>\n",
       "    <tr>\n",
       "      <th>2</th>\n",
       "      <td>Fulham</td>\n",
       "      <td>Crystal Palace</td>\n",
       "      <td>0</td>\n",
       "      <td>1</td>\n",
       "    </tr>\n",
       "    <tr>\n",
       "      <th>3</th>\n",
       "      <td>Huddersfield</td>\n",
       "      <td>Chelsea</td>\n",
       "      <td>0</td>\n",
       "      <td>1</td>\n",
       "    </tr>\n",
       "    <tr>\n",
       "      <th>4</th>\n",
       "      <td>Newcastle</td>\n",
       "      <td>Tottenham</td>\n",
       "      <td>1</td>\n",
       "      <td>1</td>\n",
       "    </tr>\n",
       "  </tbody>\n",
       "</table>\n",
       "</div>"
      ],
      "text/plain": [
       "           team        opponent  goals  home\n",
       "0    Man United       Leicester      2     1\n",
       "1   Bournemouth         Cardiff      2     1\n",
       "2        Fulham  Crystal Palace      0     1\n",
       "3  Huddersfield         Chelsea      0     1\n",
       "4     Newcastle       Tottenham      1     1"
      ]
     },
     "execution_count": 10,
     "metadata": {},
     "output_type": "execute_result"
    }
   ],
   "source": [
    "# Concatenating into training data \n",
    "train_data = pd.concat([home_goals, away_goals])\n",
    "train_data.head()"
   ]
  },
  {
   "cell_type": "markdown",
   "id": "9ef0c817",
   "metadata": {
    "slideshow": {
     "slide_type": "slide"
    }
   },
   "source": [
    "## The Poisson regression model"
   ]
  },
  {
   "cell_type": "markdown",
   "id": "26d2fac0",
   "metadata": {
    "slideshow": {
     "slide_type": "fragment"
    }
   },
   "source": [
    "- To predict the number of goals each team scores, we will fit the following model using match-level data\n"
   ]
  },
  {
   "cell_type": "markdown",
   "id": "87ee09b7",
   "metadata": {
    "slideshow": {
     "slide_type": "fragment"
    }
   },
   "source": [
    "$$y_i \\sim Poisson(\\lambda_i)$$\n",
    "\n",
    "\n",
    "$$\\ln (\\lambda_i) = \\beta_0 \\,+\\, \\beta_1x_{i1} + ... + \\beta_1x_{ik}$$"
   ]
  },
  {
   "cell_type": "markdown",
   "id": "77eb8da6",
   "metadata": {
    "slideshow": {
     "slide_type": "fragment"
    }
   },
   "source": [
    "- Here, $\\lambda_i$ is the mean number goals scored by the home team in match $i$, which we aim to predict using variables $\\boldsymbol{x}_i$"
   ]
  },
  {
   "cell_type": "code",
   "execution_count": 11,
   "id": "590f8f66",
   "metadata": {
    "slideshow": {
     "slide_type": "slide"
    }
   },
   "outputs": [],
   "source": [
    "# Building the model\n",
    "# Poisson Regression: log-linear model\n",
    "poisson_model = smf.glm(\n",
    "    formula=\"goals ~ ???\",\n",
    "    data=train_data,\n",
    "    family=sm.families.Poisson() \n",
    ").fit()"
   ]
  },
  {
   "cell_type": "code",
   "execution_count": 12,
   "id": "422b5962",
   "metadata": {
    "slideshow": {
     "slide_type": "fragment"
    }
   },
   "outputs": [
    {
     "data": {
      "text/html": [
       "<table class=\"simpletable\">\n",
       "<caption>Generalized Linear Model Regression Results</caption>\n",
       "<tr>\n",
       "  <th>Dep. Variable:</th>         <td>goals</td>      <th>  No. Observations:  </th>  <td>   740</td> \n",
       "</tr>\n",
       "<tr>\n",
       "  <th>Model:</th>                  <td>GLM</td>       <th>  Df Residuals:      </th>  <td>   700</td> \n",
       "</tr>\n",
       "<tr>\n",
       "  <th>Model Family:</th>         <td>Poisson</td>     <th>  Df Model:          </th>  <td>    39</td> \n",
       "</tr>\n",
       "<tr>\n",
       "  <th>Link Function:</th>          <td>log</td>       <th>  Scale:             </th> <td>  1.0000</td>\n",
       "</tr>\n",
       "<tr>\n",
       "  <th>Method:</th>                <td>IRLS</td>       <th>  Log-Likelihood:    </th> <td> -1105.9</td>\n",
       "</tr>\n",
       "<tr>\n",
       "  <th>Date:</th>            <td>Sat, 02 Oct 2021</td> <th>  Deviance:          </th> <td>  883.94</td>\n",
       "</tr>\n",
       "<tr>\n",
       "  <th>Time:</th>                <td>12:08:59</td>     <th>  Pearson chi2:      </th>  <td>  754.</td> \n",
       "</tr>\n",
       "<tr>\n",
       "  <th>No. Iterations:</th>          <td>5</td>        <th>                     </th>     <td> </td>   \n",
       "</tr>\n",
       "<tr>\n",
       "  <th>Covariance Type:</th>     <td>nonrobust</td>    <th>                     </th>     <td> </td>   \n",
       "</tr>\n",
       "</table>\n",
       "<table class=\"simpletable\">\n",
       "<tr>\n",
       "               <td></td>                 <th>coef</th>     <th>std err</th>      <th>z</th>      <th>P>|z|</th>  <th>[0.025</th>    <th>0.975]</th>  \n",
       "</tr>\n",
       "<tr>\n",
       "  <th>Intercept</th>                  <td>    0.5195</td> <td>    0.189</td> <td>    2.747</td> <td> 0.006</td> <td>    0.149</td> <td>    0.890</td>\n",
       "</tr>\n",
       "<tr>\n",
       "  <th>team[T.Bournemouth]</th>        <td>   -0.0536</td> <td>    0.189</td> <td>   -0.284</td> <td> 0.776</td> <td>   -0.423</td> <td>    0.316</td>\n",
       "</tr>\n",
       "<tr>\n",
       "  <th>team[T.Brighton]</th>           <td>   -0.2940</td> <td>    0.203</td> <td>   -1.448</td> <td> 0.148</td> <td>   -0.692</td> <td>    0.104</td>\n",
       "</tr>\n",
       "<tr>\n",
       "  <th>team[T.Burnley]</th>            <td>   -0.0501</td> <td>    0.191</td> <td>   -0.262</td> <td> 0.793</td> <td>   -0.425</td> <td>    0.325</td>\n",
       "</tr>\n",
       "<tr>\n",
       "  <th>team[T.Cardiff]</th>            <td>   -0.0039</td> <td>    0.185</td> <td>   -0.021</td> <td> 0.983</td> <td>   -0.367</td> <td>    0.359</td>\n",
       "</tr>\n",
       "<tr>\n",
       "  <th>team[T.Chelsea]</th>            <td>   -0.1413</td> <td>    0.192</td> <td>   -0.735</td> <td> 0.463</td> <td>   -0.518</td> <td>    0.236</td>\n",
       "</tr>\n",
       "<tr>\n",
       "  <th>team[T.Crystal Palace]</th>     <td>   -0.4714</td> <td>    0.216</td> <td>   -2.177</td> <td> 0.029</td> <td>   -0.896</td> <td>   -0.047</td>\n",
       "</tr>\n",
       "<tr>\n",
       "  <th>team[T.Everton]</th>            <td>   -0.1474</td> <td>    0.192</td> <td>   -0.767</td> <td> 0.443</td> <td>   -0.524</td> <td>    0.229</td>\n",
       "</tr>\n",
       "<tr>\n",
       "  <th>team[T.Fulham]</th>             <td>   -0.0407</td> <td>    0.190</td> <td>   -0.215</td> <td> 0.830</td> <td>   -0.412</td> <td>    0.331</td>\n",
       "</tr>\n",
       "<tr>\n",
       "  <th>team[T.Huddersfield]</th>       <td>   -0.3552</td> <td>    0.204</td> <td>   -1.738</td> <td> 0.082</td> <td>   -0.756</td> <td>    0.045</td>\n",
       "</tr>\n",
       "<tr>\n",
       "  <th>team[T.Leicester]</th>          <td>   -0.2332</td> <td>    0.200</td> <td>   -1.164</td> <td> 0.245</td> <td>   -0.626</td> <td>    0.160</td>\n",
       "</tr>\n",
       "<tr>\n",
       "  <th>team[T.Liverpool]</th>          <td>    0.1084</td> <td>    0.182</td> <td>    0.594</td> <td> 0.553</td> <td>   -0.249</td> <td>    0.466</td>\n",
       "</tr>\n",
       "<tr>\n",
       "  <th>team[T.Man City]</th>           <td>    0.1545</td> <td>    0.178</td> <td>    0.866</td> <td> 0.387</td> <td>   -0.195</td> <td>    0.504</td>\n",
       "</tr>\n",
       "<tr>\n",
       "  <th>team[T.Man United]</th>         <td>    0.0061</td> <td>    0.188</td> <td>    0.033</td> <td> 0.974</td> <td>   -0.362</td> <td>    0.374</td>\n",
       "</tr>\n",
       "<tr>\n",
       "  <th>team[T.Newcastle]</th>          <td>   -0.1954</td> <td>    0.194</td> <td>   -1.006</td> <td> 0.315</td> <td>   -0.576</td> <td>    0.185</td>\n",
       "</tr>\n",
       "<tr>\n",
       "  <th>team[T.Southampton]</th>        <td>   -0.0070</td> <td>    0.189</td> <td>   -0.037</td> <td> 0.971</td> <td>   -0.377</td> <td>    0.363</td>\n",
       "</tr>\n",
       "<tr>\n",
       "  <th>team[T.Tottenham]</th>          <td>   -0.1941</td> <td>    0.198</td> <td>   -0.981</td> <td> 0.327</td> <td>   -0.582</td> <td>    0.194</td>\n",
       "</tr>\n",
       "<tr>\n",
       "  <th>team[T.Watford]</th>            <td>   -0.1313</td> <td>    0.195</td> <td>   -0.675</td> <td> 0.500</td> <td>   -0.513</td> <td>    0.250</td>\n",
       "</tr>\n",
       "<tr>\n",
       "  <th>team[T.West Ham]</th>           <td>   -0.0032</td> <td>    0.185</td> <td>   -0.017</td> <td> 0.986</td> <td>   -0.366</td> <td>    0.360</td>\n",
       "</tr>\n",
       "<tr>\n",
       "  <th>team[T.Wolves]</th>             <td>   -0.1898</td> <td>    0.194</td> <td>   -0.977</td> <td> 0.329</td> <td>   -0.571</td> <td>    0.191</td>\n",
       "</tr>\n",
       "<tr>\n",
       "  <th>opponent[T.Bournemouth]</th>    <td>   -0.0072</td> <td>    0.180</td> <td>   -0.040</td> <td> 0.968</td> <td>   -0.359</td> <td>    0.345</td>\n",
       "</tr>\n",
       "<tr>\n",
       "  <th>opponent[T.Brighton]</th>       <td>   -0.3280</td> <td>    0.193</td> <td>   -1.702</td> <td> 0.089</td> <td>   -0.706</td> <td>    0.050</td>\n",
       "</tr>\n",
       "<tr>\n",
       "  <th>opponent[T.Burnley]</th>        <td>   -0.1443</td> <td>    0.184</td> <td>   -0.785</td> <td> 0.432</td> <td>   -0.504</td> <td>    0.216</td>\n",
       "</tr>\n",
       "<tr>\n",
       "  <th>opponent[T.Cardiff]</th>        <td>   -0.3863</td> <td>    0.201</td> <td>   -1.926</td> <td> 0.054</td> <td>   -0.779</td> <td>    0.007</td>\n",
       "</tr>\n",
       "<tr>\n",
       "  <th>opponent[T.Chelsea]</th>        <td>   -0.2132</td> <td>    0.190</td> <td>   -1.124</td> <td> 0.261</td> <td>   -0.585</td> <td>    0.159</td>\n",
       "</tr>\n",
       "<tr>\n",
       "  <th>opponent[T.Crystal Palace]</th> <td>   -0.0791</td> <td>    0.180</td> <td>   -0.439</td> <td> 0.661</td> <td>   -0.432</td> <td>    0.274</td>\n",
       "</tr>\n",
       "<tr>\n",
       "  <th>opponent[T.Everton]</th>        <td>   -0.3367</td> <td>    0.196</td> <td>   -1.714</td> <td> 0.087</td> <td>   -0.722</td> <td>    0.048</td>\n",
       "</tr>\n",
       "<tr>\n",
       "  <th>opponent[T.Fulham]</th>         <td>   -0.1437</td> <td>    0.184</td> <td>   -0.781</td> <td> 0.435</td> <td>   -0.504</td> <td>    0.217</td>\n",
       "</tr>\n",
       "<tr>\n",
       "  <th>opponent[T.Huddersfield]</th>   <td>   -0.1356</td> <td>    0.186</td> <td>   -0.730</td> <td> 0.466</td> <td>   -0.500</td> <td>    0.229</td>\n",
       "</tr>\n",
       "<tr>\n",
       "  <th>opponent[T.Leicester]</th>      <td>   -0.1892</td> <td>    0.186</td> <td>   -1.019</td> <td> 0.308</td> <td>   -0.553</td> <td>    0.175</td>\n",
       "</tr>\n",
       "<tr>\n",
       "  <th>opponent[T.Liverpool]</th>      <td>   -0.3491</td> <td>    0.195</td> <td>   -1.789</td> <td> 0.074</td> <td>   -0.731</td> <td>    0.033</td>\n",
       "</tr>\n",
       "<tr>\n",
       "  <th>opponent[T.Man City]</th>       <td>   -0.3453</td> <td>    0.198</td> <td>   -1.746</td> <td> 0.081</td> <td>   -0.733</td> <td>    0.042</td>\n",
       "</tr>\n",
       "<tr>\n",
       "  <th>opponent[T.Man United]</th>     <td>   -0.0732</td> <td>    0.181</td> <td>   -0.405</td> <td> 0.686</td> <td>   -0.428</td> <td>    0.281</td>\n",
       "</tr>\n",
       "<tr>\n",
       "  <th>opponent[T.Newcastle]</th>      <td>   -0.5266</td> <td>    0.208</td> <td>   -2.528</td> <td> 0.011</td> <td>   -0.935</td> <td>   -0.118</td>\n",
       "</tr>\n",
       "<tr>\n",
       "  <th>opponent[T.Southampton]</th>    <td>   -0.2146</td> <td>    0.188</td> <td>   -1.144</td> <td> 0.253</td> <td>   -0.582</td> <td>    0.153</td>\n",
       "</tr>\n",
       "<tr>\n",
       "  <th>opponent[T.Tottenham]</th>      <td>   -0.1694</td> <td>    0.185</td> <td>   -0.916</td> <td> 0.359</td> <td>   -0.532</td> <td>    0.193</td>\n",
       "</tr>\n",
       "<tr>\n",
       "  <th>opponent[T.Watford]</th>        <td>   -0.1486</td> <td>    0.184</td> <td>   -0.807</td> <td> 0.419</td> <td>   -0.509</td> <td>    0.212</td>\n",
       "</tr>\n",
       "<tr>\n",
       "  <th>opponent[T.West Ham]</th>       <td>   -0.3707</td> <td>    0.199</td> <td>   -1.862</td> <td> 0.063</td> <td>   -0.761</td> <td>    0.020</td>\n",
       "</tr>\n",
       "<tr>\n",
       "  <th>opponent[T.Wolves]</th>         <td>   -0.3901</td> <td>    0.201</td> <td>   -1.945</td> <td> 0.052</td> <td>   -0.783</td> <td>    0.003</td>\n",
       "</tr>\n",
       "<tr>\n",
       "  <th>home</th>                       <td>    0.2523</td> <td>    0.063</td> <td>    4.028</td> <td> 0.000</td> <td>    0.130</td> <td>    0.375</td>\n",
       "</tr>\n",
       "</table>"
      ],
      "text/plain": [
       "<class 'statsmodels.iolib.summary.Summary'>\n",
       "\"\"\"\n",
       "                 Generalized Linear Model Regression Results                  \n",
       "==============================================================================\n",
       "Dep. Variable:                  goals   No. Observations:                  740\n",
       "Model:                            GLM   Df Residuals:                      700\n",
       "Model Family:                 Poisson   Df Model:                           39\n",
       "Link Function:                    log   Scale:                          1.0000\n",
       "Method:                          IRLS   Log-Likelihood:                -1105.9\n",
       "Date:                Sat, 02 Oct 2021   Deviance:                       883.94\n",
       "Time:                        12:08:59   Pearson chi2:                     754.\n",
       "No. Iterations:                     5                                         \n",
       "Covariance Type:            nonrobust                                         \n",
       "==============================================================================================\n",
       "                                 coef    std err          z      P>|z|      [0.025      0.975]\n",
       "----------------------------------------------------------------------------------------------\n",
       "Intercept                      0.5195      0.189      2.747      0.006       0.149       0.890\n",
       "team[T.Bournemouth]           -0.0536      0.189     -0.284      0.776      -0.423       0.316\n",
       "team[T.Brighton]              -0.2940      0.203     -1.448      0.148      -0.692       0.104\n",
       "team[T.Burnley]               -0.0501      0.191     -0.262      0.793      -0.425       0.325\n",
       "team[T.Cardiff]               -0.0039      0.185     -0.021      0.983      -0.367       0.359\n",
       "team[T.Chelsea]               -0.1413      0.192     -0.735      0.463      -0.518       0.236\n",
       "team[T.Crystal Palace]        -0.4714      0.216     -2.177      0.029      -0.896      -0.047\n",
       "team[T.Everton]               -0.1474      0.192     -0.767      0.443      -0.524       0.229\n",
       "team[T.Fulham]                -0.0407      0.190     -0.215      0.830      -0.412       0.331\n",
       "team[T.Huddersfield]          -0.3552      0.204     -1.738      0.082      -0.756       0.045\n",
       "team[T.Leicester]             -0.2332      0.200     -1.164      0.245      -0.626       0.160\n",
       "team[T.Liverpool]              0.1084      0.182      0.594      0.553      -0.249       0.466\n",
       "team[T.Man City]               0.1545      0.178      0.866      0.387      -0.195       0.504\n",
       "team[T.Man United]             0.0061      0.188      0.033      0.974      -0.362       0.374\n",
       "team[T.Newcastle]             -0.1954      0.194     -1.006      0.315      -0.576       0.185\n",
       "team[T.Southampton]           -0.0070      0.189     -0.037      0.971      -0.377       0.363\n",
       "team[T.Tottenham]             -0.1941      0.198     -0.981      0.327      -0.582       0.194\n",
       "team[T.Watford]               -0.1313      0.195     -0.675      0.500      -0.513       0.250\n",
       "team[T.West Ham]              -0.0032      0.185     -0.017      0.986      -0.366       0.360\n",
       "team[T.Wolves]                -0.1898      0.194     -0.977      0.329      -0.571       0.191\n",
       "opponent[T.Bournemouth]       -0.0072      0.180     -0.040      0.968      -0.359       0.345\n",
       "opponent[T.Brighton]          -0.3280      0.193     -1.702      0.089      -0.706       0.050\n",
       "opponent[T.Burnley]           -0.1443      0.184     -0.785      0.432      -0.504       0.216\n",
       "opponent[T.Cardiff]           -0.3863      0.201     -1.926      0.054      -0.779       0.007\n",
       "opponent[T.Chelsea]           -0.2132      0.190     -1.124      0.261      -0.585       0.159\n",
       "opponent[T.Crystal Palace]    -0.0791      0.180     -0.439      0.661      -0.432       0.274\n",
       "opponent[T.Everton]           -0.3367      0.196     -1.714      0.087      -0.722       0.048\n",
       "opponent[T.Fulham]            -0.1437      0.184     -0.781      0.435      -0.504       0.217\n",
       "opponent[T.Huddersfield]      -0.1356      0.186     -0.730      0.466      -0.500       0.229\n",
       "opponent[T.Leicester]         -0.1892      0.186     -1.019      0.308      -0.553       0.175\n",
       "opponent[T.Liverpool]         -0.3491      0.195     -1.789      0.074      -0.731       0.033\n",
       "opponent[T.Man City]          -0.3453      0.198     -1.746      0.081      -0.733       0.042\n",
       "opponent[T.Man United]        -0.0732      0.181     -0.405      0.686      -0.428       0.281\n",
       "opponent[T.Newcastle]         -0.5266      0.208     -2.528      0.011      -0.935      -0.118\n",
       "opponent[T.Southampton]       -0.2146      0.188     -1.144      0.253      -0.582       0.153\n",
       "opponent[T.Tottenham]         -0.1694      0.185     -0.916      0.359      -0.532       0.193\n",
       "opponent[T.Watford]           -0.1486      0.184     -0.807      0.419      -0.509       0.212\n",
       "opponent[T.West Ham]          -0.3707      0.199     -1.862      0.063      -0.761       0.020\n",
       "opponent[T.Wolves]            -0.3901      0.201     -1.945      0.052      -0.783       0.003\n",
       "home                           0.2523      0.063      4.028      0.000       0.130       0.375\n",
       "==============================================================================================\n",
       "\"\"\""
      ]
     },
     "execution_count": 12,
     "metadata": {},
     "output_type": "execute_result"
    }
   ],
   "source": [
    "# Get a statistical summary of the poisson model\n",
    "poisson_model.summary()"
   ]
  },
  {
   "cell_type": "markdown",
   "id": "d8d158ef",
   "metadata": {
    "slideshow": {
     "slide_type": "slide"
    }
   },
   "source": [
    "## A note on dummies, coefficients, and interpretation"
   ]
  },
  {
   "cell_type": "markdown",
   "id": "1f4d7f48",
   "metadata": {
    "slideshow": {
     "slide_type": "fragment"
    }
   },
   "source": [
    "- $Team_i$ takes on multiple categorical values (Chealsea, Man City, etc.) but statistical algorithms can't process string data *directly* "
   ]
  },
  {
   "cell_type": "markdown",
   "id": "11fdb1e8",
   "metadata": {
    "slideshow": {
     "slide_type": "fragment"
    }
   },
   "source": [
    "- **Solution:** We encode categorical variables into *dummy* or *indicator variables*"
   ]
  },
  {
   "cell_type": "markdown",
   "id": "309a1dfb",
   "metadata": {
    "slideshow": {
     "slide_type": "fragment"
    }
   },
   "source": [
    "- Eg. $Man City_i = \\begin{cases} \n",
    "      1 & Team_i = \\text{'Man City'} \\\\ \n",
    "      0 & \\text{otherwise} \n",
    "   \\end{cases} $ "
   ]
  },
  {
   "cell_type": "markdown",
   "id": "9c64c921",
   "metadata": {
    "slideshow": {
     "slide_type": "slide"
    }
   },
   "source": [
    "- As for the coefficients? they represent the *approximate* fractional change in average goals for a unit change in the predictor variables "
   ]
  },
  {
   "cell_type": "markdown",
   "id": "66087bb2",
   "metadata": {
    "slideshow": {
     "slide_type": "fragment"
    }
   },
   "source": [
    "- For coefficients on dummy variables, this change is always **relative to the category combination represented by the intercept**"
   ]
  },
  {
   "cell_type": "markdown",
   "id": "ce457966",
   "metadata": {
    "slideshow": {
     "slide_type": "slide"
    }
   },
   "source": [
    "## Predicting the expected goals for each team"
   ]
  },
  {
   "cell_type": "code",
   "execution_count": 13,
   "id": "33dff13b",
   "metadata": {
    "slideshow": {
     "slide_type": "fragment"
    }
   },
   "outputs": [],
   "source": [
    "# Create feature data for home and away team for the match\n",
    "def create_X(home_team, away_team):\n",
    "    X_home = pd.DataFrame(data={\"team\": home_team,\n",
    "                                \"opponent\": away_team,\n",
    "                                \"home\": 1\n",
    "                                }, index=[1])\n",
    "    \n",
    "    # Creating DataFrame for away team features \n",
    "    X_away = pd.DataFrame(data={\"team\": away_team,\n",
    "                                \"opponent\": home_team,\n",
    "                                \"home\": 0\n",
    "                                }, index=[1])\n",
    "    return X_home, X_away"
   ]
  },
  {
   "cell_type": "code",
   "execution_count": 14,
   "id": "543f6bbd",
   "metadata": {
    "slideshow": {
     "slide_type": "fragment"
    }
   },
   "outputs": [],
   "source": [
    "def predict_avg_goals(X_home, X_away, model):\n",
    "    # Predict the mean number of goals for home team\n",
    "    home_goals_avg = model.predict(X_home) \n",
    "    \n",
    "    # Predict the mean number of goals for away team\n",
    "    away_goals_avg = model.predict(X_away) \n",
    "    \n",
    "    return home_goals_avg, away_goals_avg"
   ]
  },
  {
   "cell_type": "code",
   "execution_count": 15,
   "id": "efb1e112",
   "metadata": {
    "slideshow": {
     "slide_type": "slide"
    }
   },
   "outputs": [
    {
     "name": "stdout",
     "output_type": "stream",
     "text": [
      "Average Home Goals:  1.3300297305877133\n",
      "Average Away Goals:  1.5853735447243837\n"
     ]
    }
   ],
   "source": [
    "# Predicting average goals for Chelsea Man City match\n",
    "X_home, X_away =  create_X('Chelsea', 'Man City')\n",
    "avg_goals = predict_avg_goals(X_home, X_away, poisson_model)\n",
    "print('Average Home Goals: ', avg_goals[0].values[0])\n",
    "\n",
    "# Fill in to print the average away goals\n",
    "print('Average Away Goals: ', avg_goals[1].values[0])"
   ]
  },
  {
   "cell_type": "markdown",
   "id": "ea9926a3",
   "metadata": {
    "slideshow": {
     "slide_type": "slide"
    }
   },
   "source": [
    "## Computing the distribution of match scores"
   ]
  },
  {
   "cell_type": "code",
   "execution_count": 16,
   "id": "bf47327b",
   "metadata": {
    "slideshow": {
     "slide_type": "fragment"
    }
   },
   "outputs": [],
   "source": [
    "# Funciton to forecast a given match\n",
    "# Probability Mass Function\n",
    "def predict_score_pmf(X_home, X_away, model, max_goals):\n",
    "    \n",
    "    # Predict the average number of goals for home  and away teams\n",
    "    home_goals_avg, away_goals_avg = predict_avg_goals(X_home, X_away, model)\n",
    "\n",
    "    # Compute marginal distribution for home goals\n",
    "    home_goals_pmf = [poisson.pmf(i, home_goals_avg)\n",
    "                      for i in range(0, max_goals + 1)]\n",
    "\n",
    "    # Compute marginal distribution for away goals\n",
    "    \n",
    "    # Compute joint distribution for match score as outer product\n",
    "    joint_pmf = np.outer(np.array(home_goals_pmf),\n",
    "                         np.array(away_goals_pmf))\n",
    "    \n",
    "    return joint_pmf"
   ]
  },
  {
   "cell_type": "code",
   "execution_count": 17,
   "id": "aaf59d16",
   "metadata": {
    "slideshow": {
     "slide_type": "slide"
    }
   },
   "outputs": [
    {
     "data": {
      "image/png": "[encoded data removed]",
      "text/plain": [
       "<Figure size 576x432 with 2 Axes>"
      ]
     },
     "metadata": {
      "needs_background": "light"
     },
     "output_type": "display_data"
    }
   ],
   "source": [
    "# Predicting distribution of match scores\n",
    "X_home, X_away =  create_X('Chelsea', 'Man City')\n",
    "score_pmf = predict_score_pmf(X_home, X_away, poisson_model, 8)\n",
    "score_pmf = score_pmf.round(3)\n",
    "\n",
    "# Visualizing distribution in a heatmap\n",
    "f, axs = plt.subplots(figsize=(8, 6))\n",
    "sns.heatmap(score_pmf, annot=True)\n",
    "axs.xaxis.tick_top() # x axis on top\n",
    "axs.xaxis.set_label_position('top')\n",
    "plt.title(\"Chelsea v.s Man City score forecast\", y=1.12)\n",
    "plt.xlabel(\"Man City goals\", labelpad=6)\n",
    "plt.ylabel(\"Chelsea goals\")\n",
    "plt.show()"
   ]
  },
  {
   "cell_type": "markdown",
   "id": "60556dbc",
   "metadata": {
    "slideshow": {
     "slide_type": "slide"
    }
   },
   "source": [
    "## Forecasting the match score"
   ]
  },
  {
   "cell_type": "code",
   "execution_count": 18,
   "id": "a90959ac",
   "metadata": {
    "slideshow": {
     "slide_type": "fragment"
    }
   },
   "outputs": [],
   "source": [
    "def predict_score(X_home, X_away, model):\n",
    "    # Predicting distribution of match scores\n",
    "    score_pmf = predict_score_pmf(X_home, X_away, model,16)\n",
    "    score_pmf = score_pmf.round(3)\n",
    "    \n",
    "    # Computing distribution mode\n",
    "    home_goals_mode = np.argmax(score_pmf) // (17)\n",
    "    away_goals_mode = np.argmax(score_pmf) % (17)\n",
    "    score_pred = (home_goals_mode, away_goals_mode)\n",
    "    return score_pred"
   ]
  },
  {
   "cell_type": "code",
   "execution_count": 19,
   "id": "dd6f3700",
   "metadata": {
    "slideshow": {
     "slide_type": "fragment"
    }
   },
   "outputs": [
    {
     "name": "stdout",
     "output_type": "stream",
     "text": [
      "Score Forecast:  (1, 1)\n"
     ]
    }
   ],
   "source": [
    "# Predicting Chelsea Man City match score\n",
    "X_home, X_away =  create_X('Chelsea', 'Man City')\n",
    "score_pred =  predict_score(X_home, X_away, poisson_model)\n",
    "print('Score Forecast: ', score_pred)"
   ]
  },
  {
   "cell_type": "markdown",
   "id": "12465c91",
   "metadata": {
    "slideshow": {
     "slide_type": "slide"
    }
   },
   "source": [
    "## Validating our predictions ... how well did we do?"
   ]
  },
  {
   "cell_type": "markdown",
   "id": "7e3596cc",
   "metadata": {
    "slideshow": {
     "slide_type": "fragment"
    }
   },
   "source": [
    "- To find out how our model performed, it is important to devise some form of scoring metric\n"
   ]
  },
  {
   "cell_type": "markdown",
   "id": "422efcd8",
   "metadata": {
    "slideshow": {
     "slide_type": "fragment"
    }
   },
   "source": [
    "- In this workshop, we will use the mean squared error to asses this:\n",
    "$$\\text{MSE}(y, \\hat y) \\,=\\, \\frac{1}{N} \\sum_{i=1}^{N} (y_i - \\hat y_i)^2$$"
   ]
  },
  {
   "cell_type": "code",
   "execution_count": 20,
   "id": "daba49bb",
   "metadata": {
    "slideshow": {
     "slide_type": "fragment"
    }
   },
   "outputs": [],
   "source": [
    "def mse(y_true, ypred):\n",
    "    np.square(np.subtract(Y_true,Y_pred)).mean()"
   ]
  },
  {
   "cell_type": "code",
   "execution_count": 21,
   "id": "f4aa9719",
   "metadata": {
    "slideshow": {
     "slide_type": "fragment"
    }
   },
   "outputs": [],
   "source": [
    "def model_eval(X, model):\n",
    "    # Predicting distribution of match scores\n",
    "    #### LEFT AS AN EXERCISE ####\n",
    "    pass"
   ]
  },
  {
   "cell_type": "markdown",
   "id": "8e224e98",
   "metadata": {
    "slideshow": {
     "slide_type": "slide"
    }
   },
   "source": [
    "## Links to some data sources\n",
    "\n",
    "\n",
    "Future Fixtures CSV: https://fixturedownload.com/download/epl-2021-GMTStandardTime.csv\n",
    "\n",
    "\n",
    "Historical Standings: https://www.rotowire.com/soccer/league-table.php?season=2018"
   ]
  },
  {
   "cell_type": "markdown",
   "id": "362ba132",
   "metadata": {
    "slideshow": {
     "slide_type": "slide"
    }
   },
   "source": [
    "## Next Steps"
   ]
  },
  {
   "cell_type": "markdown",
   "id": "e7a78a6b",
   "metadata": {},
   "source": [
    "- Sign up and Participate in the competition!"
   ]
  },
  {
   "cell_type": "markdown",
   "id": "80a21263",
   "metadata": {
    "slideshow": {
     "slide_type": "fragment"
    }
   },
   "source": [
    "- Build on the benchmark\n"
   ]
  },
  {
   "cell_type": "markdown",
   "id": "dc6993b3",
   "metadata": {
    "slideshow": {
     "slide_type": "fragment"
    }
   },
   "source": [
    "- Additional regressors (betting odds?)"
   ]
  },
  {
   "cell_type": "markdown",
   "id": "466bc520",
   "metadata": {
    "slideshow": {
     "slide_type": "fragment"
    }
   },
   "source": [
    "- Alternative data sources (Twitter and NLP?)"
   ]
  },
  {
   "cell_type": "markdown",
   "id": "49308589",
   "metadata": {
    "slideshow": {
     "slide_type": "fragment"
    }
   },
   "source": [
    "- Cross-validation of predictions\n"
   ]
  },
  {
   "cell_type": "markdown",
   "id": "732f5bf5",
   "metadata": {
    "slideshow": {
     "slide_type": "fragment"
    }
   },
   "source": [
    "- Dixon-Coles model\n"
   ]
  },
  {
   "cell_type": "markdown",
   "id": "eb156790",
   "metadata": {
    "slideshow": {
     "slide_type": "slide"
    }
   },
   "source": [
    "# How to sign up for the competition?"
   ]
  }
 ],
 "metadata": {
  "celltoolbar": "Slideshow",
  "kernelspec": {
   "display_name": "Python 3",
   "language": "python",
   "name": "python3"
  },
  "language_info": {
   "codemirror_mode": {
    "name": "ipython",
    "version": 3
   },
   "file_extension": ".py",
   "mimetype": "text/x-python",
   "name": "python",
   "nbconvert_exporter": "python",
   "pygments_lexer": "ipython3",
   "version": "3.8.8"
  }
 },
 "nbformat": 4,
 "nbformat_minor": 5
}
